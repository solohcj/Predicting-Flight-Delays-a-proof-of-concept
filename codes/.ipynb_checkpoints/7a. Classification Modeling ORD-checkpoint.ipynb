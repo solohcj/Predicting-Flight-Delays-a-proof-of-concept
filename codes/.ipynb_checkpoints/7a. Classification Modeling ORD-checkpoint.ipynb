{
 "cells": [
  {
   "cell_type": "markdown",
   "metadata": {},
   "source": [
    "<img src=\"../images/airplane-symbol.jpg\" style=\"float: left; margin: 20px;\" width=\"50\" height=\"50\"> \n",
    "#  Predicting Flight Delays (<i>a Proof-of-Concept</i>)\n",
    "\n",
    "Author: Solomon Heng\n",
    "\n",
    "---"
   ]
  },
  {
   "cell_type": "markdown",
   "metadata": {},
   "source": [
    "# 7a. Classification Modeling ORD\n",
    "\n",
    "## Processes covered in this notebook:\n",
    "1. [Importing dataset](#(1)-Importing-dataset)\n",
    "2. [Setting X_train, X_test, y_train & y_test](#(2)-Setting-X_train,-X_test,-y_train-&-y_test)\n",
    "3. [Model (I): Logistic Regression](#(3)-Model-(I):-Logistic-Regression)\n",
    "4. [Model (II): RandomForest](#(4)-Model-(II):-RandomForest)\n",
    "5. [Model (III): XGBoost](#(5)-Model-(III):-XGBoost)\n",
    "6. [Model (IV): Neural Networks](#(6)-Model-(IV):-Neural-Networks)"
   ]
  },
  {
   "cell_type": "code",
   "execution_count": 1,
   "metadata": {},
   "outputs": [
    {
     "name": "stderr",
     "output_type": "stream",
     "text": [
      "Using TensorFlow backend.\n"
     ]
    }
   ],
   "source": [
    "import pandas as pd\n",
    "import numpy as np\n",
    "import matplotlib.pyplot as plt\n",
    "import seaborn as sns\n",
    "\n",
    "from sklearn.preprocessing import StandardScaler\n",
    "from sklearn.linear_model import LogisticRegression\n",
    "from sklearn.model_selection import train_test_split, cross_val_score, RandomizedSearchCV\n",
    "from sklearn.metrics import confusion_matrix, roc_auc_score, classification_report\n",
    "from sklearn.ensemble import RandomForestClassifier\n",
    "\n",
    "from keras.models import Sequential\n",
    "from keras.layers import Dense, Dropout\n",
    "from keras.callbacks import EarlyStopping\n",
    "from keras import backend as K\n",
    "\n",
    "import xgboost as xgb\n",
    "\n",
    "import pickle\n",
    "\n",
    "sns.set()"
   ]
  },
  {
   "cell_type": "markdown",
   "metadata": {},
   "source": [
    "---\n",
    "### (1) Importing dataset\n",
    "\n",
    "---"
   ]
  },
  {
   "cell_type": "code",
   "execution_count": 2,
   "metadata": {},
   "outputs": [],
   "source": [
    "df = pd.read_csv('../datasets/combined_data_class_ord.csv')\n",
    "df_test = pd.read_csv('../datasets/combined_data_class_test_ord.csv')"
   ]
  },
  {
   "cell_type": "code",
   "execution_count": 3,
   "metadata": {
    "scrolled": false
   },
   "outputs": [
    {
     "data": {
      "text/html": [
       "<div>\n",
       "<style scoped>\n",
       "    .dataframe tbody tr th:only-of-type {\n",
       "        vertical-align: middle;\n",
       "    }\n",
       "\n",
       "    .dataframe tbody tr th {\n",
       "        vertical-align: top;\n",
       "    }\n",
       "\n",
       "    .dataframe thead th {\n",
       "        text-align: right;\n",
       "    }\n",
       "</style>\n",
       "<table border=\"1\" class=\"dataframe\">\n",
       "  <thead>\n",
       "    <tr style=\"text-align: right;\">\n",
       "      <th></th>\n",
       "      <th>DEPARTURE_DELAY</th>\n",
       "      <th>LATE_AIRCRAFT_DELAY</th>\n",
       "      <th>QNH</th>\n",
       "      <th>dew_point</th>\n",
       "      <th>NUM_ARR_AVG_3HOUR</th>\n",
       "      <th>SCHEDULED_ARRIVAL_HOUR_sin</th>\n",
       "      <th>SCHEDULED_ARRIVAL_HOUR_cos</th>\n",
       "      <th>AIRLINE_CODE_DL</th>\n",
       "      <th>AIRLINE_CODE_EV</th>\n",
       "      <th>AIRLINE_CODE_F9</th>\n",
       "      <th>AIRLINE_CODE_MQ</th>\n",
       "      <th>AIRLINE_CODE_NK</th>\n",
       "      <th>AIRLINE_CODE_OO</th>\n",
       "      <th>AIRLINE_CODE_UA</th>\n",
       "      <th>DELAY</th>\n",
       "    </tr>\n",
       "  </thead>\n",
       "  <tbody>\n",
       "    <tr>\n",
       "      <th>0</th>\n",
       "      <td>-0.349790</td>\n",
       "      <td>-0.242388</td>\n",
       "      <td>-1.072925</td>\n",
       "      <td>0.838466</td>\n",
       "      <td>1.174306</td>\n",
       "      <td>-0.873559</td>\n",
       "      <td>-0.490446</td>\n",
       "      <td>0.845734</td>\n",
       "      <td>-0.08396</td>\n",
       "      <td>-0.231821</td>\n",
       "      <td>-0.172818</td>\n",
       "      <td>-0.276453</td>\n",
       "      <td>-0.450001</td>\n",
       "      <td>-0.209903</td>\n",
       "      <td>0</td>\n",
       "    </tr>\n",
       "    <tr>\n",
       "      <th>1</th>\n",
       "      <td>-0.368073</td>\n",
       "      <td>-0.242388</td>\n",
       "      <td>1.225008</td>\n",
       "      <td>-1.428832</td>\n",
       "      <td>1.174306</td>\n",
       "      <td>-0.998968</td>\n",
       "      <td>0.937312</td>\n",
       "      <td>0.845734</td>\n",
       "      <td>-0.08396</td>\n",
       "      <td>-0.231821</td>\n",
       "      <td>-0.172818</td>\n",
       "      <td>-0.276453</td>\n",
       "      <td>-0.450001</td>\n",
       "      <td>-0.209903</td>\n",
       "      <td>0</td>\n",
       "    </tr>\n",
       "    <tr>\n",
       "      <th>2</th>\n",
       "      <td>-0.331507</td>\n",
       "      <td>-0.242388</td>\n",
       "      <td>-1.138580</td>\n",
       "      <td>-0.389654</td>\n",
       "      <td>0.130878</td>\n",
       "      <td>1.275746</td>\n",
       "      <td>-0.959410</td>\n",
       "      <td>-1.182405</td>\n",
       "      <td>-0.08396</td>\n",
       "      <td>4.313681</td>\n",
       "      <td>-0.172818</td>\n",
       "      <td>-0.276453</td>\n",
       "      <td>-0.450001</td>\n",
       "      <td>-0.209903</td>\n",
       "      <td>0</td>\n",
       "    </tr>\n",
       "    <tr>\n",
       "      <th>3</th>\n",
       "      <td>-0.331507</td>\n",
       "      <td>-0.242388</td>\n",
       "      <td>0.831077</td>\n",
       "      <td>-0.389654</td>\n",
       "      <td>0.315013</td>\n",
       "      <td>-1.193113</td>\n",
       "      <td>0.209751</td>\n",
       "      <td>-1.182405</td>\n",
       "      <td>-0.08396</td>\n",
       "      <td>-0.231821</td>\n",
       "      <td>-0.172818</td>\n",
       "      <td>-0.276453</td>\n",
       "      <td>-0.450001</td>\n",
       "      <td>4.764104</td>\n",
       "      <td>0</td>\n",
       "    </tr>\n",
       "    <tr>\n",
       "      <th>4</th>\n",
       "      <td>-0.386357</td>\n",
       "      <td>-0.242388</td>\n",
       "      <td>-0.875959</td>\n",
       "      <td>0.838466</td>\n",
       "      <td>-0.176012</td>\n",
       "      <td>0.812001</td>\n",
       "      <td>-1.060596</td>\n",
       "      <td>0.845734</td>\n",
       "      <td>-0.08396</td>\n",
       "      <td>-0.231821</td>\n",
       "      <td>-0.172818</td>\n",
       "      <td>-0.276453</td>\n",
       "      <td>-0.450001</td>\n",
       "      <td>-0.209903</td>\n",
       "      <td>0</td>\n",
       "    </tr>\n",
       "  </tbody>\n",
       "</table>\n",
       "</div>"
      ],
      "text/plain": [
       "   DEPARTURE_DELAY  LATE_AIRCRAFT_DELAY       QNH  dew_point  \\\n",
       "0        -0.349790            -0.242388 -1.072925   0.838466   \n",
       "1        -0.368073            -0.242388  1.225008  -1.428832   \n",
       "2        -0.331507            -0.242388 -1.138580  -0.389654   \n",
       "3        -0.331507            -0.242388  0.831077  -0.389654   \n",
       "4        -0.386357            -0.242388 -0.875959   0.838466   \n",
       "\n",
       "   NUM_ARR_AVG_3HOUR  SCHEDULED_ARRIVAL_HOUR_sin  SCHEDULED_ARRIVAL_HOUR_cos  \\\n",
       "0           1.174306                   -0.873559                   -0.490446   \n",
       "1           1.174306                   -0.998968                    0.937312   \n",
       "2           0.130878                    1.275746                   -0.959410   \n",
       "3           0.315013                   -1.193113                    0.209751   \n",
       "4          -0.176012                    0.812001                   -1.060596   \n",
       "\n",
       "   AIRLINE_CODE_DL  AIRLINE_CODE_EV  AIRLINE_CODE_F9  AIRLINE_CODE_MQ  \\\n",
       "0         0.845734         -0.08396        -0.231821        -0.172818   \n",
       "1         0.845734         -0.08396        -0.231821        -0.172818   \n",
       "2        -1.182405         -0.08396         4.313681        -0.172818   \n",
       "3        -1.182405         -0.08396        -0.231821        -0.172818   \n",
       "4         0.845734         -0.08396        -0.231821        -0.172818   \n",
       "\n",
       "   AIRLINE_CODE_NK  AIRLINE_CODE_OO  AIRLINE_CODE_UA  DELAY  \n",
       "0        -0.276453        -0.450001        -0.209903      0  \n",
       "1        -0.276453        -0.450001        -0.209903      0  \n",
       "2        -0.276453        -0.450001        -0.209903      0  \n",
       "3        -0.276453        -0.450001         4.764104      0  \n",
       "4        -0.276453        -0.450001        -0.209903      0  "
      ]
     },
     "execution_count": 3,
     "metadata": {},
     "output_type": "execute_result"
    }
   ],
   "source": [
    "pd.set_option('display.max_columns', 100)\n",
    "df.head()"
   ]
  },
  {
   "cell_type": "code",
   "execution_count": 4,
   "metadata": {
    "scrolled": false
   },
   "outputs": [
    {
     "data": {
      "text/html": [
       "<div>\n",
       "<style scoped>\n",
       "    .dataframe tbody tr th:only-of-type {\n",
       "        vertical-align: middle;\n",
       "    }\n",
       "\n",
       "    .dataframe tbody tr th {\n",
       "        vertical-align: top;\n",
       "    }\n",
       "\n",
       "    .dataframe thead th {\n",
       "        text-align: right;\n",
       "    }\n",
       "</style>\n",
       "<table border=\"1\" class=\"dataframe\">\n",
       "  <thead>\n",
       "    <tr style=\"text-align: right;\">\n",
       "      <th></th>\n",
       "      <th>DEPARTURE_DELAY</th>\n",
       "      <th>LATE_AIRCRAFT_DELAY</th>\n",
       "      <th>QNH</th>\n",
       "      <th>dew_point</th>\n",
       "      <th>NUM_ARR_AVG_3HOUR</th>\n",
       "      <th>SCHEDULED_ARRIVAL_HOUR_sin</th>\n",
       "      <th>SCHEDULED_ARRIVAL_HOUR_cos</th>\n",
       "      <th>AIRLINE_CODE_DL</th>\n",
       "      <th>AIRLINE_CODE_EV</th>\n",
       "      <th>AIRLINE_CODE_F9</th>\n",
       "      <th>AIRLINE_CODE_MQ</th>\n",
       "      <th>AIRLINE_CODE_NK</th>\n",
       "      <th>AIRLINE_CODE_OO</th>\n",
       "      <th>AIRLINE_CODE_UA</th>\n",
       "      <th>DELAY</th>\n",
       "    </tr>\n",
       "  </thead>\n",
       "  <tbody>\n",
       "    <tr>\n",
       "      <th>0</th>\n",
       "      <td>-0.258373</td>\n",
       "      <td>-0.242388</td>\n",
       "      <td>0.568456</td>\n",
       "      <td>-0.200713</td>\n",
       "      <td>0.233175</td>\n",
       "      <td>-1.095128</td>\n",
       "      <td>-0.157449</td>\n",
       "      <td>0.845734</td>\n",
       "      <td>-0.08396</td>\n",
       "      <td>-0.231821</td>\n",
       "      <td>-0.172818</td>\n",
       "      <td>-0.276453</td>\n",
       "      <td>-0.450001</td>\n",
       "      <td>-0.209903</td>\n",
       "      <td>0</td>\n",
       "    </tr>\n",
       "    <tr>\n",
       "      <th>1</th>\n",
       "      <td>-0.349790</td>\n",
       "      <td>-0.242388</td>\n",
       "      <td>0.174525</td>\n",
       "      <td>-1.239891</td>\n",
       "      <td>-0.257849</td>\n",
       "      <td>-1.095128</td>\n",
       "      <td>-0.157449</td>\n",
       "      <td>-1.182405</td>\n",
       "      <td>-0.08396</td>\n",
       "      <td>-0.231821</td>\n",
       "      <td>-0.172818</td>\n",
       "      <td>-0.276453</td>\n",
       "      <td>2.222216</td>\n",
       "      <td>-0.209903</td>\n",
       "      <td>1</td>\n",
       "    </tr>\n",
       "    <tr>\n",
       "      <th>2</th>\n",
       "      <td>-0.148673</td>\n",
       "      <td>-0.242388</td>\n",
       "      <td>0.240180</td>\n",
       "      <td>-0.106242</td>\n",
       "      <td>0.683281</td>\n",
       "      <td>-1.160247</td>\n",
       "      <td>0.583922</td>\n",
       "      <td>0.845734</td>\n",
       "      <td>-0.08396</td>\n",
       "      <td>-0.231821</td>\n",
       "      <td>-0.172818</td>\n",
       "      <td>-0.276453</td>\n",
       "      <td>-0.450001</td>\n",
       "      <td>-0.209903</td>\n",
       "      <td>0</td>\n",
       "    </tr>\n",
       "    <tr>\n",
       "      <th>3</th>\n",
       "      <td>0.107294</td>\n",
       "      <td>-0.242388</td>\n",
       "      <td>-0.547683</td>\n",
       "      <td>-1.901186</td>\n",
       "      <td>0.069500</td>\n",
       "      <td>-1.193113</td>\n",
       "      <td>0.209751</td>\n",
       "      <td>0.845734</td>\n",
       "      <td>-0.08396</td>\n",
       "      <td>-0.231821</td>\n",
       "      <td>-0.172818</td>\n",
       "      <td>-0.276453</td>\n",
       "      <td>-0.450001</td>\n",
       "      <td>-0.209903</td>\n",
       "      <td>0</td>\n",
       "    </tr>\n",
       "    <tr>\n",
       "      <th>4</th>\n",
       "      <td>-0.313223</td>\n",
       "      <td>-0.242388</td>\n",
       "      <td>-0.547683</td>\n",
       "      <td>1.027407</td>\n",
       "      <td>0.069500</td>\n",
       "      <td>-0.347651</td>\n",
       "      <td>1.480399</td>\n",
       "      <td>0.845734</td>\n",
       "      <td>-0.08396</td>\n",
       "      <td>-0.231821</td>\n",
       "      <td>-0.172818</td>\n",
       "      <td>-0.276453</td>\n",
       "      <td>-0.450001</td>\n",
       "      <td>-0.209903</td>\n",
       "      <td>0</td>\n",
       "    </tr>\n",
       "  </tbody>\n",
       "</table>\n",
       "</div>"
      ],
      "text/plain": [
       "   DEPARTURE_DELAY  LATE_AIRCRAFT_DELAY       QNH  dew_point  \\\n",
       "0        -0.258373            -0.242388  0.568456  -0.200713   \n",
       "1        -0.349790            -0.242388  0.174525  -1.239891   \n",
       "2        -0.148673            -0.242388  0.240180  -0.106242   \n",
       "3         0.107294            -0.242388 -0.547683  -1.901186   \n",
       "4        -0.313223            -0.242388 -0.547683   1.027407   \n",
       "\n",
       "   NUM_ARR_AVG_3HOUR  SCHEDULED_ARRIVAL_HOUR_sin  SCHEDULED_ARRIVAL_HOUR_cos  \\\n",
       "0           0.233175                   -1.095128                   -0.157449   \n",
       "1          -0.257849                   -1.095128                   -0.157449   \n",
       "2           0.683281                   -1.160247                    0.583922   \n",
       "3           0.069500                   -1.193113                    0.209751   \n",
       "4           0.069500                   -0.347651                    1.480399   \n",
       "\n",
       "   AIRLINE_CODE_DL  AIRLINE_CODE_EV  AIRLINE_CODE_F9  AIRLINE_CODE_MQ  \\\n",
       "0         0.845734         -0.08396        -0.231821        -0.172818   \n",
       "1        -1.182405         -0.08396        -0.231821        -0.172818   \n",
       "2         0.845734         -0.08396        -0.231821        -0.172818   \n",
       "3         0.845734         -0.08396        -0.231821        -0.172818   \n",
       "4         0.845734         -0.08396        -0.231821        -0.172818   \n",
       "\n",
       "   AIRLINE_CODE_NK  AIRLINE_CODE_OO  AIRLINE_CODE_UA  DELAY  \n",
       "0        -0.276453        -0.450001        -0.209903      0  \n",
       "1        -0.276453         2.222216        -0.209903      1  \n",
       "2        -0.276453        -0.450001        -0.209903      0  \n",
       "3        -0.276453        -0.450001        -0.209903      0  \n",
       "4        -0.276453        -0.450001        -0.209903      0  "
      ]
     },
     "execution_count": 4,
     "metadata": {},
     "output_type": "execute_result"
    }
   ],
   "source": [
    "df_test.head()"
   ]
  },
  {
   "cell_type": "markdown",
   "metadata": {},
   "source": [
    "---\n",
    "### (2) Setting X_train, X_test, y_train & y_test\n",
    "\n",
    "---"
   ]
  },
  {
   "cell_type": "code",
   "execution_count": 5,
   "metadata": {},
   "outputs": [],
   "source": [
    "X_train = df.drop('DELAY', axis=1)\n",
    "y_train = df['DELAY']\n",
    "X_test = df_test.drop('DELAY', axis=1)\n",
    "y_test = df_test['DELAY']"
   ]
  },
  {
   "cell_type": "code",
   "execution_count": 6,
   "metadata": {},
   "outputs": [
    {
     "data": {
      "text/plain": [
       "(15452, 14)"
      ]
     },
     "execution_count": 6,
     "metadata": {},
     "output_type": "execute_result"
    }
   ],
   "source": [
    "X_train.shape"
   ]
  },
  {
   "cell_type": "code",
   "execution_count": 7,
   "metadata": {},
   "outputs": [
    {
     "data": {
      "text/plain": [
       "(1251, 14)"
      ]
     },
     "execution_count": 7,
     "metadata": {},
     "output_type": "execute_result"
    }
   ],
   "source": [
    "X_test.shape"
   ]
  },
  {
   "cell_type": "code",
   "execution_count": 8,
   "metadata": {},
   "outputs": [
    {
     "data": {
      "text/plain": [
       "Index(['DEPARTURE_DELAY', 'LATE_AIRCRAFT_DELAY', 'QNH', 'dew_point',\n",
       "       'NUM_ARR_AVG_3HOUR', 'SCHEDULED_ARRIVAL_HOUR_sin',\n",
       "       'SCHEDULED_ARRIVAL_HOUR_cos', 'AIRLINE_CODE_DL', 'AIRLINE_CODE_EV',\n",
       "       'AIRLINE_CODE_F9', 'AIRLINE_CODE_MQ', 'AIRLINE_CODE_NK',\n",
       "       'AIRLINE_CODE_OO', 'AIRLINE_CODE_UA'],\n",
       "      dtype='object')"
      ]
     },
     "execution_count": 8,
     "metadata": {},
     "output_type": "execute_result"
    }
   ],
   "source": [
    "X_train.columns"
   ]
  },
  {
   "cell_type": "code",
   "execution_count": 9,
   "metadata": {
    "scrolled": true
   },
   "outputs": [
    {
     "data": {
      "text/plain": [
       "14"
      ]
     },
     "execution_count": 9,
     "metadata": {},
     "output_type": "execute_result"
    }
   ],
   "source": [
    "len(X_train.columns)"
   ]
  },
  {
   "cell_type": "markdown",
   "metadata": {},
   "source": [
    "---\n",
    "**We attempted to use PCA to reduce dimensionality**\n",
    "\n",
    "PCA does help us to reduce the dimensions in this case, but at the cost of lower accuracy & sensitivity (which is not what we are trying to achieve). We are trying to achieve a higher sensitivity for the class (15mins to 1 hour)\n"
   ]
  },
  {
   "cell_type": "markdown",
   "metadata": {},
   "source": [
    "---\n",
    "### (3) Model (I): Logistic Regression\n",
    "\n",
    "---"
   ]
  },
  {
   "cell_type": "code",
   "execution_count": 10,
   "metadata": {},
   "outputs": [
    {
     "data": {
      "text/plain": [
       "LogisticRegression(C=1.0, class_weight=None, dual=False, fit_intercept=True,\n",
       "                   intercept_scaling=1, l1_ratio=None, max_iter=1000,\n",
       "                   multi_class='auto', n_jobs=None, penalty='l2',\n",
       "                   random_state=None, solver='lbfgs', tol=0.0001, verbose=0,\n",
       "                   warm_start=False)"
      ]
     },
     "execution_count": 10,
     "metadata": {},
     "output_type": "execute_result"
    }
   ],
   "source": [
    "lr = LogisticRegression(max_iter=1000)\n",
    "lr.fit(X_train, y_train)"
   ]
  },
  {
   "cell_type": "code",
   "execution_count": 11,
   "metadata": {},
   "outputs": [
    {
     "data": {
      "text/plain": [
       "0.87432097989884"
      ]
     },
     "execution_count": 11,
     "metadata": {},
     "output_type": "execute_result"
    }
   ],
   "source": [
    "cross_val_score(lr, X_train, y_train).mean()"
   ]
  },
  {
   "cell_type": "code",
   "execution_count": 12,
   "metadata": {},
   "outputs": [
    {
     "data": {
      "text/plain": [
       "0.8625099920063949"
      ]
     },
     "execution_count": 12,
     "metadata": {},
     "output_type": "execute_result"
    }
   ],
   "source": [
    "lr.score(X_test, y_test)"
   ]
  },
  {
   "cell_type": "code",
   "execution_count": 13,
   "metadata": {
    "scrolled": true
   },
   "outputs": [
    {
     "name": "stdout",
     "output_type": "stream",
     "text": [
      "               precision    recall  f1-score   support\n",
      "\n",
      "      <15mins       0.94      0.92      0.93       967\n",
      "15mins to 1hr       0.54      0.55      0.55       178\n",
      "    1 to 3hrs       0.70      0.82      0.76        83\n",
      "        >3hrs       0.84      0.91      0.87        23\n",
      "\n",
      "     accuracy                           0.86      1251\n",
      "    macro avg       0.76      0.80      0.78      1251\n",
      " weighted avg       0.87      0.86      0.86      1251\n",
      "\n"
     ]
    }
   ],
   "source": [
    "target_names = ['<15mins', '15mins to 1hr', '1 to 3hrs', '>3hrs']\n",
    "print(classification_report(y_test, lr.predict(X_test),target_names=target_names))"
   ]
  },
  {
   "cell_type": "code",
   "execution_count": 14,
   "metadata": {},
   "outputs": [],
   "source": [
    "# Exporting model\n",
    "\n",
    "# lr_filename = '../models/classification_logreg_model.sav'\n",
    "# pickle.dump(lr, open(lr_filename, 'wb'))"
   ]
  },
  {
   "cell_type": "markdown",
   "metadata": {},
   "source": [
    "---\n",
    "### (4) Model (II): RandomForest\n",
    "\n",
    "---"
   ]
  },
  {
   "cell_type": "code",
   "execution_count": 15,
   "metadata": {},
   "outputs": [],
   "source": [
    "rf = RandomForestClassifier()"
   ]
  },
  {
   "cell_type": "code",
   "execution_count": 16,
   "metadata": {},
   "outputs": [],
   "source": [
    "rf_params = {\n",
    "  \"n_estimators\":[100,200,300],\n",
    "  \"min_samples_split\":[10,20,30],\n",
    "  \"max_depth\":[10,15,20]\n",
    "}\n",
    "\n",
    "rf_cv = RandomizedSearchCV(rf, param_distributions=rf_params, scoring='f1_micro', n_iter=2, n_jobs=4, verbose=2)"
   ]
  },
  {
   "cell_type": "code",
   "execution_count": 17,
   "metadata": {},
   "outputs": [
    {
     "name": "stdout",
     "output_type": "stream",
     "text": [
      "Fitting 5 folds for each of 2 candidates, totalling 10 fits\n"
     ]
    },
    {
     "name": "stderr",
     "output_type": "stream",
     "text": [
      "[Parallel(n_jobs=4)]: Using backend LokyBackend with 4 concurrent workers.\n",
      "[Parallel(n_jobs=4)]: Done  10 out of  10 | elapsed:   15.4s finished\n"
     ]
    },
    {
     "data": {
      "text/plain": [
       "RandomizedSearchCV(cv=None, error_score=nan,\n",
       "                   estimator=RandomForestClassifier(bootstrap=True,\n",
       "                                                    ccp_alpha=0.0,\n",
       "                                                    class_weight=None,\n",
       "                                                    criterion='gini',\n",
       "                                                    max_depth=None,\n",
       "                                                    max_features='auto',\n",
       "                                                    max_leaf_nodes=None,\n",
       "                                                    max_samples=None,\n",
       "                                                    min_impurity_decrease=0.0,\n",
       "                                                    min_impurity_split=None,\n",
       "                                                    min_samples_leaf=1,\n",
       "                                                    min_samples_split=2,\n",
       "                                                    min_weight_fraction_leaf=0.0,\n",
       "                                                    n_estimators=100,\n",
       "                                                    n_jobs=None,\n",
       "                                                    oob_score=False,\n",
       "                                                    random_state=None,\n",
       "                                                    verbose=0,\n",
       "                                                    warm_start=False),\n",
       "                   iid='deprecated', n_iter=2, n_jobs=4,\n",
       "                   param_distributions={'max_depth': [10, 15, 20],\n",
       "                                        'min_samples_split': [10, 20, 30],\n",
       "                                        'n_estimators': [100, 200, 300]},\n",
       "                   pre_dispatch='2*n_jobs', random_state=None, refit=True,\n",
       "                   return_train_score=False, scoring='f1_micro', verbose=2)"
      ]
     },
     "execution_count": 17,
     "metadata": {},
     "output_type": "execute_result"
    }
   ],
   "source": [
    "rf_cv.fit(X_train, y_train)"
   ]
  },
  {
   "cell_type": "code",
   "execution_count": 18,
   "metadata": {},
   "outputs": [
    {
     "data": {
      "text/plain": [
       "{'n_estimators': 300, 'min_samples_split': 20, 'max_depth': 20}"
      ]
     },
     "execution_count": 18,
     "metadata": {},
     "output_type": "execute_result"
    }
   ],
   "source": [
    "rf_cv.best_params_"
   ]
  },
  {
   "cell_type": "code",
   "execution_count": 19,
   "metadata": {},
   "outputs": [],
   "source": [
    "opt_rf = RandomForestClassifier(n_estimators=100, min_samples_split=20, max_depth=15)"
   ]
  },
  {
   "cell_type": "code",
   "execution_count": 20,
   "metadata": {},
   "outputs": [
    {
     "data": {
      "text/plain": [
       "RandomForestClassifier(bootstrap=True, ccp_alpha=0.0, class_weight=None,\n",
       "                       criterion='gini', max_depth=15, max_features='auto',\n",
       "                       max_leaf_nodes=None, max_samples=None,\n",
       "                       min_impurity_decrease=0.0, min_impurity_split=None,\n",
       "                       min_samples_leaf=1, min_samples_split=20,\n",
       "                       min_weight_fraction_leaf=0.0, n_estimators=100,\n",
       "                       n_jobs=None, oob_score=False, random_state=None,\n",
       "                       verbose=0, warm_start=False)"
      ]
     },
     "execution_count": 20,
     "metadata": {},
     "output_type": "execute_result"
    }
   ],
   "source": [
    "opt_rf.fit(X_train, y_train)"
   ]
  },
  {
   "cell_type": "code",
   "execution_count": 21,
   "metadata": {},
   "outputs": [
    {
     "data": {
      "text/plain": [
       "0.9315955184641913"
      ]
     },
     "execution_count": 21,
     "metadata": {},
     "output_type": "execute_result"
    }
   ],
   "source": [
    "cross_val_score(opt_rf, X_train, y_train).mean()"
   ]
  },
  {
   "cell_type": "code",
   "execution_count": 22,
   "metadata": {},
   "outputs": [
    {
     "data": {
      "text/plain": [
       "0.9331287855068604"
      ]
     },
     "execution_count": 22,
     "metadata": {},
     "output_type": "execute_result"
    }
   ],
   "source": [
    "cross_val_score(opt_rf, X_train, y_train, scoring='f1_macro').mean()"
   ]
  },
  {
   "cell_type": "code",
   "execution_count": 23,
   "metadata": {},
   "outputs": [
    {
     "data": {
      "text/plain": [
       "0.8848920863309353"
      ]
     },
     "execution_count": 23,
     "metadata": {},
     "output_type": "execute_result"
    }
   ],
   "source": [
    "opt_rf.score(X_test, y_test)"
   ]
  },
  {
   "cell_type": "code",
   "execution_count": 24,
   "metadata": {},
   "outputs": [
    {
     "name": "stdout",
     "output_type": "stream",
     "text": [
      "               precision    recall  f1-score   support\n",
      "\n",
      "      <15mins       0.93      0.96      0.95       967\n",
      "15mins to 1hr       0.65      0.53      0.59       178\n",
      "    1 to 3hrs       0.72      0.78      0.75        83\n",
      "        >3hrs       0.88      0.91      0.89        23\n",
      "\n",
      "     accuracy                           0.88      1251\n",
      "    macro avg       0.80      0.80      0.79      1251\n",
      " weighted avg       0.88      0.88      0.88      1251\n",
      "\n"
     ]
    }
   ],
   "source": [
    "target_names = ['<15mins', '15mins to 1hr', '1 to 3hrs', '>3hrs']\n",
    "print(classification_report(y_test, opt_rf.predict(X_test),target_names=target_names))"
   ]
  },
  {
   "cell_type": "code",
   "execution_count": 25,
   "metadata": {},
   "outputs": [],
   "source": [
    "# Exporting model\n",
    "\n",
    "rf_filename = '../models/classification_rf_model_ord.sav'\n",
    "pickle.dump(opt_rf, open(rf_filename, 'wb'))"
   ]
  },
  {
   "cell_type": "markdown",
   "metadata": {},
   "source": [
    "---\n",
    "### (5) Model (III): XGBoost\n",
    "\n",
    "---"
   ]
  },
  {
   "cell_type": "code",
   "execution_count": 26,
   "metadata": {},
   "outputs": [],
   "source": [
    "xgbc = xgb.XGBClassifier()"
   ]
  },
  {
   "cell_type": "code",
   "execution_count": 27,
   "metadata": {},
   "outputs": [],
   "source": [
    "xgbc_params = {\n",
    "  \"learning_rate\":[0.01, 0.1, 0.2, 0.3],\n",
    "  \"max_depth\":[5, 10, 15]\n",
    "}\n",
    "\n",
    "xgbc_cv = RandomizedSearchCV(xgbc, param_distributions=xgbc_params, scoring='f1_micro', n_iter=2, n_jobs=4, verbose=2)"
   ]
  },
  {
   "cell_type": "code",
   "execution_count": 28,
   "metadata": {},
   "outputs": [
    {
     "name": "stdout",
     "output_type": "stream",
     "text": [
      "Fitting 5 folds for each of 2 candidates, totalling 10 fits\n"
     ]
    },
    {
     "name": "stderr",
     "output_type": "stream",
     "text": [
      "[Parallel(n_jobs=4)]: Using backend LokyBackend with 4 concurrent workers.\n",
      "[Parallel(n_jobs=4)]: Done  10 out of  10 | elapsed:   51.5s finished\n"
     ]
    },
    {
     "data": {
      "text/plain": [
       "RandomizedSearchCV(cv=None, error_score=nan,\n",
       "                   estimator=XGBClassifier(base_score=0.5, booster='gbtree',\n",
       "                                           colsample_bylevel=1,\n",
       "                                           colsample_bynode=1,\n",
       "                                           colsample_bytree=1, gamma=0,\n",
       "                                           learning_rate=0.1, max_delta_step=0,\n",
       "                                           max_depth=3, min_child_weight=1,\n",
       "                                           missing=None, n_estimators=100,\n",
       "                                           n_jobs=1, nthread=None,\n",
       "                                           objective='binary:logistic',\n",
       "                                           random_state=0, reg_alpha=0,\n",
       "                                           reg_lambda=1, scale_pos_weight=1,\n",
       "                                           seed=None, silent=None, subsample=1,\n",
       "                                           verbosity=1),\n",
       "                   iid='deprecated', n_iter=2, n_jobs=4,\n",
       "                   param_distributions={'learning_rate': [0.01, 0.1, 0.2, 0.3],\n",
       "                                        'max_depth': [5, 10, 15]},\n",
       "                   pre_dispatch='2*n_jobs', random_state=None, refit=True,\n",
       "                   return_train_score=False, scoring='f1_micro', verbose=2)"
      ]
     },
     "execution_count": 28,
     "metadata": {},
     "output_type": "execute_result"
    }
   ],
   "source": [
    "xgbc_cv.fit(X_train, y_train)"
   ]
  },
  {
   "cell_type": "code",
   "execution_count": 29,
   "metadata": {},
   "outputs": [
    {
     "data": {
      "text/plain": [
       "{'max_depth': 10, 'learning_rate': 0.3}"
      ]
     },
     "execution_count": 29,
     "metadata": {},
     "output_type": "execute_result"
    }
   ],
   "source": [
    "xgbc_cv.best_params_"
   ]
  },
  {
   "cell_type": "code",
   "execution_count": 30,
   "metadata": {},
   "outputs": [],
   "source": [
    "opt_xgb = xgb.XGBClassifier(max_depth=10, learning_rate=0.2)"
   ]
  },
  {
   "cell_type": "code",
   "execution_count": 31,
   "metadata": {},
   "outputs": [
    {
     "data": {
      "text/plain": [
       "XGBClassifier(base_score=0.5, booster='gbtree', colsample_bylevel=1,\n",
       "              colsample_bynode=1, colsample_bytree=1, gamma=0,\n",
       "              learning_rate=0.2, max_delta_step=0, max_depth=10,\n",
       "              min_child_weight=1, missing=None, n_estimators=100, n_jobs=1,\n",
       "              nthread=None, objective='multi:softprob', random_state=0,\n",
       "              reg_alpha=0, reg_lambda=1, scale_pos_weight=1, seed=None,\n",
       "              silent=None, subsample=1, verbosity=1)"
      ]
     },
     "execution_count": 31,
     "metadata": {},
     "output_type": "execute_result"
    }
   ],
   "source": [
    "opt_xgb.fit(X_train, y_train)"
   ]
  },
  {
   "cell_type": "code",
   "execution_count": 32,
   "metadata": {
    "scrolled": true
   },
   "outputs": [
    {
     "data": {
      "text/plain": [
       "0.961689883668946"
      ]
     },
     "execution_count": 32,
     "metadata": {},
     "output_type": "execute_result"
    }
   ],
   "source": [
    "cross_val_score(opt_xgb, X_train, y_train).mean()"
   ]
  },
  {
   "cell_type": "code",
   "execution_count": 33,
   "metadata": {
    "scrolled": true
   },
   "outputs": [
    {
     "data": {
      "text/plain": [
       "0.9000799360511591"
      ]
     },
     "execution_count": 33,
     "metadata": {},
     "output_type": "execute_result"
    }
   ],
   "source": [
    "opt_xgb.score(X_test, y_test)"
   ]
  },
  {
   "cell_type": "code",
   "execution_count": 34,
   "metadata": {
    "scrolled": false
   },
   "outputs": [
    {
     "name": "stdout",
     "output_type": "stream",
     "text": [
      "               precision    recall  f1-score   support\n",
      "\n",
      "      <15mins       0.94      0.96      0.95       967\n",
      "15mins to 1hr       0.72      0.59      0.65       178\n",
      "    1 to 3hrs       0.81      0.81      0.81        83\n",
      "        >3hrs       0.84      0.91      0.87        23\n",
      "\n",
      "     accuracy                           0.90      1251\n",
      "    macro avg       0.83      0.82      0.82      1251\n",
      " weighted avg       0.89      0.90      0.90      1251\n",
      "\n"
     ]
    }
   ],
   "source": [
    "target_names = ['<15mins', '15mins to 1hr', '1 to 3hrs', '>3hrs']\n",
    "print(classification_report(y_test, opt_xgb.predict(X_test),target_names=target_names))"
   ]
  },
  {
   "cell_type": "code",
   "execution_count": 35,
   "metadata": {},
   "outputs": [],
   "source": [
    "# Exporting model\n",
    "\n",
    "# xgb_filename = '../models/classification_xgb_model_ord.pkl'\n",
    "# pickle.dump(opt_xgb, open(xgb_filename, 'wb'))"
   ]
  },
  {
   "cell_type": "markdown",
   "metadata": {},
   "source": [
    "---\n",
    "### (6) Model (IV): Neural Networks\n",
    "\n",
    "---"
   ]
  },
  {
   "cell_type": "code",
   "execution_count": 36,
   "metadata": {},
   "outputs": [],
   "source": [
    "from keras.utils import to_categorical"
   ]
  },
  {
   "cell_type": "code",
   "execution_count": 37,
   "metadata": {},
   "outputs": [],
   "source": [
    "# One Hot Encoding the target\n",
    "y_train_enc = to_categorical(y_train)\n",
    "y_test_enc = to_categorical(y_test)"
   ]
  },
  {
   "cell_type": "code",
   "execution_count": 38,
   "metadata": {},
   "outputs": [],
   "source": [
    "model = Sequential()"
   ]
  },
  {
   "cell_type": "code",
   "execution_count": 39,
   "metadata": {},
   "outputs": [],
   "source": [
    "model.add(Dense(10, \n",
    "                input_dim=14, \n",
    "                activation='relu'))\n",
    "\n",
    "# Dropout did not help improve accuracy in this case\n",
    "# model.add(Dropout(0.5))\n",
    "\n",
    "model.add(Dense(10, \n",
    "                activation='relu'))\n",
    "\n",
    "model.add(Dense(4, \n",
    "                activation='softmax'))"
   ]
  },
  {
   "cell_type": "code",
   "execution_count": 40,
   "metadata": {},
   "outputs": [
    {
     "name": "stdout",
     "output_type": "stream",
     "text": [
      "Model: \"sequential_1\"\n",
      "_________________________________________________________________\n",
      "Layer (type)                 Output Shape              Param #   \n",
      "=================================================================\n",
      "dense_1 (Dense)              (None, 10)                150       \n",
      "_________________________________________________________________\n",
      "dense_2 (Dense)              (None, 10)                110       \n",
      "_________________________________________________________________\n",
      "dense_3 (Dense)              (None, 4)                 44        \n",
      "=================================================================\n",
      "Total params: 304\n",
      "Trainable params: 304\n",
      "Non-trainable params: 0\n",
      "_________________________________________________________________\n"
     ]
    }
   ],
   "source": [
    "model.summary() "
   ]
  },
  {
   "cell_type": "code",
   "execution_count": 41,
   "metadata": {},
   "outputs": [],
   "source": [
    "es = EarlyStopping(monitor='val_loss', patience=3)\n",
    "\n",
    "model.compile(optimizer='adam', loss='categorical_crossentropy', metrics=['accuracy'])"
   ]
  },
  {
   "cell_type": "code",
   "execution_count": 42,
   "metadata": {
    "scrolled": false
   },
   "outputs": [
    {
     "name": "stdout",
     "output_type": "stream",
     "text": [
      "Train on 12361 samples, validate on 3091 samples\n",
      "Epoch 1/200\n",
      "12361/12361 [==============================] - 3s 206us/step - loss: 0.9534 - accuracy: 0.5886 - val_loss: 0.3538 - val_accuracy: 0.8638\n",
      "Epoch 2/200\n",
      "12361/12361 [==============================] - 2s 171us/step - loss: 0.4799 - accuracy: 0.8176 - val_loss: 0.1338 - val_accuracy: 0.9618\n",
      "Epoch 3/200\n",
      "12361/12361 [==============================] - 2s 172us/step - loss: 0.4113 - accuracy: 0.8350 - val_loss: 0.0708 - val_accuracy: 0.9825\n",
      "Epoch 4/200\n",
      "12361/12361 [==============================] - 2s 156us/step - loss: 0.3895 - accuracy: 0.8444 - val_loss: 0.0686 - val_accuracy: 0.9783\n",
      "Epoch 5/200\n",
      "12361/12361 [==============================] - 2s 162us/step - loss: 0.3773 - accuracy: 0.8468 - val_loss: 0.2097 - val_accuracy: 0.8981\n",
      "Epoch 6/200\n",
      "12361/12361 [==============================] - 2s 158us/step - loss: 0.3712 - accuracy: 0.8499 - val_loss: 0.0748 - val_accuracy: 0.9757\n",
      "Epoch 7/200\n",
      "12361/12361 [==============================] - 2s 146us/step - loss: 0.3647 - accuracy: 0.8511 - val_loss: 0.1766 - val_accuracy: 0.9165\n"
     ]
    },
    {
     "data": {
      "text/plain": [
       "<keras.callbacks.callbacks.History at 0x2034b041f08>"
      ]
     },
     "execution_count": 42,
     "metadata": {},
     "output_type": "execute_result"
    }
   ],
   "source": [
    "model.fit(X_train, y_train_enc, batch_size=8, epochs=200, validation_split=0.2, callbacks=[es])"
   ]
  },
  {
   "cell_type": "code",
   "execution_count": 43,
   "metadata": {},
   "outputs": [
    {
     "name": "stdout",
     "output_type": "stream",
     "text": [
      "1251/1251 [==============================] - 0s 27us/step\n"
     ]
    },
    {
     "data": {
      "text/plain": [
       "[0.3550378794072391, 0.8745003938674927]"
      ]
     },
     "execution_count": 43,
     "metadata": {},
     "output_type": "execute_result"
    }
   ],
   "source": [
    "model.evaluate(X_test, y_test_enc)"
   ]
  },
  {
   "cell_type": "code",
   "execution_count": 56,
   "metadata": {
    "scrolled": true
   },
   "outputs": [
    {
     "name": "stdout",
     "output_type": "stream",
     "text": [
      "              precision    recall  f1-score   support\n",
      "\n",
      "        <1hr       0.93      0.95      0.94       967\n",
      "   1 to 2hrs       0.60      0.53      0.57       178\n",
      "   2 to 3hrs       0.71      0.82      0.76        83\n",
      "       >3hrs       0.94      0.74      0.83        23\n",
      "\n",
      "    accuracy                           0.87      1251\n",
      "   macro avg       0.80      0.76      0.77      1251\n",
      "weighted avg       0.87      0.87      0.87      1251\n",
      "\n"
     ]
    }
   ],
   "source": [
    "y_nn_pred = model.predict(X_test).argmax(axis=-1)\n",
    "target_names = ['<1hr', '1 to 2hrs', '2 to 3hrs', '>3hrs']\n",
    "\n",
    "print(classification_report(y_test, y_nn_pred, target_names=target_names))"
   ]
  },
  {
   "cell_type": "code",
   "execution_count": 57,
   "metadata": {},
   "outputs": [],
   "source": [
    "# Exporting model\n",
    "\n",
    "# nn_filename = '../models/classification_nn_model.sav'\n",
    "# pickle.dump(model, open(nn_filename, 'wb'))"
   ]
  }
 ],
 "metadata": {
  "kernelspec": {
   "display_name": "Python 3",
   "language": "python",
   "name": "python3"
  },
  "language_info": {
   "codemirror_mode": {
    "name": "ipython",
    "version": 3
   },
   "file_extension": ".py",
   "mimetype": "text/x-python",
   "name": "python",
   "nbconvert_exporter": "python",
   "pygments_lexer": "ipython3",
   "version": "3.7.4"
  },
  "name": "Modeling (Classification) - airborne to destination",
  "notebookId": 2049533585937493
 },
 "nbformat": 4,
 "nbformat_minor": 1
}
