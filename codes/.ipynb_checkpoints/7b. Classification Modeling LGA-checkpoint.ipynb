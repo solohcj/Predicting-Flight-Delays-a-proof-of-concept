{
 "cells": [
  {
   "cell_type": "markdown",
   "metadata": {},
   "source": [
    "<img src=\"../images/airplane-symbol.jpg\" style=\"float: left; margin: 20px;\" width=\"50\" height=\"50\"> \n",
    "#  Predicting Flight Delays (<i>a Proof-of-Concept</i>)\n",
    "\n",
    "Author: Solomon Heng\n",
    "\n",
    "---"
   ]
  },
  {
   "cell_type": "markdown",
   "metadata": {},
   "source": [
    "# 7b. Classification Modeling LGA\n",
    "\n",
    "## Processes covered in this notebook:\n",
    "1. [Importing dataset](#(1)-Importing-dataset)\n",
    "2. [Setting X_train, X_test, y_train & y_test](#(2)-Setting-X_train,-X_test,-y_train-&-y_test)\n",
    "3. [Model (I): Logistic Regression](#(3)-Model-(I):-Logistic-Regression)\n",
    "4. [Model (II): RandomForest](#(4)-Model-(II):-RandomForest)\n",
    "5. [Model (III): XGBoost](#(5)-Model-(III):-XGBoost)\n",
    "6. [Model (IV): Neural Networks](#(6)-Model-(IV):-Neural-Networks)"
   ]
  },
  {
   "cell_type": "code",
   "execution_count": 1,
   "metadata": {},
   "outputs": [
    {
     "name": "stderr",
     "output_type": "stream",
     "text": [
      "Using TensorFlow backend.\n"
     ]
    }
   ],
   "source": [
    "import pandas as pd\n",
    "import numpy as np\n",
    "import matplotlib.pyplot as plt\n",
    "import seaborn as sns\n",
    "\n",
    "from sklearn.preprocessing import StandardScaler\n",
    "from sklearn.linear_model import LogisticRegression\n",
    "from sklearn.model_selection import train_test_split, cross_val_score, RandomizedSearchCV\n",
    "from sklearn.metrics import confusion_matrix, roc_auc_score, classification_report\n",
    "from sklearn.ensemble import RandomForestClassifier\n",
    "\n",
    "from keras.models import Sequential\n",
    "from keras.layers import Dense, Dropout\n",
    "from keras.callbacks import EarlyStopping\n",
    "from keras import backend as K\n",
    "\n",
    "import xgboost as xgb\n",
    "\n",
    "import pickle\n",
    "\n",
    "sns.set()"
   ]
  },
  {
   "cell_type": "markdown",
   "metadata": {},
   "source": [
    "---\n",
    "### (1) Importing dataset\n",
    "\n",
    "---"
   ]
  },
  {
   "cell_type": "code",
   "execution_count": 2,
   "metadata": {},
   "outputs": [],
   "source": [
    "df = pd.read_csv('../datasets/combined_data_class_lga.csv')\n",
    "df_test = pd.read_csv('../datasets/combined_data_class_test_lga.csv')"
   ]
  },
  {
   "cell_type": "code",
   "execution_count": 3,
   "metadata": {
    "scrolled": false
   },
   "outputs": [
    {
     "data": {
      "text/html": [
       "<div>\n",
       "<style scoped>\n",
       "    .dataframe tbody tr th:only-of-type {\n",
       "        vertical-align: middle;\n",
       "    }\n",
       "\n",
       "    .dataframe tbody tr th {\n",
       "        vertical-align: top;\n",
       "    }\n",
       "\n",
       "    .dataframe thead th {\n",
       "        text-align: right;\n",
       "    }\n",
       "</style>\n",
       "<table border=\"1\" class=\"dataframe\">\n",
       "  <thead>\n",
       "    <tr style=\"text-align: right;\">\n",
       "      <th></th>\n",
       "      <th>DEPARTURE_DELAY</th>\n",
       "      <th>SCHEDULED_TIME</th>\n",
       "      <th>LATE_AIRCRAFT_DELAY</th>\n",
       "      <th>QNH</th>\n",
       "      <th>dew_point</th>\n",
       "      <th>squall</th>\n",
       "      <th>visibility</th>\n",
       "      <th>winddir</th>\n",
       "      <th>windspd</th>\n",
       "      <th>windgust</th>\n",
       "      <th>NUM_ARR_AVG_3HOUR</th>\n",
       "      <th>crosswind_comp</th>\n",
       "      <th>SCHEDULED_ARRIVAL_MONTH_sin</th>\n",
       "      <th>SCHEDULED_ARRIVAL_MONTH_cos</th>\n",
       "      <th>SCHEDULED_ARRIVAL_HOUR_sin</th>\n",
       "      <th>SCHEDULED_ARRIVAL_HOUR_cos</th>\n",
       "      <th>AIRLINE_CODE_F9</th>\n",
       "      <th>AIRLINE_CODE_MQ</th>\n",
       "      <th>AIRLINE_CODE_WN</th>\n",
       "      <th>DELAY</th>\n",
       "    </tr>\n",
       "  </thead>\n",
       "  <tbody>\n",
       "    <tr>\n",
       "      <th>0</th>\n",
       "      <td>-0.518875</td>\n",
       "      <td>-1.458929</td>\n",
       "      <td>-0.245583</td>\n",
       "      <td>1.019847</td>\n",
       "      <td>-0.104704</td>\n",
       "      <td>-0.733113</td>\n",
       "      <td>0.352208</td>\n",
       "      <td>-0.923471</td>\n",
       "      <td>-0.630803</td>\n",
       "      <td>-0.265583</td>\n",
       "      <td>-0.875782</td>\n",
       "      <td>-0.888842</td>\n",
       "      <td>0.624847</td>\n",
       "      <td>-1.062664</td>\n",
       "      <td>0.343113</td>\n",
       "      <td>-1.106962</td>\n",
       "      <td>6.196072</td>\n",
       "      <td>-0.379121</td>\n",
       "      <td>-0.492746</td>\n",
       "      <td>0</td>\n",
       "    </tr>\n",
       "    <tr>\n",
       "      <th>1</th>\n",
       "      <td>0.004073</td>\n",
       "      <td>-0.639261</td>\n",
       "      <td>-0.245583</td>\n",
       "      <td>-0.232773</td>\n",
       "      <td>0.470217</td>\n",
       "      <td>-0.733113</td>\n",
       "      <td>0.352208</td>\n",
       "      <td>1.341418</td>\n",
       "      <td>0.434165</td>\n",
       "      <td>-0.265583</td>\n",
       "      <td>-1.335951</td>\n",
       "      <td>1.266640</td>\n",
       "      <td>-0.107049</td>\n",
       "      <td>-1.248873</td>\n",
       "      <td>0.107194</td>\n",
       "      <td>1.556580</td>\n",
       "      <td>-0.161393</td>\n",
       "      <td>-0.379121</td>\n",
       "      <td>-0.492746</td>\n",
       "      <td>0</td>\n",
       "    </tr>\n",
       "    <tr>\n",
       "      <th>2</th>\n",
       "      <td>-0.330614</td>\n",
       "      <td>-1.224738</td>\n",
       "      <td>-0.245583</td>\n",
       "      <td>0.887993</td>\n",
       "      <td>0.182756</td>\n",
       "      <td>-0.733113</td>\n",
       "      <td>0.352208</td>\n",
       "      <td>-0.313694</td>\n",
       "      <td>-0.364561</td>\n",
       "      <td>-0.265583</td>\n",
       "      <td>0.211888</td>\n",
       "      <td>0.259683</td>\n",
       "      <td>0.624847</td>\n",
       "      <td>-1.062664</td>\n",
       "      <td>1.286872</td>\n",
       "      <td>-1.006787</td>\n",
       "      <td>-0.161393</td>\n",
       "      <td>-0.379121</td>\n",
       "      <td>-0.492746</td>\n",
       "      <td>0</td>\n",
       "    </tr>\n",
       "    <tr>\n",
       "      <th>3</th>\n",
       "      <td>0.066827</td>\n",
       "      <td>-2.981169</td>\n",
       "      <td>-0.245583</td>\n",
       "      <td>-0.034991</td>\n",
       "      <td>0.182756</td>\n",
       "      <td>-0.733113</td>\n",
       "      <td>0.352208</td>\n",
       "      <td>-1.620361</td>\n",
       "      <td>-1.695771</td>\n",
       "      <td>-0.265583</td>\n",
       "      <td>1.006725</td>\n",
       "      <td>-1.108275</td>\n",
       "      <td>0.624847</td>\n",
       "      <td>-1.062664</td>\n",
       "      <td>2.025840</td>\n",
       "      <td>-0.542507</td>\n",
       "      <td>-0.161393</td>\n",
       "      <td>2.637677</td>\n",
       "      <td>-0.492746</td>\n",
       "      <td>0</td>\n",
       "    </tr>\n",
       "    <tr>\n",
       "      <th>4</th>\n",
       "      <td>-0.226024</td>\n",
       "      <td>-0.405070</td>\n",
       "      <td>-0.245583</td>\n",
       "      <td>2.668032</td>\n",
       "      <td>-2.212746</td>\n",
       "      <td>-0.733113</td>\n",
       "      <td>0.352208</td>\n",
       "      <td>-0.749249</td>\n",
       "      <td>-0.364561</td>\n",
       "      <td>-0.265583</td>\n",
       "      <td>-0.352864</td>\n",
       "      <td>-0.833984</td>\n",
       "      <td>0.624847</td>\n",
       "      <td>1.344693</td>\n",
       "      <td>0.343113</td>\n",
       "      <td>-1.106962</td>\n",
       "      <td>-0.161393</td>\n",
       "      <td>2.637677</td>\n",
       "      <td>-0.492746</td>\n",
       "      <td>0</td>\n",
       "    </tr>\n",
       "  </tbody>\n",
       "</table>\n",
       "</div>"
      ],
      "text/plain": [
       "   DEPARTURE_DELAY  SCHEDULED_TIME  LATE_AIRCRAFT_DELAY       QNH  dew_point  \\\n",
       "0        -0.518875       -1.458929            -0.245583  1.019847  -0.104704   \n",
       "1         0.004073       -0.639261            -0.245583 -0.232773   0.470217   \n",
       "2        -0.330614       -1.224738            -0.245583  0.887993   0.182756   \n",
       "3         0.066827       -2.981169            -0.245583 -0.034991   0.182756   \n",
       "4        -0.226024       -0.405070            -0.245583  2.668032  -2.212746   \n",
       "\n",
       "     squall  visibility   winddir   windspd  windgust  NUM_ARR_AVG_3HOUR  \\\n",
       "0 -0.733113    0.352208 -0.923471 -0.630803 -0.265583          -0.875782   \n",
       "1 -0.733113    0.352208  1.341418  0.434165 -0.265583          -1.335951   \n",
       "2 -0.733113    0.352208 -0.313694 -0.364561 -0.265583           0.211888   \n",
       "3 -0.733113    0.352208 -1.620361 -1.695771 -0.265583           1.006725   \n",
       "4 -0.733113    0.352208 -0.749249 -0.364561 -0.265583          -0.352864   \n",
       "\n",
       "   crosswind_comp  SCHEDULED_ARRIVAL_MONTH_sin  SCHEDULED_ARRIVAL_MONTH_cos  \\\n",
       "0       -0.888842                     0.624847                    -1.062664   \n",
       "1        1.266640                    -0.107049                    -1.248873   \n",
       "2        0.259683                     0.624847                    -1.062664   \n",
       "3       -1.108275                     0.624847                    -1.062664   \n",
       "4       -0.833984                     0.624847                     1.344693   \n",
       "\n",
       "   SCHEDULED_ARRIVAL_HOUR_sin  SCHEDULED_ARRIVAL_HOUR_cos  AIRLINE_CODE_F9  \\\n",
       "0                    0.343113                   -1.106962         6.196072   \n",
       "1                    0.107194                    1.556580        -0.161393   \n",
       "2                    1.286872                   -1.006787        -0.161393   \n",
       "3                    2.025840                   -0.542507        -0.161393   \n",
       "4                    0.343113                   -1.106962        -0.161393   \n",
       "\n",
       "   AIRLINE_CODE_MQ  AIRLINE_CODE_WN  DELAY  \n",
       "0        -0.379121        -0.492746      0  \n",
       "1        -0.379121        -0.492746      0  \n",
       "2        -0.379121        -0.492746      0  \n",
       "3         2.637677        -0.492746      0  \n",
       "4         2.637677        -0.492746      0  "
      ]
     },
     "execution_count": 3,
     "metadata": {},
     "output_type": "execute_result"
    }
   ],
   "source": [
    "pd.set_option('display.max_columns', 100)\n",
    "df.head()"
   ]
  },
  {
   "cell_type": "code",
   "execution_count": 4,
   "metadata": {},
   "outputs": [
    {
     "data": {
      "text/html": [
       "<div>\n",
       "<style scoped>\n",
       "    .dataframe tbody tr th:only-of-type {\n",
       "        vertical-align: middle;\n",
       "    }\n",
       "\n",
       "    .dataframe tbody tr th {\n",
       "        vertical-align: top;\n",
       "    }\n",
       "\n",
       "    .dataframe thead th {\n",
       "        text-align: right;\n",
       "    }\n",
       "</style>\n",
       "<table border=\"1\" class=\"dataframe\">\n",
       "  <thead>\n",
       "    <tr style=\"text-align: right;\">\n",
       "      <th></th>\n",
       "      <th>DEPARTURE_DELAY</th>\n",
       "      <th>SCHEDULED_TIME</th>\n",
       "      <th>LATE_AIRCRAFT_DELAY</th>\n",
       "      <th>QNH</th>\n",
       "      <th>dew_point</th>\n",
       "      <th>squall</th>\n",
       "      <th>visibility</th>\n",
       "      <th>winddir</th>\n",
       "      <th>windspd</th>\n",
       "      <th>windgust</th>\n",
       "      <th>NUM_ARR_AVG_3HOUR</th>\n",
       "      <th>crosswind_comp</th>\n",
       "      <th>SCHEDULED_ARRIVAL_MONTH_sin</th>\n",
       "      <th>SCHEDULED_ARRIVAL_MONTH_cos</th>\n",
       "      <th>SCHEDULED_ARRIVAL_HOUR_sin</th>\n",
       "      <th>SCHEDULED_ARRIVAL_HOUR_cos</th>\n",
       "      <th>AIRLINE_CODE_F9</th>\n",
       "      <th>AIRLINE_CODE_MQ</th>\n",
       "      <th>AIRLINE_CODE_WN</th>\n",
       "      <th>DELAY</th>\n",
       "    </tr>\n",
       "  </thead>\n",
       "  <tbody>\n",
       "    <tr>\n",
       "      <th>0</th>\n",
       "      <td>-0.288778</td>\n",
       "      <td>0.648788</td>\n",
       "      <td>-0.245583</td>\n",
       "      <td>-0.430555</td>\n",
       "      <td>-0.871265</td>\n",
       "      <td>-0.733113</td>\n",
       "      <td>0.352208</td>\n",
       "      <td>0.383196</td>\n",
       "      <td>-0.098319</td>\n",
       "      <td>-0.265583</td>\n",
       "      <td>0.400139</td>\n",
       "      <td>0.110128</td>\n",
       "      <td>0.624847</td>\n",
       "      <td>1.344693</td>\n",
       "      <td>-0.858819</td>\n",
       "      <td>-0.542507</td>\n",
       "      <td>-0.161393</td>\n",
       "      <td>-0.379121</td>\n",
       "      <td>-0.492746</td>\n",
       "      <td>0</td>\n",
       "    </tr>\n",
       "    <tr>\n",
       "      <th>1</th>\n",
       "      <td>0.171417</td>\n",
       "      <td>0.297502</td>\n",
       "      <td>-0.245583</td>\n",
       "      <td>0.624283</td>\n",
       "      <td>0.757677</td>\n",
       "      <td>-0.733113</td>\n",
       "      <td>0.352208</td>\n",
       "      <td>0.992974</td>\n",
       "      <td>-0.630803</td>\n",
       "      <td>-0.265583</td>\n",
       "      <td>0.023638</td>\n",
       "      <td>-0.476442</td>\n",
       "      <td>-0.107049</td>\n",
       "      <td>-1.248873</td>\n",
       "      <td>-1.145026</td>\n",
       "      <td>0.521131</td>\n",
       "      <td>-0.161393</td>\n",
       "      <td>2.637677</td>\n",
       "      <td>-0.492746</td>\n",
       "      <td>0</td>\n",
       "    </tr>\n",
       "    <tr>\n",
       "      <th>2</th>\n",
       "      <td>-0.309696</td>\n",
       "      <td>0.180407</td>\n",
       "      <td>-0.245583</td>\n",
       "      <td>-0.100918</td>\n",
       "      <td>-0.104704</td>\n",
       "      <td>-0.733113</td>\n",
       "      <td>0.352208</td>\n",
       "      <td>1.428529</td>\n",
       "      <td>0.966649</td>\n",
       "      <td>-0.265583</td>\n",
       "      <td>0.211888</td>\n",
       "      <td>2.002895</td>\n",
       "      <td>1.356743</td>\n",
       "      <td>0.141015</td>\n",
       "      <td>-0.858819</td>\n",
       "      <td>-0.542507</td>\n",
       "      <td>-0.161393</td>\n",
       "      <td>-0.379121</td>\n",
       "      <td>-0.492746</td>\n",
       "      <td>0</td>\n",
       "    </tr>\n",
       "    <tr>\n",
       "      <th>3</th>\n",
       "      <td>-0.058680</td>\n",
       "      <td>1.117170</td>\n",
       "      <td>-0.245583</td>\n",
       "      <td>0.756138</td>\n",
       "      <td>-1.542006</td>\n",
       "      <td>-0.733113</td>\n",
       "      <td>0.352208</td>\n",
       "      <td>-0.139471</td>\n",
       "      <td>0.167923</td>\n",
       "      <td>-0.265583</td>\n",
       "      <td>-2.507288</td>\n",
       "      <td>1.069544</td>\n",
       "      <td>1.160632</td>\n",
       "      <td>0.835959</td>\n",
       "      <td>0.107194</td>\n",
       "      <td>1.556580</td>\n",
       "      <td>-0.161393</td>\n",
       "      <td>-0.379121</td>\n",
       "      <td>-0.492746</td>\n",
       "      <td>0</td>\n",
       "    </tr>\n",
       "    <tr>\n",
       "      <th>4</th>\n",
       "      <td>-0.037762</td>\n",
       "      <td>-0.873452</td>\n",
       "      <td>-0.245583</td>\n",
       "      <td>-1.353539</td>\n",
       "      <td>0.853497</td>\n",
       "      <td>-0.733113</td>\n",
       "      <td>0.352208</td>\n",
       "      <td>1.167196</td>\n",
       "      <td>-0.364561</td>\n",
       "      <td>-0.265583</td>\n",
       "      <td>-0.018196</td>\n",
       "      <td>0.101755</td>\n",
       "      <td>-0.838946</td>\n",
       "      <td>-1.062664</td>\n",
       "      <td>0.343113</td>\n",
       "      <td>-1.106962</td>\n",
       "      <td>6.196072</td>\n",
       "      <td>-0.379121</td>\n",
       "      <td>-0.492746</td>\n",
       "      <td>0</td>\n",
       "    </tr>\n",
       "  </tbody>\n",
       "</table>\n",
       "</div>"
      ],
      "text/plain": [
       "   DEPARTURE_DELAY  SCHEDULED_TIME  LATE_AIRCRAFT_DELAY       QNH  dew_point  \\\n",
       "0        -0.288778        0.648788            -0.245583 -0.430555  -0.871265   \n",
       "1         0.171417        0.297502            -0.245583  0.624283   0.757677   \n",
       "2        -0.309696        0.180407            -0.245583 -0.100918  -0.104704   \n",
       "3        -0.058680        1.117170            -0.245583  0.756138  -1.542006   \n",
       "4        -0.037762       -0.873452            -0.245583 -1.353539   0.853497   \n",
       "\n",
       "     squall  visibility   winddir   windspd  windgust  NUM_ARR_AVG_3HOUR  \\\n",
       "0 -0.733113    0.352208  0.383196 -0.098319 -0.265583           0.400139   \n",
       "1 -0.733113    0.352208  0.992974 -0.630803 -0.265583           0.023638   \n",
       "2 -0.733113    0.352208  1.428529  0.966649 -0.265583           0.211888   \n",
       "3 -0.733113    0.352208 -0.139471  0.167923 -0.265583          -2.507288   \n",
       "4 -0.733113    0.352208  1.167196 -0.364561 -0.265583          -0.018196   \n",
       "\n",
       "   crosswind_comp  SCHEDULED_ARRIVAL_MONTH_sin  SCHEDULED_ARRIVAL_MONTH_cos  \\\n",
       "0        0.110128                     0.624847                     1.344693   \n",
       "1       -0.476442                    -0.107049                    -1.248873   \n",
       "2        2.002895                     1.356743                     0.141015   \n",
       "3        1.069544                     1.160632                     0.835959   \n",
       "4        0.101755                    -0.838946                    -1.062664   \n",
       "\n",
       "   SCHEDULED_ARRIVAL_HOUR_sin  SCHEDULED_ARRIVAL_HOUR_cos  AIRLINE_CODE_F9  \\\n",
       "0                   -0.858819                   -0.542507        -0.161393   \n",
       "1                   -1.145026                    0.521131        -0.161393   \n",
       "2                   -0.858819                   -0.542507        -0.161393   \n",
       "3                    0.107194                    1.556580        -0.161393   \n",
       "4                    0.343113                   -1.106962         6.196072   \n",
       "\n",
       "   AIRLINE_CODE_MQ  AIRLINE_CODE_WN  DELAY  \n",
       "0        -0.379121        -0.492746      0  \n",
       "1         2.637677        -0.492746      0  \n",
       "2        -0.379121        -0.492746      0  \n",
       "3        -0.379121        -0.492746      0  \n",
       "4        -0.379121        -0.492746      0  "
      ]
     },
     "execution_count": 4,
     "metadata": {},
     "output_type": "execute_result"
    }
   ],
   "source": [
    "df_test.head()"
   ]
  },
  {
   "cell_type": "markdown",
   "metadata": {},
   "source": [
    "---\n",
    "### (2) Setting X_train, X_test, y_train & y_test\n",
    "\n",
    "---"
   ]
  },
  {
   "cell_type": "code",
   "execution_count": 5,
   "metadata": {},
   "outputs": [],
   "source": [
    "X_train = df.drop('DELAY', axis=1)\n",
    "y_train = df['DELAY']\n",
    "X_test = df_test.drop('DELAY', axis=1)\n",
    "y_test = df_test['DELAY']"
   ]
  },
  {
   "cell_type": "code",
   "execution_count": 6,
   "metadata": {},
   "outputs": [
    {
     "data": {
      "text/plain": [
       "(20068, 19)"
      ]
     },
     "execution_count": 6,
     "metadata": {},
     "output_type": "execute_result"
    }
   ],
   "source": [
    "X_train.shape"
   ]
  },
  {
   "cell_type": "code",
   "execution_count": 7,
   "metadata": {},
   "outputs": [
    {
     "data": {
      "text/plain": [
       "(1586, 19)"
      ]
     },
     "execution_count": 7,
     "metadata": {},
     "output_type": "execute_result"
    }
   ],
   "source": [
    "X_test.shape"
   ]
  },
  {
   "cell_type": "code",
   "execution_count": 8,
   "metadata": {},
   "outputs": [
    {
     "data": {
      "text/plain": [
       "Index(['DEPARTURE_DELAY', 'SCHEDULED_TIME', 'LATE_AIRCRAFT_DELAY', 'QNH',\n",
       "       'dew_point', 'squall', 'visibility', 'winddir', 'windspd', 'windgust',\n",
       "       'NUM_ARR_AVG_3HOUR', 'crosswind_comp', 'SCHEDULED_ARRIVAL_MONTH_sin',\n",
       "       'SCHEDULED_ARRIVAL_MONTH_cos', 'SCHEDULED_ARRIVAL_HOUR_sin',\n",
       "       'SCHEDULED_ARRIVAL_HOUR_cos', 'AIRLINE_CODE_F9', 'AIRLINE_CODE_MQ',\n",
       "       'AIRLINE_CODE_WN'],\n",
       "      dtype='object')"
      ]
     },
     "execution_count": 8,
     "metadata": {},
     "output_type": "execute_result"
    }
   ],
   "source": [
    "X_train.columns"
   ]
  },
  {
   "cell_type": "code",
   "execution_count": 9,
   "metadata": {},
   "outputs": [
    {
     "data": {
      "text/plain": [
       "19"
      ]
     },
     "execution_count": 9,
     "metadata": {},
     "output_type": "execute_result"
    }
   ],
   "source": [
    "len(X_train.columns)"
   ]
  },
  {
   "cell_type": "markdown",
   "metadata": {},
   "source": [
    "---\n",
    "### (3) Model (I): Logistic Regression\n",
    "\n",
    "---"
   ]
  },
  {
   "cell_type": "code",
   "execution_count": 10,
   "metadata": {},
   "outputs": [
    {
     "data": {
      "text/plain": [
       "LogisticRegression(C=1.0, class_weight=None, dual=False, fit_intercept=True,\n",
       "                   intercept_scaling=1, l1_ratio=None, max_iter=1000,\n",
       "                   multi_class='auto', n_jobs=None, penalty='l2',\n",
       "                   random_state=None, solver='lbfgs', tol=0.0001, verbose=0,\n",
       "                   warm_start=False)"
      ]
     },
     "execution_count": 10,
     "metadata": {},
     "output_type": "execute_result"
    }
   ],
   "source": [
    "lr = LogisticRegression(max_iter=1000)\n",
    "lr.fit(X_train, y_train)"
   ]
  },
  {
   "cell_type": "code",
   "execution_count": 11,
   "metadata": {},
   "outputs": [
    {
     "data": {
      "text/plain": [
       "0.8585315586824137"
      ]
     },
     "execution_count": 11,
     "metadata": {},
     "output_type": "execute_result"
    }
   ],
   "source": [
    "cross_val_score(lr, X_train, y_train).mean()"
   ]
  },
  {
   "cell_type": "code",
   "execution_count": 13,
   "metadata": {},
   "outputs": [
    {
     "data": {
      "text/plain": [
       "0.8776796973518285"
      ]
     },
     "execution_count": 13,
     "metadata": {},
     "output_type": "execute_result"
    }
   ],
   "source": [
    "lr.score(X_test, y_test)"
   ]
  },
  {
   "cell_type": "code",
   "execution_count": 15,
   "metadata": {},
   "outputs": [
    {
     "name": "stdout",
     "output_type": "stream",
     "text": [
      "               precision    recall  f1-score   support\n",
      "\n",
      "      <15mins       0.95      0.93      0.94      1254\n",
      "15mins to 1hr       0.57      0.62      0.59       206\n",
      "    1 to 3hrs       0.72      0.78      0.75       101\n",
      "        >3hrs       0.68      0.84      0.75        25\n",
      "\n",
      "     accuracy                           0.88      1586\n",
      "    macro avg       0.73      0.79      0.76      1586\n",
      " weighted avg       0.88      0.88      0.88      1586\n",
      "\n"
     ]
    }
   ],
   "source": [
    "target_names = ['<15mins', '15mins to 1hr', '1 to 3hrs', '>3hrs']\n",
    "print(classification_report(y_test, lr.predict(X_test),target_names=target_names))"
   ]
  },
  {
   "cell_type": "code",
   "execution_count": 20,
   "metadata": {},
   "outputs": [],
   "source": [
    "# Exporting model\n",
    "\n",
    "# lr_filename = '../models/classification_logreg_model.sav'\n",
    "# pickle.dump(lr, open(lr_filename, 'wb'))"
   ]
  },
  {
   "cell_type": "markdown",
   "metadata": {},
   "source": [
    "---\n",
    "### (4) Model (II): RandomForest\n",
    "\n",
    "---"
   ]
  },
  {
   "cell_type": "code",
   "execution_count": 21,
   "metadata": {},
   "outputs": [],
   "source": [
    "rf = RandomForestClassifier()"
   ]
  },
  {
   "cell_type": "code",
   "execution_count": 22,
   "metadata": {},
   "outputs": [],
   "source": [
    "rf_params = {\n",
    "  \"n_estimators\":[100,200,300],\n",
    "  \"min_samples_split\":[10,20,30],\n",
    "  \"max_depth\":[10,20]\n",
    "}\n",
    "\n",
    "rf_cv = RandomizedSearchCV(rf, param_distributions=rf_params, scoring='f1_micro', n_iter=2, n_jobs=4, verbose=2)"
   ]
  },
  {
   "cell_type": "code",
   "execution_count": 23,
   "metadata": {},
   "outputs": [
    {
     "name": "stdout",
     "output_type": "stream",
     "text": [
      "Fitting 5 folds for each of 2 candidates, totalling 10 fits\n"
     ]
    },
    {
     "name": "stderr",
     "output_type": "stream",
     "text": [
      "[Parallel(n_jobs=4)]: Using backend LokyBackend with 4 concurrent workers.\n",
      "[Parallel(n_jobs=4)]: Done  10 out of  10 | elapsed:   31.0s finished\n"
     ]
    },
    {
     "data": {
      "text/plain": [
       "RandomizedSearchCV(cv=None, error_score=nan,\n",
       "                   estimator=RandomForestClassifier(bootstrap=True,\n",
       "                                                    ccp_alpha=0.0,\n",
       "                                                    class_weight=None,\n",
       "                                                    criterion='gini',\n",
       "                                                    max_depth=None,\n",
       "                                                    max_features='auto',\n",
       "                                                    max_leaf_nodes=None,\n",
       "                                                    max_samples=None,\n",
       "                                                    min_impurity_decrease=0.0,\n",
       "                                                    min_impurity_split=None,\n",
       "                                                    min_samples_leaf=1,\n",
       "                                                    min_samples_split=2,\n",
       "                                                    min_weight_fraction_leaf=0.0,\n",
       "                                                    n_estimators=100,\n",
       "                                                    n_jobs=None,\n",
       "                                                    oob_score=False,\n",
       "                                                    random_state=None,\n",
       "                                                    verbose=0,\n",
       "                                                    warm_start=False),\n",
       "                   iid='deprecated', n_iter=2, n_jobs=4,\n",
       "                   param_distributions={'max_depth': [10, 20],\n",
       "                                        'min_samples_split': [10, 20, 30],\n",
       "                                        'n_estimators': [100, 200, 300]},\n",
       "                   pre_dispatch='2*n_jobs', random_state=None, refit=True,\n",
       "                   return_train_score=False, scoring='f1_micro', verbose=2)"
      ]
     },
     "execution_count": 23,
     "metadata": {},
     "output_type": "execute_result"
    }
   ],
   "source": [
    "rf_cv.fit(X_train, y_train)"
   ]
  },
  {
   "cell_type": "code",
   "execution_count": 24,
   "metadata": {},
   "outputs": [
    {
     "data": {
      "text/plain": [
       "{'n_estimators': 200, 'min_samples_split': 20, 'max_depth': 20}"
      ]
     },
     "execution_count": 24,
     "metadata": {},
     "output_type": "execute_result"
    }
   ],
   "source": [
    "rf_cv.best_params_"
   ]
  },
  {
   "cell_type": "code",
   "execution_count": 25,
   "metadata": {},
   "outputs": [],
   "source": [
    "opt_rf = RandomForestClassifier(n_estimators=300, min_samples_split=10, max_depth=20)"
   ]
  },
  {
   "cell_type": "code",
   "execution_count": 26,
   "metadata": {},
   "outputs": [
    {
     "data": {
      "text/plain": [
       "RandomForestClassifier(bootstrap=True, ccp_alpha=0.0, class_weight=None,\n",
       "                       criterion='gini', max_depth=20, max_features='auto',\n",
       "                       max_leaf_nodes=None, max_samples=None,\n",
       "                       min_impurity_decrease=0.0, min_impurity_split=None,\n",
       "                       min_samples_leaf=1, min_samples_split=10,\n",
       "                       min_weight_fraction_leaf=0.0, n_estimators=300,\n",
       "                       n_jobs=None, oob_score=False, random_state=None,\n",
       "                       verbose=0, warm_start=False)"
      ]
     },
     "execution_count": 26,
     "metadata": {},
     "output_type": "execute_result"
    }
   ],
   "source": [
    "opt_rf.fit(X_train, y_train)"
   ]
  },
  {
   "cell_type": "code",
   "execution_count": 27,
   "metadata": {},
   "outputs": [
    {
     "data": {
      "text/plain": [
       "0.9659173580233945"
      ]
     },
     "execution_count": 27,
     "metadata": {},
     "output_type": "execute_result"
    }
   ],
   "source": [
    "cross_val_score(opt_rf, X_train, y_train).mean()"
   ]
  },
  {
   "cell_type": "code",
   "execution_count": 28,
   "metadata": {},
   "outputs": [
    {
     "data": {
      "text/plain": [
       "0.9656494882311346"
      ]
     },
     "execution_count": 28,
     "metadata": {},
     "output_type": "execute_result"
    }
   ],
   "source": [
    "cross_val_score(opt_rf, X_train, y_train, scoring='f1_macro').mean()"
   ]
  },
  {
   "cell_type": "code",
   "execution_count": 29,
   "metadata": {},
   "outputs": [
    {
     "data": {
      "text/plain": [
       "0.9155107187894073"
      ]
     },
     "execution_count": 29,
     "metadata": {},
     "output_type": "execute_result"
    }
   ],
   "source": [
    "opt_rf.score(X_test, y_test)"
   ]
  },
  {
   "cell_type": "code",
   "execution_count": 31,
   "metadata": {},
   "outputs": [
    {
     "name": "stdout",
     "output_type": "stream",
     "text": [
      "               precision    recall  f1-score   support\n",
      "\n",
      "      <15mins       0.94      0.99      0.96      1254\n",
      "15mins to 1hr       0.82      0.55      0.66       206\n",
      "    1 to 3hrs       0.78      0.78      0.78       101\n",
      "        >3hrs       0.77      0.92      0.84        25\n",
      "\n",
      "     accuracy                           0.92      1586\n",
      "    macro avg       0.83      0.81      0.81      1586\n",
      " weighted avg       0.91      0.92      0.91      1586\n",
      "\n"
     ]
    }
   ],
   "source": [
    "target_names = ['<15mins', '15mins to 1hr', '1 to 3hrs', '>3hrs']\n",
    "print(classification_report(y_test, opt_rf.predict(X_test),target_names=target_names))"
   ]
  },
  {
   "cell_type": "code",
   "execution_count": 35,
   "metadata": {},
   "outputs": [],
   "source": [
    "# Exporting model\n",
    "\n",
    "rf_filename = '../models/classification_rf_model_lga.sav'\n",
    "pickle.dump(opt_rf, open(rf_filename, 'wb'))"
   ]
  },
  {
   "cell_type": "markdown",
   "metadata": {},
   "source": [
    "---\n",
    "### (5) Model (III): XGBoost\n",
    "\n",
    "---"
   ]
  },
  {
   "cell_type": "code",
   "execution_count": 36,
   "metadata": {},
   "outputs": [],
   "source": [
    "xgbc = xgb.XGBClassifier()"
   ]
  },
  {
   "cell_type": "code",
   "execution_count": 37,
   "metadata": {},
   "outputs": [],
   "source": [
    "xgbc_params = {\n",
    "  \"learning_rate\":[0.01, 0.1, 0.2, 0.3],\n",
    "  \"max_depth\":[3, 5, 10]\n",
    "}\n",
    "\n",
    "xgbc_cv = RandomizedSearchCV(xgbc, param_distributions=xgbc_params, scoring='f1_micro', n_iter=2, n_jobs=4, verbose=2)"
   ]
  },
  {
   "cell_type": "code",
   "execution_count": 38,
   "metadata": {},
   "outputs": [
    {
     "name": "stdout",
     "output_type": "stream",
     "text": [
      "Fitting 5 folds for each of 2 candidates, totalling 10 fits\n"
     ]
    },
    {
     "name": "stderr",
     "output_type": "stream",
     "text": [
      "[Parallel(n_jobs=4)]: Using backend LokyBackend with 4 concurrent workers.\n",
      "[Parallel(n_jobs=4)]: Done  10 out of  10 | elapsed:  1.4min finished\n"
     ]
    },
    {
     "data": {
      "text/plain": [
       "RandomizedSearchCV(cv=None, error_score=nan,\n",
       "                   estimator=XGBClassifier(base_score=0.5, booster='gbtree',\n",
       "                                           colsample_bylevel=1,\n",
       "                                           colsample_bynode=1,\n",
       "                                           colsample_bytree=1, gamma=0,\n",
       "                                           learning_rate=0.1, max_delta_step=0,\n",
       "                                           max_depth=3, min_child_weight=1,\n",
       "                                           missing=None, n_estimators=100,\n",
       "                                           n_jobs=1, nthread=None,\n",
       "                                           objective='binary:logistic',\n",
       "                                           random_state=0, reg_alpha=0,\n",
       "                                           reg_lambda=1, scale_pos_weight=1,\n",
       "                                           seed=None, silent=None, subsample=1,\n",
       "                                           verbosity=1),\n",
       "                   iid='deprecated', n_iter=2, n_jobs=4,\n",
       "                   param_distributions={'learning_rate': [0.01, 0.1, 0.2, 0.3],\n",
       "                                        'max_depth': [3, 5, 10]},\n",
       "                   pre_dispatch='2*n_jobs', random_state=None, refit=True,\n",
       "                   return_train_score=False, scoring='f1_micro', verbose=2)"
      ]
     },
     "execution_count": 38,
     "metadata": {},
     "output_type": "execute_result"
    }
   ],
   "source": [
    "xgbc_cv.fit(X_train, y_train)"
   ]
  },
  {
   "cell_type": "code",
   "execution_count": 39,
   "metadata": {},
   "outputs": [
    {
     "data": {
      "text/plain": [
       "{'max_depth': 10, 'learning_rate': 0.2}"
      ]
     },
     "execution_count": 39,
     "metadata": {},
     "output_type": "execute_result"
    }
   ],
   "source": [
    "xgbc_cv.best_params_"
   ]
  },
  {
   "cell_type": "code",
   "execution_count": 40,
   "metadata": {},
   "outputs": [],
   "source": [
    "opt_xgb = xgb.XGBClassifier(max_depth=10, learning_rate=0.2)"
   ]
  },
  {
   "cell_type": "code",
   "execution_count": 41,
   "metadata": {},
   "outputs": [
    {
     "data": {
      "text/plain": [
       "XGBClassifier(base_score=0.5, booster='gbtree', colsample_bylevel=1,\n",
       "              colsample_bynode=1, colsample_bytree=1, gamma=0,\n",
       "              learning_rate=0.2, max_delta_step=0, max_depth=10,\n",
       "              min_child_weight=1, missing=None, n_estimators=100, n_jobs=1,\n",
       "              nthread=None, objective='multi:softprob', random_state=0,\n",
       "              reg_alpha=0, reg_lambda=1, scale_pos_weight=1, seed=None,\n",
       "              silent=None, subsample=1, verbosity=1)"
      ]
     },
     "execution_count": 41,
     "metadata": {},
     "output_type": "execute_result"
    }
   ],
   "source": [
    "opt_xgb.fit(X_train, y_train)"
   ]
  },
  {
   "cell_type": "code",
   "execution_count": 42,
   "metadata": {
    "scrolled": true
   },
   "outputs": [
    {
     "data": {
      "text/plain": [
       "0.9710002283311672"
      ]
     },
     "execution_count": 42,
     "metadata": {},
     "output_type": "execute_result"
    }
   ],
   "source": [
    "cross_val_score(opt_xgb, X_train, y_train).mean()"
   ]
  },
  {
   "cell_type": "code",
   "execution_count": 44,
   "metadata": {
    "scrolled": false
   },
   "outputs": [
    {
     "data": {
      "text/plain": [
       "0.9186633039092056"
      ]
     },
     "execution_count": 44,
     "metadata": {},
     "output_type": "execute_result"
    }
   ],
   "source": [
    "opt_xgb.score(X_test, y_test)"
   ]
  },
  {
   "cell_type": "code",
   "execution_count": 46,
   "metadata": {
    "scrolled": true
   },
   "outputs": [
    {
     "name": "stdout",
     "output_type": "stream",
     "text": [
      "               precision    recall  f1-score   support\n",
      "\n",
      "      <15mins       0.95      0.99      0.97      1254\n",
      "15mins to 1hr       0.80      0.59      0.68       206\n",
      "    1 to 3hrs       0.80      0.75      0.78       101\n",
      "        >3hrs       0.74      0.92      0.82        25\n",
      "\n",
      "     accuracy                           0.92      1586\n",
      "    macro avg       0.82      0.81      0.81      1586\n",
      " weighted avg       0.91      0.92      0.91      1586\n",
      "\n"
     ]
    }
   ],
   "source": [
    "target_names = ['<15mins', '15mins to 1hr', '1 to 3hrs', '>3hrs']\n",
    "print(classification_report(y_test, opt_xgb.predict(X_test),target_names=target_names))"
   ]
  },
  {
   "cell_type": "code",
   "execution_count": 64,
   "metadata": {},
   "outputs": [],
   "source": [
    "# Exporting model\n",
    "\n",
    "# xgb_filename = '../models/classification_xgb_model.sav'\n",
    "# pickle.dump(opt_xgb, open(xgb_filename, 'wb'))"
   ]
  },
  {
   "cell_type": "markdown",
   "metadata": {},
   "source": [
    "---\n",
    "### (6) Model (IV): Neural Networks\n",
    "\n",
    "---"
   ]
  },
  {
   "cell_type": "code",
   "execution_count": 85,
   "metadata": {},
   "outputs": [],
   "source": [
    "from keras.utils import to_categorical"
   ]
  },
  {
   "cell_type": "code",
   "execution_count": 86,
   "metadata": {},
   "outputs": [],
   "source": [
    "y_train_enc = to_categorical(y_train)\n",
    "y_test_enc = to_categorical(y_test)"
   ]
  },
  {
   "cell_type": "code",
   "execution_count": 87,
   "metadata": {},
   "outputs": [],
   "source": [
    "model = Sequential()"
   ]
  },
  {
   "cell_type": "code",
   "execution_count": 88,
   "metadata": {},
   "outputs": [],
   "source": [
    "model.add(Dense(15, \n",
    "                input_dim=19, \n",
    "                activation='relu'))\n",
    "\n",
    "# Dropout did not help improve accuracy in this case\n",
    "# model.add(Dropout(0.5))\n",
    "\n",
    "model.add(Dense(15, \n",
    "                activation='relu'))"
   ]
  },
  {
   "cell_type": "code",
   "execution_count": 94,
   "metadata": {},
   "outputs": [
    {
     "name": "stdout",
     "output_type": "stream",
     "text": [
      "Model: \"sequential_1\"\n",
      "_________________________________________________________________\n",
      "Layer (type)                 Output Shape              Param #   \n",
      "=================================================================\n",
      "dense_1 (Dense)              (None, 15)                300       \n",
      "_________________________________________________________________\n",
      "dense_2 (Dense)              (None, 15)                240       \n",
      "_________________________________________________________________\n",
      "dense_3 (Dense)              (None, 4)                 64        \n",
      "=================================================================\n",
      "Total params: 604\n",
      "Trainable params: 604\n",
      "Non-trainable params: 0\n",
      "_________________________________________________________________\n"
     ]
    }
   ],
   "source": [
    "model.summary()"
   ]
  },
  {
   "cell_type": "code",
   "execution_count": 89,
   "metadata": {},
   "outputs": [],
   "source": [
    "es = EarlyStopping(monitor='val_loss', patience=3)\n",
    "\n",
    "model.compile(optimizer='adam', loss='categorical_crossentropy', metrics=['accuracy'])"
   ]
  },
  {
   "cell_type": "code",
   "execution_count": 90,
   "metadata": {
    "scrolled": false
   },
   "outputs": [
    {
     "name": "stdout",
     "output_type": "stream",
     "text": [
      "Train on 16054 samples, validate on 4014 samples\n",
      "Epoch 1/200\n",
      "16054/16054 [==============================] - 4s 238us/step - loss: 0.6786 - accuracy: 0.7041 - val_loss: 0.1974 - val_accuracy: 0.9225\n",
      "Epoch 2/200\n",
      "16054/16054 [==============================] - 3s 199us/step - loss: 0.4400 - accuracy: 0.8080 - val_loss: 0.1142 - val_accuracy: 0.9629\n",
      "Epoch 3/200\n",
      "16054/16054 [==============================] - 3s 187us/step - loss: 0.4031 - accuracy: 0.8236 - val_loss: 0.1065 - val_accuracy: 0.9539\n",
      "Epoch 4/200\n",
      "16054/16054 [==============================] - 3s 202us/step - loss: 0.3816 - accuracy: 0.8291 - val_loss: 0.0596 - val_accuracy: 0.9801\n",
      "Epoch 5/200\n",
      "16054/16054 [==============================] - 3s 196us/step - loss: 0.3643 - accuracy: 0.8376 - val_loss: 0.0600 - val_accuracy: 0.9816\n",
      "Epoch 6/200\n",
      "16054/16054 [==============================] - 3s 196us/step - loss: 0.3478 - accuracy: 0.8448 - val_loss: 0.0470 - val_accuracy: 0.9831\n",
      "Epoch 7/200\n",
      "16054/16054 [==============================] - 3s 197us/step - loss: 0.3342 - accuracy: 0.8531 - val_loss: 0.0216 - val_accuracy: 0.9963\n",
      "Epoch 8/200\n",
      "16054/16054 [==============================] - 3s 193us/step - loss: 0.3199 - accuracy: 0.8612 - val_loss: 0.0259 - val_accuracy: 0.9925\n",
      "Epoch 9/200\n",
      "16054/16054 [==============================] - 3s 184us/step - loss: 0.3100 - accuracy: 0.8644 - val_loss: 0.0165 - val_accuracy: 0.9970\n",
      "Epoch 10/200\n",
      "16054/16054 [==============================] - 3s 198us/step - loss: 0.3017 - accuracy: 0.8676 - val_loss: 0.0277 - val_accuracy: 0.9913\n",
      "Epoch 11/200\n",
      "16054/16054 [==============================] - 3s 194us/step - loss: 0.2949 - accuracy: 0.8711 - val_loss: 0.0482 - val_accuracy: 0.9860\n",
      "Epoch 12/200\n",
      "16054/16054 [==============================] - 3s 201us/step - loss: 0.2878 - accuracy: 0.8738 - val_loss: 0.0513 - val_accuracy: 0.9776\n"
     ]
    },
    {
     "data": {
      "text/plain": [
       "<keras.callbacks.callbacks.History at 0x23b07ff4648>"
      ]
     },
     "execution_count": 90,
     "metadata": {},
     "output_type": "execute_result"
    }
   ],
   "source": [
    "model.fit(X_train, y_train_enc, batch_size=8, epochs=200, validation_split=0.2, callbacks=[es])"
   ]
  },
  {
   "cell_type": "code",
   "execution_count": 91,
   "metadata": {},
   "outputs": [
    {
     "name": "stdout",
     "output_type": "stream",
     "text": [
      "1586/1586 [==============================] - 0s 25us/step\n"
     ]
    },
    {
     "data": {
      "text/plain": [
       "[0.48938196506656584, 0.812736451625824]"
      ]
     },
     "execution_count": 91,
     "metadata": {},
     "output_type": "execute_result"
    }
   ],
   "source": [
    "model.evaluate(X_test, y_test_enc)"
   ]
  },
  {
   "cell_type": "code",
   "execution_count": 92,
   "metadata": {
    "scrolled": true
   },
   "outputs": [
    {
     "name": "stdout",
     "output_type": "stream",
     "text": [
      "              precision    recall  f1-score   support\n",
      "\n",
      "        <1hr       0.95      0.84      0.89      1254\n",
      "   1 to 2hrs       0.39      0.64      0.49       206\n",
      "   2 to 3hrs       0.71      0.78      0.74       101\n",
      "       >3hrs       0.80      0.80      0.80        25\n",
      "\n",
      "    accuracy                           0.81      1586\n",
      "   macro avg       0.71      0.77      0.73      1586\n",
      "weighted avg       0.86      0.81      0.83      1586\n",
      "\n"
     ]
    }
   ],
   "source": [
    "y_nn_pred = model.predict(X_test).argmax(axis=-1)\n",
    "target_names = ['<1hr', '1 to 2hrs', '2 to 3hrs', '>3hrs']\n",
    "\n",
    "print(classification_report(y_test, y_nn_pred, target_names=target_names))"
   ]
  },
  {
   "cell_type": "code",
   "execution_count": 93,
   "metadata": {},
   "outputs": [],
   "source": [
    "# Exporting model\n",
    "\n",
    "# nn_filename = '../models/classification_nn_model.sav'\n",
    "# pickle.dump(model, open(nn_filename, 'wb'))"
   ]
  }
 ],
 "metadata": {
  "kernelspec": {
   "display_name": "Python 3",
   "language": "python",
   "name": "python3"
  },
  "language_info": {
   "codemirror_mode": {
    "name": "ipython",
    "version": 3
   },
   "file_extension": ".py",
   "mimetype": "text/x-python",
   "name": "python",
   "nbconvert_exporter": "python",
   "pygments_lexer": "ipython3",
   "version": "3.7.4"
  },
  "name": "Modeling (Classification) - airborne to destination",
  "notebookId": 2049533585937493
 },
 "nbformat": 4,
 "nbformat_minor": 1
}
