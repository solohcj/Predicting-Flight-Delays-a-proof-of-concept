{
 "cells": [
  {
   "cell_type": "markdown",
   "metadata": {},
   "source": [
    "<img src=\"../images/airplane-symbol.jpg\" style=\"float: left; margin: 20px;\" width=\"50\" height=\"50\"> \n",
    "#  Predicting Flight Delays (<i>a Proof-of-Concept</i>)\n",
    "\n",
    "Author: Solomon Heng\n",
    "\n",
    "---"
   ]
  },
  {
   "cell_type": "markdown",
   "metadata": {},
   "source": [
    "# 7d. Classification Modeling DFW\n",
    "\n",
    "## Processes covered in this notebook:\n",
    "1. [Importing dataset](#(1)-Importing-dataset)\n",
    "2. [Setting X_train, X_test, y_train & y_test](#(2)-Setting-X_train,-X_test,-y_train-&-y_test)\n",
    "3. [Model (I): Logistic Regression](#(3)-Model-(I):-Logistic-Regression)\n",
    "4. [Model (II): RandomForest](#(4)-Model-(II):-RandomForest)\n",
    "5. [Model (III): XGBoost](#(5)-Model-(III):-XGBoost)\n",
    "6. [Model (IV): Neural Networks](#(6)-Model-(IV):-Neural-Networks)"
   ]
  },
  {
   "cell_type": "code",
   "execution_count": 1,
   "metadata": {},
   "outputs": [
    {
     "name": "stderr",
     "output_type": "stream",
     "text": [
      "Using TensorFlow backend.\n"
     ]
    }
   ],
   "source": [
    "import pandas as pd\n",
    "import numpy as np\n",
    "import matplotlib.pyplot as plt\n",
    "import seaborn as sns\n",
    "\n",
    "from sklearn.preprocessing import StandardScaler\n",
    "from sklearn.linear_model import LogisticRegression\n",
    "from sklearn.model_selection import train_test_split, cross_val_score, RandomizedSearchCV\n",
    "from sklearn.metrics import confusion_matrix, roc_auc_score, classification_report\n",
    "from sklearn.ensemble import RandomForestClassifier\n",
    "\n",
    "from keras.models import Sequential\n",
    "from keras.layers import Dense, Dropout\n",
    "from keras.callbacks import EarlyStopping\n",
    "from keras import backend as K\n",
    "\n",
    "import xgboost as xgb\n",
    "\n",
    "import pickle\n",
    "\n",
    "sns.set()"
   ]
  },
  {
   "cell_type": "markdown",
   "metadata": {},
   "source": [
    "---\n",
    "### (1) Importing dataset\n",
    "\n",
    "---"
   ]
  },
  {
   "cell_type": "code",
   "execution_count": 2,
   "metadata": {},
   "outputs": [],
   "source": [
    "df = pd.read_csv('../datasets/combined_data_class_dfw.csv')\n",
    "df_test = pd.read_csv('../datasets/combined_data_class_test_dfw.csv')"
   ]
  },
  {
   "cell_type": "code",
   "execution_count": 3,
   "metadata": {
    "scrolled": false
   },
   "outputs": [
    {
     "data": {
      "text/html": [
       "<div>\n",
       "<style scoped>\n",
       "    .dataframe tbody tr th:only-of-type {\n",
       "        vertical-align: middle;\n",
       "    }\n",
       "\n",
       "    .dataframe tbody tr th {\n",
       "        vertical-align: top;\n",
       "    }\n",
       "\n",
       "    .dataframe thead th {\n",
       "        text-align: right;\n",
       "    }\n",
       "</style>\n",
       "<table border=\"1\" class=\"dataframe\">\n",
       "  <thead>\n",
       "    <tr style=\"text-align: right;\">\n",
       "      <th></th>\n",
       "      <th>DEPARTURE_DELAY</th>\n",
       "      <th>LATE_AIRCRAFT_DELAY</th>\n",
       "      <th>dew_point</th>\n",
       "      <th>squall</th>\n",
       "      <th>temp</th>\n",
       "      <th>visibility</th>\n",
       "      <th>NUM_ARR_AVG_3HOUR</th>\n",
       "      <th>crosswind_comp</th>\n",
       "      <th>SCHEDULED_ARRIVAL_MONTH_sin</th>\n",
       "      <th>SCHEDULED_ARRIVAL_MONTH_cos</th>\n",
       "      <th>SCHEDULED_ARRIVAL_HOUR_sin</th>\n",
       "      <th>SCHEDULED_ARRIVAL_HOUR_cos</th>\n",
       "      <th>DELAY</th>\n",
       "    </tr>\n",
       "  </thead>\n",
       "  <tbody>\n",
       "    <tr>\n",
       "      <th>0</th>\n",
       "      <td>-0.366729</td>\n",
       "      <td>-0.200019</td>\n",
       "      <td>0.040071</td>\n",
       "      <td>-0.724109</td>\n",
       "      <td>0.809347</td>\n",
       "      <td>0.366635</td>\n",
       "      <td>0.821866</td>\n",
       "      <td>0.433515</td>\n",
       "      <td>0.580484</td>\n",
       "      <td>-1.122557</td>\n",
       "      <td>-1.069125</td>\n",
       "      <td>0.545816</td>\n",
       "      <td>0</td>\n",
       "    </tr>\n",
       "    <tr>\n",
       "      <th>1</th>\n",
       "      <td>-0.366729</td>\n",
       "      <td>-0.200019</td>\n",
       "      <td>0.876290</td>\n",
       "      <td>1.381008</td>\n",
       "      <td>0.809347</td>\n",
       "      <td>0.366635</td>\n",
       "      <td>-0.271767</td>\n",
       "      <td>-1.108409</td>\n",
       "      <td>-1.400841</td>\n",
       "      <td>-0.610330</td>\n",
       "      <td>1.039344</td>\n",
       "      <td>-1.119966</td>\n",
       "      <td>0</td>\n",
       "    </tr>\n",
       "    <tr>\n",
       "      <th>2</th>\n",
       "      <td>1.438444</td>\n",
       "      <td>-0.200019</td>\n",
       "      <td>-0.796147</td>\n",
       "      <td>-0.724109</td>\n",
       "      <td>-1.069316</td>\n",
       "      <td>0.366635</td>\n",
       "      <td>-0.140531</td>\n",
       "      <td>-0.148886</td>\n",
       "      <td>0.580484</td>\n",
       "      <td>1.301324</td>\n",
       "      <td>-0.999508</td>\n",
       "      <td>-0.205142</td>\n",
       "      <td>1</td>\n",
       "    </tr>\n",
       "    <tr>\n",
       "      <th>3</th>\n",
       "      <td>1.562086</td>\n",
       "      <td>-0.200019</td>\n",
       "      <td>0.876290</td>\n",
       "      <td>-0.724109</td>\n",
       "      <td>1.140876</td>\n",
       "      <td>0.366635</td>\n",
       "      <td>0.450031</td>\n",
       "      <td>0.247536</td>\n",
       "      <td>-0.869946</td>\n",
       "      <td>-1.122557</td>\n",
       "      <td>-1.069125</td>\n",
       "      <td>0.545816</td>\n",
       "      <td>1</td>\n",
       "    </tr>\n",
       "    <tr>\n",
       "      <th>4</th>\n",
       "      <td>-0.218358</td>\n",
       "      <td>-0.200019</td>\n",
       "      <td>0.690463</td>\n",
       "      <td>-0.724109</td>\n",
       "      <td>0.477818</td>\n",
       "      <td>0.366635</td>\n",
       "      <td>-0.271767</td>\n",
       "      <td>0.090995</td>\n",
       "      <td>0.580484</td>\n",
       "      <td>-1.122557</td>\n",
       "      <td>1.039344</td>\n",
       "      <td>-1.119966</td>\n",
       "      <td>0</td>\n",
       "    </tr>\n",
       "  </tbody>\n",
       "</table>\n",
       "</div>"
      ],
      "text/plain": [
       "   DEPARTURE_DELAY  LATE_AIRCRAFT_DELAY  dew_point    squall      temp  \\\n",
       "0        -0.366729            -0.200019   0.040071 -0.724109  0.809347   \n",
       "1        -0.366729            -0.200019   0.876290  1.381008  0.809347   \n",
       "2         1.438444            -0.200019  -0.796147 -0.724109 -1.069316   \n",
       "3         1.562086            -0.200019   0.876290 -0.724109  1.140876   \n",
       "4        -0.218358            -0.200019   0.690463 -0.724109  0.477818   \n",
       "\n",
       "   visibility  NUM_ARR_AVG_3HOUR  crosswind_comp  SCHEDULED_ARRIVAL_MONTH_sin  \\\n",
       "0    0.366635           0.821866        0.433515                     0.580484   \n",
       "1    0.366635          -0.271767       -1.108409                    -1.400841   \n",
       "2    0.366635          -0.140531       -0.148886                     0.580484   \n",
       "3    0.366635           0.450031        0.247536                    -0.869946   \n",
       "4    0.366635          -0.271767        0.090995                     0.580484   \n",
       "\n",
       "   SCHEDULED_ARRIVAL_MONTH_cos  SCHEDULED_ARRIVAL_HOUR_sin  \\\n",
       "0                    -1.122557                   -1.069125   \n",
       "1                    -0.610330                    1.039344   \n",
       "2                     1.301324                   -0.999508   \n",
       "3                    -1.122557                   -1.069125   \n",
       "4                    -1.122557                    1.039344   \n",
       "\n",
       "   SCHEDULED_ARRIVAL_HOUR_cos  DELAY  \n",
       "0                    0.545816      0  \n",
       "1                   -1.119966      0  \n",
       "2                   -0.205142      1  \n",
       "3                    0.545816      1  \n",
       "4                   -1.119966      0  "
      ]
     },
     "execution_count": 3,
     "metadata": {},
     "output_type": "execute_result"
    }
   ],
   "source": [
    "pd.set_option('display.max_columns', 100)\n",
    "df.head()"
   ]
  },
  {
   "cell_type": "code",
   "execution_count": 4,
   "metadata": {
    "scrolled": true
   },
   "outputs": [
    {
     "data": {
      "text/html": [
       "<div>\n",
       "<style scoped>\n",
       "    .dataframe tbody tr th:only-of-type {\n",
       "        vertical-align: middle;\n",
       "    }\n",
       "\n",
       "    .dataframe tbody tr th {\n",
       "        vertical-align: top;\n",
       "    }\n",
       "\n",
       "    .dataframe thead th {\n",
       "        text-align: right;\n",
       "    }\n",
       "</style>\n",
       "<table border=\"1\" class=\"dataframe\">\n",
       "  <thead>\n",
       "    <tr style=\"text-align: right;\">\n",
       "      <th></th>\n",
       "      <th>DEPARTURE_DELAY</th>\n",
       "      <th>LATE_AIRCRAFT_DELAY</th>\n",
       "      <th>dew_point</th>\n",
       "      <th>squall</th>\n",
       "      <th>temp</th>\n",
       "      <th>visibility</th>\n",
       "      <th>NUM_ARR_AVG_3HOUR</th>\n",
       "      <th>crosswind_comp</th>\n",
       "      <th>SCHEDULED_ARRIVAL_MONTH_sin</th>\n",
       "      <th>SCHEDULED_ARRIVAL_MONTH_cos</th>\n",
       "      <th>SCHEDULED_ARRIVAL_HOUR_sin</th>\n",
       "      <th>SCHEDULED_ARRIVAL_HOUR_cos</th>\n",
       "      <th>DELAY</th>\n",
       "    </tr>\n",
       "  </thead>\n",
       "  <tbody>\n",
       "    <tr>\n",
       "      <th>0</th>\n",
       "      <td>-0.292544</td>\n",
       "      <td>-0.200019</td>\n",
       "      <td>0.690463</td>\n",
       "      <td>-0.724109</td>\n",
       "      <td>0.698838</td>\n",
       "      <td>0.366635</td>\n",
       "      <td>0.362540</td>\n",
       "      <td>0.457301</td>\n",
       "      <td>-0.869946</td>\n",
       "      <td>-1.122557</td>\n",
       "      <td>-1.104261</td>\n",
       "      <td>0.166807</td>\n",
       "      <td>0</td>\n",
       "    </tr>\n",
       "    <tr>\n",
       "      <th>1</th>\n",
       "      <td>-0.366729</td>\n",
       "      <td>-0.200019</td>\n",
       "      <td>0.969203</td>\n",
       "      <td>1.381008</td>\n",
       "      <td>0.809347</td>\n",
       "      <td>0.366635</td>\n",
       "      <td>0.340667</td>\n",
       "      <td>-0.388767</td>\n",
       "      <td>-1.595161</td>\n",
       "      <td>0.089384</td>\n",
       "      <td>0.524477</td>\n",
       "      <td>-1.119966</td>\n",
       "      <td>0</td>\n",
       "    </tr>\n",
       "    <tr>\n",
       "      <th>2</th>\n",
       "      <td>-0.292544</td>\n",
       "      <td>-0.200019</td>\n",
       "      <td>4.035337</td>\n",
       "      <td>-0.724109</td>\n",
       "      <td>-0.406258</td>\n",
       "      <td>0.366635</td>\n",
       "      <td>-0.118658</td>\n",
       "      <td>-1.108409</td>\n",
       "      <td>1.111378</td>\n",
       "      <td>-0.610330</td>\n",
       "      <td>1.039344</td>\n",
       "      <td>-1.119966</td>\n",
       "      <td>0</td>\n",
       "    </tr>\n",
       "    <tr>\n",
       "      <th>3</th>\n",
       "      <td>-0.243087</td>\n",
       "      <td>-0.200019</td>\n",
       "      <td>0.318811</td>\n",
       "      <td>-0.724109</td>\n",
       "      <td>0.477818</td>\n",
       "      <td>0.366635</td>\n",
       "      <td>0.931229</td>\n",
       "      <td>0.927014</td>\n",
       "      <td>0.580484</td>\n",
       "      <td>-1.122557</td>\n",
       "      <td>-0.762635</td>\n",
       "      <td>-0.542444</td>\n",
       "      <td>0</td>\n",
       "    </tr>\n",
       "    <tr>\n",
       "      <th>4</th>\n",
       "      <td>-0.342000</td>\n",
       "      <td>-0.200019</td>\n",
       "      <td>0.876290</td>\n",
       "      <td>-0.724109</td>\n",
       "      <td>0.698838</td>\n",
       "      <td>0.366635</td>\n",
       "      <td>1.346810</td>\n",
       "      <td>-0.890902</td>\n",
       "      <td>-0.869946</td>\n",
       "      <td>-1.122557</td>\n",
       "      <td>-0.762635</td>\n",
       "      <td>-0.542444</td>\n",
       "      <td>0</td>\n",
       "    </tr>\n",
       "  </tbody>\n",
       "</table>\n",
       "</div>"
      ],
      "text/plain": [
       "   DEPARTURE_DELAY  LATE_AIRCRAFT_DELAY  dew_point    squall      temp  \\\n",
       "0        -0.292544            -0.200019   0.690463 -0.724109  0.698838   \n",
       "1        -0.366729            -0.200019   0.969203  1.381008  0.809347   \n",
       "2        -0.292544            -0.200019   4.035337 -0.724109 -0.406258   \n",
       "3        -0.243087            -0.200019   0.318811 -0.724109  0.477818   \n",
       "4        -0.342000            -0.200019   0.876290 -0.724109  0.698838   \n",
       "\n",
       "   visibility  NUM_ARR_AVG_3HOUR  crosswind_comp  SCHEDULED_ARRIVAL_MONTH_sin  \\\n",
       "0    0.366635           0.362540        0.457301                    -0.869946   \n",
       "1    0.366635           0.340667       -0.388767                    -1.595161   \n",
       "2    0.366635          -0.118658       -1.108409                     1.111378   \n",
       "3    0.366635           0.931229        0.927014                     0.580484   \n",
       "4    0.366635           1.346810       -0.890902                    -0.869946   \n",
       "\n",
       "   SCHEDULED_ARRIVAL_MONTH_cos  SCHEDULED_ARRIVAL_HOUR_sin  \\\n",
       "0                    -1.122557                   -1.104261   \n",
       "1                     0.089384                    0.524477   \n",
       "2                    -0.610330                    1.039344   \n",
       "3                    -1.122557                   -0.762635   \n",
       "4                    -1.122557                   -0.762635   \n",
       "\n",
       "   SCHEDULED_ARRIVAL_HOUR_cos  DELAY  \n",
       "0                    0.166807      0  \n",
       "1                   -1.119966      0  \n",
       "2                   -1.119966      0  \n",
       "3                   -0.542444      0  \n",
       "4                   -0.542444      0  "
      ]
     },
     "execution_count": 4,
     "metadata": {},
     "output_type": "execute_result"
    }
   ],
   "source": [
    "df_test.head()"
   ]
  },
  {
   "cell_type": "markdown",
   "metadata": {},
   "source": [
    "---\n",
    "### (2) Setting X_train, X_test, y_train & y_test\n",
    "\n",
    "---"
   ]
  },
  {
   "cell_type": "code",
   "execution_count": 5,
   "metadata": {},
   "outputs": [],
   "source": [
    "X_train = df.drop('DELAY', axis=1)\n",
    "y_train = df['DELAY']\n",
    "X_test = df_test.drop('DELAY', axis=1)\n",
    "y_test = df_test['DELAY']"
   ]
  },
  {
   "cell_type": "code",
   "execution_count": 6,
   "metadata": {},
   "outputs": [
    {
     "data": {
      "text/plain": [
       "(18140, 12)"
      ]
     },
     "execution_count": 6,
     "metadata": {},
     "output_type": "execute_result"
    }
   ],
   "source": [
    "X_train.shape"
   ]
  },
  {
   "cell_type": "code",
   "execution_count": 7,
   "metadata": {},
   "outputs": [
    {
     "data": {
      "text/plain": [
       "(1387, 12)"
      ]
     },
     "execution_count": 7,
     "metadata": {},
     "output_type": "execute_result"
    }
   ],
   "source": [
    "X_test.shape"
   ]
  },
  {
   "cell_type": "code",
   "execution_count": 8,
   "metadata": {},
   "outputs": [
    {
     "data": {
      "text/plain": [
       "Index(['DEPARTURE_DELAY', 'LATE_AIRCRAFT_DELAY', 'dew_point', 'squall', 'temp',\n",
       "       'visibility', 'NUM_ARR_AVG_3HOUR', 'crosswind_comp',\n",
       "       'SCHEDULED_ARRIVAL_MONTH_sin', 'SCHEDULED_ARRIVAL_MONTH_cos',\n",
       "       'SCHEDULED_ARRIVAL_HOUR_sin', 'SCHEDULED_ARRIVAL_HOUR_cos'],\n",
       "      dtype='object')"
      ]
     },
     "execution_count": 8,
     "metadata": {},
     "output_type": "execute_result"
    }
   ],
   "source": [
    "X_train.columns"
   ]
  },
  {
   "cell_type": "code",
   "execution_count": 9,
   "metadata": {},
   "outputs": [
    {
     "data": {
      "text/plain": [
       "12"
      ]
     },
     "execution_count": 9,
     "metadata": {},
     "output_type": "execute_result"
    }
   ],
   "source": [
    "len(X_train.columns)"
   ]
  },
  {
   "cell_type": "markdown",
   "metadata": {},
   "source": [
    "---\n",
    "### (3) Model (I): Logistic Regression\n",
    "\n",
    "---"
   ]
  },
  {
   "cell_type": "code",
   "execution_count": 10,
   "metadata": {},
   "outputs": [
    {
     "data": {
      "text/plain": [
       "LogisticRegression(C=1.0, class_weight=None, dual=False, fit_intercept=True,\n",
       "                   intercept_scaling=1, l1_ratio=None, max_iter=1000,\n",
       "                   multi_class='auto', n_jobs=None, penalty='l2',\n",
       "                   random_state=None, solver='lbfgs', tol=0.0001, verbose=0,\n",
       "                   warm_start=False)"
      ]
     },
     "execution_count": 10,
     "metadata": {},
     "output_type": "execute_result"
    }
   ],
   "source": [
    "lr = LogisticRegression(max_iter=1000)\n",
    "lr.fit(X_train, y_train)"
   ]
  },
  {
   "cell_type": "code",
   "execution_count": 11,
   "metadata": {},
   "outputs": [
    {
     "data": {
      "text/plain": [
       "0.8767916207276736"
      ]
     },
     "execution_count": 11,
     "metadata": {},
     "output_type": "execute_result"
    }
   ],
   "source": [
    "cross_val_score(lr, X_train, y_train).mean()"
   ]
  },
  {
   "cell_type": "code",
   "execution_count": 13,
   "metadata": {},
   "outputs": [
    {
     "data": {
      "text/plain": [
       "0.8781542898341744"
      ]
     },
     "execution_count": 13,
     "metadata": {},
     "output_type": "execute_result"
    }
   ],
   "source": [
    "lr.score(X_test, y_test)"
   ]
  },
  {
   "cell_type": "code",
   "execution_count": 15,
   "metadata": {
    "scrolled": true
   },
   "outputs": [
    {
     "name": "stdout",
     "output_type": "stream",
     "text": [
      "               precision    recall  f1-score   support\n",
      "\n",
      "      <15mins       0.96      0.92      0.94      1135\n",
      "15mins to 1hr       0.50      0.63      0.56       163\n",
      "    1 to 3hrs       0.67      0.74      0.70        72\n",
      "        >3hrs       0.77      1.00      0.87        17\n",
      "\n",
      "     accuracy                           0.88      1387\n",
      "    macro avg       0.73      0.82      0.77      1387\n",
      " weighted avg       0.89      0.88      0.88      1387\n",
      "\n"
     ]
    }
   ],
   "source": [
    "target_names = ['<15mins', '15mins to 1hr', '1 to 3hrs', '>3hrs']\n",
    "print(classification_report(y_test, lr.predict(X_test),target_names=target_names))"
   ]
  },
  {
   "cell_type": "code",
   "execution_count": 20,
   "metadata": {},
   "outputs": [],
   "source": [
    "# Exporting model\n",
    "\n",
    "# lr_filename = '../models/classification_logreg_model.sav'\n",
    "# pickle.dump(lr, open(lr_filename, 'wb'))"
   ]
  },
  {
   "cell_type": "markdown",
   "metadata": {},
   "source": [
    "---\n",
    "### (4) Model (II): RandomForest\n",
    "\n",
    "---"
   ]
  },
  {
   "cell_type": "code",
   "execution_count": 21,
   "metadata": {},
   "outputs": [],
   "source": [
    "rf = RandomForestClassifier()"
   ]
  },
  {
   "cell_type": "code",
   "execution_count": 22,
   "metadata": {},
   "outputs": [],
   "source": [
    "rf_params = {\n",
    "  \"n_estimators\":[50,100,200],\n",
    "  \"min_samples_split\":[10,20,30],\n",
    "  \"max_depth\":[10,15]\n",
    "}\n",
    "\n",
    "rf_cv = RandomizedSearchCV(rf, param_distributions=rf_params, scoring='f1_micro', n_iter=2, n_jobs=4, verbose=2)"
   ]
  },
  {
   "cell_type": "code",
   "execution_count": 23,
   "metadata": {},
   "outputs": [
    {
     "name": "stdout",
     "output_type": "stream",
     "text": [
      "Fitting 5 folds for each of 2 candidates, totalling 10 fits\n"
     ]
    },
    {
     "name": "stderr",
     "output_type": "stream",
     "text": [
      "[Parallel(n_jobs=4)]: Using backend LokyBackend with 4 concurrent workers.\n",
      "[Parallel(n_jobs=4)]: Done  10 out of  10 | elapsed:   12.9s finished\n"
     ]
    },
    {
     "data": {
      "text/plain": [
       "RandomizedSearchCV(cv=None, error_score=nan,\n",
       "                   estimator=RandomForestClassifier(bootstrap=True,\n",
       "                                                    ccp_alpha=0.0,\n",
       "                                                    class_weight=None,\n",
       "                                                    criterion='gini',\n",
       "                                                    max_depth=None,\n",
       "                                                    max_features='auto',\n",
       "                                                    max_leaf_nodes=None,\n",
       "                                                    max_samples=None,\n",
       "                                                    min_impurity_decrease=0.0,\n",
       "                                                    min_impurity_split=None,\n",
       "                                                    min_samples_leaf=1,\n",
       "                                                    min_samples_split=2,\n",
       "                                                    min_weight_fraction_leaf=0.0,\n",
       "                                                    n_estimators=100,\n",
       "                                                    n_jobs=None,\n",
       "                                                    oob_score=False,\n",
       "                                                    random_state=None,\n",
       "                                                    verbose=0,\n",
       "                                                    warm_start=False),\n",
       "                   iid='deprecated', n_iter=2, n_jobs=4,\n",
       "                   param_distributions={'max_depth': [10, 15],\n",
       "                                        'min_samples_split': [10, 20, 30],\n",
       "                                        'n_estimators': [50, 100, 200]},\n",
       "                   pre_dispatch='2*n_jobs', random_state=None, refit=True,\n",
       "                   return_train_score=False, scoring='f1_micro', verbose=2)"
      ]
     },
     "execution_count": 23,
     "metadata": {},
     "output_type": "execute_result"
    }
   ],
   "source": [
    "rf_cv.fit(X_train, y_train)"
   ]
  },
  {
   "cell_type": "code",
   "execution_count": 24,
   "metadata": {},
   "outputs": [
    {
     "data": {
      "text/plain": [
       "{'n_estimators': 50, 'min_samples_split': 10, 'max_depth': 15}"
      ]
     },
     "execution_count": 24,
     "metadata": {},
     "output_type": "execute_result"
    }
   ],
   "source": [
    "rf_cv.best_params_"
   ]
  },
  {
   "cell_type": "code",
   "execution_count": 25,
   "metadata": {},
   "outputs": [],
   "source": [
    "opt_rf = RandomForestClassifier(n_estimators=100, min_samples_split=20, max_depth=15)"
   ]
  },
  {
   "cell_type": "code",
   "execution_count": 26,
   "metadata": {},
   "outputs": [
    {
     "data": {
      "text/plain": [
       "RandomForestClassifier(bootstrap=True, ccp_alpha=0.0, class_weight=None,\n",
       "                       criterion='gini', max_depth=15, max_features='auto',\n",
       "                       max_leaf_nodes=None, max_samples=None,\n",
       "                       min_impurity_decrease=0.0, min_impurity_split=None,\n",
       "                       min_samples_leaf=1, min_samples_split=20,\n",
       "                       min_weight_fraction_leaf=0.0, n_estimators=100,\n",
       "                       n_jobs=None, oob_score=False, random_state=None,\n",
       "                       verbose=0, warm_start=False)"
      ]
     },
     "execution_count": 26,
     "metadata": {},
     "output_type": "execute_result"
    }
   ],
   "source": [
    "opt_rf.fit(X_train, y_train)"
   ]
  },
  {
   "cell_type": "code",
   "execution_count": 27,
   "metadata": {},
   "outputs": [
    {
     "data": {
      "text/plain": [
       "0.9564498346196251"
      ]
     },
     "execution_count": 27,
     "metadata": {},
     "output_type": "execute_result"
    }
   ],
   "source": [
    "cross_val_score(opt_rf, X_train, y_train).mean()"
   ]
  },
  {
   "cell_type": "code",
   "execution_count": 28,
   "metadata": {},
   "outputs": [
    {
     "data": {
      "text/plain": [
       "0.9565093616082653"
      ]
     },
     "execution_count": 28,
     "metadata": {},
     "output_type": "execute_result"
    }
   ],
   "source": [
    "cross_val_score(opt_rf, X_train, y_train, scoring='f1_macro').mean()"
   ]
  },
  {
   "cell_type": "code",
   "execution_count": 29,
   "metadata": {},
   "outputs": [
    {
     "data": {
      "text/plain": [
       "0.9178082191780822"
      ]
     },
     "execution_count": 29,
     "metadata": {},
     "output_type": "execute_result"
    }
   ],
   "source": [
    "opt_rf.score(X_test, y_test)"
   ]
  },
  {
   "cell_type": "code",
   "execution_count": 31,
   "metadata": {
    "scrolled": true
   },
   "outputs": [
    {
     "name": "stdout",
     "output_type": "stream",
     "text": [
      "               precision    recall  f1-score   support\n",
      "\n",
      "      <15mins       0.96      0.97      0.96      1135\n",
      "15mins to 1hr       0.68      0.64      0.66       163\n",
      "    1 to 3hrs       0.79      0.74      0.76        72\n",
      "        >3hrs       0.81      1.00      0.89        17\n",
      "\n",
      "     accuracy                           0.92      1387\n",
      "    macro avg       0.81      0.84      0.82      1387\n",
      " weighted avg       0.92      0.92      0.92      1387\n",
      "\n"
     ]
    }
   ],
   "source": [
    "target_names = ['<15mins', '15mins to 1hr', '1 to 3hrs', '>3hrs']\n",
    "print(classification_report(y_test, opt_rf.predict(X_test),target_names=target_names))"
   ]
  },
  {
   "cell_type": "code",
   "execution_count": 35,
   "metadata": {},
   "outputs": [],
   "source": [
    "# Exporting model\n",
    "\n",
    "rf_filename = '../models/classification_rf_model_dfw.sav'\n",
    "pickle.dump(opt_rf, open(rf_filename, 'wb'))"
   ]
  },
  {
   "cell_type": "markdown",
   "metadata": {},
   "source": [
    "---\n",
    "### (5) Model (III): XGBoost\n",
    "\n",
    "---"
   ]
  },
  {
   "cell_type": "code",
   "execution_count": 36,
   "metadata": {},
   "outputs": [],
   "source": [
    "xgbc = xgb.XGBClassifier()"
   ]
  },
  {
   "cell_type": "code",
   "execution_count": 37,
   "metadata": {},
   "outputs": [],
   "source": [
    "xgbc_params = {\n",
    "  \"learning_rate\":[0.01, 0.1, 0.2, 0.3],\n",
    "  \"max_depth\":[3, 5, 10]\n",
    "}\n",
    "\n",
    "xgbc_cv = RandomizedSearchCV(xgbc, param_distributions=xgbc_params, scoring='f1_micro', n_iter=2, n_jobs=4, verbose=2)"
   ]
  },
  {
   "cell_type": "code",
   "execution_count": 38,
   "metadata": {},
   "outputs": [
    {
     "name": "stdout",
     "output_type": "stream",
     "text": [
      "Fitting 5 folds for each of 2 candidates, totalling 10 fits\n"
     ]
    },
    {
     "name": "stderr",
     "output_type": "stream",
     "text": [
      "[Parallel(n_jobs=4)]: Using backend LokyBackend with 4 concurrent workers.\n",
      "[Parallel(n_jobs=4)]: Done  10 out of  10 | elapsed:  1.1min finished\n"
     ]
    },
    {
     "data": {
      "text/plain": [
       "RandomizedSearchCV(cv=None, error_score=nan,\n",
       "                   estimator=XGBClassifier(base_score=0.5, booster='gbtree',\n",
       "                                           colsample_bylevel=1,\n",
       "                                           colsample_bynode=1,\n",
       "                                           colsample_bytree=1, gamma=0,\n",
       "                                           learning_rate=0.1, max_delta_step=0,\n",
       "                                           max_depth=3, min_child_weight=1,\n",
       "                                           missing=None, n_estimators=100,\n",
       "                                           n_jobs=1, nthread=None,\n",
       "                                           objective='binary:logistic',\n",
       "                                           random_state=0, reg_alpha=0,\n",
       "                                           reg_lambda=1, scale_pos_weight=1,\n",
       "                                           seed=None, silent=None, subsample=1,\n",
       "                                           verbosity=1),\n",
       "                   iid='deprecated', n_iter=2, n_jobs=4,\n",
       "                   param_distributions={'learning_rate': [0.01, 0.1, 0.2, 0.3],\n",
       "                                        'max_depth': [3, 5, 10]},\n",
       "                   pre_dispatch='2*n_jobs', random_state=None, refit=True,\n",
       "                   return_train_score=False, scoring='f1_micro', verbose=2)"
      ]
     },
     "execution_count": 38,
     "metadata": {},
     "output_type": "execute_result"
    }
   ],
   "source": [
    "xgbc_cv.fit(X_train, y_train)"
   ]
  },
  {
   "cell_type": "code",
   "execution_count": 39,
   "metadata": {},
   "outputs": [
    {
     "data": {
      "text/plain": [
       "{'max_depth': 10, 'learning_rate': 0.2}"
      ]
     },
     "execution_count": 39,
     "metadata": {},
     "output_type": "execute_result"
    }
   ],
   "source": [
    "xgbc_cv.best_params_"
   ]
  },
  {
   "cell_type": "code",
   "execution_count": 40,
   "metadata": {},
   "outputs": [],
   "source": [
    "opt_xgb = xgb.XGBClassifier(max_depth=3, learning_rate=0.2)"
   ]
  },
  {
   "cell_type": "code",
   "execution_count": 41,
   "metadata": {},
   "outputs": [
    {
     "data": {
      "text/plain": [
       "XGBClassifier(base_score=0.5, booster='gbtree', colsample_bylevel=1,\n",
       "              colsample_bynode=1, colsample_bytree=1, gamma=0,\n",
       "              learning_rate=0.2, max_delta_step=0, max_depth=3,\n",
       "              min_child_weight=1, missing=None, n_estimators=100, n_jobs=1,\n",
       "              nthread=None, objective='multi:softprob', random_state=0,\n",
       "              reg_alpha=0, reg_lambda=1, scale_pos_weight=1, seed=None,\n",
       "              silent=None, subsample=1, verbosity=1)"
      ]
     },
     "execution_count": 41,
     "metadata": {},
     "output_type": "execute_result"
    }
   ],
   "source": [
    "opt_xgb.fit(X_train, y_train)"
   ]
  },
  {
   "cell_type": "code",
   "execution_count": 42,
   "metadata": {
    "scrolled": true
   },
   "outputs": [
    {
     "data": {
      "text/plain": [
       "0.9443219404630652"
      ]
     },
     "execution_count": 42,
     "metadata": {},
     "output_type": "execute_result"
    }
   ],
   "source": [
    "cross_val_score(opt_xgb, X_train, y_train).mean()"
   ]
  },
  {
   "cell_type": "code",
   "execution_count": 44,
   "metadata": {
    "scrolled": true
   },
   "outputs": [
    {
     "data": {
      "text/plain": [
       "0.9170872386445565"
      ]
     },
     "execution_count": 44,
     "metadata": {},
     "output_type": "execute_result"
    }
   ],
   "source": [
    "opt_xgb.score(X_test, y_test)"
   ]
  },
  {
   "cell_type": "code",
   "execution_count": 46,
   "metadata": {
    "scrolled": true
   },
   "outputs": [
    {
     "name": "stdout",
     "output_type": "stream",
     "text": [
      "               precision    recall  f1-score   support\n",
      "\n",
      "      <15mins       0.96      0.97      0.96      1135\n",
      "15mins to 1hr       0.68      0.65      0.66       163\n",
      "    1 to 3hrs       0.80      0.74      0.77        72\n",
      "        >3hrs       0.81      1.00      0.89        17\n",
      "\n",
      "     accuracy                           0.92      1387\n",
      "    macro avg       0.81      0.84      0.82      1387\n",
      " weighted avg       0.92      0.92      0.92      1387\n",
      "\n"
     ]
    }
   ],
   "source": [
    "target_names = ['<15mins', '15mins to 1hr', '1 to 3hrs', '>3hrs']\n",
    "print(classification_report(y_test, opt_xgb.predict(X_test),target_names=target_names))"
   ]
  },
  {
   "cell_type": "code",
   "execution_count": 64,
   "metadata": {},
   "outputs": [],
   "source": [
    "# Exporting model\n",
    "\n",
    "# xgb_filename = '../models/classification_xgb_model.sav'\n",
    "# pickle.dump(opt_xgb, open(xgb_filename, 'wb'))"
   ]
  },
  {
   "cell_type": "markdown",
   "metadata": {},
   "source": [
    "---\n",
    "### (6) Model (IV): Neural Networks\n",
    "\n",
    "---"
   ]
  },
  {
   "cell_type": "code",
   "execution_count": 85,
   "metadata": {},
   "outputs": [],
   "source": [
    "from keras.utils import to_categorical"
   ]
  },
  {
   "cell_type": "code",
   "execution_count": 86,
   "metadata": {},
   "outputs": [],
   "source": [
    "y_train_enc = to_categorical(y_train)\n",
    "y_test_enc = to_categorical(y_test)"
   ]
  },
  {
   "cell_type": "code",
   "execution_count": 92,
   "metadata": {},
   "outputs": [],
   "source": [
    "model = Sequential()"
   ]
  },
  {
   "cell_type": "code",
   "execution_count": 93,
   "metadata": {},
   "outputs": [],
   "source": [
    "model.add(Dense(5, \n",
    "                input_dim=12, \n",
    "                activation='relu'))\n",
    "\n",
    "# Dropout did not help improve accuracy in this case\n",
    "# model.add(Dropout(0.5))\n",
    "\n",
    "model.add(Dense(5, \n",
    "                activation='relu'))\n",
    "\n",
    "model.add(Dense(4, \n",
    "                activation='softmax'))"
   ]
  },
  {
   "cell_type": "code",
   "execution_count": 94,
   "metadata": {},
   "outputs": [
    {
     "name": "stdout",
     "output_type": "stream",
     "text": [
      "Model: \"sequential_2\"\n",
      "_________________________________________________________________\n",
      "Layer (type)                 Output Shape              Param #   \n",
      "=================================================================\n",
      "dense_3 (Dense)              (None, 5)                 65        \n",
      "_________________________________________________________________\n",
      "dense_4 (Dense)              (None, 5)                 30        \n",
      "_________________________________________________________________\n",
      "dense_5 (Dense)              (None, 4)                 24        \n",
      "=================================================================\n",
      "Total params: 119\n",
      "Trainable params: 119\n",
      "Non-trainable params: 0\n",
      "_________________________________________________________________\n"
     ]
    }
   ],
   "source": [
    "model.summary()"
   ]
  },
  {
   "cell_type": "code",
   "execution_count": 95,
   "metadata": {},
   "outputs": [],
   "source": [
    "es = EarlyStopping(monitor='val_loss', patience=3)\n",
    "\n",
    "model.compile(optimizer='adam', loss='categorical_crossentropy', metrics=['accuracy'])"
   ]
  },
  {
   "cell_type": "code",
   "execution_count": 96,
   "metadata": {
    "scrolled": false
   },
   "outputs": [
    {
     "name": "stdout",
     "output_type": "stream",
     "text": [
      "Train on 14512 samples, validate on 3628 samples\n",
      "Epoch 1/200\n",
      "14512/14512 [==============================] - 3s 191us/step - loss: 0.9450 - accuracy: 0.6503 - val_loss: 1.8815 - val_accuracy: 0.0000e+00\n",
      "Epoch 2/200\n",
      "14512/14512 [==============================] - 3s 182us/step - loss: 0.6125 - accuracy: 0.7737 - val_loss: 1.4144 - val_accuracy: 0.0000e+00\n",
      "Epoch 3/200\n",
      "14512/14512 [==============================] - 3s 172us/step - loss: 0.4985 - accuracy: 0.7885 - val_loss: 0.9537 - val_accuracy: 0.0000e+00\n",
      "Epoch 4/200\n",
      "14512/14512 [==============================] - 3s 180us/step - loss: 0.4397 - accuracy: 0.8439 - val_loss: 0.6993 - val_accuracy: 0.7980\n",
      "Epoch 5/200\n",
      "14512/14512 [==============================] - 3s 183us/step - loss: 0.4038 - accuracy: 0.8554 - val_loss: 0.4043 - val_accuracy: 0.9457\n",
      "Epoch 6/200\n",
      "14512/14512 [==============================] - 2s 166us/step - loss: 0.3854 - accuracy: 0.8587 - val_loss: 0.3718 - val_accuracy: 0.9132\n",
      "Epoch 7/200\n",
      "14512/14512 [==============================] - 2s 166us/step - loss: 0.3747 - accuracy: 0.8592 - val_loss: 0.2806 - val_accuracy: 0.9394\n",
      "Epoch 8/200\n",
      "14512/14512 [==============================] - 2s 164us/step - loss: 0.3679 - accuracy: 0.8599 - val_loss: 0.2331 - val_accuracy: 0.9509\n",
      "Epoch 9/200\n",
      "14512/14512 [==============================] - 2s 164us/step - loss: 0.3630 - accuracy: 0.8628 - val_loss: 0.2364 - val_accuracy: 0.9476\n",
      "Epoch 10/200\n",
      "14512/14512 [==============================] - 2s 165us/step - loss: 0.3592 - accuracy: 0.8614 - val_loss: 0.2874 - val_accuracy: 0.9137\n",
      "Epoch 11/200\n",
      "14512/14512 [==============================] - 2s 163us/step - loss: 0.3559 - accuracy: 0.8618 - val_loss: 0.2087 - val_accuracy: 0.9518\n",
      "Epoch 12/200\n",
      "14512/14512 [==============================] - 2s 166us/step - loss: 0.3533 - accuracy: 0.8645 - val_loss: 0.2086 - val_accuracy: 0.9474\n",
      "Epoch 13/200\n",
      "14512/14512 [==============================] - 2s 166us/step - loss: 0.3509 - accuracy: 0.8643 - val_loss: 0.2067 - val_accuracy: 0.9507\n",
      "Epoch 14/200\n",
      "14512/14512 [==============================] - 2s 165us/step - loss: 0.3496 - accuracy: 0.8636 - val_loss: 0.1997 - val_accuracy: 0.9534\n",
      "Epoch 15/200\n",
      "14512/14512 [==============================] - 2s 166us/step - loss: 0.3480 - accuracy: 0.8640 - val_loss: 0.2313 - val_accuracy: 0.9303\n",
      "Epoch 16/200\n",
      "14512/14512 [==============================] - 2s 165us/step - loss: 0.3459 - accuracy: 0.8651 - val_loss: 0.1804 - val_accuracy: 0.9620\n",
      "Epoch 17/200\n",
      "14512/14512 [==============================] - 2s 170us/step - loss: 0.3451 - accuracy: 0.8648 - val_loss: 0.1769 - val_accuracy: 0.9636\n",
      "Epoch 18/200\n",
      "14512/14512 [==============================] - 2s 168us/step - loss: 0.3430 - accuracy: 0.8667 - val_loss: 0.2446 - val_accuracy: 0.9121\n",
      "Epoch 19/200\n",
      "14512/14512 [==============================] - 3s 180us/step - loss: 0.3434 - accuracy: 0.8666 - val_loss: 0.1482 - val_accuracy: 0.9678\n",
      "Epoch 20/200\n",
      "14512/14512 [==============================] - 3s 191us/step - loss: 0.3421 - accuracy: 0.8662 - val_loss: 0.1716 - val_accuracy: 0.9650\n",
      "Epoch 21/200\n",
      "14512/14512 [==============================] - 3s 179us/step - loss: 0.3412 - accuracy: 0.8671 - val_loss: 0.1559 - val_accuracy: 0.9672\n",
      "Epoch 22/200\n",
      "14512/14512 [==============================] - 3s 185us/step - loss: 0.3397 - accuracy: 0.8674 - val_loss: 0.1786 - val_accuracy: 0.9614\n"
     ]
    },
    {
     "data": {
      "text/plain": [
       "<keras.callbacks.callbacks.History at 0x2dec065c948>"
      ]
     },
     "execution_count": 96,
     "metadata": {},
     "output_type": "execute_result"
    }
   ],
   "source": [
    "model.fit(X_train, y_train_enc, batch_size=8, epochs=200, validation_split=0.2, callbacks=[es])"
   ]
  },
  {
   "cell_type": "code",
   "execution_count": 97,
   "metadata": {},
   "outputs": [
    {
     "name": "stdout",
     "output_type": "stream",
     "text": [
      "1387/1387 [==============================] - 0s 29us/step\n"
     ]
    },
    {
     "data": {
      "text/plain": [
       "[0.43439035551661453, 0.8529199957847595]"
      ]
     },
     "execution_count": 97,
     "metadata": {},
     "output_type": "execute_result"
    }
   ],
   "source": [
    "model.evaluate(X_test, y_test_enc)"
   ]
  },
  {
   "cell_type": "code",
   "execution_count": 98,
   "metadata": {
    "scrolled": true
   },
   "outputs": [
    {
     "name": "stdout",
     "output_type": "stream",
     "text": [
      "              precision    recall  f1-score   support\n",
      "\n",
      "        <1hr       0.97      0.88      0.92      1135\n",
      "   1 to 2hrs       0.44      0.69      0.54       163\n",
      "   2 to 3hrs       0.69      0.75      0.72        72\n",
      "       >3hrs       0.89      1.00      0.94        17\n",
      "\n",
      "    accuracy                           0.85      1387\n",
      "   macro avg       0.75      0.83      0.78      1387\n",
      "weighted avg       0.89      0.85      0.87      1387\n",
      "\n"
     ]
    }
   ],
   "source": [
    "y_nn_pred = model.predict(X_test).argmax(axis=-1)\n",
    "target_names = ['<1hr', '1 to 2hrs', '2 to 3hrs', '>3hrs']\n",
    "\n",
    "print(classification_report(y_test, y_nn_pred, target_names=target_names))"
   ]
  },
  {
   "cell_type": "code",
   "execution_count": 99,
   "metadata": {},
   "outputs": [],
   "source": [
    "# Exporting model\n",
    "\n",
    "# nn_filename = '../models/classification_nn_model.sav'\n",
    "# pickle.dump(model, open(nn_filename, 'wb'))"
   ]
  }
 ],
 "metadata": {
  "kernelspec": {
   "display_name": "Python 3",
   "language": "python",
   "name": "python3"
  },
  "language_info": {
   "codemirror_mode": {
    "name": "ipython",
    "version": 3
   },
   "file_extension": ".py",
   "mimetype": "text/x-python",
   "name": "python",
   "nbconvert_exporter": "python",
   "pygments_lexer": "ipython3",
   "version": "3.7.4"
  },
  "name": "Modeling (Classification) - airborne to destination",
  "notebookId": 2049533585937493
 },
 "nbformat": 4,
 "nbformat_minor": 1
}
