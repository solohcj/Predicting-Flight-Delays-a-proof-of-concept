{
 "cells": [
  {
   "cell_type": "markdown",
   "metadata": {},
   "source": [
    "**ORD Evaluation Metric (RF)**"
   ]
  },
  {
   "cell_type": "markdown",
   "metadata": {},
   "source": [
    "|                | precision | recall | f1-score |\n",
    "|:---------------|:----------|:-------|:---------|\n",
    "|        <15mins |     0.93  |   0.96 |    0.94  |\n",
    "|  15mins to 1hr |     0.64  |   0.52 |    0.57  |\n",
    "|      1 to 3hrs |     0.74  |   0.82 |    0.78  |\n",
    "|          >3hrs |     0.88  |   0.91 |    0.89  |\n",
    "|Overall Accuracy|||                         0.88|"
   ]
  },
  {
   "cell_type": "markdown",
   "metadata": {},
   "source": [
    "**LGA Evaluation Metric (RF)**"
   ]
  },
  {
   "cell_type": "markdown",
   "metadata": {},
   "source": [
    "|                | precision | recall | f1-score |\n",
    "|:---------------|:----------|:-------|:---------|\n",
    "|        <15mins |     0.94  |   0.98 |    0.96  |\n",
    "|  15mins to 1hr |     0.81  |   0.55 |    0.65  |\n",
    "|      1 to 3hrs |     0.78  |   0.78 |    0.78  |\n",
    "|          >3hrs |     0.76  |   0.88 |    0.81  |\n",
    "|Overall Accuracy|||                         0.91|"
   ]
  },
  {
   "cell_type": "markdown",
   "metadata": {},
   "source": [
    "**PHL Evaluation Metric (RF)**"
   ]
  },
  {
   "cell_type": "markdown",
   "metadata": {},
   "source": [
    "|                | precision | recall | f1-score |\n",
    "|:---------------|:----------|:-------|:---------|\n",
    "|        <15mins |     0.94  |   0.95 |    0.94  |\n",
    "|  15mins to 1hr |     0.61  |   0.51 |    0.56  |\n",
    "|      1 to 3hrs |     0.73  |   0.80 |    0.76  |\n",
    "|          >3hrs |     0.86  |   0.86 |    0.86  |\n",
    "|Overall Accuracy|||                         0.89|"
   ]
  },
  {
   "cell_type": "markdown",
   "metadata": {},
   "source": [
    "**DFW Evaluation Metric (RF)**"
   ]
  },
  {
   "cell_type": "markdown",
   "metadata": {},
   "source": [
    "|                | precision | recall | f1-score |\n",
    "|:---------------|:----------|:-------|:---------|\n",
    "|        <15mins |     0.96  |   0.97 |    0.96  |\n",
    "|  15mins to 1hr |     0.67  |   0.64 |    0.65  |\n",
    "|      1 to 3hrs |     0.79  |   0.76 |    0.77  |\n",
    "|          >3hrs |     0.89  |   1.00 |    0.94  |\n",
    "|Overall Accuracy|||                         0.92|"
   ]
  },
  {
   "cell_type": "markdown",
   "metadata": {},
   "source": [
    "**MCO Evaluation Metric (RF)**"
   ]
  },
  {
   "cell_type": "markdown",
   "metadata": {},
   "source": [
    "|                | precision | recall | f1-score |\n",
    "|:---------------|:----------|:-------|:---------|\n",
    "|        <15mins |     0.97  |   0.99 |    0.98  |\n",
    "|  15mins to 1hr |     0.77  |   0.70 |    0.73  |\n",
    "|      1 to 3hrs |     0.85  |   0.76 |    0.80  |\n",
    "|          >3hrs |     1.00  |   1.00 |    1.00  |\n",
    "|Overall Accuracy|||                         0.95|"
   ]
  },
  {
   "cell_type": "markdown",
   "metadata": {},
   "source": [
    "Did some brief evaluation of individual model performances (tendency to underestimate?)"
   ]
  }
 ],
 "metadata": {
  "kernelspec": {
   "display_name": "Python 3",
   "language": "python",
   "name": "python3"
  },
  "language_info": {
   "codemirror_mode": {
    "name": "ipython",
    "version": 3
   },
   "file_extension": ".py",
   "mimetype": "text/x-python",
   "name": "python",
   "nbconvert_exporter": "python",
   "pygments_lexer": "ipython3",
   "version": "3.7.4"
  }
 },
 "nbformat": 4,
 "nbformat_minor": 2
}
