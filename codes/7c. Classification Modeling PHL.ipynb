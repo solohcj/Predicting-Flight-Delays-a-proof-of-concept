{
 "cells": [
  {
   "cell_type": "markdown",
   "metadata": {},
   "source": [
    "<img src=\"../images/airplane-symbol.jpg\" style=\"float: left; margin: 20px;\" width=\"50\" height=\"50\"> \n",
    "#  Predicting Flight Delays (<i>a Proof-of-Concept</i>)\n",
    "\n",
    "Author: Solomon Heng\n",
    "\n",
    "---"
   ]
  },
  {
   "cell_type": "markdown",
   "metadata": {},
   "source": [
    "# 7c. Classification Modeling PHL\n",
    "\n",
    "## Processes covered in this notebook:\n",
    "1. [Importing dataset](#(1)-Importing-dataset)\n",
    "2. [Setting X_train, X_test, y_train & y_test](#(2)-Setting-X_train,-X_test,-y_train-&-y_test)\n",
    "3. [Model (I): Logistic Regression](#(3)-Model-(I):-Logistic-Regression)\n",
    "4. [Model (II): RandomForest](#(4)-Model-(II):-RandomForest)\n",
    "5. [Model (III): XGBoost](#(5)-Model-(III):-XGBoost)\n",
    "6. [Model (IV): Neural Networks](#(6)-Model-(IV):-Neural-Networks)"
   ]
  },
  {
   "cell_type": "code",
   "execution_count": 1,
   "metadata": {
    "scrolled": true
   },
   "outputs": [
    {
     "name": "stderr",
     "output_type": "stream",
     "text": [
      "Using TensorFlow backend.\n"
     ]
    }
   ],
   "source": [
    "import pandas as pd\n",
    "import numpy as np\n",
    "import matplotlib.pyplot as plt\n",
    "import seaborn as sns\n",
    "\n",
    "from sklearn.preprocessing import StandardScaler\n",
    "from sklearn.linear_model import LogisticRegression\n",
    "from sklearn.model_selection import train_test_split, cross_val_score, RandomizedSearchCV\n",
    "from sklearn.metrics import confusion_matrix, roc_auc_score, classification_report\n",
    "from sklearn.ensemble import RandomForestClassifier\n",
    "\n",
    "from keras.models import Sequential\n",
    "from keras.layers import Dense, Dropout\n",
    "from keras.callbacks import EarlyStopping\n",
    "from keras import backend as K\n",
    "\n",
    "import xgboost as xgb\n",
    "\n",
    "import pickle\n",
    "\n",
    "sns.set()"
   ]
  },
  {
   "cell_type": "markdown",
   "metadata": {},
   "source": [
    "---\n",
    "### (1) Importing dataset\n",
    "\n",
    "---"
   ]
  },
  {
   "cell_type": "code",
   "execution_count": 2,
   "metadata": {},
   "outputs": [],
   "source": [
    "df = pd.read_csv('../datasets/combined_data_class_phl.csv')\n",
    "df_test = pd.read_csv('../datasets/combined_data_class_test_phl.csv')"
   ]
  },
  {
   "cell_type": "code",
   "execution_count": 3,
   "metadata": {
    "scrolled": false
   },
   "outputs": [
    {
     "data": {
      "text/html": [
       "<div>\n",
       "<style scoped>\n",
       "    .dataframe tbody tr th:only-of-type {\n",
       "        vertical-align: middle;\n",
       "    }\n",
       "\n",
       "    .dataframe tbody tr th {\n",
       "        vertical-align: top;\n",
       "    }\n",
       "\n",
       "    .dataframe thead th {\n",
       "        text-align: right;\n",
       "    }\n",
       "</style>\n",
       "<table border=\"1\" class=\"dataframe\">\n",
       "  <thead>\n",
       "    <tr style=\"text-align: right;\">\n",
       "      <th></th>\n",
       "      <th>DEPARTURE_DELAY</th>\n",
       "      <th>LATE_AIRCRAFT_DELAY</th>\n",
       "      <th>QNH</th>\n",
       "      <th>dew_point</th>\n",
       "      <th>temp</th>\n",
       "      <th>visibility</th>\n",
       "      <th>NUM_ARR_AVG_3HOUR</th>\n",
       "      <th>SCHEDULED_ARRIVAL_HOUR_sin</th>\n",
       "      <th>SCHEDULED_ARRIVAL_HOUR_cos</th>\n",
       "      <th>AIRLINE_CODE_DL</th>\n",
       "      <th>AIRLINE_CODE_F9</th>\n",
       "      <th>AIRLINE_CODE_NK</th>\n",
       "      <th>AIRLINE_CODE_US</th>\n",
       "      <th>AIRLINE_CODE_WN</th>\n",
       "      <th>DELAY</th>\n",
       "    </tr>\n",
       "  </thead>\n",
       "  <tbody>\n",
       "    <tr>\n",
       "      <th>0</th>\n",
       "      <td>-0.360432</td>\n",
       "      <td>-0.229425</td>\n",
       "      <td>-0.811446</td>\n",
       "      <td>-0.020557</td>\n",
       "      <td>-0.157680</td>\n",
       "      <td>0.354861</td>\n",
       "      <td>0.027284</td>\n",
       "      <td>-1.052649</td>\n",
       "      <td>-0.190386</td>\n",
       "      <td>-1.081797</td>\n",
       "      <td>-0.197911</td>\n",
       "      <td>-0.165112</td>\n",
       "      <td>-0.387541</td>\n",
       "      <td>-0.403795</td>\n",
       "      <td>0</td>\n",
       "    </tr>\n",
       "    <tr>\n",
       "      <th>1</th>\n",
       "      <td>1.679034</td>\n",
       "      <td>2.445886</td>\n",
       "      <td>-0.285887</td>\n",
       "      <td>0.654788</td>\n",
       "      <td>0.640921</td>\n",
       "      <td>0.354861</td>\n",
       "      <td>-3.223399</td>\n",
       "      <td>0.483358</td>\n",
       "      <td>1.706147</td>\n",
       "      <td>-1.081797</td>\n",
       "      <td>5.052783</td>\n",
       "      <td>-0.165112</td>\n",
       "      <td>-0.387541</td>\n",
       "      <td>-0.403795</td>\n",
       "      <td>2</td>\n",
       "    </tr>\n",
       "    <tr>\n",
       "      <th>2</th>\n",
       "      <td>-0.406783</td>\n",
       "      <td>-0.229425</td>\n",
       "      <td>0.239673</td>\n",
       "      <td>0.847744</td>\n",
       "      <td>0.869092</td>\n",
       "      <td>0.354861</td>\n",
       "      <td>0.230452</td>\n",
       "      <td>-1.142971</td>\n",
       "      <td>0.188440</td>\n",
       "      <td>0.924388</td>\n",
       "      <td>-0.197911</td>\n",
       "      <td>-0.165112</td>\n",
       "      <td>-0.387541</td>\n",
       "      <td>-0.403795</td>\n",
       "      <td>1</td>\n",
       "    </tr>\n",
       "    <tr>\n",
       "      <th>3</th>\n",
       "      <td>-0.383608</td>\n",
       "      <td>-0.229425</td>\n",
       "      <td>-0.285887</td>\n",
       "      <td>0.558310</td>\n",
       "      <td>0.526835</td>\n",
       "      <td>0.354861</td>\n",
       "      <td>0.749658</td>\n",
       "      <td>1.512112</td>\n",
       "      <td>-0.816698</td>\n",
       "      <td>-1.081797</td>\n",
       "      <td>-0.197911</td>\n",
       "      <td>6.056497</td>\n",
       "      <td>-0.387541</td>\n",
       "      <td>-0.403795</td>\n",
       "      <td>0</td>\n",
       "    </tr>\n",
       "    <tr>\n",
       "      <th>4</th>\n",
       "      <td>-0.290905</td>\n",
       "      <td>-0.229425</td>\n",
       "      <td>1.487877</td>\n",
       "      <td>-0.985336</td>\n",
       "      <td>-1.070366</td>\n",
       "      <td>0.354861</td>\n",
       "      <td>-0.130735</td>\n",
       "      <td>-1.052649</td>\n",
       "      <td>-0.190386</td>\n",
       "      <td>0.924388</td>\n",
       "      <td>-0.197911</td>\n",
       "      <td>-0.165112</td>\n",
       "      <td>-0.387541</td>\n",
       "      <td>-0.403795</td>\n",
       "      <td>0</td>\n",
       "    </tr>\n",
       "  </tbody>\n",
       "</table>\n",
       "</div>"
      ],
      "text/plain": [
       "   DEPARTURE_DELAY  LATE_AIRCRAFT_DELAY       QNH  dew_point      temp  \\\n",
       "0        -0.360432            -0.229425 -0.811446  -0.020557 -0.157680   \n",
       "1         1.679034             2.445886 -0.285887   0.654788  0.640921   \n",
       "2        -0.406783            -0.229425  0.239673   0.847744  0.869092   \n",
       "3        -0.383608            -0.229425 -0.285887   0.558310  0.526835   \n",
       "4        -0.290905            -0.229425  1.487877  -0.985336 -1.070366   \n",
       "\n",
       "   visibility  NUM_ARR_AVG_3HOUR  SCHEDULED_ARRIVAL_HOUR_sin  \\\n",
       "0    0.354861           0.027284                   -1.052649   \n",
       "1    0.354861          -3.223399                    0.483358   \n",
       "2    0.354861           0.230452                   -1.142971   \n",
       "3    0.354861           0.749658                    1.512112   \n",
       "4    0.354861          -0.130735                   -1.052649   \n",
       "\n",
       "   SCHEDULED_ARRIVAL_HOUR_cos  AIRLINE_CODE_DL  AIRLINE_CODE_F9  \\\n",
       "0                   -0.190386        -1.081797        -0.197911   \n",
       "1                    1.706147        -1.081797         5.052783   \n",
       "2                    0.188440         0.924388        -0.197911   \n",
       "3                   -0.816698        -1.081797        -0.197911   \n",
       "4                   -0.190386         0.924388        -0.197911   \n",
       "\n",
       "   AIRLINE_CODE_NK  AIRLINE_CODE_US  AIRLINE_CODE_WN  DELAY  \n",
       "0        -0.165112        -0.387541        -0.403795      0  \n",
       "1        -0.165112        -0.387541        -0.403795      2  \n",
       "2        -0.165112        -0.387541        -0.403795      1  \n",
       "3         6.056497        -0.387541        -0.403795      0  \n",
       "4        -0.165112        -0.387541        -0.403795      0  "
      ]
     },
     "execution_count": 3,
     "metadata": {},
     "output_type": "execute_result"
    }
   ],
   "source": [
    "pd.set_option('display.max_columns', 100)\n",
    "df.head()"
   ]
  },
  {
   "cell_type": "code",
   "execution_count": 4,
   "metadata": {
    "scrolled": true
   },
   "outputs": [
    {
     "data": {
      "text/html": [
       "<div>\n",
       "<style scoped>\n",
       "    .dataframe tbody tr th:only-of-type {\n",
       "        vertical-align: middle;\n",
       "    }\n",
       "\n",
       "    .dataframe tbody tr th {\n",
       "        vertical-align: top;\n",
       "    }\n",
       "\n",
       "    .dataframe thead th {\n",
       "        text-align: right;\n",
       "    }\n",
       "</style>\n",
       "<table border=\"1\" class=\"dataframe\">\n",
       "  <thead>\n",
       "    <tr style=\"text-align: right;\">\n",
       "      <th></th>\n",
       "      <th>DEPARTURE_DELAY</th>\n",
       "      <th>LATE_AIRCRAFT_DELAY</th>\n",
       "      <th>QNH</th>\n",
       "      <th>dew_point</th>\n",
       "      <th>temp</th>\n",
       "      <th>visibility</th>\n",
       "      <th>NUM_ARR_AVG_3HOUR</th>\n",
       "      <th>SCHEDULED_ARRIVAL_HOUR_sin</th>\n",
       "      <th>SCHEDULED_ARRIVAL_HOUR_cos</th>\n",
       "      <th>AIRLINE_CODE_DL</th>\n",
       "      <th>AIRLINE_CODE_F9</th>\n",
       "      <th>AIRLINE_CODE_NK</th>\n",
       "      <th>AIRLINE_CODE_US</th>\n",
       "      <th>AIRLINE_CODE_WN</th>\n",
       "      <th>DELAY</th>\n",
       "    </tr>\n",
       "  </thead>\n",
       "  <tbody>\n",
       "    <tr>\n",
       "      <th>0</th>\n",
       "      <td>-0.337256</td>\n",
       "      <td>-0.229425</td>\n",
       "      <td>0.239673</td>\n",
       "      <td>-0.117035</td>\n",
       "      <td>0.526835</td>\n",
       "      <td>0.354861</td>\n",
       "      <td>-0.130735</td>\n",
       "      <td>2.019364</td>\n",
       "      <td>-0.190386</td>\n",
       "      <td>0.924388</td>\n",
       "      <td>-0.197911</td>\n",
       "      <td>-0.165112</td>\n",
       "      <td>-0.387541</td>\n",
       "      <td>-0.403795</td>\n",
       "      <td>0</td>\n",
       "    </tr>\n",
       "    <tr>\n",
       "      <th>1</th>\n",
       "      <td>-0.244553</td>\n",
       "      <td>-0.229425</td>\n",
       "      <td>1.487877</td>\n",
       "      <td>-0.599425</td>\n",
       "      <td>-0.728109</td>\n",
       "      <td>0.354861</td>\n",
       "      <td>0.275600</td>\n",
       "      <td>-0.707999</td>\n",
       "      <td>1.255134</td>\n",
       "      <td>-1.081797</td>\n",
       "      <td>-0.197911</td>\n",
       "      <td>-0.165112</td>\n",
       "      <td>-0.387541</td>\n",
       "      <td>-0.403795</td>\n",
       "      <td>1</td>\n",
       "    </tr>\n",
       "    <tr>\n",
       "      <th>2</th>\n",
       "      <td>-0.244553</td>\n",
       "      <td>-0.229425</td>\n",
       "      <td>-0.942836</td>\n",
       "      <td>0.461832</td>\n",
       "      <td>0.298663</td>\n",
       "      <td>0.354861</td>\n",
       "      <td>0.862529</td>\n",
       "      <td>-0.545397</td>\n",
       "      <td>-0.816698</td>\n",
       "      <td>0.924388</td>\n",
       "      <td>-0.197911</td>\n",
       "      <td>-0.165112</td>\n",
       "      <td>-0.387541</td>\n",
       "      <td>-0.403795</td>\n",
       "      <td>0</td>\n",
       "    </tr>\n",
       "    <tr>\n",
       "      <th>3</th>\n",
       "      <td>0.358016</td>\n",
       "      <td>-0.229425</td>\n",
       "      <td>2.538996</td>\n",
       "      <td>-1.853638</td>\n",
       "      <td>-0.956280</td>\n",
       "      <td>0.354861</td>\n",
       "      <td>-2.252709</td>\n",
       "      <td>0.043554</td>\n",
       "      <td>1.653462</td>\n",
       "      <td>-1.081797</td>\n",
       "      <td>-0.197911</td>\n",
       "      <td>-0.165112</td>\n",
       "      <td>-0.387541</td>\n",
       "      <td>-0.403795</td>\n",
       "      <td>0</td>\n",
       "    </tr>\n",
       "    <tr>\n",
       "      <th>4</th>\n",
       "      <td>-0.267729</td>\n",
       "      <td>-0.229425</td>\n",
       "      <td>-0.614361</td>\n",
       "      <td>0.268877</td>\n",
       "      <td>0.983178</td>\n",
       "      <td>0.354861</td>\n",
       "      <td>0.885104</td>\n",
       "      <td>-0.707999</td>\n",
       "      <td>1.255134</td>\n",
       "      <td>0.924388</td>\n",
       "      <td>-0.197911</td>\n",
       "      <td>-0.165112</td>\n",
       "      <td>-0.387541</td>\n",
       "      <td>-0.403795</td>\n",
       "      <td>0</td>\n",
       "    </tr>\n",
       "  </tbody>\n",
       "</table>\n",
       "</div>"
      ],
      "text/plain": [
       "   DEPARTURE_DELAY  LATE_AIRCRAFT_DELAY       QNH  dew_point      temp  \\\n",
       "0        -0.337256            -0.229425  0.239673  -0.117035  0.526835   \n",
       "1        -0.244553            -0.229425  1.487877  -0.599425 -0.728109   \n",
       "2        -0.244553            -0.229425 -0.942836   0.461832  0.298663   \n",
       "3         0.358016            -0.229425  2.538996  -1.853638 -0.956280   \n",
       "4        -0.267729            -0.229425 -0.614361   0.268877  0.983178   \n",
       "\n",
       "   visibility  NUM_ARR_AVG_3HOUR  SCHEDULED_ARRIVAL_HOUR_sin  \\\n",
       "0    0.354861          -0.130735                    2.019364   \n",
       "1    0.354861           0.275600                   -0.707999   \n",
       "2    0.354861           0.862529                   -0.545397   \n",
       "3    0.354861          -2.252709                    0.043554   \n",
       "4    0.354861           0.885104                   -0.707999   \n",
       "\n",
       "   SCHEDULED_ARRIVAL_HOUR_cos  AIRLINE_CODE_DL  AIRLINE_CODE_F9  \\\n",
       "0                   -0.190386         0.924388        -0.197911   \n",
       "1                    1.255134        -1.081797        -0.197911   \n",
       "2                   -0.816698         0.924388        -0.197911   \n",
       "3                    1.653462        -1.081797        -0.197911   \n",
       "4                    1.255134         0.924388        -0.197911   \n",
       "\n",
       "   AIRLINE_CODE_NK  AIRLINE_CODE_US  AIRLINE_CODE_WN  DELAY  \n",
       "0        -0.165112        -0.387541        -0.403795      0  \n",
       "1        -0.165112        -0.387541        -0.403795      1  \n",
       "2        -0.165112        -0.387541        -0.403795      0  \n",
       "3        -0.165112        -0.387541        -0.403795      0  \n",
       "4        -0.165112        -0.387541        -0.403795      0  "
      ]
     },
     "execution_count": 4,
     "metadata": {},
     "output_type": "execute_result"
    }
   ],
   "source": [
    "df_test.head()"
   ]
  },
  {
   "cell_type": "markdown",
   "metadata": {},
   "source": [
    "---\n",
    "### (2) Setting X_train, X_test, y_train & y_test\n",
    "\n",
    "---"
   ]
  },
  {
   "cell_type": "code",
   "execution_count": 5,
   "metadata": {},
   "outputs": [],
   "source": [
    "X_train = df.drop('DELAY', axis=1)\n",
    "y_train = df['DELAY']\n",
    "X_test = df_test.drop('DELAY', axis=1)\n",
    "y_test = df_test['DELAY']"
   ]
  },
  {
   "cell_type": "code",
   "execution_count": 6,
   "metadata": {},
   "outputs": [
    {
     "data": {
      "text/plain": [
       "(16668, 14)"
      ]
     },
     "execution_count": 6,
     "metadata": {},
     "output_type": "execute_result"
    }
   ],
   "source": [
    "X_train.shape"
   ]
  },
  {
   "cell_type": "code",
   "execution_count": 7,
   "metadata": {},
   "outputs": [
    {
     "data": {
      "text/plain": [
       "(1300, 14)"
      ]
     },
     "execution_count": 7,
     "metadata": {},
     "output_type": "execute_result"
    }
   ],
   "source": [
    "X_test.shape"
   ]
  },
  {
   "cell_type": "code",
   "execution_count": 8,
   "metadata": {},
   "outputs": [
    {
     "data": {
      "text/plain": [
       "Index(['DEPARTURE_DELAY', 'LATE_AIRCRAFT_DELAY', 'QNH', 'dew_point', 'temp',\n",
       "       'visibility', 'NUM_ARR_AVG_3HOUR', 'SCHEDULED_ARRIVAL_HOUR_sin',\n",
       "       'SCHEDULED_ARRIVAL_HOUR_cos', 'AIRLINE_CODE_DL', 'AIRLINE_CODE_F9',\n",
       "       'AIRLINE_CODE_NK', 'AIRLINE_CODE_US', 'AIRLINE_CODE_WN'],\n",
       "      dtype='object')"
      ]
     },
     "execution_count": 8,
     "metadata": {},
     "output_type": "execute_result"
    }
   ],
   "source": [
    "X_train.columns"
   ]
  },
  {
   "cell_type": "code",
   "execution_count": 9,
   "metadata": {},
   "outputs": [
    {
     "data": {
      "text/plain": [
       "14"
      ]
     },
     "execution_count": 9,
     "metadata": {},
     "output_type": "execute_result"
    }
   ],
   "source": [
    "len(X_train.columns)"
   ]
  },
  {
   "cell_type": "markdown",
   "metadata": {},
   "source": [
    "---\n",
    "### (3) Model (I): Logistic Regression\n",
    "\n",
    "---"
   ]
  },
  {
   "cell_type": "code",
   "execution_count": 10,
   "metadata": {},
   "outputs": [
    {
     "data": {
      "text/plain": [
       "LogisticRegression(C=1.0, class_weight=None, dual=False, fit_intercept=True,\n",
       "                   intercept_scaling=1, l1_ratio=None, max_iter=1000,\n",
       "                   multi_class='auto', n_jobs=None, penalty='l2',\n",
       "                   random_state=None, solver='lbfgs', tol=0.0001, verbose=0,\n",
       "                   warm_start=False)"
      ]
     },
     "execution_count": 10,
     "metadata": {},
     "output_type": "execute_result"
    }
   ],
   "source": [
    "lr = LogisticRegression(max_iter=1000)\n",
    "lr.fit(X_train, y_train)"
   ]
  },
  {
   "cell_type": "code",
   "execution_count": 11,
   "metadata": {},
   "outputs": [
    {
     "data": {
      "text/plain": [
       "0.8362133513891281"
      ]
     },
     "execution_count": 11,
     "metadata": {},
     "output_type": "execute_result"
    }
   ],
   "source": [
    "cross_val_score(lr, X_train, y_train).mean()"
   ]
  },
  {
   "cell_type": "code",
   "execution_count": 12,
   "metadata": {},
   "outputs": [
    {
     "data": {
      "text/plain": [
       "0.8353846153846154"
      ]
     },
     "execution_count": 12,
     "metadata": {},
     "output_type": "execute_result"
    }
   ],
   "source": [
    "lr.score(X_test, y_test)"
   ]
  },
  {
   "cell_type": "code",
   "execution_count": 13,
   "metadata": {},
   "outputs": [
    {
     "name": "stdout",
     "output_type": "stream",
     "text": [
      "               precision    recall  f1-score   support\n",
      "\n",
      "      <15mins       0.94      0.89      0.92      1041\n",
      "15mins to 1hr       0.43      0.53      0.48       175\n",
      "    1 to 3hrs       0.63      0.74      0.68        70\n",
      "        >3hrs       0.68      0.93      0.79        14\n",
      "\n",
      "     accuracy                           0.84      1300\n",
      "    macro avg       0.67      0.77      0.71      1300\n",
      " weighted avg       0.85      0.84      0.84      1300\n",
      "\n"
     ]
    }
   ],
   "source": [
    "target_names = ['<15mins', '15mins to 1hr', '1 to 3hrs', '>3hrs']\n",
    "print(classification_report(y_test, lr.predict(X_test),target_names=target_names))"
   ]
  },
  {
   "cell_type": "code",
   "execution_count": 14,
   "metadata": {},
   "outputs": [],
   "source": [
    "# Exporting model\n",
    "\n",
    "# lr_filename = '../models/classification_logreg_model.sav'\n",
    "# pickle.dump(lr, open(lr_filename, 'wb'))"
   ]
  },
  {
   "cell_type": "markdown",
   "metadata": {},
   "source": [
    "---\n",
    "### (4) Model (II): RandomForest\n",
    "\n",
    "---"
   ]
  },
  {
   "cell_type": "code",
   "execution_count": 15,
   "metadata": {},
   "outputs": [],
   "source": [
    "rf = RandomForestClassifier()"
   ]
  },
  {
   "cell_type": "code",
   "execution_count": 16,
   "metadata": {},
   "outputs": [],
   "source": [
    "rf_params = {\n",
    "  \"n_estimators\":[50,100,200],\n",
    "  \"min_samples_split\":[5,10,20],\n",
    "  \"max_depth\":[5,10,20]\n",
    "}\n",
    "\n",
    "rf_cv = RandomizedSearchCV(rf, param_distributions=rf_params, scoring='f1_micro', n_iter=2, n_jobs=4, verbose=2)"
   ]
  },
  {
   "cell_type": "code",
   "execution_count": 17,
   "metadata": {},
   "outputs": [
    {
     "name": "stdout",
     "output_type": "stream",
     "text": [
      "Fitting 5 folds for each of 2 candidates, totalling 10 fits\n"
     ]
    },
    {
     "name": "stderr",
     "output_type": "stream",
     "text": [
      "[Parallel(n_jobs=4)]: Using backend LokyBackend with 4 concurrent workers.\n",
      "[Parallel(n_jobs=4)]: Done  10 out of  10 | elapsed:    8.2s finished\n"
     ]
    },
    {
     "data": {
      "text/plain": [
       "RandomizedSearchCV(cv=None, error_score=nan,\n",
       "                   estimator=RandomForestClassifier(bootstrap=True,\n",
       "                                                    ccp_alpha=0.0,\n",
       "                                                    class_weight=None,\n",
       "                                                    criterion='gini',\n",
       "                                                    max_depth=None,\n",
       "                                                    max_features='auto',\n",
       "                                                    max_leaf_nodes=None,\n",
       "                                                    max_samples=None,\n",
       "                                                    min_impurity_decrease=0.0,\n",
       "                                                    min_impurity_split=None,\n",
       "                                                    min_samples_leaf=1,\n",
       "                                                    min_samples_split=2,\n",
       "                                                    min_weight_fraction_leaf=0.0,\n",
       "                                                    n_estimators=100,\n",
       "                                                    n_jobs=None,\n",
       "                                                    oob_score=False,\n",
       "                                                    random_state=None,\n",
       "                                                    verbose=0,\n",
       "                                                    warm_start=False),\n",
       "                   iid='deprecated', n_iter=2, n_jobs=4,\n",
       "                   param_distributions={'max_depth': [5, 10, 20],\n",
       "                                        'min_samples_split': [5, 10, 20],\n",
       "                                        'n_estimators': [50, 100, 200]},\n",
       "                   pre_dispatch='2*n_jobs', random_state=None, refit=True,\n",
       "                   return_train_score=False, scoring='f1_micro', verbose=2)"
      ]
     },
     "execution_count": 17,
     "metadata": {},
     "output_type": "execute_result"
    }
   ],
   "source": [
    "rf_cv.fit(X_train, y_train)"
   ]
  },
  {
   "cell_type": "code",
   "execution_count": 18,
   "metadata": {},
   "outputs": [
    {
     "data": {
      "text/plain": [
       "{'n_estimators': 100, 'min_samples_split': 5, 'max_depth': 20}"
      ]
     },
     "execution_count": 18,
     "metadata": {},
     "output_type": "execute_result"
    }
   ],
   "source": [
    "rf_cv.best_params_"
   ]
  },
  {
   "cell_type": "code",
   "execution_count": 19,
   "metadata": {},
   "outputs": [],
   "source": [
    "opt_rf = RandomForestClassifier(n_estimators=50, min_samples_split=20, max_depth=10)"
   ]
  },
  {
   "cell_type": "code",
   "execution_count": 20,
   "metadata": {},
   "outputs": [
    {
     "data": {
      "text/plain": [
       "RandomForestClassifier(bootstrap=True, ccp_alpha=0.0, class_weight=None,\n",
       "                       criterion='gini', max_depth=10, max_features='auto',\n",
       "                       max_leaf_nodes=None, max_samples=None,\n",
       "                       min_impurity_decrease=0.0, min_impurity_split=None,\n",
       "                       min_samples_leaf=1, min_samples_split=20,\n",
       "                       min_weight_fraction_leaf=0.0, n_estimators=50,\n",
       "                       n_jobs=None, oob_score=False, random_state=None,\n",
       "                       verbose=0, warm_start=False)"
      ]
     },
     "execution_count": 20,
     "metadata": {},
     "output_type": "execute_result"
    }
   ],
   "source": [
    "opt_rf.fit(X_train, y_train)"
   ]
  },
  {
   "cell_type": "code",
   "execution_count": 21,
   "metadata": {},
   "outputs": [
    {
     "data": {
      "text/plain": [
       "0.9023889191558627"
      ]
     },
     "execution_count": 21,
     "metadata": {},
     "output_type": "execute_result"
    }
   ],
   "source": [
    "cross_val_score(opt_rf, X_train, y_train).mean()"
   ]
  },
  {
   "cell_type": "code",
   "execution_count": 22,
   "metadata": {},
   "outputs": [
    {
     "data": {
      "text/plain": [
       "0.9043908448857729"
      ]
     },
     "execution_count": 22,
     "metadata": {},
     "output_type": "execute_result"
    }
   ],
   "source": [
    "cross_val_score(opt_rf, X_train, y_train, scoring='f1_macro').mean()"
   ]
  },
  {
   "cell_type": "code",
   "execution_count": 23,
   "metadata": {},
   "outputs": [
    {
     "data": {
      "text/plain": [
       "0.8815384615384615"
      ]
     },
     "execution_count": 23,
     "metadata": {},
     "output_type": "execute_result"
    }
   ],
   "source": [
    "opt_rf.score(X_test, y_test)"
   ]
  },
  {
   "cell_type": "code",
   "execution_count": 24,
   "metadata": {},
   "outputs": [
    {
     "name": "stdout",
     "output_type": "stream",
     "text": [
      "               precision    recall  f1-score   support\n",
      "\n",
      "      <15mins       0.93      0.96      0.94      1041\n",
      "15mins to 1hr       0.61      0.50      0.55       175\n",
      "    1 to 3hrs       0.69      0.76      0.72        70\n",
      "        >3hrs       0.73      0.79      0.76        14\n",
      "\n",
      "     accuracy                           0.88      1300\n",
      "    macro avg       0.74      0.75      0.74      1300\n",
      " weighted avg       0.87      0.88      0.88      1300\n",
      "\n"
     ]
    }
   ],
   "source": [
    "target_names = ['<15mins', '15mins to 1hr', '1 to 3hrs', '>3hrs']\n",
    "print(classification_report(y_test, opt_rf.predict(X_test),target_names=target_names))"
   ]
  },
  {
   "cell_type": "code",
   "execution_count": 25,
   "metadata": {},
   "outputs": [],
   "source": [
    "# Exporting model\n",
    "\n",
    "rf_filename = '../models/classification_rf_model_phl.sav'\n",
    "pickle.dump(opt_rf, open(rf_filename, 'wb'))"
   ]
  },
  {
   "cell_type": "markdown",
   "metadata": {},
   "source": [
    "---\n",
    "### (5) Model (III): XGBoost\n",
    "\n",
    "---"
   ]
  },
  {
   "cell_type": "code",
   "execution_count": 26,
   "metadata": {},
   "outputs": [],
   "source": [
    "xgbc = xgb.XGBClassifier()"
   ]
  },
  {
   "cell_type": "code",
   "execution_count": 27,
   "metadata": {},
   "outputs": [],
   "source": [
    "xgbc_params = {\n",
    "  \"learning_rate\":[0.01, 0.1, 0.2, 0.3],\n",
    "  \"max_depth\":[3, 5, 10]\n",
    "}\n",
    "\n",
    "xgbc_cv = RandomizedSearchCV(xgbc, param_distributions=xgbc_params, scoring='f1_micro', n_iter=2, n_jobs=4, verbose=2)"
   ]
  },
  {
   "cell_type": "code",
   "execution_count": 28,
   "metadata": {},
   "outputs": [
    {
     "name": "stdout",
     "output_type": "stream",
     "text": [
      "Fitting 5 folds for each of 2 candidates, totalling 10 fits\n"
     ]
    },
    {
     "name": "stderr",
     "output_type": "stream",
     "text": [
      "[Parallel(n_jobs=4)]: Using backend LokyBackend with 4 concurrent workers.\n",
      "[Parallel(n_jobs=4)]: Done  10 out of  10 | elapsed:   42.9s finished\n"
     ]
    },
    {
     "data": {
      "text/plain": [
       "RandomizedSearchCV(cv=None, error_score=nan,\n",
       "                   estimator=XGBClassifier(base_score=0.5, booster='gbtree',\n",
       "                                           colsample_bylevel=1,\n",
       "                                           colsample_bynode=1,\n",
       "                                           colsample_bytree=1, gamma=0,\n",
       "                                           learning_rate=0.1, max_delta_step=0,\n",
       "                                           max_depth=3, min_child_weight=1,\n",
       "                                           missing=None, n_estimators=100,\n",
       "                                           n_jobs=1, nthread=None,\n",
       "                                           objective='binary:logistic',\n",
       "                                           random_state=0, reg_alpha=0,\n",
       "                                           reg_lambda=1, scale_pos_weight=1,\n",
       "                                           seed=None, silent=None, subsample=1,\n",
       "                                           verbosity=1),\n",
       "                   iid='deprecated', n_iter=2, n_jobs=4,\n",
       "                   param_distributions={'learning_rate': [0.01, 0.1, 0.2, 0.3],\n",
       "                                        'max_depth': [3, 5, 10]},\n",
       "                   pre_dispatch='2*n_jobs', random_state=None, refit=True,\n",
       "                   return_train_score=False, scoring='f1_micro', verbose=2)"
      ]
     },
     "execution_count": 28,
     "metadata": {},
     "output_type": "execute_result"
    }
   ],
   "source": [
    "xgbc_cv.fit(X_train, y_train)"
   ]
  },
  {
   "cell_type": "code",
   "execution_count": 29,
   "metadata": {},
   "outputs": [
    {
     "data": {
      "text/plain": [
       "{'max_depth': 10, 'learning_rate': 0.3}"
      ]
     },
     "execution_count": 29,
     "metadata": {},
     "output_type": "execute_result"
    }
   ],
   "source": [
    "xgbc_cv.best_params_"
   ]
  },
  {
   "cell_type": "code",
   "execution_count": 30,
   "metadata": {},
   "outputs": [],
   "source": [
    "opt_xgb = xgb.XGBClassifier(max_depth=5, learning_rate=0.3)"
   ]
  },
  {
   "cell_type": "code",
   "execution_count": 31,
   "metadata": {},
   "outputs": [
    {
     "data": {
      "text/plain": [
       "XGBClassifier(base_score=0.5, booster='gbtree', colsample_bylevel=1,\n",
       "              colsample_bynode=1, colsample_bytree=1, gamma=0,\n",
       "              learning_rate=0.3, max_delta_step=0, max_depth=5,\n",
       "              min_child_weight=1, missing=None, n_estimators=100, n_jobs=1,\n",
       "              nthread=None, objective='multi:softprob', random_state=0,\n",
       "              reg_alpha=0, reg_lambda=1, scale_pos_weight=1, seed=None,\n",
       "              silent=None, subsample=1, verbosity=1)"
      ]
     },
     "execution_count": 31,
     "metadata": {},
     "output_type": "execute_result"
    }
   ],
   "source": [
    "opt_xgb.fit(X_train, y_train)"
   ]
  },
  {
   "cell_type": "code",
   "execution_count": 32,
   "metadata": {
    "scrolled": true
   },
   "outputs": [
    {
     "data": {
      "text/plain": [
       "0.9604049847096288"
      ]
     },
     "execution_count": 32,
     "metadata": {},
     "output_type": "execute_result"
    }
   ],
   "source": [
    "cross_val_score(opt_xgb, X_train, y_train).mean()"
   ]
  },
  {
   "cell_type": "code",
   "execution_count": 33,
   "metadata": {
    "scrolled": true
   },
   "outputs": [
    {
     "data": {
      "text/plain": [
       "0.91"
      ]
     },
     "execution_count": 33,
     "metadata": {},
     "output_type": "execute_result"
    }
   ],
   "source": [
    "opt_xgb.score(X_test, y_test)"
   ]
  },
  {
   "cell_type": "code",
   "execution_count": 34,
   "metadata": {
    "scrolled": true
   },
   "outputs": [
    {
     "name": "stdout",
     "output_type": "stream",
     "text": [
      "               precision    recall  f1-score   support\n",
      "\n",
      "      <15mins       0.93      0.98      0.96      1041\n",
      "15mins to 1hr       0.75      0.55      0.63       175\n",
      "    1 to 3hrs       0.83      0.77      0.80        70\n",
      "        >3hrs       0.87      0.93      0.90        14\n",
      "\n",
      "     accuracy                           0.91      1300\n",
      "    macro avg       0.85      0.81      0.82      1300\n",
      " weighted avg       0.90      0.91      0.90      1300\n",
      "\n"
     ]
    }
   ],
   "source": [
    "target_names = ['<15mins', '15mins to 1hr', '1 to 3hrs', '>3hrs']\n",
    "print(classification_report(y_test, opt_xgb.predict(X_test),target_names=target_names))"
   ]
  },
  {
   "cell_type": "code",
   "execution_count": 35,
   "metadata": {},
   "outputs": [],
   "source": [
    "# Exporting model\n",
    "\n",
    "# xgb_filename = '../models/classification_xgb_model.sav'\n",
    "# pickle.dump(opt_xgb, open(xgb_filename, 'wb'))"
   ]
  },
  {
   "cell_type": "markdown",
   "metadata": {},
   "source": [
    "---\n",
    "### (6) Model (IV): Neural Networks\n",
    "\n",
    "---"
   ]
  },
  {
   "cell_type": "code",
   "execution_count": 36,
   "metadata": {},
   "outputs": [],
   "source": [
    "from keras.utils import to_categorical"
   ]
  },
  {
   "cell_type": "code",
   "execution_count": 37,
   "metadata": {},
   "outputs": [],
   "source": [
    "y_train_enc = to_categorical(y_train)\n",
    "y_test_enc = to_categorical(y_test)"
   ]
  },
  {
   "cell_type": "code",
   "execution_count": 43,
   "metadata": {},
   "outputs": [],
   "source": [
    "model = Sequential()"
   ]
  },
  {
   "cell_type": "code",
   "execution_count": 44,
   "metadata": {},
   "outputs": [],
   "source": [
    "model.add(Dense(10, \n",
    "                input_dim=14, \n",
    "                activation='relu'))\n",
    "\n",
    "# Dropout did not help improve accuracy in this case\n",
    "# model.add(Dropout(0.5))\n",
    "\n",
    "model.add(Dense(10, \n",
    "                activation='relu'))\n",
    "\n",
    "model.add(Dense(4, \n",
    "                activation='softmax'))"
   ]
  },
  {
   "cell_type": "code",
   "execution_count": 45,
   "metadata": {},
   "outputs": [
    {
     "name": "stdout",
     "output_type": "stream",
     "text": [
      "Model: \"sequential_2\"\n",
      "_________________________________________________________________\n",
      "Layer (type)                 Output Shape              Param #   \n",
      "=================================================================\n",
      "dense_3 (Dense)              (None, 10)                150       \n",
      "_________________________________________________________________\n",
      "dense_4 (Dense)              (None, 10)                110       \n",
      "_________________________________________________________________\n",
      "dense_5 (Dense)              (None, 4)                 44        \n",
      "=================================================================\n",
      "Total params: 304\n",
      "Trainable params: 304\n",
      "Non-trainable params: 0\n",
      "_________________________________________________________________\n"
     ]
    }
   ],
   "source": [
    "model.summary()"
   ]
  },
  {
   "cell_type": "code",
   "execution_count": 46,
   "metadata": {},
   "outputs": [],
   "source": [
    "es = EarlyStopping(monitor='val_loss', patience=3)\n",
    "\n",
    "model.compile(optimizer='adam', loss='categorical_crossentropy', metrics=['accuracy'])"
   ]
  },
  {
   "cell_type": "code",
   "execution_count": 47,
   "metadata": {
    "scrolled": true
   },
   "outputs": [
    {
     "name": "stdout",
     "output_type": "stream",
     "text": [
      "Train on 13334 samples, validate on 3334 samples\n",
      "Epoch 1/200\n",
      "13334/13334 [==============================] - 3s 248us/step - loss: 0.8523 - accuracy: 0.6393 - val_loss: 0.5430 - val_accuracy: 0.7142\n",
      "Epoch 2/200\n",
      "13334/13334 [==============================] - 4s 274us/step - loss: 0.5049 - accuracy: 0.7938 - val_loss: 0.2442 - val_accuracy: 0.8986\n",
      "Epoch 3/200\n",
      "13334/13334 [==============================] - 3s 241us/step - loss: 0.4484 - accuracy: 0.8106 - val_loss: 0.2441 - val_accuracy: 0.8908\n",
      "Epoch 4/200\n",
      "13334/13334 [==============================] - 3s 255us/step - loss: 0.4266 - accuracy: 0.8165 - val_loss: 0.1843 - val_accuracy: 0.9217\n",
      "Epoch 5/200\n",
      "13334/13334 [==============================] - 4s 265us/step - loss: 0.4153 - accuracy: 0.8179 - val_loss: 0.1400 - val_accuracy: 0.9433\n",
      "Epoch 6/200\n",
      "13334/13334 [==============================] - 4s 314us/step - loss: 0.4071 - accuracy: 0.8210 - val_loss: 0.1981 - val_accuracy: 0.9220\n",
      "Epoch 7/200\n",
      "13334/13334 [==============================] - 4s 281us/step - loss: 0.4000 - accuracy: 0.8218 - val_loss: 0.1113 - val_accuracy: 0.9571\n",
      "Epoch 8/200\n",
      "13334/13334 [==============================] - 4s 286us/step - loss: 0.3935 - accuracy: 0.8262 - val_loss: 0.2038 - val_accuracy: 0.9172\n",
      "Epoch 9/200\n",
      "13334/13334 [==============================] - 4s 290us/step - loss: 0.3890 - accuracy: 0.8277 - val_loss: 0.1732 - val_accuracy: 0.9289\n",
      "Epoch 10/200\n",
      "13334/13334 [==============================] - 4s 263us/step - loss: 0.3838 - accuracy: 0.8296 - val_loss: 0.1453 - val_accuracy: 0.9442\n"
     ]
    },
    {
     "data": {
      "text/plain": [
       "<keras.callbacks.callbacks.History at 0x244252c7e88>"
      ]
     },
     "execution_count": 47,
     "metadata": {},
     "output_type": "execute_result"
    }
   ],
   "source": [
    "model.fit(X_train, y_train_enc, batch_size=8, epochs=200, validation_split=0.2, callbacks=[es])"
   ]
  },
  {
   "cell_type": "code",
   "execution_count": 48,
   "metadata": {},
   "outputs": [
    {
     "name": "stdout",
     "output_type": "stream",
     "text": [
      "1300/1300 [==============================] - 0s 29us/step\n"
     ]
    },
    {
     "data": {
      "text/plain": [
       "[0.4594224968323341, 0.8361538648605347]"
      ]
     },
     "execution_count": 48,
     "metadata": {},
     "output_type": "execute_result"
    }
   ],
   "source": [
    "model.evaluate(X_test, y_test_enc)"
   ]
  },
  {
   "cell_type": "code",
   "execution_count": 49,
   "metadata": {
    "scrolled": true
   },
   "outputs": [
    {
     "name": "stdout",
     "output_type": "stream",
     "text": [
      "              precision    recall  f1-score   support\n",
      "\n",
      "        <1hr       0.95      0.88      0.91      1041\n",
      "   1 to 2hrs       0.44      0.62      0.52       175\n",
      "   2 to 3hrs       0.69      0.73      0.71        70\n",
      "       >3hrs       0.81      0.93      0.87        14\n",
      "\n",
      "    accuracy                           0.84      1300\n",
      "   macro avg       0.72      0.79      0.75      1300\n",
      "weighted avg       0.87      0.84      0.85      1300\n",
      "\n"
     ]
    }
   ],
   "source": [
    "y_nn_pred = model.predict(X_test).argmax(axis=-1)\n",
    "target_names = ['<1hr', '1 to 2hrs', '2 to 3hrs', '>3hrs']\n",
    "\n",
    "print(classification_report(y_test, y_nn_pred, target_names=target_names))"
   ]
  },
  {
   "cell_type": "code",
   "execution_count": 50,
   "metadata": {},
   "outputs": [],
   "source": [
    "# Exporting model\n",
    "\n",
    "# nn_filename = '../models/classification_nn_model.sav'\n",
    "# pickle.dump(model, open(nn_filename, 'wb'))"
   ]
  }
 ],
 "metadata": {
  "kernelspec": {
   "display_name": "Python 3",
   "language": "python",
   "name": "python3"
  },
  "language_info": {
   "codemirror_mode": {
    "name": "ipython",
    "version": 3
   },
   "file_extension": ".py",
   "mimetype": "text/x-python",
   "name": "python",
   "nbconvert_exporter": "python",
   "pygments_lexer": "ipython3",
   "version": "3.7.4"
  },
  "name": "Modeling (Classification) - airborne to destination",
  "notebookId": 2049533585937493
 },
 "nbformat": 4,
 "nbformat_minor": 1
}
