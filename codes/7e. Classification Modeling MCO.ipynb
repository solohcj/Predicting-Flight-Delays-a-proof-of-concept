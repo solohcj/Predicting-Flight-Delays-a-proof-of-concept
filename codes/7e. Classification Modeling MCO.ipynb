{
 "cells": [
  {
   "cell_type": "markdown",
   "metadata": {},
   "source": [
    "<img src=\"../images/airplane-symbol.jpg\" style=\"float: left; margin: 20px;\" width=\"50\" height=\"50\"> \n",
    "#  Predicting Flight Delays (<i>a Proof-of-Concept</i>)\n",
    "\n",
    "Author: Solomon Heng\n",
    "\n",
    "---"
   ]
  },
  {
   "cell_type": "markdown",
   "metadata": {},
   "source": [
    "# 7e. Classification Modeling MCO\n",
    "\n",
    "## Processes covered in this notebook:\n",
    "1. [Importing dataset](#(1)-Importing-dataset)\n",
    "2. [Setting X_train, X_test, y_train & y_test](#(2)-Setting-X_train,-X_test,-y_train-&-y_test)\n",
    "3. [Model (I): Logistic Regression](#(3)-Model-(I):-Logistic-Regression)\n",
    "4. [Model (II): RandomForest](#(4)-Model-(II):-RandomForest)\n",
    "5. [Model (III): XGBoost](#(5)-Model-(III):-XGBoost)\n",
    "6. [Model (IV): Neural Networks](#(6)-Model-(IV):-Neural-Networks)"
   ]
  },
  {
   "cell_type": "code",
   "execution_count": 1,
   "metadata": {},
   "outputs": [
    {
     "name": "stderr",
     "output_type": "stream",
     "text": [
      "Using TensorFlow backend.\n"
     ]
    }
   ],
   "source": [
    "import pandas as pd\n",
    "import numpy as np\n",
    "import matplotlib.pyplot as plt\n",
    "import seaborn as sns\n",
    "\n",
    "from sklearn.preprocessing import StandardScaler\n",
    "from sklearn.linear_model import LogisticRegression\n",
    "from sklearn.model_selection import train_test_split, cross_val_score, RandomizedSearchCV\n",
    "from sklearn.metrics import confusion_matrix, roc_auc_score, classification_report\n",
    "from sklearn.ensemble import RandomForestClassifier\n",
    "\n",
    "from keras.models import Sequential\n",
    "from keras.layers import Dense, Dropout\n",
    "from keras.callbacks import EarlyStopping\n",
    "from keras import backend as K\n",
    "\n",
    "import xgboost as xgb\n",
    "\n",
    "import pickle\n",
    "\n",
    "sns.set()"
   ]
  },
  {
   "cell_type": "markdown",
   "metadata": {},
   "source": [
    "---\n",
    "### (1) Importing dataset\n",
    "\n",
    "---"
   ]
  },
  {
   "cell_type": "code",
   "execution_count": 2,
   "metadata": {},
   "outputs": [],
   "source": [
    "df = pd.read_csv('../datasets/combined_data_class_mco.csv')\n",
    "df_test = pd.read_csv('../datasets/combined_data_class_test_mco.csv')"
   ]
  },
  {
   "cell_type": "code",
   "execution_count": 3,
   "metadata": {
    "scrolled": false
   },
   "outputs": [
    {
     "data": {
      "text/html": [
       "<div>\n",
       "<style scoped>\n",
       "    .dataframe tbody tr th:only-of-type {\n",
       "        vertical-align: middle;\n",
       "    }\n",
       "\n",
       "    .dataframe tbody tr th {\n",
       "        vertical-align: top;\n",
       "    }\n",
       "\n",
       "    .dataframe thead th {\n",
       "        text-align: right;\n",
       "    }\n",
       "</style>\n",
       "<table border=\"1\" class=\"dataframe\">\n",
       "  <thead>\n",
       "    <tr style=\"text-align: right;\">\n",
       "      <th></th>\n",
       "      <th>DEPARTURE_DELAY</th>\n",
       "      <th>SCHEDULED_TIME</th>\n",
       "      <th>LATE_AIRCRAFT_DELAY</th>\n",
       "      <th>QNH</th>\n",
       "      <th>dew_point</th>\n",
       "      <th>temp</th>\n",
       "      <th>visibility</th>\n",
       "      <th>windspd</th>\n",
       "      <th>SCHEDULED_ARRIVAL_MONTH_sin</th>\n",
       "      <th>SCHEDULED_ARRIVAL_MONTH_cos</th>\n",
       "      <th>SCHEDULED_ARRIVAL_HOUR_sin</th>\n",
       "      <th>SCHEDULED_ARRIVAL_HOUR_cos</th>\n",
       "      <th>AIRLINE_CODE_EV</th>\n",
       "      <th>AIRLINE_CODE_F9</th>\n",
       "      <th>AIRLINE_CODE_NK</th>\n",
       "      <th>AIRLINE_CODE_WN</th>\n",
       "      <th>DELAY</th>\n",
       "    </tr>\n",
       "  </thead>\n",
       "  <tbody>\n",
       "    <tr>\n",
       "      <th>0</th>\n",
       "      <td>-0.325555</td>\n",
       "      <td>-0.829324</td>\n",
       "      <td>-0.19734</td>\n",
       "      <td>-0.114255</td>\n",
       "      <td>0.868599</td>\n",
       "      <td>0.685551</td>\n",
       "      <td>0.355234</td>\n",
       "      <td>-1.662574</td>\n",
       "      <td>-0.101151</td>\n",
       "      <td>-1.304766</td>\n",
       "      <td>0.911083</td>\n",
       "      <td>-1.017175</td>\n",
       "      <td>-0.012411</td>\n",
       "      <td>-0.196758</td>\n",
       "      <td>-0.195912</td>\n",
       "      <td>1.593847</td>\n",
       "      <td>0</td>\n",
       "    </tr>\n",
       "    <tr>\n",
       "      <th>1</th>\n",
       "      <td>-0.325555</td>\n",
       "      <td>0.130607</td>\n",
       "      <td>-0.19734</td>\n",
       "      <td>-0.308950</td>\n",
       "      <td>0.300318</td>\n",
       "      <td>0.230538</td>\n",
       "      <td>0.355234</td>\n",
       "      <td>-0.873113</td>\n",
       "      <td>-0.101151</td>\n",
       "      <td>1.458055</td>\n",
       "      <td>-0.465560</td>\n",
       "      <td>1.595281</td>\n",
       "      <td>-0.012411</td>\n",
       "      <td>-0.196758</td>\n",
       "      <td>-0.195912</td>\n",
       "      <td>-0.627413</td>\n",
       "      <td>0</td>\n",
       "    </tr>\n",
       "    <tr>\n",
       "      <th>2</th>\n",
       "      <td>-0.382248</td>\n",
       "      <td>-0.829324</td>\n",
       "      <td>-0.19734</td>\n",
       "      <td>-1.152630</td>\n",
       "      <td>0.679172</td>\n",
       "      <td>0.571798</td>\n",
       "      <td>0.355234</td>\n",
       "      <td>-0.083652</td>\n",
       "      <td>-0.101151</td>\n",
       "      <td>-1.304766</td>\n",
       "      <td>0.517827</td>\n",
       "      <td>-1.125521</td>\n",
       "      <td>-0.012411</td>\n",
       "      <td>5.082379</td>\n",
       "      <td>-0.195912</td>\n",
       "      <td>-0.627413</td>\n",
       "      <td>0</td>\n",
       "    </tr>\n",
       "    <tr>\n",
       "      <th>3</th>\n",
       "      <td>-0.070436</td>\n",
       "      <td>0.542006</td>\n",
       "      <td>-0.19734</td>\n",
       "      <td>-0.828138</td>\n",
       "      <td>0.395031</td>\n",
       "      <td>-0.110722</td>\n",
       "      <td>-2.880781</td>\n",
       "      <td>-0.083652</td>\n",
       "      <td>-0.101151</td>\n",
       "      <td>1.458055</td>\n",
       "      <td>1.538784</td>\n",
       "      <td>-0.515027</td>\n",
       "      <td>-0.012411</td>\n",
       "      <td>-0.196758</td>\n",
       "      <td>-0.195912</td>\n",
       "      <td>-0.627413</td>\n",
       "      <td>0</td>\n",
       "    </tr>\n",
       "    <tr>\n",
       "      <th>4</th>\n",
       "      <td>-0.297209</td>\n",
       "      <td>-0.829324</td>\n",
       "      <td>-0.19734</td>\n",
       "      <td>0.340035</td>\n",
       "      <td>0.963313</td>\n",
       "      <td>0.799304</td>\n",
       "      <td>0.355234</td>\n",
       "      <td>-0.873113</td>\n",
       "      <td>-0.831951</td>\n",
       "      <td>-1.119693</td>\n",
       "      <td>0.517827</td>\n",
       "      <td>-1.125521</td>\n",
       "      <td>-0.012411</td>\n",
       "      <td>-0.196758</td>\n",
       "      <td>-0.195912</td>\n",
       "      <td>-0.627413</td>\n",
       "      <td>0</td>\n",
       "    </tr>\n",
       "  </tbody>\n",
       "</table>\n",
       "</div>"
      ],
      "text/plain": [
       "   DEPARTURE_DELAY  SCHEDULED_TIME  LATE_AIRCRAFT_DELAY       QNH  dew_point  \\\n",
       "0        -0.325555       -0.829324             -0.19734 -0.114255   0.868599   \n",
       "1        -0.325555        0.130607             -0.19734 -0.308950   0.300318   \n",
       "2        -0.382248       -0.829324             -0.19734 -1.152630   0.679172   \n",
       "3        -0.070436        0.542006             -0.19734 -0.828138   0.395031   \n",
       "4        -0.297209       -0.829324             -0.19734  0.340035   0.963313   \n",
       "\n",
       "       temp  visibility   windspd  SCHEDULED_ARRIVAL_MONTH_sin  \\\n",
       "0  0.685551    0.355234 -1.662574                    -0.101151   \n",
       "1  0.230538    0.355234 -0.873113                    -0.101151   \n",
       "2  0.571798    0.355234 -0.083652                    -0.101151   \n",
       "3 -0.110722   -2.880781 -0.083652                    -0.101151   \n",
       "4  0.799304    0.355234 -0.873113                    -0.831951   \n",
       "\n",
       "   SCHEDULED_ARRIVAL_MONTH_cos  SCHEDULED_ARRIVAL_HOUR_sin  \\\n",
       "0                    -1.304766                    0.911083   \n",
       "1                     1.458055                   -0.465560   \n",
       "2                    -1.304766                    0.517827   \n",
       "3                     1.458055                    1.538784   \n",
       "4                    -1.119693                    0.517827   \n",
       "\n",
       "   SCHEDULED_ARRIVAL_HOUR_cos  AIRLINE_CODE_EV  AIRLINE_CODE_F9  \\\n",
       "0                   -1.017175        -0.012411        -0.196758   \n",
       "1                    1.595281        -0.012411        -0.196758   \n",
       "2                   -1.125521        -0.012411         5.082379   \n",
       "3                   -0.515027        -0.012411        -0.196758   \n",
       "4                   -1.125521        -0.012411        -0.196758   \n",
       "\n",
       "   AIRLINE_CODE_NK  AIRLINE_CODE_WN  DELAY  \n",
       "0        -0.195912         1.593847      0  \n",
       "1        -0.195912        -0.627413      0  \n",
       "2        -0.195912        -0.627413      0  \n",
       "3        -0.195912        -0.627413      0  \n",
       "4        -0.195912        -0.627413      0  "
      ]
     },
     "execution_count": 3,
     "metadata": {},
     "output_type": "execute_result"
    }
   ],
   "source": [
    "pd.set_option('display.max_columns', 100)\n",
    "df.head()"
   ]
  },
  {
   "cell_type": "code",
   "execution_count": 4,
   "metadata": {},
   "outputs": [
    {
     "data": {
      "text/html": [
       "<div>\n",
       "<style scoped>\n",
       "    .dataframe tbody tr th:only-of-type {\n",
       "        vertical-align: middle;\n",
       "    }\n",
       "\n",
       "    .dataframe tbody tr th {\n",
       "        vertical-align: top;\n",
       "    }\n",
       "\n",
       "    .dataframe thead th {\n",
       "        text-align: right;\n",
       "    }\n",
       "</style>\n",
       "<table border=\"1\" class=\"dataframe\">\n",
       "  <thead>\n",
       "    <tr style=\"text-align: right;\">\n",
       "      <th></th>\n",
       "      <th>DEPARTURE_DELAY</th>\n",
       "      <th>SCHEDULED_TIME</th>\n",
       "      <th>LATE_AIRCRAFT_DELAY</th>\n",
       "      <th>QNH</th>\n",
       "      <th>dew_point</th>\n",
       "      <th>temp</th>\n",
       "      <th>visibility</th>\n",
       "      <th>windspd</th>\n",
       "      <th>SCHEDULED_ARRIVAL_MONTH_sin</th>\n",
       "      <th>SCHEDULED_ARRIVAL_MONTH_cos</th>\n",
       "      <th>SCHEDULED_ARRIVAL_HOUR_sin</th>\n",
       "      <th>SCHEDULED_ARRIVAL_HOUR_cos</th>\n",
       "      <th>AIRLINE_CODE_EV</th>\n",
       "      <th>AIRLINE_CODE_F9</th>\n",
       "      <th>AIRLINE_CODE_NK</th>\n",
       "      <th>AIRLINE_CODE_WN</th>\n",
       "      <th>DELAY</th>\n",
       "    </tr>\n",
       "  </thead>\n",
       "  <tbody>\n",
       "    <tr>\n",
       "      <th>0</th>\n",
       "      <td>-0.183823</td>\n",
       "      <td>0.953405</td>\n",
       "      <td>-0.197340</td>\n",
       "      <td>-0.049356</td>\n",
       "      <td>-0.173250</td>\n",
       "      <td>-0.338229</td>\n",
       "      <td>0.355234</td>\n",
       "      <td>0.968963</td>\n",
       "      <td>-0.831951</td>\n",
       "      <td>1.272981</td>\n",
       "      <td>-1.154643</td>\n",
       "      <td>0.635367</td>\n",
       "      <td>-0.012411</td>\n",
       "      <td>-0.196758</td>\n",
       "      <td>-0.195912</td>\n",
       "      <td>-0.627413</td>\n",
       "      <td>0</td>\n",
       "    </tr>\n",
       "    <tr>\n",
       "      <th>1</th>\n",
       "      <td>1.290198</td>\n",
       "      <td>0.130607</td>\n",
       "      <td>1.646300</td>\n",
       "      <td>0.210238</td>\n",
       "      <td>0.679172</td>\n",
       "      <td>0.458044</td>\n",
       "      <td>-2.880781</td>\n",
       "      <td>0.179502</td>\n",
       "      <td>-0.101151</td>\n",
       "      <td>1.458055</td>\n",
       "      <td>-0.782361</td>\n",
       "      <td>1.341846</td>\n",
       "      <td>-0.012411</td>\n",
       "      <td>-0.196758</td>\n",
       "      <td>-0.195912</td>\n",
       "      <td>-0.627413</td>\n",
       "      <td>1</td>\n",
       "    </tr>\n",
       "    <tr>\n",
       "      <th>2</th>\n",
       "      <td>0.241376</td>\n",
       "      <td>0.404873</td>\n",
       "      <td>-0.197340</td>\n",
       "      <td>-1.412224</td>\n",
       "      <td>-0.078537</td>\n",
       "      <td>0.116784</td>\n",
       "      <td>0.355234</td>\n",
       "      <td>-1.662574</td>\n",
       "      <td>1.164632</td>\n",
       "      <td>-0.614061</td>\n",
       "      <td>-0.283830</td>\n",
       "      <td>-1.017175</td>\n",
       "      <td>-0.012411</td>\n",
       "      <td>-0.196758</td>\n",
       "      <td>-0.195912</td>\n",
       "      <td>-0.627413</td>\n",
       "      <td>0</td>\n",
       "    </tr>\n",
       "    <tr>\n",
       "      <th>3</th>\n",
       "      <td>-0.325555</td>\n",
       "      <td>1.776202</td>\n",
       "      <td>-0.197340</td>\n",
       "      <td>0.859223</td>\n",
       "      <td>-0.078537</td>\n",
       "      <td>-0.565736</td>\n",
       "      <td>-2.797807</td>\n",
       "      <td>0.442656</td>\n",
       "      <td>1.360449</td>\n",
       "      <td>0.076644</td>\n",
       "      <td>-0.782361</td>\n",
       "      <td>1.341846</td>\n",
       "      <td>-0.012411</td>\n",
       "      <td>-0.196758</td>\n",
       "      <td>-0.195912</td>\n",
       "      <td>-0.627413</td>\n",
       "      <td>0</td>\n",
       "    </tr>\n",
       "    <tr>\n",
       "      <th>4</th>\n",
       "      <td>0.836653</td>\n",
       "      <td>-0.143659</td>\n",
       "      <td>1.199357</td>\n",
       "      <td>-0.568544</td>\n",
       "      <td>0.300318</td>\n",
       "      <td>-0.110722</td>\n",
       "      <td>0.355234</td>\n",
       "      <td>-1.662574</td>\n",
       "      <td>-0.101151</td>\n",
       "      <td>1.458055</td>\n",
       "      <td>-1.017878</td>\n",
       "      <td>1.013764</td>\n",
       "      <td>-0.012411</td>\n",
       "      <td>-0.196758</td>\n",
       "      <td>-0.195912</td>\n",
       "      <td>1.593847</td>\n",
       "      <td>1</td>\n",
       "    </tr>\n",
       "  </tbody>\n",
       "</table>\n",
       "</div>"
      ],
      "text/plain": [
       "   DEPARTURE_DELAY  SCHEDULED_TIME  LATE_AIRCRAFT_DELAY       QNH  dew_point  \\\n",
       "0        -0.183823        0.953405            -0.197340 -0.049356  -0.173250   \n",
       "1         1.290198        0.130607             1.646300  0.210238   0.679172   \n",
       "2         0.241376        0.404873            -0.197340 -1.412224  -0.078537   \n",
       "3        -0.325555        1.776202            -0.197340  0.859223  -0.078537   \n",
       "4         0.836653       -0.143659             1.199357 -0.568544   0.300318   \n",
       "\n",
       "       temp  visibility   windspd  SCHEDULED_ARRIVAL_MONTH_sin  \\\n",
       "0 -0.338229    0.355234  0.968963                    -0.831951   \n",
       "1  0.458044   -2.880781  0.179502                    -0.101151   \n",
       "2  0.116784    0.355234 -1.662574                     1.164632   \n",
       "3 -0.565736   -2.797807  0.442656                     1.360449   \n",
       "4 -0.110722    0.355234 -1.662574                    -0.101151   \n",
       "\n",
       "   SCHEDULED_ARRIVAL_MONTH_cos  SCHEDULED_ARRIVAL_HOUR_sin  \\\n",
       "0                     1.272981                   -1.154643   \n",
       "1                     1.458055                   -0.782361   \n",
       "2                    -0.614061                   -0.283830   \n",
       "3                     0.076644                   -0.782361   \n",
       "4                     1.458055                   -1.017878   \n",
       "\n",
       "   SCHEDULED_ARRIVAL_HOUR_cos  AIRLINE_CODE_EV  AIRLINE_CODE_F9  \\\n",
       "0                    0.635367        -0.012411        -0.196758   \n",
       "1                    1.341846        -0.012411        -0.196758   \n",
       "2                   -1.017175        -0.012411        -0.196758   \n",
       "3                    1.341846        -0.012411        -0.196758   \n",
       "4                    1.013764        -0.012411        -0.196758   \n",
       "\n",
       "   AIRLINE_CODE_NK  AIRLINE_CODE_WN  DELAY  \n",
       "0        -0.195912        -0.627413      0  \n",
       "1        -0.195912        -0.627413      1  \n",
       "2        -0.195912        -0.627413      0  \n",
       "3        -0.195912        -0.627413      0  \n",
       "4        -0.195912         1.593847      1  "
      ]
     },
     "execution_count": 4,
     "metadata": {},
     "output_type": "execute_result"
    }
   ],
   "source": [
    "df_test.head()"
   ]
  },
  {
   "cell_type": "markdown",
   "metadata": {},
   "source": [
    "---\n",
    "### (2) Setting X_train, X_test, y_train & y_test\n",
    "\n",
    "---"
   ]
  },
  {
   "cell_type": "code",
   "execution_count": 5,
   "metadata": {},
   "outputs": [],
   "source": [
    "X_train = df.drop('DELAY', axis=1)\n",
    "y_train = df['DELAY']\n",
    "X_test = df_test.drop('DELAY', axis=1)\n",
    "y_test = df_test['DELAY']"
   ]
  },
  {
   "cell_type": "code",
   "execution_count": 6,
   "metadata": {},
   "outputs": [
    {
     "data": {
      "text/plain": [
       "(22044, 16)"
      ]
     },
     "execution_count": 6,
     "metadata": {},
     "output_type": "execute_result"
    }
   ],
   "source": [
    "X_train.shape"
   ]
  },
  {
   "cell_type": "code",
   "execution_count": 7,
   "metadata": {},
   "outputs": [
    {
     "data": {
      "text/plain": [
       "(1624, 16)"
      ]
     },
     "execution_count": 7,
     "metadata": {},
     "output_type": "execute_result"
    }
   ],
   "source": [
    "X_test.shape"
   ]
  },
  {
   "cell_type": "code",
   "execution_count": 8,
   "metadata": {},
   "outputs": [
    {
     "data": {
      "text/plain": [
       "Index(['DEPARTURE_DELAY', 'SCHEDULED_TIME', 'LATE_AIRCRAFT_DELAY', 'QNH',\n",
       "       'dew_point', 'temp', 'visibility', 'windspd',\n",
       "       'SCHEDULED_ARRIVAL_MONTH_sin', 'SCHEDULED_ARRIVAL_MONTH_cos',\n",
       "       'SCHEDULED_ARRIVAL_HOUR_sin', 'SCHEDULED_ARRIVAL_HOUR_cos',\n",
       "       'AIRLINE_CODE_EV', 'AIRLINE_CODE_F9', 'AIRLINE_CODE_NK',\n",
       "       'AIRLINE_CODE_WN'],\n",
       "      dtype='object')"
      ]
     },
     "execution_count": 8,
     "metadata": {},
     "output_type": "execute_result"
    }
   ],
   "source": [
    "X_train.columns"
   ]
  },
  {
   "cell_type": "code",
   "execution_count": 9,
   "metadata": {
    "scrolled": true
   },
   "outputs": [
    {
     "data": {
      "text/plain": [
       "16"
      ]
     },
     "execution_count": 9,
     "metadata": {},
     "output_type": "execute_result"
    }
   ],
   "source": [
    "len(X_train.columns)"
   ]
  },
  {
   "cell_type": "markdown",
   "metadata": {},
   "source": [
    "---\n",
    "### (3) Model (I): Logistic Regression\n",
    "\n",
    "---"
   ]
  },
  {
   "cell_type": "code",
   "execution_count": 10,
   "metadata": {},
   "outputs": [
    {
     "data": {
      "text/plain": [
       "LogisticRegression(C=1.0, class_weight=None, dual=False, fit_intercept=True,\n",
       "                   intercept_scaling=1, l1_ratio=None, max_iter=1000,\n",
       "                   multi_class='auto', n_jobs=None, penalty='l2',\n",
       "                   random_state=None, solver='lbfgs', tol=0.0001, verbose=0,\n",
       "                   warm_start=False)"
      ]
     },
     "execution_count": 10,
     "metadata": {},
     "output_type": "execute_result"
    }
   ],
   "source": [
    "lr = LogisticRegression(max_iter=1000)\n",
    "lr.fit(X_train, y_train)"
   ]
  },
  {
   "cell_type": "code",
   "execution_count": 11,
   "metadata": {},
   "outputs": [
    {
     "data": {
      "text/plain": [
       "0.9001547527557682"
      ]
     },
     "execution_count": 11,
     "metadata": {},
     "output_type": "execute_result"
    }
   ],
   "source": [
    "cross_val_score(lr, X_train, y_train).mean()"
   ]
  },
  {
   "cell_type": "code",
   "execution_count": 12,
   "metadata": {},
   "outputs": [
    {
     "data": {
      "text/plain": [
       "0.9057881773399015"
      ]
     },
     "execution_count": 12,
     "metadata": {},
     "output_type": "execute_result"
    }
   ],
   "source": [
    "lr.score(X_test, y_test)"
   ]
  },
  {
   "cell_type": "code",
   "execution_count": 13,
   "metadata": {},
   "outputs": [
    {
     "name": "stdout",
     "output_type": "stream",
     "text": [
      "               precision    recall  f1-score   support\n",
      "\n",
      "      <15mins       0.97      0.94      0.96      1378\n",
      "15mins to 1hr       0.54      0.69      0.61       167\n",
      "    1 to 3hrs       0.74      0.76      0.75        66\n",
      "        >3hrs       0.93      1.00      0.96        13\n",
      "\n",
      "     accuracy                           0.91      1624\n",
      "    macro avg       0.79      0.85      0.82      1624\n",
      " weighted avg       0.92      0.91      0.91      1624\n",
      "\n"
     ]
    }
   ],
   "source": [
    "target_names = ['<15mins', '15mins to 1hr', '1 to 3hrs', '>3hrs']\n",
    "print(classification_report(y_test, lr.predict(X_test),target_names=target_names))"
   ]
  },
  {
   "cell_type": "code",
   "execution_count": 14,
   "metadata": {},
   "outputs": [],
   "source": [
    "# Exporting model\n",
    "\n",
    "# lr_filename = '../models/classification_logreg_model.sav'\n",
    "# pickle.dump(lr, open(lr_filename, 'wb'))"
   ]
  },
  {
   "cell_type": "markdown",
   "metadata": {},
   "source": [
    "---\n",
    "### (4) Model (II): RandomForest\n",
    "\n",
    "---"
   ]
  },
  {
   "cell_type": "code",
   "execution_count": 15,
   "metadata": {},
   "outputs": [],
   "source": [
    "rf = RandomForestClassifier()"
   ]
  },
  {
   "cell_type": "code",
   "execution_count": 16,
   "metadata": {},
   "outputs": [],
   "source": [
    "rf_params = {\n",
    "  \"n_estimators\":[50,100,200],\n",
    "  \"min_samples_split\":[10,20,30],\n",
    "  \"max_depth\":[5,10,20]\n",
    "}\n",
    "\n",
    "rf_cv = RandomizedSearchCV(rf, param_distributions=rf_params, scoring='f1_micro', n_iter=2, n_jobs=4, verbose=2)"
   ]
  },
  {
   "cell_type": "code",
   "execution_count": 17,
   "metadata": {},
   "outputs": [
    {
     "name": "stdout",
     "output_type": "stream",
     "text": [
      "Fitting 5 folds for each of 2 candidates, totalling 10 fits\n"
     ]
    },
    {
     "name": "stderr",
     "output_type": "stream",
     "text": [
      "[Parallel(n_jobs=4)]: Using backend LokyBackend with 4 concurrent workers.\n",
      "[Parallel(n_jobs=4)]: Done  10 out of  10 | elapsed:    7.1s finished\n"
     ]
    },
    {
     "data": {
      "text/plain": [
       "RandomizedSearchCV(cv=None, error_score=nan,\n",
       "                   estimator=RandomForestClassifier(bootstrap=True,\n",
       "                                                    ccp_alpha=0.0,\n",
       "                                                    class_weight=None,\n",
       "                                                    criterion='gini',\n",
       "                                                    max_depth=None,\n",
       "                                                    max_features='auto',\n",
       "                                                    max_leaf_nodes=None,\n",
       "                                                    max_samples=None,\n",
       "                                                    min_impurity_decrease=0.0,\n",
       "                                                    min_impurity_split=None,\n",
       "                                                    min_samples_leaf=1,\n",
       "                                                    min_samples_split=2,\n",
       "                                                    min_weight_fraction_leaf=0.0,\n",
       "                                                    n_estimators=100,\n",
       "                                                    n_jobs=None,\n",
       "                                                    oob_score=False,\n",
       "                                                    random_state=None,\n",
       "                                                    verbose=0,\n",
       "                                                    warm_start=False),\n",
       "                   iid='deprecated', n_iter=2, n_jobs=4,\n",
       "                   param_distributions={'max_depth': [5, 10, 20],\n",
       "                                        'min_samples_split': [10, 20, 30],\n",
       "                                        'n_estimators': [50, 100, 200]},\n",
       "                   pre_dispatch='2*n_jobs', random_state=None, refit=True,\n",
       "                   return_train_score=False, scoring='f1_micro', verbose=2)"
      ]
     },
     "execution_count": 17,
     "metadata": {},
     "output_type": "execute_result"
    }
   ],
   "source": [
    "rf_cv.fit(X_train, y_train)"
   ]
  },
  {
   "cell_type": "code",
   "execution_count": 18,
   "metadata": {},
   "outputs": [
    {
     "data": {
      "text/plain": [
       "{'n_estimators': 50, 'min_samples_split': 10, 'max_depth': 20}"
      ]
     },
     "execution_count": 18,
     "metadata": {},
     "output_type": "execute_result"
    }
   ],
   "source": [
    "rf_cv.best_params_"
   ]
  },
  {
   "cell_type": "code",
   "execution_count": 19,
   "metadata": {},
   "outputs": [],
   "source": [
    "opt_rf = RandomForestClassifier(n_estimators=100, min_samples_split=30, max_depth=20)"
   ]
  },
  {
   "cell_type": "code",
   "execution_count": 20,
   "metadata": {},
   "outputs": [
    {
     "data": {
      "text/plain": [
       "RandomForestClassifier(bootstrap=True, ccp_alpha=0.0, class_weight=None,\n",
       "                       criterion='gini', max_depth=20, max_features='auto',\n",
       "                       max_leaf_nodes=None, max_samples=None,\n",
       "                       min_impurity_decrease=0.0, min_impurity_split=None,\n",
       "                       min_samples_leaf=1, min_samples_split=30,\n",
       "                       min_weight_fraction_leaf=0.0, n_estimators=100,\n",
       "                       n_jobs=None, oob_score=False, random_state=None,\n",
       "                       verbose=0, warm_start=False)"
      ]
     },
     "execution_count": 20,
     "metadata": {},
     "output_type": "execute_result"
    }
   ],
   "source": [
    "opt_rf.fit(X_train, y_train)"
   ]
  },
  {
   "cell_type": "code",
   "execution_count": 21,
   "metadata": {},
   "outputs": [
    {
     "data": {
      "text/plain": [
       "0.967746646337573"
      ]
     },
     "execution_count": 21,
     "metadata": {},
     "output_type": "execute_result"
    }
   ],
   "source": [
    "cross_val_score(opt_rf, X_train, y_train).mean()"
   ]
  },
  {
   "cell_type": "code",
   "execution_count": 22,
   "metadata": {},
   "outputs": [
    {
     "data": {
      "text/plain": [
       "0.9685587561491307"
      ]
     },
     "execution_count": 22,
     "metadata": {},
     "output_type": "execute_result"
    }
   ],
   "source": [
    "cross_val_score(opt_rf, X_train, y_train, scoring='f1_macro').mean()"
   ]
  },
  {
   "cell_type": "code",
   "execution_count": 23,
   "metadata": {},
   "outputs": [
    {
     "data": {
      "text/plain": [
       "0.9519704433497537"
      ]
     },
     "execution_count": 23,
     "metadata": {},
     "output_type": "execute_result"
    }
   ],
   "source": [
    "opt_rf.score(X_test, y_test)"
   ]
  },
  {
   "cell_type": "code",
   "execution_count": 24,
   "metadata": {},
   "outputs": [
    {
     "name": "stdout",
     "output_type": "stream",
     "text": [
      "               precision    recall  f1-score   support\n",
      "\n",
      "      <15mins       0.97      0.99      0.98      1378\n",
      "15mins to 1hr       0.80      0.72      0.76       167\n",
      "    1 to 3hrs       0.85      0.76      0.80        66\n",
      "        >3hrs       1.00      1.00      1.00        13\n",
      "\n",
      "     accuracy                           0.95      1624\n",
      "    macro avg       0.91      0.87      0.89      1624\n",
      " weighted avg       0.95      0.95      0.95      1624\n",
      "\n"
     ]
    }
   ],
   "source": [
    "target_names = ['<15mins', '15mins to 1hr', '1 to 3hrs', '>3hrs']\n",
    "print(classification_report(y_test, opt_rf.predict(X_test),target_names=target_names))"
   ]
  },
  {
   "cell_type": "code",
   "execution_count": 25,
   "metadata": {},
   "outputs": [],
   "source": [
    "# Exporting model\n",
    "\n",
    "rf_filename = '../models/classification_rf_model_mco.sav'\n",
    "pickle.dump(opt_rf, open(rf_filename, 'wb'))"
   ]
  },
  {
   "cell_type": "markdown",
   "metadata": {},
   "source": [
    "---\n",
    "### (5) Model (III): XGBoost\n",
    "\n",
    "---"
   ]
  },
  {
   "cell_type": "code",
   "execution_count": 26,
   "metadata": {},
   "outputs": [],
   "source": [
    "xgbc = xgb.XGBClassifier()"
   ]
  },
  {
   "cell_type": "code",
   "execution_count": 27,
   "metadata": {},
   "outputs": [],
   "source": [
    "xgbc_params = {\n",
    "  \"learning_rate\":[0.01, 0.1, 0.2, 0.3],\n",
    "  \"max_depth\":[3, 5, 10]\n",
    "}\n",
    "\n",
    "xgbc_cv = RandomizedSearchCV(xgbc, param_distributions=xgbc_params, scoring='f1_micro', n_iter=2, n_jobs=4, verbose=2)"
   ]
  },
  {
   "cell_type": "code",
   "execution_count": 28,
   "metadata": {},
   "outputs": [
    {
     "name": "stdout",
     "output_type": "stream",
     "text": [
      "Fitting 5 folds for each of 2 candidates, totalling 10 fits\n"
     ]
    },
    {
     "name": "stderr",
     "output_type": "stream",
     "text": [
      "[Parallel(n_jobs=4)]: Using backend LokyBackend with 4 concurrent workers.\n",
      "[Parallel(n_jobs=4)]: Done  10 out of  10 | elapsed:  1.1min finished\n"
     ]
    },
    {
     "data": {
      "text/plain": [
       "RandomizedSearchCV(cv=None, error_score=nan,\n",
       "                   estimator=XGBClassifier(base_score=0.5, booster='gbtree',\n",
       "                                           colsample_bylevel=1,\n",
       "                                           colsample_bynode=1,\n",
       "                                           colsample_bytree=1, gamma=0,\n",
       "                                           learning_rate=0.1, max_delta_step=0,\n",
       "                                           max_depth=3, min_child_weight=1,\n",
       "                                           missing=None, n_estimators=100,\n",
       "                                           n_jobs=1, nthread=None,\n",
       "                                           objective='binary:logistic',\n",
       "                                           random_state=0, reg_alpha=0,\n",
       "                                           reg_lambda=1, scale_pos_weight=1,\n",
       "                                           seed=None, silent=None, subsample=1,\n",
       "                                           verbosity=1),\n",
       "                   iid='deprecated', n_iter=2, n_jobs=4,\n",
       "                   param_distributions={'learning_rate': [0.01, 0.1, 0.2, 0.3],\n",
       "                                        'max_depth': [3, 5, 10]},\n",
       "                   pre_dispatch='2*n_jobs', random_state=None, refit=True,\n",
       "                   return_train_score=False, scoring='f1_micro', verbose=2)"
      ]
     },
     "execution_count": 28,
     "metadata": {},
     "output_type": "execute_result"
    }
   ],
   "source": [
    "xgbc_cv.fit(X_train, y_train)"
   ]
  },
  {
   "cell_type": "code",
   "execution_count": 29,
   "metadata": {},
   "outputs": [
    {
     "data": {
      "text/plain": [
       "{'max_depth': 10, 'learning_rate': 0.1}"
      ]
     },
     "execution_count": 29,
     "metadata": {},
     "output_type": "execute_result"
    }
   ],
   "source": [
    "xgbc_cv.best_params_"
   ]
  },
  {
   "cell_type": "code",
   "execution_count": 30,
   "metadata": {},
   "outputs": [],
   "source": [
    "opt_xgb = xgb.XGBClassifier(max_depth=10, learning_rate=0.2)"
   ]
  },
  {
   "cell_type": "code",
   "execution_count": 31,
   "metadata": {},
   "outputs": [
    {
     "data": {
      "text/plain": [
       "XGBClassifier(base_score=0.5, booster='gbtree', colsample_bylevel=1,\n",
       "              colsample_bynode=1, colsample_bytree=1, gamma=0,\n",
       "              learning_rate=0.2, max_delta_step=0, max_depth=10,\n",
       "              min_child_weight=1, missing=None, n_estimators=100, n_jobs=1,\n",
       "              nthread=None, objective='multi:softprob', random_state=0,\n",
       "              reg_alpha=0, reg_lambda=1, scale_pos_weight=1, seed=None,\n",
       "              silent=None, subsample=1, verbosity=1)"
      ]
     },
     "execution_count": 31,
     "metadata": {},
     "output_type": "execute_result"
    }
   ],
   "source": [
    "opt_xgb.fit(X_train, y_train)"
   ]
  },
  {
   "cell_type": "code",
   "execution_count": 32,
   "metadata": {
    "scrolled": true
   },
   "outputs": [
    {
     "data": {
      "text/plain": [
       "0.9850303310461731"
      ]
     },
     "execution_count": 32,
     "metadata": {},
     "output_type": "execute_result"
    }
   ],
   "source": [
    "cross_val_score(opt_xgb, X_train, y_train).mean()"
   ]
  },
  {
   "cell_type": "code",
   "execution_count": 33,
   "metadata": {
    "scrolled": true
   },
   "outputs": [
    {
     "data": {
      "text/plain": [
       "0.9538177339901478"
      ]
     },
     "execution_count": 33,
     "metadata": {},
     "output_type": "execute_result"
    }
   ],
   "source": [
    "opt_xgb.score(X_test, y_test)"
   ]
  },
  {
   "cell_type": "code",
   "execution_count": 34,
   "metadata": {
    "scrolled": true
   },
   "outputs": [
    {
     "name": "stdout",
     "output_type": "stream",
     "text": [
      "               precision    recall  f1-score   support\n",
      "\n",
      "      <15mins       0.97      0.99      0.98      1378\n",
      "15mins to 1hr       0.84      0.70      0.76       167\n",
      "    1 to 3hrs       0.85      0.76      0.80        66\n",
      "        >3hrs       1.00      0.92      0.96        13\n",
      "\n",
      "     accuracy                           0.95      1624\n",
      "    macro avg       0.91      0.84      0.88      1624\n",
      " weighted avg       0.95      0.95      0.95      1624\n",
      "\n"
     ]
    }
   ],
   "source": [
    "target_names = ['<15mins', '15mins to 1hr', '1 to 3hrs', '>3hrs']\n",
    "print(classification_report(y_test, opt_xgb.predict(X_test),target_names=target_names))"
   ]
  },
  {
   "cell_type": "code",
   "execution_count": 35,
   "metadata": {},
   "outputs": [],
   "source": [
    "# Exporting model\n",
    "\n",
    "# xgb_filename = '../models/classification_xgb_model.sav'\n",
    "# pickle.dump(opt_xgb, open(xgb_filename, 'wb'))"
   ]
  },
  {
   "cell_type": "markdown",
   "metadata": {},
   "source": [
    "---\n",
    "### (6) Model (IV): Neural Networks\n",
    "\n",
    "---"
   ]
  },
  {
   "cell_type": "code",
   "execution_count": 36,
   "metadata": {},
   "outputs": [],
   "source": [
    "from keras.utils import to_categorical"
   ]
  },
  {
   "cell_type": "code",
   "execution_count": 37,
   "metadata": {},
   "outputs": [],
   "source": [
    "y_train_enc = to_categorical(y_train)\n",
    "y_test_enc = to_categorical(y_test)"
   ]
  },
  {
   "cell_type": "code",
   "execution_count": 43,
   "metadata": {},
   "outputs": [],
   "source": [
    "model = Sequential()"
   ]
  },
  {
   "cell_type": "code",
   "execution_count": 44,
   "metadata": {},
   "outputs": [],
   "source": [
    "model.add(Dense(10, \n",
    "                input_dim=16, \n",
    "                activation='relu'))\n",
    "\n",
    "# Dropout did not help improve accuracy in this case\n",
    "# model.add(Dropout(0.5))\n",
    "\n",
    "model.add(Dense(4, \n",
    "                activation='softmax'))"
   ]
  },
  {
   "cell_type": "code",
   "execution_count": 45,
   "metadata": {},
   "outputs": [
    {
     "name": "stdout",
     "output_type": "stream",
     "text": [
      "Model: \"sequential_2\"\n",
      "_________________________________________________________________\n",
      "Layer (type)                 Output Shape              Param #   \n",
      "=================================================================\n",
      "dense_3 (Dense)              (None, 10)                170       \n",
      "_________________________________________________________________\n",
      "dense_4 (Dense)              (None, 4)                 44        \n",
      "=================================================================\n",
      "Total params: 214\n",
      "Trainable params: 214\n",
      "Non-trainable params: 0\n",
      "_________________________________________________________________\n"
     ]
    }
   ],
   "source": [
    "model.summary()"
   ]
  },
  {
   "cell_type": "code",
   "execution_count": 46,
   "metadata": {},
   "outputs": [],
   "source": [
    "es = EarlyStopping(monitor='val_loss', patience=3)\n",
    "\n",
    "model.compile(optimizer='adam', loss='categorical_crossentropy', metrics=['accuracy'])"
   ]
  },
  {
   "cell_type": "code",
   "execution_count": 47,
   "metadata": {
    "scrolled": true
   },
   "outputs": [
    {
     "name": "stdout",
     "output_type": "stream",
     "text": [
      "Train on 17635 samples, validate on 4409 samples\n",
      "Epoch 1/200\n",
      "17635/17635 [==============================] - 4s 207us/step - loss: 0.8224 - accuracy: 0.6789 - val_loss: 0.3686 - val_accuracy: 0.8412\n",
      "Epoch 2/200\n",
      "17635/17635 [==============================] - 3s 182us/step - loss: 0.4304 - accuracy: 0.8470 - val_loss: 0.2495 - val_accuracy: 0.9072\n",
      "Epoch 3/200\n",
      "17635/17635 [==============================] - 3s 171us/step - loss: 0.3612 - accuracy: 0.8700 - val_loss: 0.1874 - val_accuracy: 0.9295\n",
      "Epoch 4/200\n",
      "17635/17635 [==============================] - 3s 168us/step - loss: 0.3276 - accuracy: 0.8783 - val_loss: 0.1248 - val_accuracy: 0.9589\n",
      "Epoch 5/200\n",
      "17635/17635 [==============================] - 3s 170us/step - loss: 0.3082 - accuracy: 0.8839 - val_loss: 0.1371 - val_accuracy: 0.9503\n",
      "Epoch 6/200\n",
      "17635/17635 [==============================] - 3s 194us/step - loss: 0.2951 - accuracy: 0.8862 - val_loss: 0.0934 - val_accuracy: 0.9778\n",
      "Epoch 7/200\n",
      "17635/17635 [==============================] - 3s 180us/step - loss: 0.2866 - accuracy: 0.8887 - val_loss: 0.0600 - val_accuracy: 0.9832\n",
      "Epoch 8/200\n",
      "17635/17635 [==============================] - 3s 174us/step - loss: 0.2795 - accuracy: 0.8906 - val_loss: 0.0834 - val_accuracy: 0.9821\n",
      "Epoch 9/200\n",
      "17635/17635 [==============================] - 4s 208us/step - loss: 0.2730 - accuracy: 0.8928 - val_loss: 0.0679 - val_accuracy: 0.9864\n",
      "Epoch 10/200\n",
      "17635/17635 [==============================] - 3s 170us/step - loss: 0.2667 - accuracy: 0.8941 - val_loss: 0.0320 - val_accuracy: 0.9898\n",
      "Epoch 11/200\n",
      "17635/17635 [==============================] - 4s 204us/step - loss: 0.2626 - accuracy: 0.8959 - val_loss: 0.0424 - val_accuracy: 0.9871\n",
      "Epoch 12/200\n",
      "17635/17635 [==============================] - 3s 161us/step - loss: 0.2587 - accuracy: 0.8969 - val_loss: 0.0524 - val_accuracy: 0.9864\n",
      "Epoch 13/200\n",
      "17635/17635 [==============================] - 3s 154us/step - loss: 0.2562 - accuracy: 0.8967 - val_loss: 0.0550 - val_accuracy: 0.9862\n"
     ]
    },
    {
     "data": {
      "text/plain": [
       "<keras.callbacks.callbacks.History at 0x1bf0cba8588>"
      ]
     },
     "execution_count": 47,
     "metadata": {},
     "output_type": "execute_result"
    }
   ],
   "source": [
    "model.fit(X_train, y_train_enc, batch_size=8, epochs=200, validation_split=0.2, callbacks=[es])"
   ]
  },
  {
   "cell_type": "code",
   "execution_count": 48,
   "metadata": {},
   "outputs": [
    {
     "name": "stdout",
     "output_type": "stream",
     "text": [
      "1624/1624 [==============================] - 0s 26us/step\n"
     ]
    },
    {
     "data": {
      "text/plain": [
       "[0.2916400658673254, 0.9113300442695618]"
      ]
     },
     "execution_count": 48,
     "metadata": {},
     "output_type": "execute_result"
    }
   ],
   "source": [
    "model.evaluate(X_test, y_test_enc)"
   ]
  },
  {
   "cell_type": "code",
   "execution_count": 49,
   "metadata": {
    "scrolled": true
   },
   "outputs": [
    {
     "name": "stdout",
     "output_type": "stream",
     "text": [
      "              precision    recall  f1-score   support\n",
      "\n",
      "        <1hr       0.98      0.93      0.96      1378\n",
      "   1 to 2hrs       0.55      0.79      0.65       167\n",
      "   2 to 3hrs       0.83      0.76      0.79        66\n",
      "       >3hrs       0.93      1.00      0.96        13\n",
      "\n",
      "    accuracy                           0.91      1624\n",
      "   macro avg       0.82      0.87      0.84      1624\n",
      "weighted avg       0.93      0.91      0.92      1624\n",
      "\n"
     ]
    }
   ],
   "source": [
    "y_nn_pred = model.predict(X_test).argmax(axis=-1)\n",
    "target_names = ['<1hr', '1 to 2hrs', '2 to 3hrs', '>3hrs']\n",
    "\n",
    "print(classification_report(y_test, y_nn_pred, target_names=target_names))"
   ]
  },
  {
   "cell_type": "code",
   "execution_count": 50,
   "metadata": {},
   "outputs": [],
   "source": [
    "# Exporting model\n",
    "\n",
    "# nn_filename = '../models/classification_nn_model.sav'\n",
    "# pickle.dump(model, open(nn_filename, 'wb'))"
   ]
  }
 ],
 "metadata": {
  "kernelspec": {
   "display_name": "Python 3",
   "language": "python",
   "name": "python3"
  },
  "language_info": {
   "codemirror_mode": {
    "name": "ipython",
    "version": 3
   },
   "file_extension": ".py",
   "mimetype": "text/x-python",
   "name": "python",
   "nbconvert_exporter": "python",
   "pygments_lexer": "ipython3",
   "version": "3.7.4"
  },
  "name": "Modeling (Classification) - airborne to destination",
  "notebookId": 2049533585937493
 },
 "nbformat": 4,
 "nbformat_minor": 1
}
