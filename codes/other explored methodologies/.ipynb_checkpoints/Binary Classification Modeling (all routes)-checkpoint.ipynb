{
 "cells": [
  {
   "cell_type": "markdown",
   "metadata": {},
   "source": [
    "<img src=\"../../images/airplane-symbol.jpg\" style=\"float: left; margin: 20px;\" width=\"50\" height=\"50\"> \n",
    "#  Predicting Flight Delays (<i>a Proof-of-Concept</i>)\n",
    "\n",
    "Author: Solomon Heng\n",
    "\n",
    "---"
   ]
  },
  {
   "cell_type": "markdown",
   "metadata": {},
   "source": [
    "# Binary Classification Modeling (all routes)\n",
    "\n",
    "## Processes covered in this notebook:\n",
    "1. [Importing dataset](#(1)-Importing-dataset)\n",
    "2. [Setting X_train, X_test, y_train & y_test](#(2)-Setting-X_train,-X_test,-y_train-&-y_test)\n",
    "3. [Model (I): Logistic Regression](#(3)-Model-(I):-Logistic-Regression)\n",
    "4. [Model (II): RandomForest](#(4)-Model-(II):-RandomForest)\n",
    "5. [Model (III): XGBoost](#(5)-Model-(III):-XGBoost)\n",
    "6. [Model (IV): Neural Networks](#(6)-Model-(IV):-Neural-Networks)"
   ]
  },
  {
   "cell_type": "code",
   "execution_count": 1,
   "metadata": {},
   "outputs": [
    {
     "name": "stderr",
     "output_type": "stream",
     "text": [
      "Using TensorFlow backend.\n"
     ]
    }
   ],
   "source": [
    "import pandas as pd\n",
    "import numpy as np\n",
    "import matplotlib.pyplot as plt\n",
    "import seaborn as sns\n",
    "\n",
    "from sklearn.preprocessing import StandardScaler\n",
    "from sklearn.linear_model import LogisticRegression\n",
    "from sklearn.model_selection import train_test_split, cross_val_score, RandomizedSearchCV\n",
    "from sklearn.feature_selection import RFE\n",
    "from sklearn.metrics import confusion_matrix, roc_auc_score\n",
    "from sklearn.ensemble import RandomForestClassifier\n",
    "from sklearn.svm import SVC\n",
    "from sklearn.decomposition import PCA\n",
    "\n",
    "from keras.models import Sequential\n",
    "from keras.layers import Dense, Dropout\n",
    "from keras.callbacks import EarlyStopping\n",
    "from keras import backend as K\n",
    "\n",
    "import xgboost as xgb\n",
    "\n",
    "import pickle\n",
    "\n",
    "sns.set()"
   ]
  },
  {
   "cell_type": "markdown",
   "metadata": {},
   "source": [
    "---\n",
    "### (1) Importing dataset\n",
    "\n",
    "---"
   ]
  },
  {
   "cell_type": "code",
   "execution_count": 2,
   "metadata": {},
   "outputs": [],
   "source": [
    "df = pd.read_csv('../datasets/combined_data_classification.csv')\n",
    "df_test = pd.read_csv('../datasets/combined_data_classification_test.csv')"
   ]
  },
  {
   "cell_type": "code",
   "execution_count": 3,
   "metadata": {
    "scrolled": true
   },
   "outputs": [
    {
     "data": {
      "text/html": [
       "<div>\n",
       "<style scoped>\n",
       "    .dataframe tbody tr th:only-of-type {\n",
       "        vertical-align: middle;\n",
       "    }\n",
       "\n",
       "    .dataframe tbody tr th {\n",
       "        vertical-align: top;\n",
       "    }\n",
       "\n",
       "    .dataframe thead th {\n",
       "        text-align: right;\n",
       "    }\n",
       "</style>\n",
       "<table border=\"1\" class=\"dataframe\">\n",
       "  <thead>\n",
       "    <tr style=\"text-align: right;\">\n",
       "      <th></th>\n",
       "      <th>DEPARTURE_DELAY</th>\n",
       "      <th>SCHEDULED_TIME</th>\n",
       "      <th>DISTANCE</th>\n",
       "      <th>LATE_AIRCRAFT_DELAY</th>\n",
       "      <th>QNH</th>\n",
       "      <th>dew_point</th>\n",
       "      <th>snow</th>\n",
       "      <th>squall</th>\n",
       "      <th>temp</th>\n",
       "      <th>visibility</th>\n",
       "      <th>winddir</th>\n",
       "      <th>windspd</th>\n",
       "      <th>windgust</th>\n",
       "      <th>NUM_ARR_AVG_3HOUR</th>\n",
       "      <th>crosswind_comp</th>\n",
       "      <th>SCHEDULED_ARRIVAL_MONTH_11</th>\n",
       "      <th>SCHEDULED_ARRIVAL_MONTH_12</th>\n",
       "      <th>SCHEDULED_ARRIVAL_MONTH_2</th>\n",
       "      <th>SCHEDULED_ARRIVAL_MONTH_3</th>\n",
       "      <th>SCHEDULED_ARRIVAL_MONTH_4</th>\n",
       "      <th>SCHEDULED_ARRIVAL_MONTH_5</th>\n",
       "      <th>SCHEDULED_ARRIVAL_MONTH_6</th>\n",
       "      <th>SCHEDULED_ARRIVAL_MONTH_7</th>\n",
       "      <th>SCHEDULED_ARRIVAL_MONTH_8</th>\n",
       "      <th>SCHEDULED_ARRIVAL_MONTH_9</th>\n",
       "      <th>SCHEDULED_ARRIVAL_HOUR_1</th>\n",
       "      <th>SCHEDULED_ARRIVAL_HOUR_10</th>\n",
       "      <th>SCHEDULED_ARRIVAL_HOUR_11</th>\n",
       "      <th>SCHEDULED_ARRIVAL_HOUR_12</th>\n",
       "      <th>SCHEDULED_ARRIVAL_HOUR_13</th>\n",
       "      <th>SCHEDULED_ARRIVAL_HOUR_14</th>\n",
       "      <th>SCHEDULED_ARRIVAL_HOUR_15</th>\n",
       "      <th>SCHEDULED_ARRIVAL_HOUR_16</th>\n",
       "      <th>SCHEDULED_ARRIVAL_HOUR_17</th>\n",
       "      <th>SCHEDULED_ARRIVAL_HOUR_18</th>\n",
       "      <th>SCHEDULED_ARRIVAL_HOUR_19</th>\n",
       "      <th>SCHEDULED_ARRIVAL_HOUR_2</th>\n",
       "      <th>SCHEDULED_ARRIVAL_HOUR_20</th>\n",
       "      <th>SCHEDULED_ARRIVAL_HOUR_21</th>\n",
       "      <th>SCHEDULED_ARRIVAL_HOUR_22</th>\n",
       "      <th>SCHEDULED_ARRIVAL_HOUR_23</th>\n",
       "      <th>SCHEDULED_ARRIVAL_HOUR_3</th>\n",
       "      <th>SCHEDULED_ARRIVAL_HOUR_4</th>\n",
       "      <th>SCHEDULED_ARRIVAL_HOUR_5</th>\n",
       "      <th>SCHEDULED_ARRIVAL_HOUR_6</th>\n",
       "      <th>SCHEDULED_ARRIVAL_HOUR_7</th>\n",
       "      <th>SCHEDULED_ARRIVAL_HOUR_8</th>\n",
       "      <th>SCHEDULED_ARRIVAL_HOUR_9</th>\n",
       "      <th>AIRLINE_CODE_AS</th>\n",
       "      <th>AIRLINE_CODE_DL</th>\n",
       "      <th>...</th>\n",
       "      <th>ORIGIN_AIRPORT_ORF</th>\n",
       "      <th>ORIGIN_AIRPORT_PBI</th>\n",
       "      <th>ORIGIN_AIRPORT_PDX</th>\n",
       "      <th>ORIGIN_AIRPORT_PHF</th>\n",
       "      <th>ORIGIN_AIRPORT_PHL</th>\n",
       "      <th>ORIGIN_AIRPORT_PHX</th>\n",
       "      <th>ORIGIN_AIRPORT_PIA</th>\n",
       "      <th>ORIGIN_AIRPORT_PIT</th>\n",
       "      <th>ORIGIN_AIRPORT_PNS</th>\n",
       "      <th>ORIGIN_AIRPORT_PVD</th>\n",
       "      <th>ORIGIN_AIRPORT_PWM</th>\n",
       "      <th>ORIGIN_AIRPORT_RAP</th>\n",
       "      <th>ORIGIN_AIRPORT_RDU</th>\n",
       "      <th>ORIGIN_AIRPORT_RIC</th>\n",
       "      <th>ORIGIN_AIRPORT_ROA</th>\n",
       "      <th>ORIGIN_AIRPORT_ROC</th>\n",
       "      <th>ORIGIN_AIRPORT_RST</th>\n",
       "      <th>ORIGIN_AIRPORT_RSW</th>\n",
       "      <th>ORIGIN_AIRPORT_SAN</th>\n",
       "      <th>ORIGIN_AIRPORT_SAT</th>\n",
       "      <th>ORIGIN_AIRPORT_SAV</th>\n",
       "      <th>ORIGIN_AIRPORT_SBN</th>\n",
       "      <th>ORIGIN_AIRPORT_SCE</th>\n",
       "      <th>ORIGIN_AIRPORT_SDF</th>\n",
       "      <th>ORIGIN_AIRPORT_SEA</th>\n",
       "      <th>ORIGIN_AIRPORT_SFO</th>\n",
       "      <th>ORIGIN_AIRPORT_SGF</th>\n",
       "      <th>ORIGIN_AIRPORT_SHV</th>\n",
       "      <th>ORIGIN_AIRPORT_SJC</th>\n",
       "      <th>ORIGIN_AIRPORT_SJU</th>\n",
       "      <th>ORIGIN_AIRPORT_SLC</th>\n",
       "      <th>ORIGIN_AIRPORT_SMF</th>\n",
       "      <th>ORIGIN_AIRPORT_SNA</th>\n",
       "      <th>ORIGIN_AIRPORT_SRQ</th>\n",
       "      <th>ORIGIN_AIRPORT_STL</th>\n",
       "      <th>ORIGIN_AIRPORT_STT</th>\n",
       "      <th>ORIGIN_AIRPORT_STX</th>\n",
       "      <th>ORIGIN_AIRPORT_SYR</th>\n",
       "      <th>ORIGIN_AIRPORT_TLH</th>\n",
       "      <th>ORIGIN_AIRPORT_TPA</th>\n",
       "      <th>ORIGIN_AIRPORT_TRI</th>\n",
       "      <th>ORIGIN_AIRPORT_TTN</th>\n",
       "      <th>ORIGIN_AIRPORT_TUL</th>\n",
       "      <th>ORIGIN_AIRPORT_TUS</th>\n",
       "      <th>ORIGIN_AIRPORT_TVC</th>\n",
       "      <th>ORIGIN_AIRPORT_TYS</th>\n",
       "      <th>ORIGIN_AIRPORT_VLD</th>\n",
       "      <th>ORIGIN_AIRPORT_VPS</th>\n",
       "      <th>ORIGIN_AIRPORT_XNA</th>\n",
       "      <th>ARRIVAL_DELAY/NO_DELAY</th>\n",
       "    </tr>\n",
       "  </thead>\n",
       "  <tbody>\n",
       "    <tr>\n",
       "      <th>0</th>\n",
       "      <td>2.535036</td>\n",
       "      <td>-0.704554</td>\n",
       "      <td>-0.900164</td>\n",
       "      <td>4.664765</td>\n",
       "      <td>-1.013092</td>\n",
       "      <td>0.960476</td>\n",
       "      <td>0.221437</td>\n",
       "      <td>-0.760361</td>\n",
       "      <td>1.164250</td>\n",
       "      <td>0.359164</td>\n",
       "      <td>0.394454</td>\n",
       "      <td>0.197798</td>\n",
       "      <td>-0.251815</td>\n",
       "      <td>0.113949</td>\n",
       "      <td>0.336492</td>\n",
       "      <td>-0.315111</td>\n",
       "      <td>-0.308782</td>\n",
       "      <td>-0.289299</td>\n",
       "      <td>-0.325409</td>\n",
       "      <td>-0.316162</td>\n",
       "      <td>-0.321104</td>\n",
       "      <td>3.118630</td>\n",
       "      <td>-0.329611</td>\n",
       "      <td>-0.328894</td>\n",
       "      <td>-0.317112</td>\n",
       "      <td>-0.017317</td>\n",
       "      <td>-0.225468</td>\n",
       "      <td>-0.249137</td>\n",
       "      <td>-0.229945</td>\n",
       "      <td>-0.250615</td>\n",
       "      <td>-0.289551</td>\n",
       "      <td>-0.278578</td>\n",
       "      <td>-0.251898</td>\n",
       "      <td>-0.206389</td>\n",
       "      <td>-0.285744</td>\n",
       "      <td>3.489136</td>\n",
       "      <td>-0.004684</td>\n",
       "      <td>-0.252423</td>\n",
       "      <td>-0.239934</td>\n",
       "      <td>-0.149888</td>\n",
       "      <td>-0.105059</td>\n",
       "      <td>-0.001912</td>\n",
       "      <td>-0.018343</td>\n",
       "      <td>-0.066715</td>\n",
       "      <td>-0.149275</td>\n",
       "      <td>-0.224706</td>\n",
       "      <td>-0.302439</td>\n",
       "      <td>-0.282686</td>\n",
       "      <td>-0.036252</td>\n",
       "      <td>0.748215</td>\n",
       "      <td>...</td>\n",
       "      <td>-0.088277</td>\n",
       "      <td>-0.111016</td>\n",
       "      <td>-0.05626</td>\n",
       "      <td>-0.059286</td>\n",
       "      <td>-0.139334</td>\n",
       "      <td>-0.102631</td>\n",
       "      <td>-0.050217</td>\n",
       "      <td>-0.097774</td>\n",
       "      <td>-0.081459</td>\n",
       "      <td>-0.052925</td>\n",
       "      <td>-0.041533</td>\n",
       "      <td>-0.006894</td>\n",
       "      <td>-0.117806</td>\n",
       "      <td>-0.101497</td>\n",
       "      <td>-0.065431</td>\n",
       "      <td>-0.053718</td>\n",
       "      <td>-0.030667</td>\n",
       "      <td>-0.107313</td>\n",
       "      <td>-0.076369</td>\n",
       "      <td>-0.091562</td>\n",
       "      <td>-0.095986</td>\n",
       "      <td>-0.057744</td>\n",
       "      <td>-0.010647</td>\n",
       "      <td>-0.088696</td>\n",
       "      <td>-0.089489</td>\n",
       "      <td>-0.095577</td>\n",
       "      <td>-0.061</td>\n",
       "      <td>-0.076684</td>\n",
       "      <td>-0.028565</td>\n",
       "      <td>-0.063486</td>\n",
       "      <td>-0.086963</td>\n",
       "      <td>-0.040414</td>\n",
       "      <td>-0.052786</td>\n",
       "      <td>-0.075321</td>\n",
       "      <td>-0.101681</td>\n",
       "      <td>-0.042147</td>\n",
       "      <td>-0.010647</td>\n",
       "      <td>-0.05334</td>\n",
       "      <td>-0.078094</td>\n",
       "      <td>-0.14398</td>\n",
       "      <td>-0.074804</td>\n",
       "      <td>-0.030003</td>\n",
       "      <td>-0.066908</td>\n",
       "      <td>-0.04219</td>\n",
       "      <td>-0.009561</td>\n",
       "      <td>-0.070376</td>\n",
       "      <td>-0.051943</td>\n",
       "      <td>-0.080957</td>\n",
       "      <td>-0.067101</td>\n",
       "      <td>1</td>\n",
       "    </tr>\n",
       "    <tr>\n",
       "      <th>1</th>\n",
       "      <td>-0.182679</td>\n",
       "      <td>0.076068</td>\n",
       "      <td>-0.137569</td>\n",
       "      <td>-0.191011</td>\n",
       "      <td>1.608863</td>\n",
       "      <td>-0.094469</td>\n",
       "      <td>0.221437</td>\n",
       "      <td>1.315165</td>\n",
       "      <td>-0.330909</td>\n",
       "      <td>0.359164</td>\n",
       "      <td>-0.816350</td>\n",
       "      <td>-0.337629</td>\n",
       "      <td>-0.251815</td>\n",
       "      <td>0.766444</td>\n",
       "      <td>-1.098015</td>\n",
       "      <td>3.173483</td>\n",
       "      <td>-0.308782</td>\n",
       "      <td>-0.289299</td>\n",
       "      <td>-0.325409</td>\n",
       "      <td>-0.316162</td>\n",
       "      <td>-0.321104</td>\n",
       "      <td>-0.320654</td>\n",
       "      <td>-0.329611</td>\n",
       "      <td>-0.328894</td>\n",
       "      <td>-0.317112</td>\n",
       "      <td>-0.017317</td>\n",
       "      <td>-0.225468</td>\n",
       "      <td>-0.249137</td>\n",
       "      <td>-0.229945</td>\n",
       "      <td>-0.250615</td>\n",
       "      <td>-0.289551</td>\n",
       "      <td>-0.278578</td>\n",
       "      <td>-0.251898</td>\n",
       "      <td>-0.206389</td>\n",
       "      <td>-0.285744</td>\n",
       "      <td>-0.286604</td>\n",
       "      <td>-0.004684</td>\n",
       "      <td>-0.252423</td>\n",
       "      <td>-0.239934</td>\n",
       "      <td>-0.149888</td>\n",
       "      <td>-0.105059</td>\n",
       "      <td>-0.001912</td>\n",
       "      <td>-0.018343</td>\n",
       "      <td>-0.066715</td>\n",
       "      <td>-0.149275</td>\n",
       "      <td>-0.224706</td>\n",
       "      <td>3.306454</td>\n",
       "      <td>-0.282686</td>\n",
       "      <td>-0.036252</td>\n",
       "      <td>-1.336515</td>\n",
       "      <td>...</td>\n",
       "      <td>-0.088277</td>\n",
       "      <td>-0.111016</td>\n",
       "      <td>-0.05626</td>\n",
       "      <td>-0.059286</td>\n",
       "      <td>-0.139334</td>\n",
       "      <td>-0.102631</td>\n",
       "      <td>-0.050217</td>\n",
       "      <td>-0.097774</td>\n",
       "      <td>-0.081459</td>\n",
       "      <td>-0.052925</td>\n",
       "      <td>-0.041533</td>\n",
       "      <td>-0.006894</td>\n",
       "      <td>-0.117806</td>\n",
       "      <td>-0.101497</td>\n",
       "      <td>-0.065431</td>\n",
       "      <td>-0.053718</td>\n",
       "      <td>-0.030667</td>\n",
       "      <td>-0.107313</td>\n",
       "      <td>-0.076369</td>\n",
       "      <td>-0.091562</td>\n",
       "      <td>-0.095986</td>\n",
       "      <td>-0.057744</td>\n",
       "      <td>-0.010647</td>\n",
       "      <td>-0.088696</td>\n",
       "      <td>-0.089489</td>\n",
       "      <td>-0.095577</td>\n",
       "      <td>-0.061</td>\n",
       "      <td>-0.076684</td>\n",
       "      <td>-0.028565</td>\n",
       "      <td>-0.063486</td>\n",
       "      <td>-0.086963</td>\n",
       "      <td>-0.040414</td>\n",
       "      <td>-0.052786</td>\n",
       "      <td>-0.075321</td>\n",
       "      <td>-0.101681</td>\n",
       "      <td>-0.042147</td>\n",
       "      <td>-0.010647</td>\n",
       "      <td>-0.05334</td>\n",
       "      <td>-0.078094</td>\n",
       "      <td>-0.14398</td>\n",
       "      <td>-0.074804</td>\n",
       "      <td>-0.030003</td>\n",
       "      <td>-0.066908</td>\n",
       "      <td>-0.04219</td>\n",
       "      <td>-0.009561</td>\n",
       "      <td>-0.070376</td>\n",
       "      <td>-0.051943</td>\n",
       "      <td>-0.080957</td>\n",
       "      <td>-0.067101</td>\n",
       "      <td>0</td>\n",
       "    </tr>\n",
       "    <tr>\n",
       "      <th>2</th>\n",
       "      <td>1.125850</td>\n",
       "      <td>-0.548430</td>\n",
       "      <td>-0.693763</td>\n",
       "      <td>2.054133</td>\n",
       "      <td>-0.488701</td>\n",
       "      <td>-0.190373</td>\n",
       "      <td>0.221437</td>\n",
       "      <td>-0.760361</td>\n",
       "      <td>-0.560933</td>\n",
       "      <td>-2.848461</td>\n",
       "      <td>0.048510</td>\n",
       "      <td>0.197798</td>\n",
       "      <td>-0.251815</td>\n",
       "      <td>0.838944</td>\n",
       "      <td>1.099777</td>\n",
       "      <td>-0.315111</td>\n",
       "      <td>-0.308782</td>\n",
       "      <td>-0.289299</td>\n",
       "      <td>3.073057</td>\n",
       "      <td>-0.316162</td>\n",
       "      <td>-0.321104</td>\n",
       "      <td>-0.320654</td>\n",
       "      <td>-0.329611</td>\n",
       "      <td>-0.328894</td>\n",
       "      <td>-0.317112</td>\n",
       "      <td>-0.017317</td>\n",
       "      <td>-0.225468</td>\n",
       "      <td>-0.249137</td>\n",
       "      <td>-0.229945</td>\n",
       "      <td>-0.250615</td>\n",
       "      <td>-0.289551</td>\n",
       "      <td>3.589662</td>\n",
       "      <td>-0.251898</td>\n",
       "      <td>-0.206389</td>\n",
       "      <td>-0.285744</td>\n",
       "      <td>-0.286604</td>\n",
       "      <td>-0.004684</td>\n",
       "      <td>-0.252423</td>\n",
       "      <td>-0.239934</td>\n",
       "      <td>-0.149888</td>\n",
       "      <td>-0.105059</td>\n",
       "      <td>-0.001912</td>\n",
       "      <td>-0.018343</td>\n",
       "      <td>-0.066715</td>\n",
       "      <td>-0.149275</td>\n",
       "      <td>-0.224706</td>\n",
       "      <td>-0.302439</td>\n",
       "      <td>-0.282686</td>\n",
       "      <td>-0.036252</td>\n",
       "      <td>0.748215</td>\n",
       "      <td>...</td>\n",
       "      <td>-0.088277</td>\n",
       "      <td>-0.111016</td>\n",
       "      <td>-0.05626</td>\n",
       "      <td>-0.059286</td>\n",
       "      <td>-0.139334</td>\n",
       "      <td>-0.102631</td>\n",
       "      <td>-0.050217</td>\n",
       "      <td>-0.097774</td>\n",
       "      <td>-0.081459</td>\n",
       "      <td>-0.052925</td>\n",
       "      <td>-0.041533</td>\n",
       "      <td>-0.006894</td>\n",
       "      <td>-0.117806</td>\n",
       "      <td>-0.101497</td>\n",
       "      <td>-0.065431</td>\n",
       "      <td>-0.053718</td>\n",
       "      <td>-0.030667</td>\n",
       "      <td>-0.107313</td>\n",
       "      <td>-0.076369</td>\n",
       "      <td>-0.091562</td>\n",
       "      <td>-0.095986</td>\n",
       "      <td>-0.057744</td>\n",
       "      <td>-0.010647</td>\n",
       "      <td>11.274414</td>\n",
       "      <td>-0.089489</td>\n",
       "      <td>-0.095577</td>\n",
       "      <td>-0.061</td>\n",
       "      <td>-0.076684</td>\n",
       "      <td>-0.028565</td>\n",
       "      <td>-0.063486</td>\n",
       "      <td>-0.086963</td>\n",
       "      <td>-0.040414</td>\n",
       "      <td>-0.052786</td>\n",
       "      <td>-0.075321</td>\n",
       "      <td>-0.101681</td>\n",
       "      <td>-0.042147</td>\n",
       "      <td>-0.010647</td>\n",
       "      <td>-0.05334</td>\n",
       "      <td>-0.078094</td>\n",
       "      <td>-0.14398</td>\n",
       "      <td>-0.074804</td>\n",
       "      <td>-0.030003</td>\n",
       "      <td>-0.066908</td>\n",
       "      <td>-0.04219</td>\n",
       "      <td>-0.009561</td>\n",
       "      <td>-0.070376</td>\n",
       "      <td>-0.051943</td>\n",
       "      <td>-0.080957</td>\n",
       "      <td>-0.067101</td>\n",
       "      <td>1</td>\n",
       "    </tr>\n",
       "    <tr>\n",
       "      <th>3</th>\n",
       "      <td>-0.258171</td>\n",
       "      <td>-0.021510</td>\n",
       "      <td>-0.346142</td>\n",
       "      <td>-0.191011</td>\n",
       "      <td>-0.619799</td>\n",
       "      <td>-1.533031</td>\n",
       "      <td>0.221437</td>\n",
       "      <td>-0.760361</td>\n",
       "      <td>-0.675945</td>\n",
       "      <td>0.359164</td>\n",
       "      <td>0.480940</td>\n",
       "      <td>-0.069916</td>\n",
       "      <td>-0.251815</td>\n",
       "      <td>0.669778</td>\n",
       "      <td>-0.141573</td>\n",
       "      <td>-0.315111</td>\n",
       "      <td>-0.308782</td>\n",
       "      <td>-0.289299</td>\n",
       "      <td>-0.325409</td>\n",
       "      <td>-0.316162</td>\n",
       "      <td>-0.321104</td>\n",
       "      <td>-0.320654</td>\n",
       "      <td>-0.329611</td>\n",
       "      <td>-0.328894</td>\n",
       "      <td>-0.317112</td>\n",
       "      <td>-0.017317</td>\n",
       "      <td>-0.225468</td>\n",
       "      <td>-0.249137</td>\n",
       "      <td>-0.229945</td>\n",
       "      <td>-0.250615</td>\n",
       "      <td>-0.289551</td>\n",
       "      <td>-0.278578</td>\n",
       "      <td>-0.251898</td>\n",
       "      <td>-0.206389</td>\n",
       "      <td>-0.285744</td>\n",
       "      <td>-0.286604</td>\n",
       "      <td>-0.004684</td>\n",
       "      <td>-0.252423</td>\n",
       "      <td>-0.239934</td>\n",
       "      <td>-0.149888</td>\n",
       "      <td>-0.105059</td>\n",
       "      <td>-0.001912</td>\n",
       "      <td>-0.018343</td>\n",
       "      <td>-0.066715</td>\n",
       "      <td>-0.149275</td>\n",
       "      <td>-0.224706</td>\n",
       "      <td>-0.302439</td>\n",
       "      <td>3.537490</td>\n",
       "      <td>-0.036252</td>\n",
       "      <td>0.748215</td>\n",
       "      <td>...</td>\n",
       "      <td>-0.088277</td>\n",
       "      <td>-0.111016</td>\n",
       "      <td>-0.05626</td>\n",
       "      <td>-0.059286</td>\n",
       "      <td>-0.139334</td>\n",
       "      <td>-0.102631</td>\n",
       "      <td>-0.050217</td>\n",
       "      <td>-0.097774</td>\n",
       "      <td>-0.081459</td>\n",
       "      <td>-0.052925</td>\n",
       "      <td>-0.041533</td>\n",
       "      <td>-0.006894</td>\n",
       "      <td>-0.117806</td>\n",
       "      <td>9.852461</td>\n",
       "      <td>-0.065431</td>\n",
       "      <td>-0.053718</td>\n",
       "      <td>-0.030667</td>\n",
       "      <td>-0.107313</td>\n",
       "      <td>-0.076369</td>\n",
       "      <td>-0.091562</td>\n",
       "      <td>-0.095986</td>\n",
       "      <td>-0.057744</td>\n",
       "      <td>-0.010647</td>\n",
       "      <td>-0.088696</td>\n",
       "      <td>-0.089489</td>\n",
       "      <td>-0.095577</td>\n",
       "      <td>-0.061</td>\n",
       "      <td>-0.076684</td>\n",
       "      <td>-0.028565</td>\n",
       "      <td>-0.063486</td>\n",
       "      <td>-0.086963</td>\n",
       "      <td>-0.040414</td>\n",
       "      <td>-0.052786</td>\n",
       "      <td>-0.075321</td>\n",
       "      <td>-0.101681</td>\n",
       "      <td>-0.042147</td>\n",
       "      <td>-0.010647</td>\n",
       "      <td>-0.05334</td>\n",
       "      <td>-0.078094</td>\n",
       "      <td>-0.14398</td>\n",
       "      <td>-0.074804</td>\n",
       "      <td>-0.030003</td>\n",
       "      <td>-0.066908</td>\n",
       "      <td>-0.04219</td>\n",
       "      <td>-0.009561</td>\n",
       "      <td>-0.070376</td>\n",
       "      <td>-0.051943</td>\n",
       "      <td>-0.080957</td>\n",
       "      <td>-0.067101</td>\n",
       "      <td>0</td>\n",
       "    </tr>\n",
       "    <tr>\n",
       "      <th>4</th>\n",
       "      <td>-0.233007</td>\n",
       "      <td>-1.036318</td>\n",
       "      <td>-1.034867</td>\n",
       "      <td>-0.191011</td>\n",
       "      <td>-0.816446</td>\n",
       "      <td>0.864571</td>\n",
       "      <td>0.221437</td>\n",
       "      <td>-0.760361</td>\n",
       "      <td>0.819214</td>\n",
       "      <td>0.359164</td>\n",
       "      <td>0.913370</td>\n",
       "      <td>-0.873056</td>\n",
       "      <td>-0.251815</td>\n",
       "      <td>-0.079383</td>\n",
       "      <td>-0.770893</td>\n",
       "      <td>-0.315111</td>\n",
       "      <td>-0.308782</td>\n",
       "      <td>-0.289299</td>\n",
       "      <td>-0.325409</td>\n",
       "      <td>-0.316162</td>\n",
       "      <td>-0.321104</td>\n",
       "      <td>-0.320654</td>\n",
       "      <td>3.033883</td>\n",
       "      <td>-0.328894</td>\n",
       "      <td>-0.317112</td>\n",
       "      <td>-0.017317</td>\n",
       "      <td>-0.225468</td>\n",
       "      <td>-0.249137</td>\n",
       "      <td>-0.229945</td>\n",
       "      <td>-0.250615</td>\n",
       "      <td>-0.289551</td>\n",
       "      <td>-0.278578</td>\n",
       "      <td>3.969862</td>\n",
       "      <td>-0.206389</td>\n",
       "      <td>-0.285744</td>\n",
       "      <td>-0.286604</td>\n",
       "      <td>-0.004684</td>\n",
       "      <td>-0.252423</td>\n",
       "      <td>-0.239934</td>\n",
       "      <td>-0.149888</td>\n",
       "      <td>-0.105059</td>\n",
       "      <td>-0.001912</td>\n",
       "      <td>-0.018343</td>\n",
       "      <td>-0.066715</td>\n",
       "      <td>-0.149275</td>\n",
       "      <td>-0.224706</td>\n",
       "      <td>-0.302439</td>\n",
       "      <td>-0.282686</td>\n",
       "      <td>-0.036252</td>\n",
       "      <td>-1.336515</td>\n",
       "      <td>...</td>\n",
       "      <td>-0.088277</td>\n",
       "      <td>-0.111016</td>\n",
       "      <td>-0.05626</td>\n",
       "      <td>-0.059286</td>\n",
       "      <td>-0.139334</td>\n",
       "      <td>-0.102631</td>\n",
       "      <td>-0.050217</td>\n",
       "      <td>-0.097774</td>\n",
       "      <td>-0.081459</td>\n",
       "      <td>-0.052925</td>\n",
       "      <td>-0.041533</td>\n",
       "      <td>-0.006894</td>\n",
       "      <td>-0.117806</td>\n",
       "      <td>-0.101497</td>\n",
       "      <td>-0.065431</td>\n",
       "      <td>-0.053718</td>\n",
       "      <td>-0.030667</td>\n",
       "      <td>-0.107313</td>\n",
       "      <td>-0.076369</td>\n",
       "      <td>-0.091562</td>\n",
       "      <td>-0.095986</td>\n",
       "      <td>-0.057744</td>\n",
       "      <td>-0.010647</td>\n",
       "      <td>-0.088696</td>\n",
       "      <td>-0.089489</td>\n",
       "      <td>-0.095577</td>\n",
       "      <td>-0.061</td>\n",
       "      <td>-0.076684</td>\n",
       "      <td>-0.028565</td>\n",
       "      <td>-0.063486</td>\n",
       "      <td>-0.086963</td>\n",
       "      <td>-0.040414</td>\n",
       "      <td>-0.052786</td>\n",
       "      <td>-0.075321</td>\n",
       "      <td>-0.101681</td>\n",
       "      <td>-0.042147</td>\n",
       "      <td>-0.010647</td>\n",
       "      <td>-0.05334</td>\n",
       "      <td>-0.078094</td>\n",
       "      <td>-0.14398</td>\n",
       "      <td>-0.074804</td>\n",
       "      <td>-0.030003</td>\n",
       "      <td>-0.066908</td>\n",
       "      <td>-0.04219</td>\n",
       "      <td>-0.009561</td>\n",
       "      <td>-0.070376</td>\n",
       "      <td>-0.051943</td>\n",
       "      <td>-0.080957</td>\n",
       "      <td>-0.067101</td>\n",
       "      <td>0</td>\n",
       "    </tr>\n",
       "  </tbody>\n",
       "</table>\n",
       "<p>5 rows × 226 columns</p>\n",
       "</div>"
      ],
      "text/plain": [
       "   DEPARTURE_DELAY  SCHEDULED_TIME  DISTANCE  LATE_AIRCRAFT_DELAY       QNH  \\\n",
       "0         2.535036       -0.704554 -0.900164             4.664765 -1.013092   \n",
       "1        -0.182679        0.076068 -0.137569            -0.191011  1.608863   \n",
       "2         1.125850       -0.548430 -0.693763             2.054133 -0.488701   \n",
       "3        -0.258171       -0.021510 -0.346142            -0.191011 -0.619799   \n",
       "4        -0.233007       -1.036318 -1.034867            -0.191011 -0.816446   \n",
       "\n",
       "   dew_point      snow    squall      temp  visibility   winddir   windspd  \\\n",
       "0   0.960476  0.221437 -0.760361  1.164250    0.359164  0.394454  0.197798   \n",
       "1  -0.094469  0.221437  1.315165 -0.330909    0.359164 -0.816350 -0.337629   \n",
       "2  -0.190373  0.221437 -0.760361 -0.560933   -2.848461  0.048510  0.197798   \n",
       "3  -1.533031  0.221437 -0.760361 -0.675945    0.359164  0.480940 -0.069916   \n",
       "4   0.864571  0.221437 -0.760361  0.819214    0.359164  0.913370 -0.873056   \n",
       "\n",
       "   windgust  NUM_ARR_AVG_3HOUR  crosswind_comp  SCHEDULED_ARRIVAL_MONTH_11  \\\n",
       "0 -0.251815           0.113949        0.336492                   -0.315111   \n",
       "1 -0.251815           0.766444       -1.098015                    3.173483   \n",
       "2 -0.251815           0.838944        1.099777                   -0.315111   \n",
       "3 -0.251815           0.669778       -0.141573                   -0.315111   \n",
       "4 -0.251815          -0.079383       -0.770893                   -0.315111   \n",
       "\n",
       "   SCHEDULED_ARRIVAL_MONTH_12  SCHEDULED_ARRIVAL_MONTH_2  \\\n",
       "0                   -0.308782                  -0.289299   \n",
       "1                   -0.308782                  -0.289299   \n",
       "2                   -0.308782                  -0.289299   \n",
       "3                   -0.308782                  -0.289299   \n",
       "4                   -0.308782                  -0.289299   \n",
       "\n",
       "   SCHEDULED_ARRIVAL_MONTH_3  SCHEDULED_ARRIVAL_MONTH_4  \\\n",
       "0                  -0.325409                  -0.316162   \n",
       "1                  -0.325409                  -0.316162   \n",
       "2                   3.073057                  -0.316162   \n",
       "3                  -0.325409                  -0.316162   \n",
       "4                  -0.325409                  -0.316162   \n",
       "\n",
       "   SCHEDULED_ARRIVAL_MONTH_5  SCHEDULED_ARRIVAL_MONTH_6  \\\n",
       "0                  -0.321104                   3.118630   \n",
       "1                  -0.321104                  -0.320654   \n",
       "2                  -0.321104                  -0.320654   \n",
       "3                  -0.321104                  -0.320654   \n",
       "4                  -0.321104                  -0.320654   \n",
       "\n",
       "   SCHEDULED_ARRIVAL_MONTH_7  SCHEDULED_ARRIVAL_MONTH_8  \\\n",
       "0                  -0.329611                  -0.328894   \n",
       "1                  -0.329611                  -0.328894   \n",
       "2                  -0.329611                  -0.328894   \n",
       "3                  -0.329611                  -0.328894   \n",
       "4                   3.033883                  -0.328894   \n",
       "\n",
       "   SCHEDULED_ARRIVAL_MONTH_9  SCHEDULED_ARRIVAL_HOUR_1  \\\n",
       "0                  -0.317112                 -0.017317   \n",
       "1                  -0.317112                 -0.017317   \n",
       "2                  -0.317112                 -0.017317   \n",
       "3                  -0.317112                 -0.017317   \n",
       "4                  -0.317112                 -0.017317   \n",
       "\n",
       "   SCHEDULED_ARRIVAL_HOUR_10  SCHEDULED_ARRIVAL_HOUR_11  \\\n",
       "0                  -0.225468                  -0.249137   \n",
       "1                  -0.225468                  -0.249137   \n",
       "2                  -0.225468                  -0.249137   \n",
       "3                  -0.225468                  -0.249137   \n",
       "4                  -0.225468                  -0.249137   \n",
       "\n",
       "   SCHEDULED_ARRIVAL_HOUR_12  SCHEDULED_ARRIVAL_HOUR_13  \\\n",
       "0                  -0.229945                  -0.250615   \n",
       "1                  -0.229945                  -0.250615   \n",
       "2                  -0.229945                  -0.250615   \n",
       "3                  -0.229945                  -0.250615   \n",
       "4                  -0.229945                  -0.250615   \n",
       "\n",
       "   SCHEDULED_ARRIVAL_HOUR_14  SCHEDULED_ARRIVAL_HOUR_15  \\\n",
       "0                  -0.289551                  -0.278578   \n",
       "1                  -0.289551                  -0.278578   \n",
       "2                  -0.289551                   3.589662   \n",
       "3                  -0.289551                  -0.278578   \n",
       "4                  -0.289551                  -0.278578   \n",
       "\n",
       "   SCHEDULED_ARRIVAL_HOUR_16  SCHEDULED_ARRIVAL_HOUR_17  \\\n",
       "0                  -0.251898                  -0.206389   \n",
       "1                  -0.251898                  -0.206389   \n",
       "2                  -0.251898                  -0.206389   \n",
       "3                  -0.251898                  -0.206389   \n",
       "4                   3.969862                  -0.206389   \n",
       "\n",
       "   SCHEDULED_ARRIVAL_HOUR_18  SCHEDULED_ARRIVAL_HOUR_19  \\\n",
       "0                  -0.285744                   3.489136   \n",
       "1                  -0.285744                  -0.286604   \n",
       "2                  -0.285744                  -0.286604   \n",
       "3                  -0.285744                  -0.286604   \n",
       "4                  -0.285744                  -0.286604   \n",
       "\n",
       "   SCHEDULED_ARRIVAL_HOUR_2  SCHEDULED_ARRIVAL_HOUR_20  \\\n",
       "0                 -0.004684                  -0.252423   \n",
       "1                 -0.004684                  -0.252423   \n",
       "2                 -0.004684                  -0.252423   \n",
       "3                 -0.004684                  -0.252423   \n",
       "4                 -0.004684                  -0.252423   \n",
       "\n",
       "   SCHEDULED_ARRIVAL_HOUR_21  SCHEDULED_ARRIVAL_HOUR_22  \\\n",
       "0                  -0.239934                  -0.149888   \n",
       "1                  -0.239934                  -0.149888   \n",
       "2                  -0.239934                  -0.149888   \n",
       "3                  -0.239934                  -0.149888   \n",
       "4                  -0.239934                  -0.149888   \n",
       "\n",
       "   SCHEDULED_ARRIVAL_HOUR_23  SCHEDULED_ARRIVAL_HOUR_3  \\\n",
       "0                  -0.105059                 -0.001912   \n",
       "1                  -0.105059                 -0.001912   \n",
       "2                  -0.105059                 -0.001912   \n",
       "3                  -0.105059                 -0.001912   \n",
       "4                  -0.105059                 -0.001912   \n",
       "\n",
       "   SCHEDULED_ARRIVAL_HOUR_4  SCHEDULED_ARRIVAL_HOUR_5  \\\n",
       "0                 -0.018343                 -0.066715   \n",
       "1                 -0.018343                 -0.066715   \n",
       "2                 -0.018343                 -0.066715   \n",
       "3                 -0.018343                 -0.066715   \n",
       "4                 -0.018343                 -0.066715   \n",
       "\n",
       "   SCHEDULED_ARRIVAL_HOUR_6  SCHEDULED_ARRIVAL_HOUR_7  \\\n",
       "0                 -0.149275                 -0.224706   \n",
       "1                 -0.149275                 -0.224706   \n",
       "2                 -0.149275                 -0.224706   \n",
       "3                 -0.149275                 -0.224706   \n",
       "4                 -0.149275                 -0.224706   \n",
       "\n",
       "   SCHEDULED_ARRIVAL_HOUR_8  SCHEDULED_ARRIVAL_HOUR_9  AIRLINE_CODE_AS  \\\n",
       "0                 -0.302439                 -0.282686        -0.036252   \n",
       "1                  3.306454                 -0.282686        -0.036252   \n",
       "2                 -0.302439                 -0.282686        -0.036252   \n",
       "3                 -0.302439                  3.537490        -0.036252   \n",
       "4                 -0.302439                 -0.282686        -0.036252   \n",
       "\n",
       "   AIRLINE_CODE_DL  ...  ORIGIN_AIRPORT_ORF  ORIGIN_AIRPORT_PBI  \\\n",
       "0         0.748215  ...           -0.088277           -0.111016   \n",
       "1        -1.336515  ...           -0.088277           -0.111016   \n",
       "2         0.748215  ...           -0.088277           -0.111016   \n",
       "3         0.748215  ...           -0.088277           -0.111016   \n",
       "4        -1.336515  ...           -0.088277           -0.111016   \n",
       "\n",
       "   ORIGIN_AIRPORT_PDX  ORIGIN_AIRPORT_PHF  ORIGIN_AIRPORT_PHL  \\\n",
       "0            -0.05626           -0.059286           -0.139334   \n",
       "1            -0.05626           -0.059286           -0.139334   \n",
       "2            -0.05626           -0.059286           -0.139334   \n",
       "3            -0.05626           -0.059286           -0.139334   \n",
       "4            -0.05626           -0.059286           -0.139334   \n",
       "\n",
       "   ORIGIN_AIRPORT_PHX  ORIGIN_AIRPORT_PIA  ORIGIN_AIRPORT_PIT  \\\n",
       "0           -0.102631           -0.050217           -0.097774   \n",
       "1           -0.102631           -0.050217           -0.097774   \n",
       "2           -0.102631           -0.050217           -0.097774   \n",
       "3           -0.102631           -0.050217           -0.097774   \n",
       "4           -0.102631           -0.050217           -0.097774   \n",
       "\n",
       "   ORIGIN_AIRPORT_PNS  ORIGIN_AIRPORT_PVD  ORIGIN_AIRPORT_PWM  \\\n",
       "0           -0.081459           -0.052925           -0.041533   \n",
       "1           -0.081459           -0.052925           -0.041533   \n",
       "2           -0.081459           -0.052925           -0.041533   \n",
       "3           -0.081459           -0.052925           -0.041533   \n",
       "4           -0.081459           -0.052925           -0.041533   \n",
       "\n",
       "   ORIGIN_AIRPORT_RAP  ORIGIN_AIRPORT_RDU  ORIGIN_AIRPORT_RIC  \\\n",
       "0           -0.006894           -0.117806           -0.101497   \n",
       "1           -0.006894           -0.117806           -0.101497   \n",
       "2           -0.006894           -0.117806           -0.101497   \n",
       "3           -0.006894           -0.117806            9.852461   \n",
       "4           -0.006894           -0.117806           -0.101497   \n",
       "\n",
       "   ORIGIN_AIRPORT_ROA  ORIGIN_AIRPORT_ROC  ORIGIN_AIRPORT_RST  \\\n",
       "0           -0.065431           -0.053718           -0.030667   \n",
       "1           -0.065431           -0.053718           -0.030667   \n",
       "2           -0.065431           -0.053718           -0.030667   \n",
       "3           -0.065431           -0.053718           -0.030667   \n",
       "4           -0.065431           -0.053718           -0.030667   \n",
       "\n",
       "   ORIGIN_AIRPORT_RSW  ORIGIN_AIRPORT_SAN  ORIGIN_AIRPORT_SAT  \\\n",
       "0           -0.107313           -0.076369           -0.091562   \n",
       "1           -0.107313           -0.076369           -0.091562   \n",
       "2           -0.107313           -0.076369           -0.091562   \n",
       "3           -0.107313           -0.076369           -0.091562   \n",
       "4           -0.107313           -0.076369           -0.091562   \n",
       "\n",
       "   ORIGIN_AIRPORT_SAV  ORIGIN_AIRPORT_SBN  ORIGIN_AIRPORT_SCE  \\\n",
       "0           -0.095986           -0.057744           -0.010647   \n",
       "1           -0.095986           -0.057744           -0.010647   \n",
       "2           -0.095986           -0.057744           -0.010647   \n",
       "3           -0.095986           -0.057744           -0.010647   \n",
       "4           -0.095986           -0.057744           -0.010647   \n",
       "\n",
       "   ORIGIN_AIRPORT_SDF  ORIGIN_AIRPORT_SEA  ORIGIN_AIRPORT_SFO  \\\n",
       "0           -0.088696           -0.089489           -0.095577   \n",
       "1           -0.088696           -0.089489           -0.095577   \n",
       "2           11.274414           -0.089489           -0.095577   \n",
       "3           -0.088696           -0.089489           -0.095577   \n",
       "4           -0.088696           -0.089489           -0.095577   \n",
       "\n",
       "   ORIGIN_AIRPORT_SGF  ORIGIN_AIRPORT_SHV  ORIGIN_AIRPORT_SJC  \\\n",
       "0              -0.061           -0.076684           -0.028565   \n",
       "1              -0.061           -0.076684           -0.028565   \n",
       "2              -0.061           -0.076684           -0.028565   \n",
       "3              -0.061           -0.076684           -0.028565   \n",
       "4              -0.061           -0.076684           -0.028565   \n",
       "\n",
       "   ORIGIN_AIRPORT_SJU  ORIGIN_AIRPORT_SLC  ORIGIN_AIRPORT_SMF  \\\n",
       "0           -0.063486           -0.086963           -0.040414   \n",
       "1           -0.063486           -0.086963           -0.040414   \n",
       "2           -0.063486           -0.086963           -0.040414   \n",
       "3           -0.063486           -0.086963           -0.040414   \n",
       "4           -0.063486           -0.086963           -0.040414   \n",
       "\n",
       "   ORIGIN_AIRPORT_SNA  ORIGIN_AIRPORT_SRQ  ORIGIN_AIRPORT_STL  \\\n",
       "0           -0.052786           -0.075321           -0.101681   \n",
       "1           -0.052786           -0.075321           -0.101681   \n",
       "2           -0.052786           -0.075321           -0.101681   \n",
       "3           -0.052786           -0.075321           -0.101681   \n",
       "4           -0.052786           -0.075321           -0.101681   \n",
       "\n",
       "   ORIGIN_AIRPORT_STT  ORIGIN_AIRPORT_STX  ORIGIN_AIRPORT_SYR  \\\n",
       "0           -0.042147           -0.010647            -0.05334   \n",
       "1           -0.042147           -0.010647            -0.05334   \n",
       "2           -0.042147           -0.010647            -0.05334   \n",
       "3           -0.042147           -0.010647            -0.05334   \n",
       "4           -0.042147           -0.010647            -0.05334   \n",
       "\n",
       "   ORIGIN_AIRPORT_TLH  ORIGIN_AIRPORT_TPA  ORIGIN_AIRPORT_TRI  \\\n",
       "0           -0.078094            -0.14398           -0.074804   \n",
       "1           -0.078094            -0.14398           -0.074804   \n",
       "2           -0.078094            -0.14398           -0.074804   \n",
       "3           -0.078094            -0.14398           -0.074804   \n",
       "4           -0.078094            -0.14398           -0.074804   \n",
       "\n",
       "   ORIGIN_AIRPORT_TTN  ORIGIN_AIRPORT_TUL  ORIGIN_AIRPORT_TUS  \\\n",
       "0           -0.030003           -0.066908            -0.04219   \n",
       "1           -0.030003           -0.066908            -0.04219   \n",
       "2           -0.030003           -0.066908            -0.04219   \n",
       "3           -0.030003           -0.066908            -0.04219   \n",
       "4           -0.030003           -0.066908            -0.04219   \n",
       "\n",
       "   ORIGIN_AIRPORT_TVC  ORIGIN_AIRPORT_TYS  ORIGIN_AIRPORT_VLD  \\\n",
       "0           -0.009561           -0.070376           -0.051943   \n",
       "1           -0.009561           -0.070376           -0.051943   \n",
       "2           -0.009561           -0.070376           -0.051943   \n",
       "3           -0.009561           -0.070376           -0.051943   \n",
       "4           -0.009561           -0.070376           -0.051943   \n",
       "\n",
       "   ORIGIN_AIRPORT_VPS  ORIGIN_AIRPORT_XNA  ARRIVAL_DELAY/NO_DELAY  \n",
       "0           -0.080957           -0.067101                       1  \n",
       "1           -0.080957           -0.067101                       0  \n",
       "2           -0.080957           -0.067101                       1  \n",
       "3           -0.080957           -0.067101                       0  \n",
       "4           -0.080957           -0.067101                       0  \n",
       "\n",
       "[5 rows x 226 columns]"
      ]
     },
     "execution_count": 3,
     "metadata": {},
     "output_type": "execute_result"
    }
   ],
   "source": [
    "pd.set_option('display.max_columns', 100)\n",
    "df.head()"
   ]
  },
  {
   "cell_type": "markdown",
   "metadata": {},
   "source": [
    "---\n",
    "### (2) Setting X_train, X_test, y_train & y_test\n",
    "\n",
    "---"
   ]
  },
  {
   "cell_type": "code",
   "execution_count": 4,
   "metadata": {},
   "outputs": [],
   "source": [
    "X_train = df.drop('ARRIVAL_DELAY/NO_DELAY', axis=1)\n",
    "y_train = df['ARRIVAL_DELAY/NO_DELAY']\n",
    "X_test = df_test.drop('ARRIVAL_DELAY/NO_DELAY', axis=1)\n",
    "y_test = df_test['ARRIVAL_DELAY/NO_DELAY']"
   ]
  },
  {
   "cell_type": "code",
   "execution_count": 5,
   "metadata": {},
   "outputs": [
    {
     "data": {
      "text/plain": [
       "(467036, 225)"
      ]
     },
     "execution_count": 5,
     "metadata": {},
     "output_type": "execute_result"
    }
   ],
   "source": [
    "X_train.shape"
   ]
  },
  {
   "cell_type": "code",
   "execution_count": 6,
   "metadata": {
    "scrolled": true
   },
   "outputs": [
    {
     "data": {
      "text/plain": [
       "(68380, 225)"
      ]
     },
     "execution_count": 6,
     "metadata": {},
     "output_type": "execute_result"
    }
   ],
   "source": [
    "X_test.shape"
   ]
  },
  {
   "cell_type": "markdown",
   "metadata": {},
   "source": [
    "---\n",
    "### (3) Model (I): Logistic Regression\n",
    "\n",
    "---"
   ]
  },
  {
   "cell_type": "code",
   "execution_count": 51,
   "metadata": {},
   "outputs": [
    {
     "data": {
      "text/plain": [
       "LogisticRegression(C=1.0, class_weight=None, dual=False, fit_intercept=True,\n",
       "                   intercept_scaling=1, l1_ratio=None, max_iter=1000,\n",
       "                   multi_class='auto', n_jobs=None, penalty='l2',\n",
       "                   random_state=None, solver='lbfgs', tol=0.0001, verbose=0,\n",
       "                   warm_start=False)"
      ]
     },
     "execution_count": 51,
     "metadata": {},
     "output_type": "execute_result"
    }
   ],
   "source": [
    "lr = LogisticRegression(max_iter=1000)\n",
    "lr.fit(X_train, y_train)"
   ]
  },
  {
   "cell_type": "code",
   "execution_count": 52,
   "metadata": {},
   "outputs": [
    {
     "data": {
      "text/plain": [
       "0.9119682891109514"
      ]
     },
     "execution_count": 52,
     "metadata": {},
     "output_type": "execute_result"
    }
   ],
   "source": [
    "cross_val_score(lr, X_train, y_train).mean()"
   ]
  },
  {
   "cell_type": "code",
   "execution_count": 53,
   "metadata": {},
   "outputs": [
    {
     "data": {
      "text/plain": [
       "0.9649387867524801"
      ]
     },
     "execution_count": 53,
     "metadata": {},
     "output_type": "execute_result"
    }
   ],
   "source": [
    "cross_val_score(lr, X_train, y_train, scoring='roc_auc').mean()"
   ]
  },
  {
   "cell_type": "code",
   "execution_count": 54,
   "metadata": {},
   "outputs": [
    {
     "data": {
      "text/plain": [
       "0.9392073705761919"
      ]
     },
     "execution_count": 54,
     "metadata": {},
     "output_type": "execute_result"
    }
   ],
   "source": [
    "lr.score(X_test, y_test)"
   ]
  },
  {
   "cell_type": "code",
   "execution_count": 55,
   "metadata": {},
   "outputs": [
    {
     "data": {
      "text/plain": [
       "0.8883398317552992"
      ]
     },
     "execution_count": 55,
     "metadata": {},
     "output_type": "execute_result"
    }
   ],
   "source": [
    "roc_auc_score(y_test, lr.predict(X_test))"
   ]
  },
  {
   "cell_type": "code",
   "execution_count": 56,
   "metadata": {},
   "outputs": [],
   "source": [
    "tn, fp, fn, tp = confusion_matrix(y_test, lr.predict(X_test)).ravel()"
   ]
  },
  {
   "cell_type": "code",
   "execution_count": 57,
   "metadata": {},
   "outputs": [
    {
     "data": {
      "text/plain": [
       "0.8167576308874065"
      ]
     },
     "execution_count": 57,
     "metadata": {},
     "output_type": "execute_result"
    }
   ],
   "source": [
    "sensitivity = tp/(tp+fn)\n",
    "sensitivity"
   ]
  },
  {
   "cell_type": "code",
   "execution_count": 58,
   "metadata": {},
   "outputs": [
    {
     "data": {
      "text/plain": [
       "0.9599220326231919"
      ]
     },
     "execution_count": 58,
     "metadata": {},
     "output_type": "execute_result"
    }
   ],
   "source": [
    "specificity = tn/(tn+fp)\n",
    "specificity"
   ]
  },
  {
   "cell_type": "code",
   "execution_count": 59,
   "metadata": {
    "scrolled": true
   },
   "outputs": [
    {
     "name": "stdout",
     "output_type": "stream",
     "text": [
      "('DEPARTURE_DELAY', 173.860225339537)\n",
      "('SCHEDULED_TIME', 0.4980094812477027)\n",
      "('DISTANCE', 1.4917183321815626)\n",
      "('LATE_AIRCRAFT_DELAY', 2078836.711925626)\n",
      "('QNH', 0.9570570259377531)\n",
      "('dew_point', 1.2255152457943181)\n",
      "('snow', 0.9454328329664006)\n",
      "('squall', 0.8166666537688139)\n",
      "('temp', 1.3044874586925084)\n",
      "('visibility', 0.9513926291374382)\n",
      "('winddir', 0.8382584145216566)\n",
      "('windspd', 1.3087448937672501)\n",
      "('windgust', 0.879681786506036)\n",
      "('NUM_ARR_AVG_3HOUR', 0.8042711808076419)\n",
      "('crosswind_comp', 0.9273326097998859)\n",
      "('SCHEDULED_ARRIVAL_MONTH_11', 0.9645442027371647)\n",
      "('SCHEDULED_ARRIVAL_MONTH_12', 0.9688394319030015)\n",
      "('SCHEDULED_ARRIVAL_MONTH_2', 1.003896150239684)\n",
      "('SCHEDULED_ARRIVAL_MONTH_3', 0.9149058833555364)\n",
      "('SCHEDULED_ARRIVAL_MONTH_4', 0.8297069129972954)\n",
      "('SCHEDULED_ARRIVAL_MONTH_5', 0.7392226247774558)\n",
      "('SCHEDULED_ARRIVAL_MONTH_6', 0.7783563418444365)\n",
      "('SCHEDULED_ARRIVAL_MONTH_7', 0.7244970102535785)\n",
      "('SCHEDULED_ARRIVAL_MONTH_8', 0.829321332336363)\n",
      "('SCHEDULED_ARRIVAL_MONTH_9', 0.7901888839923561)\n",
      "('SCHEDULED_ARRIVAL_HOUR_1', 0.9894652027825008)\n",
      "('SCHEDULED_ARRIVAL_HOUR_10', 1.8538693240407549)\n",
      "('SCHEDULED_ARRIVAL_HOUR_11', 1.6236171050085801)\n",
      "('SCHEDULED_ARRIVAL_HOUR_12', 1.7442173012060864)\n",
      "('SCHEDULED_ARRIVAL_HOUR_13', 1.7154022854106166)\n",
      "('SCHEDULED_ARRIVAL_HOUR_14', 2.0261881995536526)\n",
      "('SCHEDULED_ARRIVAL_HOUR_15', 1.956518744575064)\n",
      "('SCHEDULED_ARRIVAL_HOUR_16', 1.7400476525239612)\n",
      "('SCHEDULED_ARRIVAL_HOUR_17', 1.565459280113798)\n",
      "('SCHEDULED_ARRIVAL_HOUR_18', 2.0004113225274325)\n",
      "('SCHEDULED_ARRIVAL_HOUR_19', 2.3782116142667524)\n",
      "('SCHEDULED_ARRIVAL_HOUR_2', 0.9957713791298095)\n",
      "('SCHEDULED_ARRIVAL_HOUR_20', 1.9945752345285108)\n",
      "('SCHEDULED_ARRIVAL_HOUR_21', 1.682418947770186)\n",
      "('SCHEDULED_ARRIVAL_HOUR_22', 1.274987675828953)\n",
      "('SCHEDULED_ARRIVAL_HOUR_23', 1.0869954401473838)\n",
      "('SCHEDULED_ARRIVAL_HOUR_3', 0.9556819658721665)\n",
      "('SCHEDULED_ARRIVAL_HOUR_4', 1.0160949585993138)\n",
      "('SCHEDULED_ARRIVAL_HOUR_5', 1.1001820272812866)\n",
      "('SCHEDULED_ARRIVAL_HOUR_6', 1.28457455861312)\n",
      "('SCHEDULED_ARRIVAL_HOUR_7', 1.6570613026377503)\n",
      "('SCHEDULED_ARRIVAL_HOUR_8', 2.861130295534144)\n",
      "('SCHEDULED_ARRIVAL_HOUR_9', 2.5698223828536837)\n",
      "('AIRLINE_CODE_AS', 1.0045742208885207)\n",
      "('AIRLINE_CODE_DL', 0.6502909238813734)\n",
      "('AIRLINE_CODE_EV', 0.9537438977470541)\n",
      "('AIRLINE_CODE_F9', 1.1149023680438856)\n",
      "('AIRLINE_CODE_MQ', 1.0248912888281536)\n",
      "('AIRLINE_CODE_NK', 1.07714082623881)\n",
      "('AIRLINE_CODE_OO', 1.0142535943016424)\n",
      "('AIRLINE_CODE_UA', 0.9839255573069221)\n",
      "('AIRLINE_CODE_US', 1.0193518806289206)\n",
      "('AIRLINE_CODE_WN', 0.7786838427429824)\n",
      "('ORIGIN_AIRPORT_ABQ', 1.0281472163573167)\n",
      "('ORIGIN_AIRPORT_ABY', 0.9545963209211784)\n",
      "('ORIGIN_AIRPORT_ACY', 0.9725150782721823)\n",
      "('ORIGIN_AIRPORT_AEX', 0.9838036563785616)\n",
      "('ORIGIN_AIRPORT_AGS', 0.9810506838653477)\n",
      "('ORIGIN_AIRPORT_ALB', 0.9733773502761588)\n",
      "('ORIGIN_AIRPORT_ANC', 1.0105365386156953)\n",
      "('ORIGIN_AIRPORT_ASE', 0.9612869990313178)\n",
      "('ORIGIN_AIRPORT_ATW', 0.9922356053490732)\n",
      "('ORIGIN_AIRPORT_AUS', 0.9478771703802513)\n",
      "('ORIGIN_AIRPORT_AVL', 0.931928459850639)\n",
      "('ORIGIN_AIRPORT_AVP', 0.9909645494350686)\n",
      "('ORIGIN_AIRPORT_AZO', 1.009525577384369)\n",
      "('ORIGIN_AIRPORT_BDL', 0.9806918034128304)\n",
      "('ORIGIN_AIRPORT_BHM', 0.9388654505142447)\n",
      "('ORIGIN_AIRPORT_BMI', 0.9708778248596436)\n",
      "('ORIGIN_AIRPORT_BNA', 0.996327116094184)\n",
      "('ORIGIN_AIRPORT_BOS', 1.0447689559613833)\n",
      "('ORIGIN_AIRPORT_BQK', 0.9699441012736091)\n",
      "('ORIGIN_AIRPORT_BTR', 0.9629318037833032)\n",
      "('ORIGIN_AIRPORT_BTV', 1.0004088548706527)\n",
      "('ORIGIN_AIRPORT_BUF', 0.9375378275905603)\n",
      "('ORIGIN_AIRPORT_BWI', 0.9793216661123092)\n",
      "('ORIGIN_AIRPORT_BZN', 1.0018614716161132)\n",
      "('ORIGIN_AIRPORT_CAE', 0.9114788919522576)\n",
      "('ORIGIN_AIRPORT_CAK', 0.9796191772536881)\n",
      "('ORIGIN_AIRPORT_CHA', 0.9491495096774762)\n",
      "('ORIGIN_AIRPORT_CHO', 0.9705126209457732)\n",
      "('ORIGIN_AIRPORT_CHS', 0.9407088891891122)\n",
      "('ORIGIN_AIRPORT_CID', 0.9745887925295931)\n",
      "('ORIGIN_AIRPORT_CLE', 0.9158898152078064)\n",
      "('ORIGIN_AIRPORT_CLT', 0.9385873179568446)\n",
      "('ORIGIN_AIRPORT_CMH', 0.9613488505226736)\n",
      "('ORIGIN_AIRPORT_COS', 1.0586050234935667)\n",
      "('ORIGIN_AIRPORT_CRW', 0.9671876470760311)\n",
      "('ORIGIN_AIRPORT_CSG', 0.9598073627882622)\n",
      "('ORIGIN_AIRPORT_CVG', 0.99002528600581)\n",
      "('ORIGIN_AIRPORT_DAB', 0.9036855997149352)\n",
      "('ORIGIN_AIRPORT_DAL', 0.9598223316657913)\n",
      "('ORIGIN_AIRPORT_DAY', 0.967783144160871)\n",
      "('ORIGIN_AIRPORT_DCA', 0.9869783165339913)\n",
      "('ORIGIN_AIRPORT_DEN', 1.0315622273017555)\n",
      "('ORIGIN_AIRPORT_DFW', 0.9269386864618971)\n",
      "('ORIGIN_AIRPORT_DHN', 0.9995459080384184)\n",
      "('ORIGIN_AIRPORT_DSM', 0.9794584562110795)\n",
      "('ORIGIN_AIRPORT_DTW', 0.9600285012542691)\n",
      "('ORIGIN_AIRPORT_ECP', 0.907867941529916)\n",
      "('ORIGIN_AIRPORT_EGE', 0.8867588699821589)\n",
      "('ORIGIN_AIRPORT_ELM', 1.002808060963494)\n",
      "('ORIGIN_AIRPORT_ELP', 1.0283991381151751)\n",
      "('ORIGIN_AIRPORT_EVV', 0.9890012718709086)\n",
      "('ORIGIN_AIRPORT_EWN', 0.9588276107132429)\n",
      "('ORIGIN_AIRPORT_EWR', 0.9551601679250237)\n",
      "('ORIGIN_AIRPORT_EYW', 0.9241645286847914)\n",
      "('ORIGIN_AIRPORT_FAR', 1.0002521351408715)\n",
      "('ORIGIN_AIRPORT_FAY', 0.9330985901310105)\n",
      "('ORIGIN_AIRPORT_FCA', 1.00499395640468)\n",
      "('ORIGIN_AIRPORT_FLL', 0.9035413521410463)\n",
      "('ORIGIN_AIRPORT_FNT', 0.9613186486992192)\n",
      "('ORIGIN_AIRPORT_FSD', 0.9969398704019303)\n",
      "('ORIGIN_AIRPORT_FSM', 0.9687685257711282)\n",
      "('ORIGIN_AIRPORT_FWA', 0.9462124581283732)\n",
      "('ORIGIN_AIRPORT_GNV', 0.9587227786125213)\n",
      "('ORIGIN_AIRPORT_GPT', 0.962959587599257)\n",
      "('ORIGIN_AIRPORT_GRB', 0.9756504014986427)\n",
      "('ORIGIN_AIRPORT_GRK', 0.9586863204828924)\n",
      "('ORIGIN_AIRPORT_GRR', 0.9286993749690151)\n",
      "('ORIGIN_AIRPORT_GSO', 0.9573962598948337)\n",
      "('ORIGIN_AIRPORT_GSP', 0.9009700921198107)\n",
      "('ORIGIN_AIRPORT_GTR', 0.9988615043459997)\n",
      "('ORIGIN_AIRPORT_HDN', 0.9658874916113559)\n",
      "('ORIGIN_AIRPORT_HNL', 1.087352425567781)\n",
      "('ORIGIN_AIRPORT_HOU', 0.9269729337235249)\n",
      "('ORIGIN_AIRPORT_HPN', 0.9978848517735296)\n",
      "('ORIGIN_AIRPORT_HSV', 0.9310284931182107)\n",
      "('ORIGIN_AIRPORT_IAD', 0.9893940619804295)\n",
      "('ORIGIN_AIRPORT_IAH', 0.9698870258580267)\n",
      "('ORIGIN_AIRPORT_ICT', 0.9775228658556575)\n",
      "('ORIGIN_AIRPORT_ILM', 0.9118448357039461)\n",
      "('ORIGIN_AIRPORT_IND', 0.9669934923444384)\n",
      "('ORIGIN_AIRPORT_JAC', 1.016625880395148)\n",
      "('ORIGIN_AIRPORT_JAN', 0.8993123708317106)\n",
      "('ORIGIN_AIRPORT_JAX', 0.9399734838895502)\n",
      "('ORIGIN_AIRPORT_JFK', 0.9907437062539283)\n",
      "('ORIGIN_AIRPORT_LAN', 1.0079855235032233)\n",
      "('ORIGIN_AIRPORT_LAS', 1.023547452862573)\n",
      "('ORIGIN_AIRPORT_LAX', 1.0972315970741775)\n",
      "('ORIGIN_AIRPORT_LEX', 0.9465998902207905)\n",
      "('ORIGIN_AIRPORT_LFT', 0.97029777831067)\n",
      "('ORIGIN_AIRPORT_LGA', 1.0394944849449894)\n",
      "('ORIGIN_AIRPORT_LIT', 0.967173912372355)\n",
      "('ORIGIN_AIRPORT_LNK', 0.9590854344114399)\n",
      "('ORIGIN_AIRPORT_MBS', 1.006275377238673)\n",
      "('ORIGIN_AIRPORT_MCI', 0.9333653907488231)\n",
      "('ORIGIN_AIRPORT_MCO', 0.9246149682140437)\n",
      "('ORIGIN_AIRPORT_MDT', 0.9878518084210125)\n",
      "('ORIGIN_AIRPORT_MDW', 0.9452105879266668)\n",
      "('ORIGIN_AIRPORT_MEM', 0.9385390495945133)\n",
      "('ORIGIN_AIRPORT_MGM', 0.9714813673833647)\n",
      "('ORIGIN_AIRPORT_MHT', 1.012207712136401)\n",
      "('ORIGIN_AIRPORT_MIA', 0.9592223168313564)\n",
      "('ORIGIN_AIRPORT_MKE', 0.9732091001999132)\n",
      "('ORIGIN_AIRPORT_MLB', 0.9355292426892554)\n",
      "('ORIGIN_AIRPORT_MLI', 0.9734196103272716)\n",
      "('ORIGIN_AIRPORT_MLU', 0.9414602587297789)\n",
      "('ORIGIN_AIRPORT_MOB', 0.9767517582906284)\n",
      "('ORIGIN_AIRPORT_MSN', 0.98559199647435)\n",
      "('ORIGIN_AIRPORT_MSO', 0.9680547402404159)\n",
      "('ORIGIN_AIRPORT_MSP', 0.9950123705427986)\n",
      "('ORIGIN_AIRPORT_MSY', 0.9223013083389087)\n",
      "('ORIGIN_AIRPORT_MTJ', 0.977921581124385)\n",
      "('ORIGIN_AIRPORT_MYR', 0.9455695985697055)\n",
      "('ORIGIN_AIRPORT_OAJ', 0.9758523913219627)\n",
      "('ORIGIN_AIRPORT_OAK', 0.9806684427044435)\n",
      "('ORIGIN_AIRPORT_OKC', 0.9527527420822256)\n",
      "('ORIGIN_AIRPORT_OMA', 1.0033676057144028)\n",
      "('ORIGIN_AIRPORT_ONT', 1.0102183277153682)\n",
      "('ORIGIN_AIRPORT_ORD', 0.9410280299958416)\n",
      "('ORIGIN_AIRPORT_ORF', 0.9020272377965634)\n",
      "('ORIGIN_AIRPORT_PBI', 0.8929366568648259)\n",
      "('ORIGIN_AIRPORT_PDX', 1.0518405788502827)\n",
      "('ORIGIN_AIRPORT_PHF', 0.9551191868062443)\n",
      "('ORIGIN_AIRPORT_PHL', 1.0529594445617918)\n",
      "('ORIGIN_AIRPORT_PHX', 1.0419954240200915)\n",
      "('ORIGIN_AIRPORT_PIA', 0.980067496907673)\n",
      "('ORIGIN_AIRPORT_PIT', 0.9140340708406366)\n",
      "('ORIGIN_AIRPORT_PNS', 0.9078308578112163)\n",
      "('ORIGIN_AIRPORT_PVD', 1.006716600106686)\n",
      "('ORIGIN_AIRPORT_PWM', 0.977919834454781)\n",
      "('ORIGIN_AIRPORT_RAP', 0.9878763560481955)\n",
      "('ORIGIN_AIRPORT_RDU', 0.9483400214933473)\n",
      "('ORIGIN_AIRPORT_RIC', 0.9403716059047493)\n",
      "('ORIGIN_AIRPORT_ROA', 0.9531602577001574)\n",
      "('ORIGIN_AIRPORT_ROC', 0.9817288943861925)\n",
      "('ORIGIN_AIRPORT_RST', 0.9682400348968337)\n",
      "('ORIGIN_AIRPORT_RSW', 0.9029700732670212)\n",
      "('ORIGIN_AIRPORT_SAN', 1.0331353010284816)\n",
      "('ORIGIN_AIRPORT_SAT', 0.9420611601742785)\n",
      "('ORIGIN_AIRPORT_SAV', 0.9214915996161177)\n",
      "('ORIGIN_AIRPORT_SBN', 0.9556846715178158)\n",
      "('ORIGIN_AIRPORT_SCE', 0.9837430179466479)\n",
      "('ORIGIN_AIRPORT_SDF', 0.9650095500768132)\n",
      "('ORIGIN_AIRPORT_SEA', 1.0871248597190888)\n",
      "('ORIGIN_AIRPORT_SFO', 1.0725000244131477)\n",
      "('ORIGIN_AIRPORT_SGF', 0.9804970628741193)\n",
      "('ORIGIN_AIRPORT_SHV', 0.916643324701305)\n",
      "('ORIGIN_AIRPORT_SJC', 1.0353306676286007)\n",
      "('ORIGIN_AIRPORT_SJU', 0.9631519935104974)\n",
      "('ORIGIN_AIRPORT_SLC', 1.0528218721794376)\n",
      "('ORIGIN_AIRPORT_SMF', 1.0132926483158062)\n",
      "('ORIGIN_AIRPORT_SNA', 1.0082231665294052)\n",
      "('ORIGIN_AIRPORT_SRQ', 0.8840995134124937)\n",
      "('ORIGIN_AIRPORT_STL', 0.9176568033571664)\n",
      "('ORIGIN_AIRPORT_STT', 0.9977349634071208)\n",
      "('ORIGIN_AIRPORT_STX', 0.9513737381322134)\n",
      "('ORIGIN_AIRPORT_SYR', 0.9802640618746195)\n",
      "('ORIGIN_AIRPORT_TLH', 0.9185612031090389)\n",
      "('ORIGIN_AIRPORT_TPA', 0.9096815441748758)\n",
      "('ORIGIN_AIRPORT_TRI', 0.961767071843416)\n",
      "('ORIGIN_AIRPORT_TTN', 0.9868747783833287)\n",
      "('ORIGIN_AIRPORT_TUL', 0.9650095381578832)\n",
      "('ORIGIN_AIRPORT_TUS', 1.0325099789917902)\n",
      "('ORIGIN_AIRPORT_TVC', 0.9711882605139686)\n",
      "('ORIGIN_AIRPORT_TYS', 0.9505449816197494)\n",
      "('ORIGIN_AIRPORT_VLD', 0.9342922061797025)\n",
      "('ORIGIN_AIRPORT_VPS', 0.9199451712467779)\n",
      "('ORIGIN_AIRPORT_XNA', 0.9893983855408984)\n"
     ]
    }
   ],
   "source": [
    "for i in zip(X_train.columns, np.exp(lr.coef_.tolist()[0])):\n",
    "    print (i)"
   ]
  },
  {
   "cell_type": "code",
   "execution_count": 60,
   "metadata": {},
   "outputs": [],
   "source": [
    "# Exporting model\n",
    "\n",
    "# lr_filename = '../models/classification_logreg_model.sav'\n",
    "# pickle.dump(lr, open(lr_filename, 'wb'))"
   ]
  },
  {
   "cell_type": "markdown",
   "metadata": {},
   "source": [
    "---\n",
    "### (4) Model (II): RandomForest\n",
    "\n",
    "---"
   ]
  },
  {
   "cell_type": "code",
   "execution_count": 16,
   "metadata": {},
   "outputs": [],
   "source": [
    "rf = RandomForestClassifier()"
   ]
  },
  {
   "cell_type": "code",
   "execution_count": 17,
   "metadata": {},
   "outputs": [],
   "source": [
    "rf_params = {\n",
    "  \"n_estimators\":[50,100],\n",
    "  \"min_samples_split\":[10,20],\n",
    "  \"max_depth\":[5,10]\n",
    "}\n",
    "\n",
    "rf_cv = RandomizedSearchCV(rf, param_distributions=rf_params, scoring='f1', n_iter=2, n_jobs=4, verbose=2)"
   ]
  },
  {
   "cell_type": "code",
   "execution_count": 18,
   "metadata": {},
   "outputs": [
    {
     "name": "stdout",
     "output_type": "stream",
     "text": [
      "Fitting 5 folds for each of 2 candidates, totalling 10 fits\n"
     ]
    },
    {
     "name": "stderr",
     "output_type": "stream",
     "text": [
      "[Parallel(n_jobs=4)]: Using backend LokyBackend with 4 concurrent workers.\n",
      "[Parallel(n_jobs=4)]: Done  10 out of  10 | elapsed:  2.0min finished\n"
     ]
    },
    {
     "data": {
      "text/plain": [
       "RandomizedSearchCV(cv=None, error_score=nan,\n",
       "                   estimator=RandomForestClassifier(bootstrap=True,\n",
       "                                                    ccp_alpha=0.0,\n",
       "                                                    class_weight=None,\n",
       "                                                    criterion='gini',\n",
       "                                                    max_depth=None,\n",
       "                                                    max_features='auto',\n",
       "                                                    max_leaf_nodes=None,\n",
       "                                                    max_samples=None,\n",
       "                                                    min_impurity_decrease=0.0,\n",
       "                                                    min_impurity_split=None,\n",
       "                                                    min_samples_leaf=1,\n",
       "                                                    min_samples_split=2,\n",
       "                                                    min_weight_fraction_leaf=0.0,\n",
       "                                                    n_estimators=100,\n",
       "                                                    n_jobs=None,\n",
       "                                                    oob_score=False,\n",
       "                                                    random_state=None,\n",
       "                                                    verbose=0,\n",
       "                                                    warm_start=False),\n",
       "                   iid='deprecated', n_iter=2, n_jobs=4,\n",
       "                   param_distributions={'max_depth': [5, 10],\n",
       "                                        'min_samples_split': [10, 20],\n",
       "                                        'n_estimators': [50, 100]},\n",
       "                   pre_dispatch='2*n_jobs', random_state=None, refit=True,\n",
       "                   return_train_score=False, scoring='f1', verbose=2)"
      ]
     },
     "execution_count": 18,
     "metadata": {},
     "output_type": "execute_result"
    }
   ],
   "source": [
    "rf_cv.fit(X_train, y_train)"
   ]
  },
  {
   "cell_type": "code",
   "execution_count": 19,
   "metadata": {},
   "outputs": [
    {
     "data": {
      "text/plain": [
       "{'n_estimators': 100, 'min_samples_split': 10, 'max_depth': 5}"
      ]
     },
     "execution_count": 19,
     "metadata": {},
     "output_type": "execute_result"
    }
   ],
   "source": [
    "rf_cv.best_params_"
   ]
  },
  {
   "cell_type": "code",
   "execution_count": 40,
   "metadata": {},
   "outputs": [],
   "source": [
    "opt_rf = RandomForestClassifier(n_estimators=50, min_samples_split=10, max_depth=10)"
   ]
  },
  {
   "cell_type": "code",
   "execution_count": 41,
   "metadata": {},
   "outputs": [
    {
     "data": {
      "text/plain": [
       "RandomForestClassifier(bootstrap=True, ccp_alpha=0.0, class_weight=None,\n",
       "                       criterion='gini', max_depth=10, max_features='auto',\n",
       "                       max_leaf_nodes=None, max_samples=None,\n",
       "                       min_impurity_decrease=0.0, min_impurity_split=None,\n",
       "                       min_samples_leaf=1, min_samples_split=10,\n",
       "                       min_weight_fraction_leaf=0.0, n_estimators=50,\n",
       "                       n_jobs=None, oob_score=False, random_state=None,\n",
       "                       verbose=0, warm_start=False)"
      ]
     },
     "execution_count": 41,
     "metadata": {},
     "output_type": "execute_result"
    }
   ],
   "source": [
    "opt_rf.fit(X_train, y_train)"
   ]
  },
  {
   "cell_type": "code",
   "execution_count": 42,
   "metadata": {},
   "outputs": [
    {
     "data": {
      "text/plain": [
       "0.9208841433251665"
      ]
     },
     "execution_count": 42,
     "metadata": {},
     "output_type": "execute_result"
    }
   ],
   "source": [
    "cross_val_score(opt_rf, X_train, y_train).mean()"
   ]
  },
  {
   "cell_type": "code",
   "execution_count": 43,
   "metadata": {},
   "outputs": [
    {
     "data": {
      "text/plain": [
       "0.9775418640071127"
      ]
     },
     "execution_count": 43,
     "metadata": {},
     "output_type": "execute_result"
    }
   ],
   "source": [
    "cross_val_score(opt_rf, X_train, y_train, scoring='roc_auc').mean()"
   ]
  },
  {
   "cell_type": "code",
   "execution_count": 44,
   "metadata": {},
   "outputs": [
    {
     "data": {
      "text/plain": [
       "0.9393682363264112"
      ]
     },
     "execution_count": 44,
     "metadata": {},
     "output_type": "execute_result"
    }
   ],
   "source": [
    "opt_rf.score(X_test, y_test)"
   ]
  },
  {
   "cell_type": "code",
   "execution_count": 45,
   "metadata": {},
   "outputs": [
    {
     "data": {
      "text/plain": [
       "0.8834374631325267"
      ]
     },
     "execution_count": 45,
     "metadata": {},
     "output_type": "execute_result"
    }
   ],
   "source": [
    "roc_auc_score(y_test, opt_rf.predict(X_test))"
   ]
  },
  {
   "cell_type": "code",
   "execution_count": 46,
   "metadata": {},
   "outputs": [],
   "source": [
    "tn, fp, fn, tp = confusion_matrix(y_test, opt_rf.predict(X_test)).ravel()"
   ]
  },
  {
   "cell_type": "code",
   "execution_count": 47,
   "metadata": {},
   "outputs": [
    {
     "data": {
      "text/plain": [
       "0.8047301394784718"
      ]
     },
     "execution_count": 47,
     "metadata": {},
     "output_type": "execute_result"
    }
   ],
   "source": [
    "sensitivity = tp/(tp+fn)\n",
    "sensitivity"
   ]
  },
  {
   "cell_type": "code",
   "execution_count": 48,
   "metadata": {
    "scrolled": true
   },
   "outputs": [
    {
     "data": {
      "text/plain": [
       "0.9621447867865814"
      ]
     },
     "execution_count": 48,
     "metadata": {},
     "output_type": "execute_result"
    }
   ],
   "source": [
    "specificity = tn/(tn+fp)\n",
    "specificity"
   ]
  },
  {
   "cell_type": "code",
   "execution_count": 63,
   "metadata": {},
   "outputs": [],
   "source": [
    "# Exporting model\n",
    "\n",
    "# rf_filename = '../models/classification_rf_model.sav'\n",
    "# pickle.dump(opt_rf, open(rf_filename, 'wb'))"
   ]
  },
  {
   "cell_type": "markdown",
   "metadata": {},
   "source": [
    "---\n",
    "### (5) Model (III): XGBoost\n",
    "\n",
    "---"
   ]
  },
  {
   "cell_type": "code",
   "execution_count": 29,
   "metadata": {},
   "outputs": [],
   "source": [
    "xgbc = xgb.XGBClassifier()"
   ]
  },
  {
   "cell_type": "code",
   "execution_count": 32,
   "metadata": {},
   "outputs": [],
   "source": [
    "xgbc_params = {\n",
    "  \"learning_rate\":[0.01, 0.1, 0.2, 0.3],\n",
    "  \"max_depth\":[3, 5, 10]\n",
    "}\n",
    "\n",
    "xgbc_cv = RandomizedSearchCV(xgbc, param_distributions=xgbc_params, scoring='f1', n_iter=2, n_jobs=4, verbose=2)"
   ]
  },
  {
   "cell_type": "code",
   "execution_count": 33,
   "metadata": {},
   "outputs": [
    {
     "name": "stdout",
     "output_type": "stream",
     "text": [
      "Fitting 5 folds for each of 2 candidates, totalling 10 fits\n"
     ]
    },
    {
     "name": "stderr",
     "output_type": "stream",
     "text": [
      "[Parallel(n_jobs=4)]: Using backend LokyBackend with 4 concurrent workers.\n",
      "[Parallel(n_jobs=4)]: Done  10 out of  10 | elapsed: 53.9min finished\n"
     ]
    },
    {
     "data": {
      "text/plain": [
       "RandomizedSearchCV(cv=None, error_score=nan,\n",
       "                   estimator=XGBClassifier(base_score=0.5, booster='gbtree',\n",
       "                                           colsample_bylevel=1,\n",
       "                                           colsample_bynode=1,\n",
       "                                           colsample_bytree=1, gamma=0,\n",
       "                                           learning_rate=0.1, max_delta_step=0,\n",
       "                                           max_depth=3, min_child_weight=1,\n",
       "                                           missing=None, n_estimators=100,\n",
       "                                           n_jobs=1, nthread=None,\n",
       "                                           objective='binary:logistic',\n",
       "                                           random_state=0, reg_alpha=0,\n",
       "                                           reg_lambda=1, scale_pos_weight=1,\n",
       "                                           seed=None, silent=None, subsample=1,\n",
       "                                           verbosity=1),\n",
       "                   iid='deprecated', n_iter=2, n_jobs=4,\n",
       "                   param_distributions={'learning_rate': [0.01, 0.1, 0.2, 0.3],\n",
       "                                        'max_depth': [3, 5, 10]},\n",
       "                   pre_dispatch='2*n_jobs', random_state=None, refit=True,\n",
       "                   return_train_score=False, scoring='f1', verbose=2)"
      ]
     },
     "execution_count": 33,
     "metadata": {},
     "output_type": "execute_result"
    }
   ],
   "source": [
    "xgbc_cv.fit(X_train, y_train)"
   ]
  },
  {
   "cell_type": "code",
   "execution_count": 34,
   "metadata": {},
   "outputs": [
    {
     "data": {
      "text/plain": [
       "{'max_depth': 3, 'learning_rate': 0.2}"
      ]
     },
     "execution_count": 34,
     "metadata": {},
     "output_type": "execute_result"
    }
   ],
   "source": [
    "xgbc_cv.best_params_"
   ]
  },
  {
   "cell_type": "code",
   "execution_count": 16,
   "metadata": {},
   "outputs": [],
   "source": [
    "opt_xgb = xgb.XGBClassifier(max_depth=3, learning_rate=0.2)"
   ]
  },
  {
   "cell_type": "code",
   "execution_count": 17,
   "metadata": {},
   "outputs": [
    {
     "data": {
      "text/plain": [
       "XGBClassifier(base_score=0.5, booster='gbtree', colsample_bylevel=1,\n",
       "              colsample_bynode=1, colsample_bytree=1, gamma=0,\n",
       "              learning_rate=0.2, max_delta_step=0, max_depth=3,\n",
       "              min_child_weight=1, missing=None, n_estimators=100, n_jobs=1,\n",
       "              nthread=None, objective='binary:logistic', random_state=0,\n",
       "              reg_alpha=0, reg_lambda=1, scale_pos_weight=1, seed=None,\n",
       "              silent=None, subsample=1, verbosity=1)"
      ]
     },
     "execution_count": 17,
     "metadata": {},
     "output_type": "execute_result"
    }
   ],
   "source": [
    "opt_xgb.fit(X_train, y_train)"
   ]
  },
  {
   "cell_type": "code",
   "execution_count": 18,
   "metadata": {
    "scrolled": true
   },
   "outputs": [
    {
     "data": {
      "text/plain": [
       "0.9631315014089618"
      ]
     },
     "execution_count": 18,
     "metadata": {},
     "output_type": "execute_result"
    }
   ],
   "source": [
    "cross_val_score(opt_xgb, X_train, y_train).mean()"
   ]
  },
  {
   "cell_type": "code",
   "execution_count": 19,
   "metadata": {},
   "outputs": [
    {
     "data": {
      "text/plain": [
       "0.9878688763525808"
      ]
     },
     "execution_count": 19,
     "metadata": {},
     "output_type": "execute_result"
    }
   ],
   "source": [
    "cross_val_score(opt_xgb, X_train, y_train, scoring='roc_auc').mean()"
   ]
  },
  {
   "cell_type": "code",
   "execution_count": 20,
   "metadata": {},
   "outputs": [
    {
     "data": {
      "text/plain": [
       "0.958160280783855"
      ]
     },
     "execution_count": 20,
     "metadata": {},
     "output_type": "execute_result"
    }
   ],
   "source": [
    "opt_xgb.score(X_test, y_test)"
   ]
  },
  {
   "cell_type": "code",
   "execution_count": 21,
   "metadata": {},
   "outputs": [
    {
     "data": {
      "text/plain": [
       "0.8802315193169472"
      ]
     },
     "execution_count": 21,
     "metadata": {},
     "output_type": "execute_result"
    }
   ],
   "source": [
    "roc_auc_score(y_test, opt_xgb.predict(X_test))"
   ]
  },
  {
   "cell_type": "code",
   "execution_count": 22,
   "metadata": {},
   "outputs": [],
   "source": [
    "tn, fp, fn, tp = confusion_matrix(y_test, opt_xgb.predict(X_test)).ravel()"
   ]
  },
  {
   "cell_type": "code",
   "execution_count": 23,
   "metadata": {},
   "outputs": [
    {
     "data": {
      "text/plain": [
       "0.7705680210228422"
      ]
     },
     "execution_count": 23,
     "metadata": {},
     "output_type": "execute_result"
    }
   ],
   "source": [
    "sensitivity = tp/(tp+fn)\n",
    "sensitivity"
   ]
  },
  {
   "cell_type": "code",
   "execution_count": 24,
   "metadata": {
    "scrolled": true
   },
   "outputs": [
    {
     "data": {
      "text/plain": [
       "0.9898950176110523"
      ]
     },
     "execution_count": 24,
     "metadata": {},
     "output_type": "execute_result"
    }
   ],
   "source": [
    "specificity = tn/(tn+fp)\n",
    "specificity"
   ]
  },
  {
   "cell_type": "code",
   "execution_count": 64,
   "metadata": {},
   "outputs": [],
   "source": [
    "# Exporting model\n",
    "\n",
    "# xgb_filename = '../models/classification_xgb_model.sav'\n",
    "# pickle.dump(opt_xgb, open(xgb_filename, 'wb'))"
   ]
  },
  {
   "cell_type": "markdown",
   "metadata": {},
   "source": [
    "---\n",
    "### (6) Model (IV): Neural Networks\n",
    "\n",
    "---"
   ]
  },
  {
   "cell_type": "code",
   "execution_count": 33,
   "metadata": {},
   "outputs": [],
   "source": [
    "model = Sequential()"
   ]
  },
  {
   "cell_type": "code",
   "execution_count": 34,
   "metadata": {},
   "outputs": [],
   "source": [
    "model.add(Dense(150, \n",
    "                input_dim=225, \n",
    "                activation='relu'))\n",
    "\n",
    "model.add(Dropout(0.5))\n",
    "\n",
    "model.add(Dense(150, \n",
    "                activation='relu'))\n",
    "\n",
    "model.add(Dropout(0.5))\n",
    "\n",
    "model.add(Dense(150, \n",
    "                activation='relu'))\n",
    "\n",
    "model.add(Dense(1, \n",
    "                activation='sigmoid'))"
   ]
  },
  {
   "cell_type": "code",
   "execution_count": 35,
   "metadata": {},
   "outputs": [],
   "source": [
    "es = EarlyStopping(monitor='val_loss', patience=3)\n",
    "\n",
    "model.compile(optimizer='adam', loss='binary_crossentropy', metrics=['accuracy'])"
   ]
  },
  {
   "cell_type": "code",
   "execution_count": 38,
   "metadata": {
    "scrolled": true
   },
   "outputs": [
    {
     "name": "stdout",
     "output_type": "stream",
     "text": [
      "Train on 373628 samples, validate on 93408 samples\n",
      "Epoch 1/200\n",
      "373628/373628 [==============================] - 15s 40us/step - loss: 0.1668 - accuracy: 0.9356 - val_loss: 0.1665 - val_accuracy: 0.9161\n",
      "Epoch 2/200\n",
      "373628/373628 [==============================] - 17s 45us/step - loss: 0.1659 - accuracy: 0.9364 - val_loss: 0.1624 - val_accuracy: 0.9146\n",
      "Epoch 3/200\n",
      "373628/373628 [==============================] - 16s 43us/step - loss: 0.1658 - accuracy: 0.9364 - val_loss: 0.1703 - val_accuracy: 0.9140\n",
      "Epoch 4/200\n",
      "373628/373628 [==============================] - 17s 45us/step - loss: 0.1655 - accuracy: 0.9363 - val_loss: 0.1754 - val_accuracy: 0.9119\n",
      "Epoch 5/200\n",
      "373628/373628 [==============================] - 17s 44us/step - loss: 0.1641 - accuracy: 0.9369 - val_loss: 0.1804 - val_accuracy: 0.9065\n"
     ]
    },
    {
     "data": {
      "text/plain": [
       "<keras.callbacks.callbacks.History at 0x266f9132308>"
      ]
     },
     "execution_count": 38,
     "metadata": {},
     "output_type": "execute_result"
    }
   ],
   "source": [
    "model.fit(X_train, y_train, batch_size=256, epochs=200, validation_split=0.2, callbacks=[es])"
   ]
  },
  {
   "cell_type": "code",
   "execution_count": 39,
   "metadata": {},
   "outputs": [
    {
     "name": "stdout",
     "output_type": "stream",
     "text": [
      "68380/68380 [==============================] - 3s 37us/step\n"
     ]
    },
    {
     "data": {
      "text/plain": [
       "[0.15233314213530647, 0.9535682797431946]"
      ]
     },
     "execution_count": 39,
     "metadata": {},
     "output_type": "execute_result"
    }
   ],
   "source": [
    "model.evaluate(X_test, y_test)"
   ]
  },
  {
   "cell_type": "code",
   "execution_count": 66,
   "metadata": {},
   "outputs": [],
   "source": [
    "# Exporting model\n",
    "\n",
    "# nn_filename = '../models/classification_nn_model.sav'\n",
    "# pickle.dump(model, open(nn_filename, 'wb'))"
   ]
  }
 ],
 "metadata": {
  "kernelspec": {
   "display_name": "Python 3",
   "language": "python",
   "name": "python3"
  },
  "language_info": {
   "codemirror_mode": {
    "name": "ipython",
    "version": 3
   },
   "file_extension": ".py",
   "mimetype": "text/x-python",
   "name": "python",
   "nbconvert_exporter": "python",
   "pygments_lexer": "ipython3",
   "version": "3.7.4"
  },
  "name": "Modeling (Classification) - airborne to destination",
  "notebookId": 2049533585937493
 },
 "nbformat": 4,
 "nbformat_minor": 1
}
