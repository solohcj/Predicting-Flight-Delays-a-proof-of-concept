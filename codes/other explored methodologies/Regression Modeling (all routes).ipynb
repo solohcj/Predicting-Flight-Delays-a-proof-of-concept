{
 "cells": [
  {
   "cell_type": "markdown",
   "metadata": {},
   "source": [
    "<img src=\"../../images/airplane-symbol.jpg\" style=\"float: left; margin: 20px;\" width=\"50\" height=\"50\"> \n",
    "#  Predicting Flight Delays (<i>a Proof-of-Concept</i>)\n",
    "\n",
    "Author: Solomon Heng\n",
    "\n",
    "---"
   ]
  },
  {
   "cell_type": "markdown",
   "metadata": {},
   "source": [
    "# Regression Modeling (all routes)\n",
    "\n",
    "## Processes covered in this notebook:\n",
    "1. [Importing dataset](#(1)-Importing-dataset)\n",
    "2. [Setting X_train, X_test, y_train & y_test](#(2)-Setting-X_train,-X_test,-y_train-&-y_test)\n",
    "3. [Model (I): Linear Regression](#(3)-Model-(I):-Linear-Regression)\n",
    "4. [Model (II): RandomForest](#(4)-Model-(II):-RandomForest)\n",
    "5. [Model (III): XGBoost](#(5)-Model-(III):-XGBoost)\n",
    "6. [Model (IV): Neural Networks](#(6)-Model-(IV):-Neural-Networks)"
   ]
  },
  {
   "cell_type": "code",
   "execution_count": 1,
   "metadata": {},
   "outputs": [
    {
     "name": "stderr",
     "output_type": "stream",
     "text": [
      "Using TensorFlow backend.\n",
      "C:\\Users\\solom\\Anaconda3\\lib\\site-packages\\sklearn\\utils\\deprecation.py:144: FutureWarning: The sklearn.metrics.classification module is  deprecated in version 0.22 and will be removed in version 0.24. The corresponding classes / functions should instead be imported from sklearn.metrics. Anything that cannot be imported from sklearn.metrics is now part of the private API.\n",
      "  warnings.warn(message, FutureWarning)\n"
     ]
    }
   ],
   "source": [
    "import pandas as pd\n",
    "import numpy as np\n",
    "import matplotlib.pyplot as plt\n",
    "import seaborn as sns\n",
    "\n",
    "from sklearn.preprocessing import StandardScaler\n",
    "from sklearn.linear_model import LinearRegression\n",
    "from sklearn.model_selection import train_test_split, cross_val_score, RandomizedSearchCV\n",
    "from sklearn.feature_selection import RFE\n",
    "from sklearn.pipeline import Pipeline\n",
    "from sklearn.metrics import mean_squared_error\n",
    "from sklearn.ensemble import RandomForestRegressor\n",
    "from sklearn.decomposition import PCA\n",
    "\n",
    "from keras.models import Sequential\n",
    "from keras.layers import Dense, Dropout\n",
    "from keras.callbacks import EarlyStopping\n",
    "from keras import backend as K\n",
    "\n",
    "import xgboost as xgb\n",
    "\n",
    "import pickle\n",
    "\n",
    "from yellowbrick.regressor import ResidualsPlot\n",
    "\n",
    "sns.set()"
   ]
  },
  {
   "cell_type": "markdown",
   "metadata": {},
   "source": [
    "---\n",
    "### (1) Importing dataset\n",
    "\n",
    "---"
   ]
  },
  {
   "cell_type": "code",
   "execution_count": 2,
   "metadata": {},
   "outputs": [],
   "source": [
    "df = pd.read_csv('../datasets/combined_data_regression.csv')\n",
    "df_test = pd.read_csv('../datasets/combined_data_regression_test.csv')"
   ]
  },
  {
   "cell_type": "code",
   "execution_count": 3,
   "metadata": {
    "scrolled": false
   },
   "outputs": [
    {
     "data": {
      "text/html": [
       "<div>\n",
       "<style scoped>\n",
       "    .dataframe tbody tr th:only-of-type {\n",
       "        vertical-align: middle;\n",
       "    }\n",
       "\n",
       "    .dataframe tbody tr th {\n",
       "        vertical-align: top;\n",
       "    }\n",
       "\n",
       "    .dataframe thead th {\n",
       "        text-align: right;\n",
       "    }\n",
       "</style>\n",
       "<table border=\"1\" class=\"dataframe\">\n",
       "  <thead>\n",
       "    <tr style=\"text-align: right;\">\n",
       "      <th></th>\n",
       "      <th>DEPARTURE_DELAY</th>\n",
       "      <th>lightning</th>\n",
       "      <th>shower</th>\n",
       "      <th>snow</th>\n",
       "      <th>squall</th>\n",
       "      <th>thunderyshower</th>\n",
       "      <th>DEPARTURE_DELAY^2</th>\n",
       "      <th>DEPARTURE_DELAY SCHEDULED_TIME</th>\n",
       "      <th>DEPARTURE_DELAY DISTANCE</th>\n",
       "      <th>DEPARTURE_DELAY QNH</th>\n",
       "      <th>DEPARTURE_DELAY dew_point</th>\n",
       "      <th>DEPARTURE_DELAY visibility</th>\n",
       "      <th>DEPARTURE_DELAY temp</th>\n",
       "      <th>DEPARTURE_DELAY winddir</th>\n",
       "      <th>DEPARTURE_DELAY windspd</th>\n",
       "      <th>DEPARTURE_DELAY NUM_ARR_AVG_3HOUR</th>\n",
       "      <th>DEPARTURE_DELAY crosswind_comp</th>\n",
       "      <th>SCHEDULED_ARRIVAL_MONTH_11</th>\n",
       "      <th>SCHEDULED_ARRIVAL_MONTH_12</th>\n",
       "      <th>SCHEDULED_ARRIVAL_MONTH_2</th>\n",
       "      <th>SCHEDULED_ARRIVAL_MONTH_3</th>\n",
       "      <th>SCHEDULED_ARRIVAL_MONTH_4</th>\n",
       "      <th>SCHEDULED_ARRIVAL_MONTH_5</th>\n",
       "      <th>SCHEDULED_ARRIVAL_MONTH_6</th>\n",
       "      <th>SCHEDULED_ARRIVAL_MONTH_7</th>\n",
       "      <th>SCHEDULED_ARRIVAL_MONTH_8</th>\n",
       "      <th>SCHEDULED_ARRIVAL_MONTH_9</th>\n",
       "      <th>SCHEDULED_ARRIVAL_HOUR_1</th>\n",
       "      <th>SCHEDULED_ARRIVAL_HOUR_10</th>\n",
       "      <th>SCHEDULED_ARRIVAL_HOUR_11</th>\n",
       "      <th>SCHEDULED_ARRIVAL_HOUR_12</th>\n",
       "      <th>SCHEDULED_ARRIVAL_HOUR_13</th>\n",
       "      <th>SCHEDULED_ARRIVAL_HOUR_14</th>\n",
       "      <th>SCHEDULED_ARRIVAL_HOUR_15</th>\n",
       "      <th>SCHEDULED_ARRIVAL_HOUR_16</th>\n",
       "      <th>SCHEDULED_ARRIVAL_HOUR_17</th>\n",
       "      <th>SCHEDULED_ARRIVAL_HOUR_18</th>\n",
       "      <th>SCHEDULED_ARRIVAL_HOUR_19</th>\n",
       "      <th>SCHEDULED_ARRIVAL_HOUR_2</th>\n",
       "      <th>SCHEDULED_ARRIVAL_HOUR_20</th>\n",
       "      <th>SCHEDULED_ARRIVAL_HOUR_21</th>\n",
       "      <th>SCHEDULED_ARRIVAL_HOUR_22</th>\n",
       "      <th>SCHEDULED_ARRIVAL_HOUR_23</th>\n",
       "      <th>SCHEDULED_ARRIVAL_HOUR_3</th>\n",
       "      <th>SCHEDULED_ARRIVAL_HOUR_4</th>\n",
       "      <th>SCHEDULED_ARRIVAL_HOUR_5</th>\n",
       "      <th>SCHEDULED_ARRIVAL_HOUR_6</th>\n",
       "      <th>SCHEDULED_ARRIVAL_HOUR_7</th>\n",
       "      <th>SCHEDULED_ARRIVAL_HOUR_8</th>\n",
       "      <th>SCHEDULED_ARRIVAL_HOUR_9</th>\n",
       "      <th>...</th>\n",
       "      <th>ORIGIN_AIRPORT_ORF</th>\n",
       "      <th>ORIGIN_AIRPORT_PBI</th>\n",
       "      <th>ORIGIN_AIRPORT_PDX</th>\n",
       "      <th>ORIGIN_AIRPORT_PHF</th>\n",
       "      <th>ORIGIN_AIRPORT_PHL</th>\n",
       "      <th>ORIGIN_AIRPORT_PHX</th>\n",
       "      <th>ORIGIN_AIRPORT_PIA</th>\n",
       "      <th>ORIGIN_AIRPORT_PIT</th>\n",
       "      <th>ORIGIN_AIRPORT_PNS</th>\n",
       "      <th>ORIGIN_AIRPORT_PVD</th>\n",
       "      <th>ORIGIN_AIRPORT_PWM</th>\n",
       "      <th>ORIGIN_AIRPORT_RAP</th>\n",
       "      <th>ORIGIN_AIRPORT_RDU</th>\n",
       "      <th>ORIGIN_AIRPORT_RIC</th>\n",
       "      <th>ORIGIN_AIRPORT_ROA</th>\n",
       "      <th>ORIGIN_AIRPORT_ROC</th>\n",
       "      <th>ORIGIN_AIRPORT_RST</th>\n",
       "      <th>ORIGIN_AIRPORT_RSW</th>\n",
       "      <th>ORIGIN_AIRPORT_SAN</th>\n",
       "      <th>ORIGIN_AIRPORT_SAT</th>\n",
       "      <th>ORIGIN_AIRPORT_SAV</th>\n",
       "      <th>ORIGIN_AIRPORT_SBN</th>\n",
       "      <th>ORIGIN_AIRPORT_SCE</th>\n",
       "      <th>ORIGIN_AIRPORT_SDF</th>\n",
       "      <th>ORIGIN_AIRPORT_SEA</th>\n",
       "      <th>ORIGIN_AIRPORT_SFO</th>\n",
       "      <th>ORIGIN_AIRPORT_SGF</th>\n",
       "      <th>ORIGIN_AIRPORT_SHV</th>\n",
       "      <th>ORIGIN_AIRPORT_SJC</th>\n",
       "      <th>ORIGIN_AIRPORT_SJU</th>\n",
       "      <th>ORIGIN_AIRPORT_SLC</th>\n",
       "      <th>ORIGIN_AIRPORT_SMF</th>\n",
       "      <th>ORIGIN_AIRPORT_SNA</th>\n",
       "      <th>ORIGIN_AIRPORT_SRQ</th>\n",
       "      <th>ORIGIN_AIRPORT_STL</th>\n",
       "      <th>ORIGIN_AIRPORT_STT</th>\n",
       "      <th>ORIGIN_AIRPORT_STX</th>\n",
       "      <th>ORIGIN_AIRPORT_SYR</th>\n",
       "      <th>ORIGIN_AIRPORT_TLH</th>\n",
       "      <th>ORIGIN_AIRPORT_TPA</th>\n",
       "      <th>ORIGIN_AIRPORT_TRI</th>\n",
       "      <th>ORIGIN_AIRPORT_TTN</th>\n",
       "      <th>ORIGIN_AIRPORT_TUL</th>\n",
       "      <th>ORIGIN_AIRPORT_TUS</th>\n",
       "      <th>ORIGIN_AIRPORT_TVC</th>\n",
       "      <th>ORIGIN_AIRPORT_TYS</th>\n",
       "      <th>ORIGIN_AIRPORT_VLD</th>\n",
       "      <th>ORIGIN_AIRPORT_VPS</th>\n",
       "      <th>ORIGIN_AIRPORT_XNA</th>\n",
       "      <th>ARRIVAL_DELAY</th>\n",
       "    </tr>\n",
       "  </thead>\n",
       "  <tbody>\n",
       "    <tr>\n",
       "      <th>0</th>\n",
       "      <td>2.535036</td>\n",
       "      <td>0.096701</td>\n",
       "      <td>0.310413</td>\n",
       "      <td>0.221437</td>\n",
       "      <td>-0.760361</td>\n",
       "      <td>0.096701</td>\n",
       "      <td>0.550227</td>\n",
       "      <td>1.535834</td>\n",
       "      <td>0.596509</td>\n",
       "      <td>2.521420</td>\n",
       "      <td>3.319960</td>\n",
       "      <td>2.803339</td>\n",
       "      <td>3.518770</td>\n",
       "      <td>2.804263</td>\n",
       "      <td>2.340842</td>\n",
       "      <td>2.597767</td>\n",
       "      <td>2.232348</td>\n",
       "      <td>-0.315111</td>\n",
       "      <td>-0.308782</td>\n",
       "      <td>-0.289299</td>\n",
       "      <td>-0.325409</td>\n",
       "      <td>-0.316162</td>\n",
       "      <td>-0.321104</td>\n",
       "      <td>3.118630</td>\n",
       "      <td>-0.329611</td>\n",
       "      <td>-0.328894</td>\n",
       "      <td>-0.317112</td>\n",
       "      <td>-0.017317</td>\n",
       "      <td>-0.225468</td>\n",
       "      <td>-0.249137</td>\n",
       "      <td>-0.229945</td>\n",
       "      <td>-0.250615</td>\n",
       "      <td>-0.289551</td>\n",
       "      <td>-0.278578</td>\n",
       "      <td>-0.251898</td>\n",
       "      <td>-0.206389</td>\n",
       "      <td>-0.285744</td>\n",
       "      <td>3.489136</td>\n",
       "      <td>-0.004684</td>\n",
       "      <td>-0.252423</td>\n",
       "      <td>-0.239934</td>\n",
       "      <td>-0.149888</td>\n",
       "      <td>-0.105059</td>\n",
       "      <td>-0.001912</td>\n",
       "      <td>-0.018343</td>\n",
       "      <td>-0.066715</td>\n",
       "      <td>-0.149275</td>\n",
       "      <td>-0.224706</td>\n",
       "      <td>-0.302439</td>\n",
       "      <td>-0.282686</td>\n",
       "      <td>...</td>\n",
       "      <td>-0.088277</td>\n",
       "      <td>-0.111016</td>\n",
       "      <td>-0.05626</td>\n",
       "      <td>-0.059286</td>\n",
       "      <td>-0.139334</td>\n",
       "      <td>-0.102631</td>\n",
       "      <td>-0.050217</td>\n",
       "      <td>-0.097774</td>\n",
       "      <td>-0.081459</td>\n",
       "      <td>-0.052925</td>\n",
       "      <td>-0.041533</td>\n",
       "      <td>-0.006894</td>\n",
       "      <td>-0.117806</td>\n",
       "      <td>-0.101497</td>\n",
       "      <td>-0.065431</td>\n",
       "      <td>-0.053718</td>\n",
       "      <td>-0.030667</td>\n",
       "      <td>-0.107313</td>\n",
       "      <td>-0.076369</td>\n",
       "      <td>-0.091562</td>\n",
       "      <td>-0.095986</td>\n",
       "      <td>-0.057744</td>\n",
       "      <td>-0.010647</td>\n",
       "      <td>-0.088696</td>\n",
       "      <td>-0.089489</td>\n",
       "      <td>-0.095577</td>\n",
       "      <td>-0.061</td>\n",
       "      <td>-0.076684</td>\n",
       "      <td>-0.028565</td>\n",
       "      <td>-0.063486</td>\n",
       "      <td>-0.086963</td>\n",
       "      <td>-0.040414</td>\n",
       "      <td>-0.052786</td>\n",
       "      <td>-0.075321</td>\n",
       "      <td>-0.101681</td>\n",
       "      <td>-0.042147</td>\n",
       "      <td>-0.010647</td>\n",
       "      <td>-0.05334</td>\n",
       "      <td>-0.078094</td>\n",
       "      <td>-0.14398</td>\n",
       "      <td>-0.074804</td>\n",
       "      <td>-0.030003</td>\n",
       "      <td>-0.066908</td>\n",
       "      <td>-0.04219</td>\n",
       "      <td>-0.009561</td>\n",
       "      <td>-0.070376</td>\n",
       "      <td>-0.051943</td>\n",
       "      <td>-0.080957</td>\n",
       "      <td>-0.067101</td>\n",
       "      <td>93.0</td>\n",
       "    </tr>\n",
       "    <tr>\n",
       "      <th>1</th>\n",
       "      <td>-0.182679</td>\n",
       "      <td>0.096701</td>\n",
       "      <td>0.310413</td>\n",
       "      <td>0.221437</td>\n",
       "      <td>1.315165</td>\n",
       "      <td>0.096701</td>\n",
       "      <td>-0.088523</td>\n",
       "      <td>-0.168052</td>\n",
       "      <td>-0.149166</td>\n",
       "      <td>-0.182426</td>\n",
       "      <td>-0.158143</td>\n",
       "      <td>-0.158233</td>\n",
       "      <td>-0.172347</td>\n",
       "      <td>-0.175560</td>\n",
       "      <td>-0.165134</td>\n",
       "      <td>-0.169318</td>\n",
       "      <td>-0.155071</td>\n",
       "      <td>3.173483</td>\n",
       "      <td>-0.308782</td>\n",
       "      <td>-0.289299</td>\n",
       "      <td>-0.325409</td>\n",
       "      <td>-0.316162</td>\n",
       "      <td>-0.321104</td>\n",
       "      <td>-0.320654</td>\n",
       "      <td>-0.329611</td>\n",
       "      <td>-0.328894</td>\n",
       "      <td>-0.317112</td>\n",
       "      <td>-0.017317</td>\n",
       "      <td>-0.225468</td>\n",
       "      <td>-0.249137</td>\n",
       "      <td>-0.229945</td>\n",
       "      <td>-0.250615</td>\n",
       "      <td>-0.289551</td>\n",
       "      <td>-0.278578</td>\n",
       "      <td>-0.251898</td>\n",
       "      <td>-0.206389</td>\n",
       "      <td>-0.285744</td>\n",
       "      <td>-0.286604</td>\n",
       "      <td>-0.004684</td>\n",
       "      <td>-0.252423</td>\n",
       "      <td>-0.239934</td>\n",
       "      <td>-0.149888</td>\n",
       "      <td>-0.105059</td>\n",
       "      <td>-0.001912</td>\n",
       "      <td>-0.018343</td>\n",
       "      <td>-0.066715</td>\n",
       "      <td>-0.149275</td>\n",
       "      <td>-0.224706</td>\n",
       "      <td>3.306454</td>\n",
       "      <td>-0.282686</td>\n",
       "      <td>...</td>\n",
       "      <td>-0.088277</td>\n",
       "      <td>-0.111016</td>\n",
       "      <td>-0.05626</td>\n",
       "      <td>-0.059286</td>\n",
       "      <td>-0.139334</td>\n",
       "      <td>-0.102631</td>\n",
       "      <td>-0.050217</td>\n",
       "      <td>-0.097774</td>\n",
       "      <td>-0.081459</td>\n",
       "      <td>-0.052925</td>\n",
       "      <td>-0.041533</td>\n",
       "      <td>-0.006894</td>\n",
       "      <td>-0.117806</td>\n",
       "      <td>-0.101497</td>\n",
       "      <td>-0.065431</td>\n",
       "      <td>-0.053718</td>\n",
       "      <td>-0.030667</td>\n",
       "      <td>-0.107313</td>\n",
       "      <td>-0.076369</td>\n",
       "      <td>-0.091562</td>\n",
       "      <td>-0.095986</td>\n",
       "      <td>-0.057744</td>\n",
       "      <td>-0.010647</td>\n",
       "      <td>-0.088696</td>\n",
       "      <td>-0.089489</td>\n",
       "      <td>-0.095577</td>\n",
       "      <td>-0.061</td>\n",
       "      <td>-0.076684</td>\n",
       "      <td>-0.028565</td>\n",
       "      <td>-0.063486</td>\n",
       "      <td>-0.086963</td>\n",
       "      <td>-0.040414</td>\n",
       "      <td>-0.052786</td>\n",
       "      <td>-0.075321</td>\n",
       "      <td>-0.101681</td>\n",
       "      <td>-0.042147</td>\n",
       "      <td>-0.010647</td>\n",
       "      <td>-0.05334</td>\n",
       "      <td>-0.078094</td>\n",
       "      <td>-0.14398</td>\n",
       "      <td>-0.074804</td>\n",
       "      <td>-0.030003</td>\n",
       "      <td>-0.066908</td>\n",
       "      <td>-0.04219</td>\n",
       "      <td>-0.009561</td>\n",
       "      <td>-0.070376</td>\n",
       "      <td>-0.051943</td>\n",
       "      <td>-0.080957</td>\n",
       "      <td>-0.067101</td>\n",
       "      <td>-15.0</td>\n",
       "    </tr>\n",
       "    <tr>\n",
       "      <th>2</th>\n",
       "      <td>1.125850</td>\n",
       "      <td>0.096701</td>\n",
       "      <td>0.310413</td>\n",
       "      <td>0.221437</td>\n",
       "      <td>-0.760361</td>\n",
       "      <td>0.096701</td>\n",
       "      <td>0.062454</td>\n",
       "      <td>0.727513</td>\n",
       "      <td>0.360287</td>\n",
       "      <td>1.122797</td>\n",
       "      <td>0.598093</td>\n",
       "      <td>-0.149321</td>\n",
       "      <td>0.611495</td>\n",
       "      <td>1.014938</td>\n",
       "      <td>1.044876</td>\n",
       "      <td>1.373563</td>\n",
       "      <td>1.623462</td>\n",
       "      <td>-0.315111</td>\n",
       "      <td>-0.308782</td>\n",
       "      <td>-0.289299</td>\n",
       "      <td>3.073057</td>\n",
       "      <td>-0.316162</td>\n",
       "      <td>-0.321104</td>\n",
       "      <td>-0.320654</td>\n",
       "      <td>-0.329611</td>\n",
       "      <td>-0.328894</td>\n",
       "      <td>-0.317112</td>\n",
       "      <td>-0.017317</td>\n",
       "      <td>-0.225468</td>\n",
       "      <td>-0.249137</td>\n",
       "      <td>-0.229945</td>\n",
       "      <td>-0.250615</td>\n",
       "      <td>-0.289551</td>\n",
       "      <td>3.589662</td>\n",
       "      <td>-0.251898</td>\n",
       "      <td>-0.206389</td>\n",
       "      <td>-0.285744</td>\n",
       "      <td>-0.286604</td>\n",
       "      <td>-0.004684</td>\n",
       "      <td>-0.252423</td>\n",
       "      <td>-0.239934</td>\n",
       "      <td>-0.149888</td>\n",
       "      <td>-0.105059</td>\n",
       "      <td>-0.001912</td>\n",
       "      <td>-0.018343</td>\n",
       "      <td>-0.066715</td>\n",
       "      <td>-0.149275</td>\n",
       "      <td>-0.224706</td>\n",
       "      <td>-0.302439</td>\n",
       "      <td>-0.282686</td>\n",
       "      <td>...</td>\n",
       "      <td>-0.088277</td>\n",
       "      <td>-0.111016</td>\n",
       "      <td>-0.05626</td>\n",
       "      <td>-0.059286</td>\n",
       "      <td>-0.139334</td>\n",
       "      <td>-0.102631</td>\n",
       "      <td>-0.050217</td>\n",
       "      <td>-0.097774</td>\n",
       "      <td>-0.081459</td>\n",
       "      <td>-0.052925</td>\n",
       "      <td>-0.041533</td>\n",
       "      <td>-0.006894</td>\n",
       "      <td>-0.117806</td>\n",
       "      <td>-0.101497</td>\n",
       "      <td>-0.065431</td>\n",
       "      <td>-0.053718</td>\n",
       "      <td>-0.030667</td>\n",
       "      <td>-0.107313</td>\n",
       "      <td>-0.076369</td>\n",
       "      <td>-0.091562</td>\n",
       "      <td>-0.095986</td>\n",
       "      <td>-0.057744</td>\n",
       "      <td>-0.010647</td>\n",
       "      <td>11.274414</td>\n",
       "      <td>-0.089489</td>\n",
       "      <td>-0.095577</td>\n",
       "      <td>-0.061</td>\n",
       "      <td>-0.076684</td>\n",
       "      <td>-0.028565</td>\n",
       "      <td>-0.063486</td>\n",
       "      <td>-0.086963</td>\n",
       "      <td>-0.040414</td>\n",
       "      <td>-0.052786</td>\n",
       "      <td>-0.075321</td>\n",
       "      <td>-0.101681</td>\n",
       "      <td>-0.042147</td>\n",
       "      <td>-0.010647</td>\n",
       "      <td>-0.05334</td>\n",
       "      <td>-0.078094</td>\n",
       "      <td>-0.14398</td>\n",
       "      <td>-0.074804</td>\n",
       "      <td>-0.030003</td>\n",
       "      <td>-0.066908</td>\n",
       "      <td>-0.04219</td>\n",
       "      <td>-0.009561</td>\n",
       "      <td>-0.070376</td>\n",
       "      <td>-0.051943</td>\n",
       "      <td>-0.080957</td>\n",
       "      <td>-0.067101</td>\n",
       "      <td>48.0</td>\n",
       "    </tr>\n",
       "    <tr>\n",
       "      <th>3</th>\n",
       "      <td>-0.258171</td>\n",
       "      <td>0.096701</td>\n",
       "      <td>-3.221518</td>\n",
       "      <td>0.221437</td>\n",
       "      <td>-0.760361</td>\n",
       "      <td>0.096701</td>\n",
       "      <td>-0.088362</td>\n",
       "      <td>-0.236096</td>\n",
       "      <td>-0.196869</td>\n",
       "      <td>-0.257976</td>\n",
       "      <td>-0.162515</td>\n",
       "      <td>-0.240499</td>\n",
       "      <td>-0.217714</td>\n",
       "      <td>-0.243554</td>\n",
       "      <td>-0.221336</td>\n",
       "      <td>-0.256036</td>\n",
       "      <td>-0.184278</td>\n",
       "      <td>-0.315111</td>\n",
       "      <td>-0.308782</td>\n",
       "      <td>-0.289299</td>\n",
       "      <td>-0.325409</td>\n",
       "      <td>-0.316162</td>\n",
       "      <td>-0.321104</td>\n",
       "      <td>-0.320654</td>\n",
       "      <td>-0.329611</td>\n",
       "      <td>-0.328894</td>\n",
       "      <td>-0.317112</td>\n",
       "      <td>-0.017317</td>\n",
       "      <td>-0.225468</td>\n",
       "      <td>-0.249137</td>\n",
       "      <td>-0.229945</td>\n",
       "      <td>-0.250615</td>\n",
       "      <td>-0.289551</td>\n",
       "      <td>-0.278578</td>\n",
       "      <td>-0.251898</td>\n",
       "      <td>-0.206389</td>\n",
       "      <td>-0.285744</td>\n",
       "      <td>-0.286604</td>\n",
       "      <td>-0.004684</td>\n",
       "      <td>-0.252423</td>\n",
       "      <td>-0.239934</td>\n",
       "      <td>-0.149888</td>\n",
       "      <td>-0.105059</td>\n",
       "      <td>-0.001912</td>\n",
       "      <td>-0.018343</td>\n",
       "      <td>-0.066715</td>\n",
       "      <td>-0.149275</td>\n",
       "      <td>-0.224706</td>\n",
       "      <td>-0.302439</td>\n",
       "      <td>3.537490</td>\n",
       "      <td>...</td>\n",
       "      <td>-0.088277</td>\n",
       "      <td>-0.111016</td>\n",
       "      <td>-0.05626</td>\n",
       "      <td>-0.059286</td>\n",
       "      <td>-0.139334</td>\n",
       "      <td>-0.102631</td>\n",
       "      <td>-0.050217</td>\n",
       "      <td>-0.097774</td>\n",
       "      <td>-0.081459</td>\n",
       "      <td>-0.052925</td>\n",
       "      <td>-0.041533</td>\n",
       "      <td>-0.006894</td>\n",
       "      <td>-0.117806</td>\n",
       "      <td>9.852461</td>\n",
       "      <td>-0.065431</td>\n",
       "      <td>-0.053718</td>\n",
       "      <td>-0.030667</td>\n",
       "      <td>-0.107313</td>\n",
       "      <td>-0.076369</td>\n",
       "      <td>-0.091562</td>\n",
       "      <td>-0.095986</td>\n",
       "      <td>-0.057744</td>\n",
       "      <td>-0.010647</td>\n",
       "      <td>-0.088696</td>\n",
       "      <td>-0.089489</td>\n",
       "      <td>-0.095577</td>\n",
       "      <td>-0.061</td>\n",
       "      <td>-0.076684</td>\n",
       "      <td>-0.028565</td>\n",
       "      <td>-0.063486</td>\n",
       "      <td>-0.086963</td>\n",
       "      <td>-0.040414</td>\n",
       "      <td>-0.052786</td>\n",
       "      <td>-0.075321</td>\n",
       "      <td>-0.101681</td>\n",
       "      <td>-0.042147</td>\n",
       "      <td>-0.010647</td>\n",
       "      <td>-0.05334</td>\n",
       "      <td>-0.078094</td>\n",
       "      <td>-0.14398</td>\n",
       "      <td>-0.074804</td>\n",
       "      <td>-0.030003</td>\n",
       "      <td>-0.066908</td>\n",
       "      <td>-0.04219</td>\n",
       "      <td>-0.009561</td>\n",
       "      <td>-0.070376</td>\n",
       "      <td>-0.051943</td>\n",
       "      <td>-0.080957</td>\n",
       "      <td>-0.067101</td>\n",
       "      <td>0.0</td>\n",
       "    </tr>\n",
       "    <tr>\n",
       "      <th>4</th>\n",
       "      <td>-0.233007</td>\n",
       "      <td>0.096701</td>\n",
       "      <td>0.310413</td>\n",
       "      <td>0.221437</td>\n",
       "      <td>-0.760361</td>\n",
       "      <td>0.096701</td>\n",
       "      <td>-0.088523</td>\n",
       "      <td>-0.204031</td>\n",
       "      <td>-0.172134</td>\n",
       "      <td>-0.232863</td>\n",
       "      <td>-0.204771</td>\n",
       "      <td>-0.213077</td>\n",
       "      <td>-0.220235</td>\n",
       "      <td>-0.220889</td>\n",
       "      <td>-0.191582</td>\n",
       "      <td>-0.223166</td>\n",
       "      <td>-0.160066</td>\n",
       "      <td>-0.315111</td>\n",
       "      <td>-0.308782</td>\n",
       "      <td>-0.289299</td>\n",
       "      <td>-0.325409</td>\n",
       "      <td>-0.316162</td>\n",
       "      <td>-0.321104</td>\n",
       "      <td>-0.320654</td>\n",
       "      <td>3.033883</td>\n",
       "      <td>-0.328894</td>\n",
       "      <td>-0.317112</td>\n",
       "      <td>-0.017317</td>\n",
       "      <td>-0.225468</td>\n",
       "      <td>-0.249137</td>\n",
       "      <td>-0.229945</td>\n",
       "      <td>-0.250615</td>\n",
       "      <td>-0.289551</td>\n",
       "      <td>-0.278578</td>\n",
       "      <td>3.969862</td>\n",
       "      <td>-0.206389</td>\n",
       "      <td>-0.285744</td>\n",
       "      <td>-0.286604</td>\n",
       "      <td>-0.004684</td>\n",
       "      <td>-0.252423</td>\n",
       "      <td>-0.239934</td>\n",
       "      <td>-0.149888</td>\n",
       "      <td>-0.105059</td>\n",
       "      <td>-0.001912</td>\n",
       "      <td>-0.018343</td>\n",
       "      <td>-0.066715</td>\n",
       "      <td>-0.149275</td>\n",
       "      <td>-0.224706</td>\n",
       "      <td>-0.302439</td>\n",
       "      <td>-0.282686</td>\n",
       "      <td>...</td>\n",
       "      <td>-0.088277</td>\n",
       "      <td>-0.111016</td>\n",
       "      <td>-0.05626</td>\n",
       "      <td>-0.059286</td>\n",
       "      <td>-0.139334</td>\n",
       "      <td>-0.102631</td>\n",
       "      <td>-0.050217</td>\n",
       "      <td>-0.097774</td>\n",
       "      <td>-0.081459</td>\n",
       "      <td>-0.052925</td>\n",
       "      <td>-0.041533</td>\n",
       "      <td>-0.006894</td>\n",
       "      <td>-0.117806</td>\n",
       "      <td>-0.101497</td>\n",
       "      <td>-0.065431</td>\n",
       "      <td>-0.053718</td>\n",
       "      <td>-0.030667</td>\n",
       "      <td>-0.107313</td>\n",
       "      <td>-0.076369</td>\n",
       "      <td>-0.091562</td>\n",
       "      <td>-0.095986</td>\n",
       "      <td>-0.057744</td>\n",
       "      <td>-0.010647</td>\n",
       "      <td>-0.088696</td>\n",
       "      <td>-0.089489</td>\n",
       "      <td>-0.095577</td>\n",
       "      <td>-0.061</td>\n",
       "      <td>-0.076684</td>\n",
       "      <td>-0.028565</td>\n",
       "      <td>-0.063486</td>\n",
       "      <td>-0.086963</td>\n",
       "      <td>-0.040414</td>\n",
       "      <td>-0.052786</td>\n",
       "      <td>-0.075321</td>\n",
       "      <td>-0.101681</td>\n",
       "      <td>-0.042147</td>\n",
       "      <td>-0.010647</td>\n",
       "      <td>-0.05334</td>\n",
       "      <td>-0.078094</td>\n",
       "      <td>-0.14398</td>\n",
       "      <td>-0.074804</td>\n",
       "      <td>-0.030003</td>\n",
       "      <td>-0.066908</td>\n",
       "      <td>-0.04219</td>\n",
       "      <td>-0.009561</td>\n",
       "      <td>-0.070376</td>\n",
       "      <td>-0.051943</td>\n",
       "      <td>-0.080957</td>\n",
       "      <td>-0.067101</td>\n",
       "      <td>-21.0</td>\n",
       "    </tr>\n",
       "  </tbody>\n",
       "</table>\n",
       "<p>5 rows × 228 columns</p>\n",
       "</div>"
      ],
      "text/plain": [
       "   DEPARTURE_DELAY  lightning    shower      snow    squall  thunderyshower  \\\n",
       "0         2.535036   0.096701  0.310413  0.221437 -0.760361        0.096701   \n",
       "1        -0.182679   0.096701  0.310413  0.221437  1.315165        0.096701   \n",
       "2         1.125850   0.096701  0.310413  0.221437 -0.760361        0.096701   \n",
       "3        -0.258171   0.096701 -3.221518  0.221437 -0.760361        0.096701   \n",
       "4        -0.233007   0.096701  0.310413  0.221437 -0.760361        0.096701   \n",
       "\n",
       "   DEPARTURE_DELAY^2  DEPARTURE_DELAY SCHEDULED_TIME  \\\n",
       "0           0.550227                        1.535834   \n",
       "1          -0.088523                       -0.168052   \n",
       "2           0.062454                        0.727513   \n",
       "3          -0.088362                       -0.236096   \n",
       "4          -0.088523                       -0.204031   \n",
       "\n",
       "   DEPARTURE_DELAY DISTANCE  DEPARTURE_DELAY QNH  DEPARTURE_DELAY dew_point  \\\n",
       "0                  0.596509             2.521420                   3.319960   \n",
       "1                 -0.149166            -0.182426                  -0.158143   \n",
       "2                  0.360287             1.122797                   0.598093   \n",
       "3                 -0.196869            -0.257976                  -0.162515   \n",
       "4                 -0.172134            -0.232863                  -0.204771   \n",
       "\n",
       "   DEPARTURE_DELAY visibility  DEPARTURE_DELAY temp  DEPARTURE_DELAY winddir  \\\n",
       "0                    2.803339              3.518770                 2.804263   \n",
       "1                   -0.158233             -0.172347                -0.175560   \n",
       "2                   -0.149321              0.611495                 1.014938   \n",
       "3                   -0.240499             -0.217714                -0.243554   \n",
       "4                   -0.213077             -0.220235                -0.220889   \n",
       "\n",
       "   DEPARTURE_DELAY windspd  DEPARTURE_DELAY NUM_ARR_AVG_3HOUR  \\\n",
       "0                 2.340842                           2.597767   \n",
       "1                -0.165134                          -0.169318   \n",
       "2                 1.044876                           1.373563   \n",
       "3                -0.221336                          -0.256036   \n",
       "4                -0.191582                          -0.223166   \n",
       "\n",
       "   DEPARTURE_DELAY crosswind_comp  SCHEDULED_ARRIVAL_MONTH_11  \\\n",
       "0                        2.232348                   -0.315111   \n",
       "1                       -0.155071                    3.173483   \n",
       "2                        1.623462                   -0.315111   \n",
       "3                       -0.184278                   -0.315111   \n",
       "4                       -0.160066                   -0.315111   \n",
       "\n",
       "   SCHEDULED_ARRIVAL_MONTH_12  SCHEDULED_ARRIVAL_MONTH_2  \\\n",
       "0                   -0.308782                  -0.289299   \n",
       "1                   -0.308782                  -0.289299   \n",
       "2                   -0.308782                  -0.289299   \n",
       "3                   -0.308782                  -0.289299   \n",
       "4                   -0.308782                  -0.289299   \n",
       "\n",
       "   SCHEDULED_ARRIVAL_MONTH_3  SCHEDULED_ARRIVAL_MONTH_4  \\\n",
       "0                  -0.325409                  -0.316162   \n",
       "1                  -0.325409                  -0.316162   \n",
       "2                   3.073057                  -0.316162   \n",
       "3                  -0.325409                  -0.316162   \n",
       "4                  -0.325409                  -0.316162   \n",
       "\n",
       "   SCHEDULED_ARRIVAL_MONTH_5  SCHEDULED_ARRIVAL_MONTH_6  \\\n",
       "0                  -0.321104                   3.118630   \n",
       "1                  -0.321104                  -0.320654   \n",
       "2                  -0.321104                  -0.320654   \n",
       "3                  -0.321104                  -0.320654   \n",
       "4                  -0.321104                  -0.320654   \n",
       "\n",
       "   SCHEDULED_ARRIVAL_MONTH_7  SCHEDULED_ARRIVAL_MONTH_8  \\\n",
       "0                  -0.329611                  -0.328894   \n",
       "1                  -0.329611                  -0.328894   \n",
       "2                  -0.329611                  -0.328894   \n",
       "3                  -0.329611                  -0.328894   \n",
       "4                   3.033883                  -0.328894   \n",
       "\n",
       "   SCHEDULED_ARRIVAL_MONTH_9  SCHEDULED_ARRIVAL_HOUR_1  \\\n",
       "0                  -0.317112                 -0.017317   \n",
       "1                  -0.317112                 -0.017317   \n",
       "2                  -0.317112                 -0.017317   \n",
       "3                  -0.317112                 -0.017317   \n",
       "4                  -0.317112                 -0.017317   \n",
       "\n",
       "   SCHEDULED_ARRIVAL_HOUR_10  SCHEDULED_ARRIVAL_HOUR_11  \\\n",
       "0                  -0.225468                  -0.249137   \n",
       "1                  -0.225468                  -0.249137   \n",
       "2                  -0.225468                  -0.249137   \n",
       "3                  -0.225468                  -0.249137   \n",
       "4                  -0.225468                  -0.249137   \n",
       "\n",
       "   SCHEDULED_ARRIVAL_HOUR_12  SCHEDULED_ARRIVAL_HOUR_13  \\\n",
       "0                  -0.229945                  -0.250615   \n",
       "1                  -0.229945                  -0.250615   \n",
       "2                  -0.229945                  -0.250615   \n",
       "3                  -0.229945                  -0.250615   \n",
       "4                  -0.229945                  -0.250615   \n",
       "\n",
       "   SCHEDULED_ARRIVAL_HOUR_14  SCHEDULED_ARRIVAL_HOUR_15  \\\n",
       "0                  -0.289551                  -0.278578   \n",
       "1                  -0.289551                  -0.278578   \n",
       "2                  -0.289551                   3.589662   \n",
       "3                  -0.289551                  -0.278578   \n",
       "4                  -0.289551                  -0.278578   \n",
       "\n",
       "   SCHEDULED_ARRIVAL_HOUR_16  SCHEDULED_ARRIVAL_HOUR_17  \\\n",
       "0                  -0.251898                  -0.206389   \n",
       "1                  -0.251898                  -0.206389   \n",
       "2                  -0.251898                  -0.206389   \n",
       "3                  -0.251898                  -0.206389   \n",
       "4                   3.969862                  -0.206389   \n",
       "\n",
       "   SCHEDULED_ARRIVAL_HOUR_18  SCHEDULED_ARRIVAL_HOUR_19  \\\n",
       "0                  -0.285744                   3.489136   \n",
       "1                  -0.285744                  -0.286604   \n",
       "2                  -0.285744                  -0.286604   \n",
       "3                  -0.285744                  -0.286604   \n",
       "4                  -0.285744                  -0.286604   \n",
       "\n",
       "   SCHEDULED_ARRIVAL_HOUR_2  SCHEDULED_ARRIVAL_HOUR_20  \\\n",
       "0                 -0.004684                  -0.252423   \n",
       "1                 -0.004684                  -0.252423   \n",
       "2                 -0.004684                  -0.252423   \n",
       "3                 -0.004684                  -0.252423   \n",
       "4                 -0.004684                  -0.252423   \n",
       "\n",
       "   SCHEDULED_ARRIVAL_HOUR_21  SCHEDULED_ARRIVAL_HOUR_22  \\\n",
       "0                  -0.239934                  -0.149888   \n",
       "1                  -0.239934                  -0.149888   \n",
       "2                  -0.239934                  -0.149888   \n",
       "3                  -0.239934                  -0.149888   \n",
       "4                  -0.239934                  -0.149888   \n",
       "\n",
       "   SCHEDULED_ARRIVAL_HOUR_23  SCHEDULED_ARRIVAL_HOUR_3  \\\n",
       "0                  -0.105059                 -0.001912   \n",
       "1                  -0.105059                 -0.001912   \n",
       "2                  -0.105059                 -0.001912   \n",
       "3                  -0.105059                 -0.001912   \n",
       "4                  -0.105059                 -0.001912   \n",
       "\n",
       "   SCHEDULED_ARRIVAL_HOUR_4  SCHEDULED_ARRIVAL_HOUR_5  \\\n",
       "0                 -0.018343                 -0.066715   \n",
       "1                 -0.018343                 -0.066715   \n",
       "2                 -0.018343                 -0.066715   \n",
       "3                 -0.018343                 -0.066715   \n",
       "4                 -0.018343                 -0.066715   \n",
       "\n",
       "   SCHEDULED_ARRIVAL_HOUR_6  SCHEDULED_ARRIVAL_HOUR_7  \\\n",
       "0                 -0.149275                 -0.224706   \n",
       "1                 -0.149275                 -0.224706   \n",
       "2                 -0.149275                 -0.224706   \n",
       "3                 -0.149275                 -0.224706   \n",
       "4                 -0.149275                 -0.224706   \n",
       "\n",
       "   SCHEDULED_ARRIVAL_HOUR_8  SCHEDULED_ARRIVAL_HOUR_9  ...  \\\n",
       "0                 -0.302439                 -0.282686  ...   \n",
       "1                  3.306454                 -0.282686  ...   \n",
       "2                 -0.302439                 -0.282686  ...   \n",
       "3                 -0.302439                  3.537490  ...   \n",
       "4                 -0.302439                 -0.282686  ...   \n",
       "\n",
       "   ORIGIN_AIRPORT_ORF  ORIGIN_AIRPORT_PBI  ORIGIN_AIRPORT_PDX  \\\n",
       "0           -0.088277           -0.111016            -0.05626   \n",
       "1           -0.088277           -0.111016            -0.05626   \n",
       "2           -0.088277           -0.111016            -0.05626   \n",
       "3           -0.088277           -0.111016            -0.05626   \n",
       "4           -0.088277           -0.111016            -0.05626   \n",
       "\n",
       "   ORIGIN_AIRPORT_PHF  ORIGIN_AIRPORT_PHL  ORIGIN_AIRPORT_PHX  \\\n",
       "0           -0.059286           -0.139334           -0.102631   \n",
       "1           -0.059286           -0.139334           -0.102631   \n",
       "2           -0.059286           -0.139334           -0.102631   \n",
       "3           -0.059286           -0.139334           -0.102631   \n",
       "4           -0.059286           -0.139334           -0.102631   \n",
       "\n",
       "   ORIGIN_AIRPORT_PIA  ORIGIN_AIRPORT_PIT  ORIGIN_AIRPORT_PNS  \\\n",
       "0           -0.050217           -0.097774           -0.081459   \n",
       "1           -0.050217           -0.097774           -0.081459   \n",
       "2           -0.050217           -0.097774           -0.081459   \n",
       "3           -0.050217           -0.097774           -0.081459   \n",
       "4           -0.050217           -0.097774           -0.081459   \n",
       "\n",
       "   ORIGIN_AIRPORT_PVD  ORIGIN_AIRPORT_PWM  ORIGIN_AIRPORT_RAP  \\\n",
       "0           -0.052925           -0.041533           -0.006894   \n",
       "1           -0.052925           -0.041533           -0.006894   \n",
       "2           -0.052925           -0.041533           -0.006894   \n",
       "3           -0.052925           -0.041533           -0.006894   \n",
       "4           -0.052925           -0.041533           -0.006894   \n",
       "\n",
       "   ORIGIN_AIRPORT_RDU  ORIGIN_AIRPORT_RIC  ORIGIN_AIRPORT_ROA  \\\n",
       "0           -0.117806           -0.101497           -0.065431   \n",
       "1           -0.117806           -0.101497           -0.065431   \n",
       "2           -0.117806           -0.101497           -0.065431   \n",
       "3           -0.117806            9.852461           -0.065431   \n",
       "4           -0.117806           -0.101497           -0.065431   \n",
       "\n",
       "   ORIGIN_AIRPORT_ROC  ORIGIN_AIRPORT_RST  ORIGIN_AIRPORT_RSW  \\\n",
       "0           -0.053718           -0.030667           -0.107313   \n",
       "1           -0.053718           -0.030667           -0.107313   \n",
       "2           -0.053718           -0.030667           -0.107313   \n",
       "3           -0.053718           -0.030667           -0.107313   \n",
       "4           -0.053718           -0.030667           -0.107313   \n",
       "\n",
       "   ORIGIN_AIRPORT_SAN  ORIGIN_AIRPORT_SAT  ORIGIN_AIRPORT_SAV  \\\n",
       "0           -0.076369           -0.091562           -0.095986   \n",
       "1           -0.076369           -0.091562           -0.095986   \n",
       "2           -0.076369           -0.091562           -0.095986   \n",
       "3           -0.076369           -0.091562           -0.095986   \n",
       "4           -0.076369           -0.091562           -0.095986   \n",
       "\n",
       "   ORIGIN_AIRPORT_SBN  ORIGIN_AIRPORT_SCE  ORIGIN_AIRPORT_SDF  \\\n",
       "0           -0.057744           -0.010647           -0.088696   \n",
       "1           -0.057744           -0.010647           -0.088696   \n",
       "2           -0.057744           -0.010647           11.274414   \n",
       "3           -0.057744           -0.010647           -0.088696   \n",
       "4           -0.057744           -0.010647           -0.088696   \n",
       "\n",
       "   ORIGIN_AIRPORT_SEA  ORIGIN_AIRPORT_SFO  ORIGIN_AIRPORT_SGF  \\\n",
       "0           -0.089489           -0.095577              -0.061   \n",
       "1           -0.089489           -0.095577              -0.061   \n",
       "2           -0.089489           -0.095577              -0.061   \n",
       "3           -0.089489           -0.095577              -0.061   \n",
       "4           -0.089489           -0.095577              -0.061   \n",
       "\n",
       "   ORIGIN_AIRPORT_SHV  ORIGIN_AIRPORT_SJC  ORIGIN_AIRPORT_SJU  \\\n",
       "0           -0.076684           -0.028565           -0.063486   \n",
       "1           -0.076684           -0.028565           -0.063486   \n",
       "2           -0.076684           -0.028565           -0.063486   \n",
       "3           -0.076684           -0.028565           -0.063486   \n",
       "4           -0.076684           -0.028565           -0.063486   \n",
       "\n",
       "   ORIGIN_AIRPORT_SLC  ORIGIN_AIRPORT_SMF  ORIGIN_AIRPORT_SNA  \\\n",
       "0           -0.086963           -0.040414           -0.052786   \n",
       "1           -0.086963           -0.040414           -0.052786   \n",
       "2           -0.086963           -0.040414           -0.052786   \n",
       "3           -0.086963           -0.040414           -0.052786   \n",
       "4           -0.086963           -0.040414           -0.052786   \n",
       "\n",
       "   ORIGIN_AIRPORT_SRQ  ORIGIN_AIRPORT_STL  ORIGIN_AIRPORT_STT  \\\n",
       "0           -0.075321           -0.101681           -0.042147   \n",
       "1           -0.075321           -0.101681           -0.042147   \n",
       "2           -0.075321           -0.101681           -0.042147   \n",
       "3           -0.075321           -0.101681           -0.042147   \n",
       "4           -0.075321           -0.101681           -0.042147   \n",
       "\n",
       "   ORIGIN_AIRPORT_STX  ORIGIN_AIRPORT_SYR  ORIGIN_AIRPORT_TLH  \\\n",
       "0           -0.010647            -0.05334           -0.078094   \n",
       "1           -0.010647            -0.05334           -0.078094   \n",
       "2           -0.010647            -0.05334           -0.078094   \n",
       "3           -0.010647            -0.05334           -0.078094   \n",
       "4           -0.010647            -0.05334           -0.078094   \n",
       "\n",
       "   ORIGIN_AIRPORT_TPA  ORIGIN_AIRPORT_TRI  ORIGIN_AIRPORT_TTN  \\\n",
       "0            -0.14398           -0.074804           -0.030003   \n",
       "1            -0.14398           -0.074804           -0.030003   \n",
       "2            -0.14398           -0.074804           -0.030003   \n",
       "3            -0.14398           -0.074804           -0.030003   \n",
       "4            -0.14398           -0.074804           -0.030003   \n",
       "\n",
       "   ORIGIN_AIRPORT_TUL  ORIGIN_AIRPORT_TUS  ORIGIN_AIRPORT_TVC  \\\n",
       "0           -0.066908            -0.04219           -0.009561   \n",
       "1           -0.066908            -0.04219           -0.009561   \n",
       "2           -0.066908            -0.04219           -0.009561   \n",
       "3           -0.066908            -0.04219           -0.009561   \n",
       "4           -0.066908            -0.04219           -0.009561   \n",
       "\n",
       "   ORIGIN_AIRPORT_TYS  ORIGIN_AIRPORT_VLD  ORIGIN_AIRPORT_VPS  \\\n",
       "0           -0.070376           -0.051943           -0.080957   \n",
       "1           -0.070376           -0.051943           -0.080957   \n",
       "2           -0.070376           -0.051943           -0.080957   \n",
       "3           -0.070376           -0.051943           -0.080957   \n",
       "4           -0.070376           -0.051943           -0.080957   \n",
       "\n",
       "   ORIGIN_AIRPORT_XNA  ARRIVAL_DELAY  \n",
       "0           -0.067101           93.0  \n",
       "1           -0.067101          -15.0  \n",
       "2           -0.067101           48.0  \n",
       "3           -0.067101            0.0  \n",
       "4           -0.067101          -21.0  \n",
       "\n",
       "[5 rows x 228 columns]"
      ]
     },
     "execution_count": 3,
     "metadata": {},
     "output_type": "execute_result"
    }
   ],
   "source": [
    "pd.set_option('display.max_columns', 100)\n",
    "df.head()"
   ]
  },
  {
   "cell_type": "code",
   "execution_count": 4,
   "metadata": {},
   "outputs": [
    {
     "data": {
      "text/plain": [
       "(273520, 228)"
      ]
     },
     "execution_count": 4,
     "metadata": {},
     "output_type": "execute_result"
    }
   ],
   "source": [
    "df.shape"
   ]
  },
  {
   "cell_type": "code",
   "execution_count": 5,
   "metadata": {},
   "outputs": [],
   "source": [
    "# Only looking at delayed flights\n",
    "df = df[df['ARRIVAL_DELAY']>=15]\n",
    "df_test = df_test[df_test['ARRIVAL_DELAY']>=15]"
   ]
  },
  {
   "cell_type": "code",
   "execution_count": 7,
   "metadata": {},
   "outputs": [
    {
     "data": {
      "text/plain": [
       "65.46372141122147"
      ]
     },
     "execution_count": 7,
     "metadata": {},
     "output_type": "execute_result"
    }
   ],
   "source": [
    "df.ARRIVAL_DELAY.mean()"
   ]
  },
  {
   "cell_type": "code",
   "execution_count": 8,
   "metadata": {},
   "outputs": [
    {
     "data": {
      "text/plain": [
       "66.5834871296746"
      ]
     },
     "execution_count": 8,
     "metadata": {},
     "output_type": "execute_result"
    }
   ],
   "source": [
    "df_test.ARRIVAL_DELAY.mean()"
   ]
  },
  {
   "cell_type": "markdown",
   "metadata": {},
   "source": [
    "---\n",
    "### (2) Setting X_train, X_test, y_train & y_test\n",
    "\n",
    "---"
   ]
  },
  {
   "cell_type": "code",
   "execution_count": 9,
   "metadata": {},
   "outputs": [],
   "source": [
    "X_train = df.drop('ARRIVAL_DELAY', axis=1)\n",
    "y_train = df['ARRIVAL_DELAY']\n",
    "X_test = df_test.drop('ARRIVAL_DELAY', axis=1)\n",
    "y_test = df_test['ARRIVAL_DELAY']"
   ]
  },
  {
   "cell_type": "code",
   "execution_count": 10,
   "metadata": {},
   "outputs": [
    {
     "data": {
      "text/plain": [
       "(41581, 227)"
      ]
     },
     "execution_count": 10,
     "metadata": {},
     "output_type": "execute_result"
    }
   ],
   "source": [
    "X_train.shape"
   ]
  },
  {
   "cell_type": "code",
   "execution_count": 11,
   "metadata": {
    "scrolled": true
   },
   "outputs": [
    {
     "data": {
      "text/plain": [
       "(10295, 227)"
      ]
     },
     "execution_count": 11,
     "metadata": {},
     "output_type": "execute_result"
    }
   ],
   "source": [
    "X_test.shape"
   ]
  },
  {
   "cell_type": "markdown",
   "metadata": {},
   "source": [
    "---\n",
    "### (3) Model (I): Linear Regression\n",
    "\n",
    "---"
   ]
  },
  {
   "cell_type": "code",
   "execution_count": 12,
   "metadata": {},
   "outputs": [
    {
     "data": {
      "text/plain": [
       "LinearRegression(copy_X=True, fit_intercept=True, n_jobs=None, normalize=False)"
      ]
     },
     "execution_count": 12,
     "metadata": {},
     "output_type": "execute_result"
    }
   ],
   "source": [
    "lr = LinearRegression()\n",
    "lr.fit(X_train, y_train)"
   ]
  },
  {
   "cell_type": "code",
   "execution_count": 13,
   "metadata": {},
   "outputs": [
    {
     "data": {
      "text/plain": [
       "61083462575385.92"
      ]
     },
     "execution_count": 13,
     "metadata": {},
     "output_type": "execute_result"
    }
   ],
   "source": [
    "np.sqrt(-cross_val_score(lr, X_train, y_train, scoring='neg_mean_squared_error').mean())"
   ]
  },
  {
   "cell_type": "code",
   "execution_count": 14,
   "metadata": {},
   "outputs": [
    {
     "data": {
      "text/plain": [
       "0.9516288216561947"
      ]
     },
     "execution_count": 14,
     "metadata": {},
     "output_type": "execute_result"
    }
   ],
   "source": [
    "# R^2 Score\n",
    "lr.score(X_test, y_test)"
   ]
  },
  {
   "cell_type": "code",
   "execution_count": 15,
   "metadata": {},
   "outputs": [
    {
     "data": {
      "text/plain": [
       "17.767567209024698"
      ]
     },
     "execution_count": 15,
     "metadata": {},
     "output_type": "execute_result"
    }
   ],
   "source": [
    "# RMSE Score\n",
    "np.sqrt(mean_squared_error(y_test, lr.predict(X_test)))"
   ]
  },
  {
   "cell_type": "code",
   "execution_count": 16,
   "metadata": {},
   "outputs": [
    {
     "data": {
      "image/png": "[encoded data removed]",
      "text/plain": [
       "<Figure size 720x504 with 1 Axes>"
      ]
     },
     "metadata": {
      "needs_background": "light"
     },
     "output_type": "display_data"
    }
   ],
   "source": [
    "# Visualizing our Predictions vs Actual\n",
    "pred = lr.predict(X_test)\n",
    "\n",
    "plt.figure(figsize=(10,7))\n",
    "\n",
    "plt.scatter(pred,y_test)\n",
    "plt.plot((0,1100), (0, 1200), c='r', linewidth=3)\n",
    "plt.xlabel('Predicted Delay', fontsize=15)\n",
    "plt.ylabel('Actual Delay', fontsize=15)\n",
    "plt.title('Predicted VS Actual Delay', fontsize=20);"
   ]
  },
  {
   "cell_type": "code",
   "execution_count": 17,
   "metadata": {},
   "outputs": [
    {
     "data": {
      "image/png": "[encoded data removed]",
      "text/plain": [
       "<Figure size 432x288 with 2 Axes>"
      ]
     },
     "metadata": {
      "needs_background": "light"
     },
     "output_type": "display_data"
    }
   ],
   "source": [
    "# Visualizing distribution of errors\n",
    "\n",
    "visualizer = ResidualsPlot(lr, train_alpha=0.2, test_alpha=0.2)\n",
    "\n",
    "visualizer.fit(X_train, y_train)  # Fit the training data to the visualizer\n",
    "visualizer.score(X_test, y_test)  # Evaluate the model on the test data\n",
    "visualizer.show();"
   ]
  },
  {
   "cell_type": "code",
   "execution_count": 18,
   "metadata": {},
   "outputs": [],
   "source": [
    "# Exporting model\n",
    "\n",
    "# lr_filename = '../models/regression_lr_model.sav'\n",
    "# pickle.dump(lr, open(lr_filename, 'wb'))"
   ]
  },
  {
   "cell_type": "markdown",
   "metadata": {},
   "source": [
    "---\n",
    "### (4) Model (II): RandomForest\n",
    "\n",
    "---"
   ]
  },
  {
   "cell_type": "code",
   "execution_count": 19,
   "metadata": {},
   "outputs": [],
   "source": [
    "rf = RandomForestRegressor()"
   ]
  },
  {
   "cell_type": "code",
   "execution_count": 20,
   "metadata": {},
   "outputs": [],
   "source": [
    "rf_params = {\n",
    "  \"n_estimators\":[50,100],\n",
    "  \"min_samples_split\":[10,20],\n",
    "  \"max_depth\":[5,10]\n",
    "}\n",
    "\n",
    "rf_cv = RandomizedSearchCV(rf, param_distributions=rf_params, n_iter=2, n_jobs=4, verbose=2)"
   ]
  },
  {
   "cell_type": "code",
   "execution_count": 21,
   "metadata": {},
   "outputs": [
    {
     "name": "stdout",
     "output_type": "stream",
     "text": [
      "Fitting 5 folds for each of 2 candidates, totalling 10 fits\n"
     ]
    },
    {
     "name": "stderr",
     "output_type": "stream",
     "text": [
      "[Parallel(n_jobs=4)]: Using backend LokyBackend with 4 concurrent workers.\n",
      "[Parallel(n_jobs=4)]: Done  10 out of  10 | elapsed:  1.6min finished\n"
     ]
    },
    {
     "data": {
      "text/plain": [
       "RandomizedSearchCV(cv=None, error_score=nan,\n",
       "                   estimator=RandomForestRegressor(bootstrap=True,\n",
       "                                                   ccp_alpha=0.0,\n",
       "                                                   criterion='mse',\n",
       "                                                   max_depth=None,\n",
       "                                                   max_features='auto',\n",
       "                                                   max_leaf_nodes=None,\n",
       "                                                   max_samples=None,\n",
       "                                                   min_impurity_decrease=0.0,\n",
       "                                                   min_impurity_split=None,\n",
       "                                                   min_samples_leaf=1,\n",
       "                                                   min_samples_split=2,\n",
       "                                                   min_weight_fraction_leaf=0.0,\n",
       "                                                   n_estimators=100,\n",
       "                                                   n_jobs=None, oob_score=False,\n",
       "                                                   random_state=None, verbose=0,\n",
       "                                                   warm_start=False),\n",
       "                   iid='deprecated', n_iter=2, n_jobs=4,\n",
       "                   param_distributions={'max_depth': [5, 10],\n",
       "                                        'min_samples_split': [10, 20],\n",
       "                                        'n_estimators': [50, 100]},\n",
       "                   pre_dispatch='2*n_jobs', random_state=None, refit=True,\n",
       "                   return_train_score=False, scoring=None, verbose=2)"
      ]
     },
     "execution_count": 21,
     "metadata": {},
     "output_type": "execute_result"
    }
   ],
   "source": [
    "rf_cv.fit(X_train, y_train)"
   ]
  },
  {
   "cell_type": "code",
   "execution_count": 22,
   "metadata": {},
   "outputs": [
    {
     "data": {
      "text/plain": [
       "{'n_estimators': 50, 'min_samples_split': 10, 'max_depth': 10}"
      ]
     },
     "execution_count": 22,
     "metadata": {},
     "output_type": "execute_result"
    }
   ],
   "source": [
    "rf_cv.best_params_"
   ]
  },
  {
   "cell_type": "code",
   "execution_count": 23,
   "metadata": {},
   "outputs": [],
   "source": [
    "opt_rf = RandomForestRegressor(n_estimators=50, min_samples_split=10, max_depth=10) # CHANGE TO 100, 20, 10 PLS -SOLO"
   ]
  },
  {
   "cell_type": "code",
   "execution_count": 24,
   "metadata": {},
   "outputs": [
    {
     "data": {
      "text/plain": [
       "RandomForestRegressor(bootstrap=True, ccp_alpha=0.0, criterion='mse',\n",
       "                      max_depth=10, max_features='auto', max_leaf_nodes=None,\n",
       "                      max_samples=None, min_impurity_decrease=0.0,\n",
       "                      min_impurity_split=None, min_samples_leaf=1,\n",
       "                      min_samples_split=10, min_weight_fraction_leaf=0.0,\n",
       "                      n_estimators=50, n_jobs=None, oob_score=False,\n",
       "                      random_state=None, verbose=0, warm_start=False)"
      ]
     },
     "execution_count": 24,
     "metadata": {},
     "output_type": "execute_result"
    }
   ],
   "source": [
    "opt_rf.fit(X_train, y_train)"
   ]
  },
  {
   "cell_type": "code",
   "execution_count": 25,
   "metadata": {},
   "outputs": [
    {
     "data": {
      "text/plain": [
       "15.370280751156113"
      ]
     },
     "execution_count": 25,
     "metadata": {},
     "output_type": "execute_result"
    }
   ],
   "source": [
    "np.sqrt(-cross_val_score(opt_rf, X_train, y_train, scoring='neg_mean_squared_error').mean())"
   ]
  },
  {
   "cell_type": "code",
   "execution_count": 26,
   "metadata": {},
   "outputs": [
    {
     "data": {
      "text/plain": [
       "0.9632300295009973"
      ]
     },
     "execution_count": 26,
     "metadata": {},
     "output_type": "execute_result"
    }
   ],
   "source": [
    "# R^2 Score\n",
    "opt_rf.score(X_test, y_test)"
   ]
  },
  {
   "cell_type": "code",
   "execution_count": 27,
   "metadata": {},
   "outputs": [
    {
     "data": {
      "text/plain": [
       "15.491064922769636"
      ]
     },
     "execution_count": 27,
     "metadata": {},
     "output_type": "execute_result"
    }
   ],
   "source": [
    "# RMSE Score\n",
    "np.sqrt(mean_squared_error(y_test, opt_rf.predict(X_test)))"
   ]
  },
  {
   "cell_type": "code",
   "execution_count": 28,
   "metadata": {},
   "outputs": [
    {
     "data": {
      "image/png": "[encoded data removed]",
      "text/plain": [
       "<Figure size 720x504 with 1 Axes>"
      ]
     },
     "metadata": {
      "needs_background": "light"
     },
     "output_type": "display_data"
    }
   ],
   "source": [
    "# Visualizing our Predictions vs Actual\n",
    "pred = opt_rf.predict(X_test)\n",
    "\n",
    "plt.figure(figsize=(10,7))\n",
    "\n",
    "plt.scatter(pred,y_test)\n",
    "plt.plot((0,1100), (0, 1200), c='r', linewidth=3)\n",
    "plt.xlabel('Predicted Delay', fontsize=15)\n",
    "plt.ylabel('Actual Delay', fontsize=15)\n",
    "plt.title('Predicted VS Actual Delay', fontsize=20);"
   ]
  },
  {
   "cell_type": "code",
   "execution_count": 29,
   "metadata": {
    "scrolled": true
   },
   "outputs": [
    {
     "data": {
      "image/png": "[encoded data removed]",
      "text/plain": [
       "<Figure size 432x288 with 2 Axes>"
      ]
     },
     "metadata": {
      "needs_background": "light"
     },
     "output_type": "display_data"
    }
   ],
   "source": [
    "# Visualizing distribution of errors\n",
    "\n",
    "visualizer = ResidualsPlot(opt_rf, train_alpha=0.2, test_alpha=0.2)\n",
    "\n",
    "visualizer.fit(X_train, y_train)  # Fit the training data to the visualizer\n",
    "visualizer.score(X_test, y_test)  # Evaluate the model on the test data\n",
    "visualizer.show();"
   ]
  },
  {
   "cell_type": "code",
   "execution_count": 30,
   "metadata": {},
   "outputs": [],
   "source": [
    "# Exporting model\n",
    "\n",
    "# rf_filename = '../models/regression_rf_model.sav'\n",
    "# pickle.dump(opt_rf, open(rf_filename, 'wb'))"
   ]
  },
  {
   "cell_type": "markdown",
   "metadata": {},
   "source": [
    "---\n",
    "### (5) Model (III): XGBoost\n",
    "\n",
    "---"
   ]
  },
  {
   "cell_type": "code",
   "execution_count": 31,
   "metadata": {},
   "outputs": [],
   "source": [
    "xgbr = xgb.XGBRegressor()"
   ]
  },
  {
   "cell_type": "code",
   "execution_count": 32,
   "metadata": {},
   "outputs": [],
   "source": [
    "xgbr_params = {\n",
    "  \"learning_rate\":[0.01, 0.1, 0.2, 0.3],\n",
    "  \"max_depth\":[3, 5, 10]\n",
    "}\n",
    "\n",
    "xgbr_cv = RandomizedSearchCV(xgbr, param_distributions=xgbr_params, n_iter=2, n_jobs=4, verbose=2)"
   ]
  },
  {
   "cell_type": "code",
   "execution_count": 33,
   "metadata": {},
   "outputs": [
    {
     "name": "stdout",
     "output_type": "stream",
     "text": [
      "Fitting 5 folds for each of 2 candidates, totalling 10 fits\n"
     ]
    },
    {
     "name": "stderr",
     "output_type": "stream",
     "text": [
      "[Parallel(n_jobs=4)]: Using backend LokyBackend with 4 concurrent workers.\n",
      "[Parallel(n_jobs=4)]: Done  10 out of  10 | elapsed:  4.2min finished\n",
      "C:\\Users\\solom\\Anaconda3\\lib\\site-packages\\xgboost\\core.py:587: FutureWarning: Series.base is deprecated and will be removed in a future version\n",
      "  if getattr(data, 'base', None) is not None and \\\n",
      "C:\\Users\\solom\\Anaconda3\\lib\\site-packages\\xgboost\\core.py:588: FutureWarning: Series.base is deprecated and will be removed in a future version\n",
      "  data.base is not None and isinstance(data, np.ndarray) \\\n"
     ]
    },
    {
     "name": "stdout",
     "output_type": "stream",
     "text": [
      "[16:14:57] WARNING: C:/Jenkins/workspace/xgboost-win64_release_0.90/src/objective/regression_obj.cu:152: reg:linear is now deprecated in favor of reg:squarederror.\n"
     ]
    },
    {
     "data": {
      "text/plain": [
       "RandomizedSearchCV(cv=None, error_score=nan,\n",
       "                   estimator=XGBRegressor(base_score=0.5, booster='gbtree',\n",
       "                                          colsample_bylevel=1,\n",
       "                                          colsample_bynode=1,\n",
       "                                          colsample_bytree=1, gamma=0,\n",
       "                                          importance_type='gain',\n",
       "                                          learning_rate=0.1, max_delta_step=0,\n",
       "                                          max_depth=3, min_child_weight=1,\n",
       "                                          missing=None, n_estimators=100,\n",
       "                                          n_jobs=1, nthread=None,\n",
       "                                          objective='reg:linear',\n",
       "                                          random_state=0, reg_alpha=0,\n",
       "                                          reg_lambda=1, scale_pos_weight=1,\n",
       "                                          seed=None, silent=None, subsample=1,\n",
       "                                          verbosity=1),\n",
       "                   iid='deprecated', n_iter=2, n_jobs=4,\n",
       "                   param_distributions={'learning_rate': [0.01, 0.1, 0.2, 0.3],\n",
       "                                        'max_depth': [3, 5, 10]},\n",
       "                   pre_dispatch='2*n_jobs', random_state=None, refit=True,\n",
       "                   return_train_score=False, scoring=None, verbose=2)"
      ]
     },
     "execution_count": 33,
     "metadata": {},
     "output_type": "execute_result"
    }
   ],
   "source": [
    "xgbr_cv.fit(X_train, y_train)"
   ]
  },
  {
   "cell_type": "code",
   "execution_count": 34,
   "metadata": {},
   "outputs": [
    {
     "data": {
      "text/plain": [
       "{'max_depth': 10, 'learning_rate': 0.2}"
      ]
     },
     "execution_count": 34,
     "metadata": {},
     "output_type": "execute_result"
    }
   ],
   "source": [
    "xgbr_cv.best_params_"
   ]
  },
  {
   "cell_type": "code",
   "execution_count": 35,
   "metadata": {},
   "outputs": [],
   "source": [
    "opt_xgb = xgb.XGBRegressor(max_depth=10, learning_rate=0.1)"
   ]
  },
  {
   "cell_type": "code",
   "execution_count": 36,
   "metadata": {},
   "outputs": [
    {
     "name": "stdout",
     "output_type": "stream",
     "text": [
      "[16:16:15] WARNING: C:/Jenkins/workspace/xgboost-win64_release_0.90/src/objective/regression_obj.cu:152: reg:linear is now deprecated in favor of reg:squarederror.\n"
     ]
    },
    {
     "data": {
      "text/plain": [
       "XGBRegressor(base_score=0.5, booster='gbtree', colsample_bylevel=1,\n",
       "             colsample_bynode=1, colsample_bytree=1, gamma=0,\n",
       "             importance_type='gain', learning_rate=0.1, max_delta_step=0,\n",
       "             max_depth=10, min_child_weight=1, missing=None, n_estimators=100,\n",
       "             n_jobs=1, nthread=None, objective='reg:linear', random_state=0,\n",
       "             reg_alpha=0, reg_lambda=1, scale_pos_weight=1, seed=None,\n",
       "             silent=None, subsample=1, verbosity=1)"
      ]
     },
     "execution_count": 36,
     "metadata": {},
     "output_type": "execute_result"
    }
   ],
   "source": [
    "opt_xgb.fit(X_train, y_train)"
   ]
  },
  {
   "cell_type": "code",
   "execution_count": 37,
   "metadata": {},
   "outputs": [
    {
     "name": "stdout",
     "output_type": "stream",
     "text": [
      "[16:17:41] WARNING: C:/Jenkins/workspace/xgboost-win64_release_0.90/src/objective/regression_obj.cu:152: reg:linear is now deprecated in favor of reg:squarederror.\n"
     ]
    },
    {
     "name": "stderr",
     "output_type": "stream",
     "text": [
      "C:\\Users\\solom\\Anaconda3\\lib\\site-packages\\xgboost\\core.py:587: FutureWarning: Series.base is deprecated and will be removed in a future version\n",
      "  if getattr(data, 'base', None) is not None and \\\n"
     ]
    },
    {
     "name": "stdout",
     "output_type": "stream",
     "text": [
      "[16:18:55] WARNING: C:/Jenkins/workspace/xgboost-win64_release_0.90/src/objective/regression_obj.cu:152: reg:linear is now deprecated in favor of reg:squarederror.\n"
     ]
    },
    {
     "name": "stderr",
     "output_type": "stream",
     "text": [
      "C:\\Users\\solom\\Anaconda3\\lib\\site-packages\\xgboost\\core.py:587: FutureWarning: Series.base is deprecated and will be removed in a future version\n",
      "  if getattr(data, 'base', None) is not None and \\\n"
     ]
    },
    {
     "name": "stdout",
     "output_type": "stream",
     "text": [
      "[16:20:08] WARNING: C:/Jenkins/workspace/xgboost-win64_release_0.90/src/objective/regression_obj.cu:152: reg:linear is now deprecated in favor of reg:squarederror.\n"
     ]
    },
    {
     "name": "stderr",
     "output_type": "stream",
     "text": [
      "C:\\Users\\solom\\Anaconda3\\lib\\site-packages\\xgboost\\core.py:587: FutureWarning: Series.base is deprecated and will be removed in a future version\n",
      "  if getattr(data, 'base', None) is not None and \\\n"
     ]
    },
    {
     "name": "stdout",
     "output_type": "stream",
     "text": [
      "[16:21:15] WARNING: C:/Jenkins/workspace/xgboost-win64_release_0.90/src/objective/regression_obj.cu:152: reg:linear is now deprecated in favor of reg:squarederror.\n"
     ]
    },
    {
     "name": "stderr",
     "output_type": "stream",
     "text": [
      "C:\\Users\\solom\\Anaconda3\\lib\\site-packages\\xgboost\\core.py:587: FutureWarning: Series.base is deprecated and will be removed in a future version\n",
      "  if getattr(data, 'base', None) is not None and \\\n"
     ]
    },
    {
     "name": "stdout",
     "output_type": "stream",
     "text": [
      "[16:22:23] WARNING: C:/Jenkins/workspace/xgboost-win64_release_0.90/src/objective/regression_obj.cu:152: reg:linear is now deprecated in favor of reg:squarederror.\n"
     ]
    },
    {
     "data": {
      "text/plain": [
       "15.087213193466438"
      ]
     },
     "execution_count": 37,
     "metadata": {},
     "output_type": "execute_result"
    }
   ],
   "source": [
    "np.sqrt(-cross_val_score(opt_xgb, X_train, y_train, scoring='neg_mean_squared_error').mean())"
   ]
  },
  {
   "cell_type": "code",
   "execution_count": 38,
   "metadata": {},
   "outputs": [
    {
     "data": {
      "text/plain": [
       "0.9645867942409626"
      ]
     },
     "execution_count": 38,
     "metadata": {},
     "output_type": "execute_result"
    }
   ],
   "source": [
    "# R^2 Score\n",
    "opt_xgb.score(X_test, y_test)"
   ]
  },
  {
   "cell_type": "code",
   "execution_count": 39,
   "metadata": {},
   "outputs": [
    {
     "data": {
      "text/plain": [
       "15.202578504549082"
      ]
     },
     "execution_count": 39,
     "metadata": {},
     "output_type": "execute_result"
    }
   ],
   "source": [
    "# RMSE Score\n",
    "np.sqrt(mean_squared_error(y_test, opt_xgb.predict(X_test)))"
   ]
  },
  {
   "cell_type": "code",
   "execution_count": 40,
   "metadata": {},
   "outputs": [
    {
     "data": {
      "image/png": "[encoded data removed]",
      "text/plain": [
       "<Figure size 720x504 with 1 Axes>"
      ]
     },
     "metadata": {
      "needs_background": "light"
     },
     "output_type": "display_data"
    }
   ],
   "source": [
    "# Visualizing our Predictions vs Actual\n",
    "pred = opt_xgb.predict(X_test)\n",
    "\n",
    "plt.figure(figsize=(10,7))\n",
    "\n",
    "plt.scatter(pred,y_test)\n",
    "plt.plot((0,1100), (0, 1200), c='r', linewidth=3)\n",
    "plt.xlabel('Predicted Delay', fontsize=15)\n",
    "plt.ylabel('Actual Delay', fontsize=15)\n",
    "plt.title('Predicted VS Actual Delay', fontsize=20);"
   ]
  },
  {
   "cell_type": "code",
   "execution_count": 41,
   "metadata": {
    "scrolled": true
   },
   "outputs": [
    {
     "data": {
      "image/png": "[encoded data removed]",
      "text/plain": [
       "<Figure size 432x288 with 2 Axes>"
      ]
     },
     "metadata": {
      "needs_background": "light"
     },
     "output_type": "display_data"
    }
   ],
   "source": [
    "# Visualizing distribution of errors\n",
    "\n",
    "visualizer = ResidualsPlot(opt_xgb, train_alpha=0.2, test_alpha=0.2)\n",
    "\n",
    "visualizer.fit(X_train, y_train)  # Fit the training data to the visualizer\n",
    "visualizer.score(X_test, y_test)  # Evaluate the model on the test data\n",
    "visualizer.show();"
   ]
  },
  {
   "cell_type": "code",
   "execution_count": 42,
   "metadata": {},
   "outputs": [],
   "source": [
    "# Exporting model\n",
    "\n",
    "# xgb_filename = '../models/regression_xgb_model.sav'\n",
    "# pickle.dump(opt_xgb, open(xgb_filename, 'wb'))"
   ]
  },
  {
   "cell_type": "markdown",
   "metadata": {},
   "source": [
    "---\n",
    "### (6) Model (IV): Neural Networks\n",
    "\n",
    "---"
   ]
  },
  {
   "cell_type": "code",
   "execution_count": 43,
   "metadata": {},
   "outputs": [],
   "source": [
    "model = Sequential()"
   ]
  },
  {
   "cell_type": "code",
   "execution_count": 44,
   "metadata": {},
   "outputs": [],
   "source": [
    "model.add(Dense(200, \n",
    "                input_dim=227, \n",
    "                activation='relu'))\n",
    "\n",
    "# model.add(Dropout(0.5))\n",
    "\n",
    "model.add(Dense(200, \n",
    "                activation='relu'))\n",
    "\n",
    "#model.add(Dropout(0.5))\n",
    "\n",
    "#model.add(Dense(150, \n",
    "                #activation='relu'))\n",
    "\n",
    "# Can include dropout (Nope, performed poorer)\n",
    "\n",
    "model.add(Dense(1))"
   ]
  },
  {
   "cell_type": "code",
   "execution_count": 45,
   "metadata": {},
   "outputs": [],
   "source": [
    "def root_mean_squared_error(y_true, y_pred):\n",
    "        return K.sqrt(K.mean(K.square(y_pred - y_true))) "
   ]
  },
  {
   "cell_type": "code",
   "execution_count": 46,
   "metadata": {},
   "outputs": [],
   "source": [
    "es = EarlyStopping(monitor='val_loss', patience=3)\n",
    "\n",
    "model.compile(optimizer='adam', loss=root_mean_squared_error, metrics=['mse', 'mae'])"
   ]
  },
  {
   "cell_type": "code",
   "execution_count": 47,
   "metadata": {
    "scrolled": true
   },
   "outputs": [
    {
     "name": "stdout",
     "output_type": "stream",
     "text": [
      "Train on 33264 samples, validate on 8317 samples\n",
      "Epoch 1/1000\n",
      "33264/33264 [==============================] - 1s 31us/step - loss: 56.9525 - mse: 4140.2407 - mae: 35.3990 - val_loss: 22.9499 - val_mse: 531.2148 - val_mae: 15.9051\n",
      "Epoch 2/1000\n",
      "33264/33264 [==============================] - 1s 16us/step - loss: 22.1772 - mse: 506.3882 - mae: 14.6178 - val_loss: 19.4445 - val_mse: 381.0486 - val_mae: 13.4720\n",
      "Epoch 3/1000\n",
      "33264/33264 [==============================] - 1s 16us/step - loss: 19.3993 - mse: 381.8387 - mae: 13.0583 - val_loss: 18.2079 - val_mse: 334.2401 - val_mae: 12.5657\n",
      "Epoch 4/1000\n",
      "33264/33264 [==============================] - 1s 16us/step - loss: 17.8349 - mse: 320.5779 - mae: 12.2988 - val_loss: 17.4219 - val_mse: 306.0048 - val_mae: 11.9939\n",
      "Epoch 5/1000\n",
      "33264/33264 [==============================] - 1s 16us/step - loss: 16.8833 - mse: 286.5979 - mae: 11.7041 - val_loss: 16.7933 - val_mse: 284.4449 - val_mae: 11.5923\n",
      "Epoch 6/1000\n",
      "33264/33264 [==============================] - 1s 16us/step - loss: 16.2903 - mse: 267.1405 - mae: 11.3242 - val_loss: 16.2753 - val_mse: 266.9755 - val_mae: 11.4275\n",
      "Epoch 7/1000\n",
      "33264/33264 [==============================] - 1s 16us/step - loss: 15.9246 - mse: 254.7597 - mae: 11.0536 - val_loss: 16.1067 - val_mse: 261.3840 - val_mae: 11.3452\n",
      "Epoch 8/1000\n",
      "33264/33264 [==============================] - 1s 16us/step - loss: 15.5933 - mse: 244.1425 - mae: 10.8228 - val_loss: 15.9257 - val_mse: 255.8858 - val_mae: 11.0129\n",
      "Epoch 9/1000\n",
      "33264/33264 [==============================] - 1s 16us/step - loss: 15.2955 - mse: 235.3026 - mae: 10.5905 - val_loss: 15.6664 - val_mse: 247.6414 - val_mae: 11.0287\n",
      "Epoch 10/1000\n",
      "33264/33264 [==============================] - 1s 16us/step - loss: 15.1315 - mse: 230.1691 - mae: 10.4666 - val_loss: 15.6044 - val_mse: 245.4368 - val_mae: 11.0592\n",
      "Epoch 11/1000\n",
      "33264/33264 [==============================] - 1s 16us/step - loss: 14.9030 - mse: 223.3271 - mae: 10.3106 - val_loss: 15.7936 - val_mse: 251.9375 - val_mae: 10.6822\n",
      "Epoch 12/1000\n",
      "33264/33264 [==============================] - 1s 16us/step - loss: 14.6958 - mse: 217.2785 - mae: 10.1344 - val_loss: 15.4451 - val_mse: 240.6199 - val_mae: 10.8888\n",
      "Epoch 13/1000\n",
      "33264/33264 [==============================] - 1s 17us/step - loss: 14.5263 - mse: 212.4597 - mae: 10.0270 - val_loss: 15.2756 - val_mse: 235.4469 - val_mae: 10.5576\n",
      "Epoch 14/1000\n",
      "33264/33264 [==============================] - 1s 17us/step - loss: 14.4402 - mse: 209.7679 - mae: 9.9476 - val_loss: 15.3021 - val_mse: 236.3262 - val_mae: 10.6694\n",
      "Epoch 15/1000\n",
      "33264/33264 [==============================] - 1s 16us/step - loss: 14.3578 - mse: 207.2024 - mae: 9.9050 - val_loss: 15.3286 - val_mse: 237.1421 - val_mae: 10.5430\n",
      "Epoch 16/1000\n",
      "33264/33264 [==============================] - 1s 17us/step - loss: 14.2009 - mse: 203.1766 - mae: 9.7874 - val_loss: 15.2558 - val_mse: 234.9279 - val_mae: 10.6441\n",
      "Epoch 17/1000\n",
      "33264/33264 [==============================] - 1s 17us/step - loss: 14.1909 - mse: 202.5550 - mae: 9.8124 - val_loss: 15.2488 - val_mse: 234.6375 - val_mae: 10.5675\n",
      "Epoch 18/1000\n",
      "33264/33264 [==============================] - 1s 16us/step - loss: 14.1095 - mse: 200.2473 - mae: 9.7350 - val_loss: 15.2441 - val_mse: 234.6087 - val_mae: 10.5105\n",
      "Epoch 19/1000\n",
      "33264/33264 [==============================] - 1s 16us/step - loss: 14.0089 - mse: 197.1713 - mae: 9.6573 - val_loss: 15.3132 - val_mse: 236.5509 - val_mae: 10.7817\n",
      "Epoch 20/1000\n",
      "33264/33264 [==============================] - 1s 16us/step - loss: 13.9598 - mse: 196.4187 - mae: 9.6381 - val_loss: 15.3438 - val_mse: 237.7291 - val_mae: 10.6988\n",
      "Epoch 21/1000\n",
      "33264/33264 [==============================] - 1s 16us/step - loss: 13.9190 - mse: 194.8106 - mae: 9.6284 - val_loss: 15.3307 - val_mse: 236.9931 - val_mae: 10.8270\n"
     ]
    },
    {
     "data": {
      "text/plain": [
       "<keras.callbacks.callbacks.History at 0x12861c78ec8>"
      ]
     },
     "execution_count": 47,
     "metadata": {},
     "output_type": "execute_result"
    }
   ],
   "source": [
    "model.fit(X_train, y_train, batch_size=512, epochs=1000, validation_split=0.2, callbacks=[es])"
   ]
  },
  {
   "cell_type": "code",
   "execution_count": 48,
   "metadata": {
    "scrolled": true
   },
   "outputs": [
    {
     "name": "stdout",
     "output_type": "stream",
     "text": [
      "10295/10295 [==============================] - 0s 27us/step\n"
     ]
    },
    {
     "data": {
      "text/plain": [
       "[15.167183438153334, 244.54454040527344, 10.990384101867676]"
      ]
     },
     "execution_count": 48,
     "metadata": {},
     "output_type": "execute_result"
    }
   ],
   "source": [
    "model.evaluate(X_test, y_test)"
   ]
  },
  {
   "cell_type": "code",
   "execution_count": 49,
   "metadata": {},
   "outputs": [
    {
     "data": {
      "text/plain": [
       "<matplotlib.axes._subplots.AxesSubplot at 0x12861c9fa88>"
      ]
     },
     "execution_count": 49,
     "metadata": {},
     "output_type": "execute_result"
    },
    {
     "data": {
      "image/png": "[encoded data removed]",
      "text/plain": [
       "<Figure size 432x288 with 1 Axes>"
      ]
     },
     "metadata": {
      "needs_background": "light"
     },
     "output_type": "display_data"
    }
   ],
   "source": [
    "sns.residplot(pred, y_test)"
   ]
  },
  {
   "cell_type": "code",
   "execution_count": 50,
   "metadata": {
    "scrolled": false
   },
   "outputs": [
    {
     "data": {
      "image/png": "[encoded data removed]",
      "text/plain": [
       "<Figure size 720x504 with 1 Axes>"
      ]
     },
     "metadata": {
      "needs_background": "light"
     },
     "output_type": "display_data"
    }
   ],
   "source": [
    "# Visualizing our Predictions vs Actual\n",
    "pred = model.predict(X_test)\n",
    "\n",
    "plt.figure(figsize=(10,7))\n",
    "\n",
    "plt.scatter(pred,y_test)\n",
    "plt.plot((0,1100), (0, 1200), c='r', linewidth=3)\n",
    "plt.xlabel('Predicted Delay', fontsize=15)\n",
    "plt.ylabel('Actual Delay', fontsize=15)\n",
    "plt.title('Predicted VS Actual Delay', fontsize=20);"
   ]
  },
  {
   "cell_type": "code",
   "execution_count": 51,
   "metadata": {},
   "outputs": [],
   "source": [
    "# Exporting model\n",
    "\n",
    "# nn_filename = '../models/regression_nn_model.sav'\n",
    "# pickle.dump(model, open(nn_filename, 'wb'))"
   ]
  }
 ],
 "metadata": {
  "kernelspec": {
   "display_name": "Python 3",
   "language": "python",
   "name": "python3"
  },
  "language_info": {
   "codemirror_mode": {
    "name": "ipython",
    "version": 3
   },
   "file_extension": ".py",
   "mimetype": "text/x-python",
   "name": "python",
   "nbconvert_exporter": "python",
   "pygments_lexer": "ipython3",
   "version": "3.7.4"
  },
  "name": "Modeling (Regression) - airborne to destination",
  "notebookId": 1820074439319235
 },
 "nbformat": 4,
 "nbformat_minor": 1
}
